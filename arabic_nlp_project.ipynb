{
 "cells": [
  {
   "cell_type": "markdown",
   "id": "2b3dda6f",
   "metadata": {
    "id": "2b3dda6f"
   },
   "source": [
    "**Arabic NLP Project – KALIMAT Dataset**\n",
    "\n",
    "## Table of Contents\n",
    "\n",
    "1. [Introduction](#1-introduction)\n",
    "2. [Data Exploration and Preprocessing](#2-data-exploration-and-preprocessing)\n",
    "3. [Phase 1: Traditional Approaches](#3-phase-1-traditional-approaches)\n",
    "4. [Phase 2: Modern Deep Learning and Transformer Approaches](#4-phase-2-modern-approaches)\n",
    "5. [Comparative Analysis](#5-comparative-analysis)\n",
    "6. [Conclusion](#6-conclusion)\n",
    "7. [Interactive Demo](#7-interactive-demo)"
   ]
  },
  {
   "cell_type": "markdown",
   "id": "4aadd371",
   "metadata": {
    "id": "4aadd371"
   },
   "source": [
    "## 1. Introduction"
   ]
  },
  {
   "cell_type": "markdown",
   "id": "7754f2e0",
   "metadata": {
    "id": "7754f2e0"
   },
   "source": [
    "### Project overview and objectives\n",
    "\n",
    "This project explores two core NLP tasks on Arabic text data: text classification and text summarization. The goal is to evaluate and compare traditional machine learning methods and modern deep learning/transformer-based models in the context of Arabic language processing. The project aims to highlight how each approach handles Arabic-specific linguistic challenges and determine the most effective techniques for each task."
   ]
  },
  {
   "cell_type": "markdown",
   "id": "d9358125",
   "metadata": {
    "id": "d9358125"
   },
   "source": [
    "### Description of the chosen dataset and tasks\n",
    "\n",
    "Two different datasets are used in this project, one for each task:\n",
    "\n",
    "1. **KALIMAT Corpus** used for **Task 1: Text Classification**. It contains Arabic texts categorized into six topics: culture, economy, local news, international news, religion, and sports.\n",
    "\n",
    "2. **Summarization Corpus** used for **Task 2: Text Summarization**. It includes Arabic texts paired with corresponding summaries.\n",
    "\n",
    "The two NLP tasks implemented are:\n",
    "\n",
    "**Task 1 Text Classification**: assigning topic labels to Arabic texts.\n",
    "\n",
    "**Task 2 Text Summarization**: producing concise summaries from Arabic texts and comparing extractive and generative approaches."
   ]
  },
  {
   "cell_type": "markdown",
   "id": "837c9809",
   "metadata": {
    "id": "837c9809"
   },
   "source": [
    "### Brief background on relevant challenges (Arabic NLP or multimodal processing)\n",
    "\n",
    "Arabic NLP is challenging due to the language’s rich morphology, root-based word structure, and multiple forms of the same letter. A major issue is that diacritics (harakat), which are important for meaning, are often omitted in writing, leading to ambiguity. Tokenization, stemming, and normalization are more difficult than in English. There's also limited availability of large annotated datasets, and differences between Modern Standard Arabic and dialects make generalization harder. Preprocessing is important, but small mistakes in normalization or stemming can change word meanings and affect results."
   ]
  },
  {
   "cell_type": "code",
   "execution_count": null,
   "id": "fYemRzorifWp",
   "metadata": {
    "colab": {
     "base_uri": "https://localhost:8080/"
    },
    "id": "fYemRzorifWp",
    "outputId": "a1536fc9-b661-470e-a26d-90ce3c4c6688"
   },
   "outputs": [
    {
     "name": "stdout",
     "output_type": "stream",
     "text": [
      "Collecting git+https://github.com/ARBML/rouge_score_ar\n",
      "  Cloning https://github.com/ARBML/rouge_score_ar to /tmp/pip-req-build-h02p9nc2\n",
      "  Running command git clone --filter=blob:none --quiet https://github.com/ARBML/rouge_score_ar /tmp/pip-req-build-h02p9nc2\n",
      "  Resolved https://github.com/ARBML/rouge_score_ar to commit 74e50809e2c52b034ccdc6825fb2bff113bcbdfe\n",
      "  Preparing metadata (setup.py) ... \u001b[?25l\u001b[?25hdone\n",
      "Requirement already satisfied: absl-py in /usr/local/lib/python3.11/dist-packages (from rouge_score_ar==0.1.2) (1.4.0)\n",
      "Requirement already satisfied: nltk in /usr/local/lib/python3.11/dist-packages (from rouge_score_ar==0.1.2) (3.9.1)\n",
      "Requirement already satisfied: numpy in /usr/local/lib/python3.11/dist-packages (from rouge_score_ar==0.1.2) (2.0.2)\n",
      "Requirement already satisfied: six>=1.14.0 in /usr/local/lib/python3.11/dist-packages (from rouge_score_ar==0.1.2) (1.17.0)\n",
      "Requirement already satisfied: click in /usr/local/lib/python3.11/dist-packages (from nltk->rouge_score_ar==0.1.2) (8.2.1)\n",
      "Requirement already satisfied: joblib in /usr/local/lib/python3.11/dist-packages (from nltk->rouge_score_ar==0.1.2) (1.5.1)\n",
      "Requirement already satisfied: regex>=2021.8.3 in /usr/local/lib/python3.11/dist-packages (from nltk->rouge_score_ar==0.1.2) (2024.11.6)\n",
      "Requirement already satisfied: tqdm in /usr/local/lib/python3.11/dist-packages (from nltk->rouge_score_ar==0.1.2) (4.67.1)\n",
      "Building wheels for collected packages: rouge_score_ar\n",
      "  Building wheel for rouge_score_ar (setup.py) ... \u001b[?25l\u001b[?25hdone\n",
      "  Created wheel for rouge_score_ar: filename=rouge_score_ar-0.1.2-py3-none-any.whl size=19176 sha256=d6e0322b47223540f6eea11eeef170287b85417c8e4097cbff60fddd3c8ae12f\n",
      "  Stored in directory: /tmp/pip-ephem-wheel-cache-7uowi0ta/wheels/d3/f4/57/b79d000eafab023f843bbd4cbaf60d239e2db14d63aba9e1e3\n",
      "Successfully built rouge_score_ar\n",
      "Installing collected packages: rouge_score_ar\n",
      "Successfully installed rouge_score_ar-0.1.2\n",
      "Collecting rouge_score\n",
      "  Downloading rouge_score-0.1.2.tar.gz (17 kB)\n",
      "  Preparing metadata (setup.py) ... \u001b[?25l\u001b[?25hdone\n",
      "Requirement already satisfied: absl-py in /usr/local/lib/python3.11/dist-packages (from rouge_score) (1.4.0)\n",
      "Requirement already satisfied: nltk in /usr/local/lib/python3.11/dist-packages (from rouge_score) (3.9.1)\n",
      "Requirement already satisfied: numpy in /usr/local/lib/python3.11/dist-packages (from rouge_score) (2.0.2)\n",
      "Requirement already satisfied: six>=1.14.0 in /usr/local/lib/python3.11/dist-packages (from rouge_score) (1.17.0)\n",
      "Requirement already satisfied: click in /usr/local/lib/python3.11/dist-packages (from nltk->rouge_score) (8.2.1)\n",
      "Requirement already satisfied: joblib in /usr/local/lib/python3.11/dist-packages (from nltk->rouge_score) (1.5.1)\n",
      "Requirement already satisfied: regex>=2021.8.3 in /usr/local/lib/python3.11/dist-packages (from nltk->rouge_score) (2024.11.6)\n",
      "Requirement already satisfied: tqdm in /usr/local/lib/python3.11/dist-packages (from nltk->rouge_score) (4.67.1)\n",
      "Building wheels for collected packages: rouge_score\n",
      "  Building wheel for rouge_score (setup.py) ... \u001b[?25l\u001b[?25hdone\n",
      "  Created wheel for rouge_score: filename=rouge_score-0.1.2-py3-none-any.whl size=24934 sha256=61f8c12e327d6adf0cb09439c3ecd6562cbf01703447c299bdf65db8443ee077\n",
      "  Stored in directory: /root/.cache/pip/wheels/1e/19/43/8a442dc83660ca25e163e1bd1f89919284ab0d0c1475475148\n",
      "Successfully built rouge_score\n",
      "Installing collected packages: rouge_score\n",
      "Successfully installed rouge_score-0.1.2\n"
     ]
    }
   ],
   "source": [
    "!pip install git+https://github.com/ARBML/rouge_score_ar\n",
    "!pip install rouge_score"
   ]
  },
  {
   "cell_type": "code",
   "execution_count": null,
   "id": "WpnxT7m52GB1",
   "metadata": {
    "colab": {
     "base_uri": "https://localhost:8080/"
    },
    "id": "WpnxT7m52GB1",
    "outputId": "e1ac81e0-5f45-4bed-ff7e-45b831c435fd"
   },
   "outputs": [
    {
     "data": {
      "text/plain": [
       "True"
      ]
     },
     "execution_count": 2,
     "metadata": {},
     "output_type": "execute_result"
    }
   ],
   "source": [
    "# Standard library imports\n",
    "import glob\n",
    "import os\n",
    "import joblib\n",
    "import re\n",
    "from IPython.display import Markdown, display\n",
    "\n",
    "# Data handling and visualization\n",
    "import gdown\n",
    "import matplotlib.pyplot as plt\n",
    "import numpy as np\n",
    "import pandas as pd\n",
    "import seaborn as sns\n",
    "from tqdm import tqdm\n",
    "\n",
    "# NLP libraries\n",
    "import nltk\n",
    "from nltk.corpus import stopwords\n",
    "from nltk.stem.isri import ISRIStemmer\n",
    "from nltk.translate.bleu_score import sentence_bleu, corpus_bleu, SmoothingFunction\n",
    "from rouge_score import rouge_scorer\n",
    "\n",
    "# Scikit-learn\n",
    "from sklearn.feature_extraction.text import TfidfVectorizer\n",
    "from sklearn.metrics import (\n",
    "    classification_report,\n",
    "    confusion_matrix,\n",
    "    ConfusionMatrixDisplay,\n",
    "    precision_recall_fscore_support,\n",
    ")\n",
    "from sklearn.model_selection import train_test_split\n",
    "from sklearn.preprocessing import LabelEncoder\n",
    "from sklearn.svm import SVC\n",
    "from sklearn.utils.class_weight import compute_class_weight\n",
    "from sklearn.metrics.pairwise import cosine_similarity\n",
    "\n",
    "# Deep learning libraries\n",
    "import torch\n",
    "import torch.nn as nn\n",
    "import torch.optim as optim\n",
    "from torch.utils.data import Dataset, DataLoader\n",
    "\n",
    "# Transformers\n",
    "from transformers import (\n",
    "    AutoTokenizer,\n",
    "    AutoModelForSequenceClassification,\n",
    "    Trainer,\n",
    "    TrainingArguments,\n",
    "    BertTokenizer,\n",
    "    BertModel,\n",
    "    set_seed,\n",
    ")\n",
    "\n",
    "from collections import Counter\n",
    "\n",
    "# Download NLTK data\n",
    "nltk.download(\"stopwords\", quiet=True)"
   ]
  },
  {
   "cell_type": "markdown",
   "id": "b53f6680",
   "metadata": {
    "id": "b53f6680"
   },
   "source": [
    "## Global Configuration & Constants"
   ]
  },
  {
   "cell_type": "code",
   "execution_count": null,
   "id": "3a43c87f",
   "metadata": {
    "colab": {
     "base_uri": "https://localhost:8080/"
    },
    "id": "3a43c87f",
    "outputId": "ac5ae35e-85c1-4e46-d6ae-c2a0a46be89a"
   },
   "outputs": [
    {
     "name": "stdout",
     "output_type": "stream",
     "text": [
      "Using device: cuda\n",
      "CUDA device: Tesla T4\n"
     ]
    }
   ],
   "source": [
    "# Global Configuration\n",
    "RANDOM_SEED = 0\n",
    "TEST_SIZE = 0.2\n",
    "\n",
    "# Model hyperparameters - Classification\n",
    "CLASSIFICATION_MAX_LENGTH = 512\n",
    "CLASSIFICATION_BATCH_SIZE = 32\n",
    "CLASSIFICATION_EPOCHS = 15\n",
    "CLASSIFICATION_LEARNING_RATE = 0.001\n",
    "\n",
    "# Model hyperparameters - LSTM\n",
    "LSTM_MAX_WORDS = 10000\n",
    "LSTM_EMBEDDING_DIM = 100\n",
    "LSTM_HIDDEN_DIM = 128\n",
    "LSTM_N_LAYERS = 2\n",
    "LSTM_DROPOUT = 0.5\n",
    "\n",
    "# Model hyperparameters - BERT\n",
    "BERT_MODEL_NAME = \"aubmindlab/bert-base-arabertv02\"\n",
    "BERT_MAX_LENGTH = 256\n",
    "BERT_BATCH_SIZE = 16\n",
    "BERT_EPOCHS = 3\n",
    "BERT_LEARNING_RATE = 2e-5\n",
    "\n",
    "# Model hyperparameters - Summarization\n",
    "SUM_MAX_TEXT_LENGTH = 200\n",
    "SUM_MAX_SUMMARY_LENGTH = 40\n",
    "SUM_VOCAB_SIZE = 10000\n",
    "SUM_BATCH_SIZE = 32\n",
    "SUM_EPOCHS = 10\n",
    "SUM_LEARNING_RATE = 0.001\n",
    "\n",
    "# Seq2Seq model parameters\n",
    "SEQ2SEQ_EMBED_DIM = 128\n",
    "SEQ2SEQ_HIDDEN_DIM = 512\n",
    "SEQ2SEQ_N_LAYERS = 1\n",
    "SEQ2SEQ_DROPOUT = 0.3\n",
    "SEQ2SEQ_TEACHER_FORCING_RATIO = 0.5\n",
    "\n",
    "# Sequence length parameters\n",
    "MAX_TEXT_LEN = 500\n",
    "MAX_SUM_LEN = 50\n",
    "BATCH_SIZE = 32\n",
    "\n",
    "set_seed(RANDOM_SEED)\n",
    "np.random.seed(RANDOM_SEED)\n",
    "torch.manual_seed(RANDOM_SEED)\n",
    "\n",
    "# Device configuration\n",
    "device = torch.device(\"cuda\" if torch.cuda.is_available() else \"cpu\")\n",
    "print(f\"Using device: {device}\")\n",
    "\n",
    "if torch.cuda.is_available():\n",
    "    print(f\"CUDA device: {torch.cuda.get_device_name()}\")\n",
    "    torch.backends.cudnn.benchmark = True\n",
    "    torch.cuda.manual_seed_all(RANDOM_SEED)\n",
    "\n",
    "# Model save paths\n",
    "MODEL_SAVE_DIR = \"./saved_models/\"\n",
    "os.makedirs(MODEL_SAVE_DIR, exist_ok=True)\n",
    "\n",
    "# Set plot style\n",
    "sns.set_theme(style=\"whitegrid\")\n",
    "plt.rcParams[\"figure.figsize\"] = (10, 6)"
   ]
  },
  {
   "cell_type": "code",
   "execution_count": null,
   "id": "de8c4982",
   "metadata": {
    "id": "de8c4982"
   },
   "outputs": [],
   "source": [
    "def print_text_sample(text, title=\"Text Sample\"):\n",
    "    print(f\"\\n{title}:\")\n",
    "    print(\"=\" * len(title))\n",
    "    display(Markdown(str(text)))\n",
    "    print(f\"\\n[Full length: {len(str(text)):,} characters]\\n\")\n",
    "\n",
    "\n",
    "def save_model(model, path, metadata=None):\n",
    "    save_dict = {\"model_state_dict\": model.state_dict(), \"metadata\": metadata or {}}\n",
    "    torch.save(save_dict, path)\n",
    "\n",
    "\n",
    "def load_model(model, path):\n",
    "    if os.path.exists(path):\n",
    "        checkpoint = torch.load(path, map_location=device)\n",
    "        model.load_state_dict(checkpoint[\"model_state_dict\"])\n",
    "        return checkpoint.get(\"metadata\", {})\n",
    "    return {}\n",
    "\n",
    "\n",
    "def display_model_comparison(models_results, metric_name=\"Accuracy\"):\n",
    "    print(f\"\\n{'=' * 50}\")\n",
    "    print(f\"MODEL COMPARISON - {metric_name.upper()}\")\n",
    "    print(f\"{'=' * 50}\")\n",
    "\n",
    "    for model_name, result in models_results.items():\n",
    "        print(f\"{model_name:<25}: {result:.4f}\")\n",
    "\n",
    "    best_model = max(models_results.items(), key=lambda x: x[1])\n",
    "    print(f\"\\nBest performing model: {best_model[0]} ({best_model[1]:.4f})\")\n",
    "    print(f\"{'=' * 50}\\n\")"
   ]
  },
  {
   "cell_type": "markdown",
   "id": "87ba4767",
   "metadata": {
    "id": "87ba4767"
   },
   "source": [
    "## 2. Data Exploration and Preprocessing"
   ]
  },
  {
   "cell_type": "markdown",
   "id": "be0c2ae6",
   "metadata": {
    "id": "be0c2ae6"
   },
   "source": [
    "### Dataset Loading and Exploration"
   ]
  },
  {
   "cell_type": "code",
   "execution_count": null,
   "id": "qICXuriTcbhg",
   "metadata": {
    "colab": {
     "base_uri": "https://localhost:8080/"
    },
    "id": "qICXuriTcbhg",
    "outputId": "53a9edb9-ea5d-4f96-c92b-c935c24f1c12"
   },
   "outputs": [
    {
     "name": "stdout",
     "output_type": "stream",
     "text": [
      "Downloading datasets...\n"
     ]
    },
    {
     "name": "stderr",
     "output_type": "stream",
     "text": [
      "Downloading...\n",
      "From (original): https://drive.google.com/uc?id=1ews4QEXGC9bW5eKumlqTKgLEC06Cqbtw\n",
      "From (redirected): https://drive.google.com/uc?id=1ews4QEXGC9bW5eKumlqTKgLEC06Cqbtw&confirm=t&uuid=6baa5dc8-5ec9-43b4-a99c-5a629bf1da1a\n",
      "To: /content/kalimat_corpus.zip\n",
      "100%|██████████| 34.9M/34.9M [00:00<00:00, 38.2MB/s]\n",
      "Downloading...\n",
      "From: https://drive.google.com/uc?id=1V7kFgZdlHeTucA9eowNBNy9TG08VDxcY\n",
      "To: /content/summarization_corpus.csv\n",
      "100%|██████████| 37.9M/37.9M [00:01<00:00, 34.2MB/s]\n"
     ]
    }
   ],
   "source": [
    "# Google Drive file IDs for datasets\n",
    "kalimat_id = \"1ews4QEXGC9bW5eKumlqTKgLEC06Cqbtw\"\n",
    "summarization_id = \"1V7kFgZdlHeTucA9eowNBNy9TG08VDxcY\"\n",
    "\n",
    "print(\"Downloading datasets...\")\n",
    "gdown.download(\n",
    "    f\"https://drive.google.com/uc?id={kalimat_id}\", \"kalimat_corpus.zip\", quiet=False\n",
    ")\n",
    "gdown.download(\n",
    "    f\"https://drive.google.com/uc?id={summarization_id}\",\n",
    "    \"summarization_corpus.csv\",\n",
    "    quiet=False,\n",
    ")\n",
    "\n",
    "!unzip -q kalimat_corpus.zip -d ./kalimat_corpus\n",
    "!rm kalimat_corpus.zip"
   ]
  },
  {
   "cell_type": "code",
   "execution_count": null,
   "id": "90f3c540",
   "metadata": {
    "colab": {
     "base_uri": "https://localhost:8080/"
    },
    "id": "90f3c540",
    "outputId": "771d4926-673a-429e-e486-7fb807705a57"
   },
   "outputs": [
    {
     "name": "stderr",
     "output_type": "stream",
     "text": [
      "Processing folders:   0%|          | 0/6 [00:00<?, ?it/s]\n",
      "Loading culture:   0%|          | 0/2495 [00:00<?, ?it/s]\u001b[A\n",
      "Loading culture:  19%|█▉        | 476/2495 [00:00<00:00, 4758.96it/s]\u001b[A\n",
      "Loading culture:  43%|████▎     | 1063/2495 [00:00<00:00, 5381.67it/s]\u001b[A\n",
      "Loading culture:  64%|██████▍   | 1601/2495 [00:00<00:00, 4254.62it/s]\u001b[A\n",
      "Loading culture:  89%|████████▉ | 2232/2495 [00:00<00:00, 4951.47it/s]\u001b[A\n",
      "Processing folders:  17%|█▋        | 1/6 [00:00<00:02,  1.74it/s]\n",
      "Loading economy:   0%|          | 0/3265 [00:00<?, ?it/s]\u001b[A\n",
      "Loading economy:  32%|███▏      | 1031/3265 [00:00<00:00, 10306.82it/s]\u001b[A\n",
      "Loading economy:  68%|██████▊   | 2228/3265 [00:00<00:00, 11282.78it/s]\u001b[A\n",
      "Processing folders:  33%|███▎      | 2/6 [00:00<00:01,  2.26it/s]\n",
      "Loading local:   0%|          | 0/3237 [00:00<?, ?it/s]\u001b[A\n",
      "Loading local:  37%|███▋      | 1183/3237 [00:00<00:00, 11824.32it/s]\u001b[A\n",
      "Loading local:  73%|███████▎  | 2366/3237 [00:00<00:00, 9450.53it/s] \u001b[A\n",
      "Processing folders:  50%|█████     | 3/6 [00:01<00:01,  2.50it/s]\n",
      "Loading international:   0%|          | 0/1689 [00:00<?, ?it/s]\u001b[A\n",
      "Loading international:  80%|███████▉  | 1350/1689 [00:00<00:00, 13496.06it/s]\u001b[A\n",
      "Processing folders:  67%|██████▋   | 4/6 [00:01<00:00,  3.27it/s]\n",
      "Loading religion:   0%|          | 0/3475 [00:00<?, ?it/s]\u001b[A\n",
      "Loading religion:  20%|█▉        | 686/3475 [00:00<00:00, 6856.75it/s]\u001b[A\n",
      "Loading religion:  43%|████▎     | 1509/3475 [00:00<00:00, 7663.15it/s]\u001b[A\n",
      "Loading religion:  65%|██████▌   | 2276/3475 [00:00<00:00, 7189.17it/s]\u001b[A\n",
      "Loading religion:  86%|████████▋ | 2999/3475 [00:00<00:00, 7118.07it/s]\u001b[A\n",
      "Processing folders:  83%|████████▎ | 5/6 [00:01<00:00,  2.66it/s]\n",
      "Loading sports:   0%|          | 0/4095 [00:00<?, ?it/s]\u001b[A\n",
      "Loading sports:  30%|██▉       | 1215/4095 [00:00<00:00, 12144.22it/s]\u001b[A\n",
      "Loading sports:  59%|█████▉    | 2430/4095 [00:00<00:00, 10042.35it/s]\u001b[A\n",
      "Loading sports:  96%|█████████▌| 3937/4095 [00:00<00:00, 12101.43it/s]\u001b[A\n",
      "Processing folders: 100%|██████████| 6/6 [00:02<00:00,  2.59it/s]\n"
     ]
    },
    {
     "name": "stdout",
     "output_type": "stream",
     "text": [
      "Classification samples: 18,256\n",
      "Summarization samples: 29,335\n"
     ]
    }
   ],
   "source": [
    "classification_corpus_path = \"./kalimat_corpus\"\n",
    "classification_topic_map = {\n",
    "    \"articlesCulture\": \"culture\",\n",
    "    \"articlesEconomy\": \"economy\",\n",
    "    \"articlesLocal\": \"local\",\n",
    "    \"articlesInternational\": \"international\",\n",
    "    \"articlesReligion\": \"religion\",\n",
    "    \"articlesSports\": \"sports\",\n",
    "}\n",
    "\n",
    "classification_data = []\n",
    "\n",
    "for folder, label in tqdm(classification_topic_map.items(), desc=\"Processing folders\"):\n",
    "    folder_path = os.path.join(classification_corpus_path, folder)\n",
    "    file_paths = glob.glob(os.path.join(folder_path, \"*\"))\n",
    "\n",
    "    for file_path in tqdm(file_paths, desc=f\"Loading {label}\", leave=False):\n",
    "        try:\n",
    "            with open(file_path, \"r\", encoding=\"utf-8\") as f:\n",
    "                text = f.read().strip()\n",
    "                if text:\n",
    "                    classification_data.append((text, label))\n",
    "        except Exception:\n",
    "            continue\n",
    "\n",
    "classification_df = pd.DataFrame(classification_data, columns=[\"text\", \"label\"])\n",
    "\n",
    "summarization_corpus_path = \"./summarization_corpus.csv\"\n",
    "summarization_df = pd.read_excel(summarization_corpus_path, header=1)\n",
    "\n",
    "print(f\"Classification samples: {len(classification_df):,}\")\n",
    "print(f\"Summarization samples: {len(summarization_df):,}\")"
   ]
  },
  {
   "cell_type": "markdown",
   "id": "P9I2YNi3FKL6",
   "metadata": {
    "id": "P9I2YNi3FKL6"
   },
   "source": [
    "#### Kalimat Corpus"
   ]
  },
  {
   "cell_type": "code",
   "execution_count": null,
   "id": "bH1-LGOdvcQs",
   "metadata": {
    "colab": {
     "base_uri": "https://localhost:8080/"
    },
    "id": "bH1-LGOdvcQs",
    "outputId": "c56b92a2-7816-4ef9-ffe4-002ef6aa330c"
   },
   "outputs": [
    {
     "name": "stdout",
     "output_type": "stream",
     "text": [
      "Classification - Total: 18256\n",
      "Classification - Unique: 15221\n",
      "Classification - Duplicates: 3035\n",
      "Classification - Missing: 0\n"
     ]
    }
   ],
   "source": [
    "print(f\"Classification - Total: {len(classification_df)}\")\n",
    "print(f\"Classification - Unique: {classification_df['text'].nunique()}\")\n",
    "print(f\"Classification - Duplicates: {classification_df['text'].duplicated().sum()}\")\n",
    "print(f\"Classification - Missing: {classification_df.isnull().sum().sum()}\")"
   ]
  },
  {
   "cell_type": "code",
   "execution_count": null,
   "id": "1tv6dPPfk9wM",
   "metadata": {
    "colab": {
     "base_uri": "https://localhost:8080/"
    },
    "id": "1tv6dPPfk9wM",
    "outputId": "e6a4666b-15fb-4686-fc1d-48c4eefa181c"
   },
   "outputs": [
    {
     "name": "stdout",
     "output_type": "stream",
     "text": [
      "\n",
      "Class Distribution:\n",
      "label\n",
      "sports           4095\n",
      "religion         3475\n",
      "economy          3265\n",
      "local            3237\n",
      "culture          2495\n",
      "international    1689\n",
      "Name: count, dtype: int64\n"
     ]
    }
   ],
   "source": [
    "print(\"\\nClass Distribution:\")\n",
    "print(classification_df[\"label\"].value_counts())"
   ]
  },
  {
   "cell_type": "markdown",
   "id": "HqfWL7E6Fg_4",
   "metadata": {
    "id": "HqfWL7E6Fg_4"
   },
   "source": [
    "#### Summarization Corpus"
   ]
  },
  {
   "cell_type": "code",
   "execution_count": null,
   "id": "FnpAA8jiy-9F",
   "metadata": {
    "colab": {
     "base_uri": "https://localhost:8080/"
    },
    "id": "FnpAA8jiy-9F",
    "outputId": "c0a2573a-af13-4a71-9683-c1deb5538b4d"
   },
   "outputs": [
    {
     "name": "stdout",
     "output_type": "stream",
     "text": [
      "\n",
      "Summarization - Total: 29335\n",
      "Summarization - Unique: 29192\n",
      "Summarization - Duplicates: 142\n",
      "Summarization - Missing: 189\n"
     ]
    }
   ],
   "source": [
    "print(f\"\\nSummarization - Total: {len(summarization_df)}\")\n",
    "print(f\"Summarization - Unique: {summarization_df['text'].nunique()}\")\n",
    "print(f\"Summarization - Duplicates: {summarization_df['text'].duplicated().sum()}\")\n",
    "print(f\"Summarization - Missing: {summarization_df.isnull().sum().sum()}\")"
   ]
  },
  {
   "cell_type": "markdown",
   "id": "415e9eb0",
   "metadata": {
    "id": "415e9eb0"
   },
   "source": [
    "### Preprocessing\n",
    "\n",
    "Arabic text preprocessing is crucial for model performance. Unlike English, Arabic requires handling of:\n",
    "- **Diacritics removal**: Harakat marks that are often inconsistent in modern texts\n",
    "- **Character normalization**: Multiple forms of the same letter (أ, إ, آ → ا)\n",
    "- **Root-based stemming**: Extracting word roots while preserving meaning\n",
    "\n",
    "The preprocessing pipeline balances normalization with information preservation, as aggressive preprocessing can lose important semantic distinctions in Arabic."
   ]
  },
  {
   "cell_type": "code",
   "execution_count": null,
   "id": "eb667348",
   "metadata": {
    "id": "eb667348"
   },
   "outputs": [],
   "source": [
    "# Initialize Arabic NLP tools\n",
    "arabic_stopwords = set(stopwords.words(\"arabic\"))\n",
    "stemmer = ISRIStemmer()\n",
    "\n",
    "# Character normalization mapping\n",
    "char_map = str.maketrans(\n",
    "    {\"أ\": \"ا\", \"إ\": \"ا\", \"آ\": \"ا\", \"ى\": \"ي\", \"ة\": \"ه\", \"ؤ\": \"و\", \"ئ\": \"ي\", \"ـ\": \"\"}\n",
    ")\n",
    "\n",
    "# Compiled regex patterns\n",
    "diacritics_pattern = re.compile(r\"[\\u064B-\\u0652]\")\n",
    "punctuation_pattern = re.compile(r\"[^\\w\\s]\")\n",
    "whitespace_pattern = re.compile(r\"\\s+\")\n",
    "repeated_char_pattern = re.compile(r\"(.)\\1+\")\n",
    "digits_pattern = re.compile(r\"\\d+\")\n",
    "\n",
    "\n",
    "def normalize_arabic(text):\n",
    "    return text.translate(char_map)\n",
    "\n",
    "\n",
    "def remove_diacritics(text):\n",
    "    return diacritics_pattern.sub(\"\", text)\n",
    "\n",
    "\n",
    "def remove_punctuation(text):\n",
    "    return punctuation_pattern.sub(\" \", text)\n",
    "\n",
    "\n",
    "def reduce_repeated_characters(text):\n",
    "    return repeated_char_pattern.sub(r\"\\1\", text)\n",
    "\n",
    "\n",
    "def remove_stopwords(tokens):\n",
    "    return [word for word in tokens if word not in arabic_stopwords]\n",
    "\n",
    "\n",
    "def stem_tokens(tokens):\n",
    "    return [stemmer.stem(token) for token in tokens]\n",
    "\n",
    "\n",
    "def preprocess_for_classification(text):\n",
    "    if not isinstance(text, str):\n",
    "        return \"\"\n",
    "\n",
    "    text = text.strip().lower()\n",
    "    text = normalize_arabic(text)\n",
    "    text = remove_diacritics(text)\n",
    "    text = remove_punctuation(text)\n",
    "    text = reduce_repeated_characters(text)\n",
    "    text = whitespace_pattern.sub(\" \", text).strip()\n",
    "    text = digits_pattern.sub(\"\", text)\n",
    "\n",
    "    tokens = text.split()\n",
    "    tokens = remove_stopwords(tokens)\n",
    "    tokens = stem_tokens(tokens)\n",
    "\n",
    "    return \" \".join(tokens)\n",
    "\n",
    "\n",
    "def preprocess_for_summarization(text):\n",
    "    if not isinstance(text, str):\n",
    "        return \"\"\n",
    "\n",
    "    text = text.strip().lower()\n",
    "    text = remove_diacritics(text)\n",
    "    text = whitespace_pattern.sub(\" \", text).strip()\n",
    "    text = digits_pattern.sub(\"\", text)\n",
    "\n",
    "    return text"
   ]
  },
  {
   "cell_type": "code",
   "execution_count": null,
   "id": "EY5btqrI7obU",
   "metadata": {
    "colab": {
     "base_uri": "https://localhost:8080/"
    },
    "id": "EY5btqrI7obU",
    "outputId": "748b18f1-2b53-455c-be61-c77edafff90b"
   },
   "outputs": [
    {
     "name": "stdout",
     "output_type": "stream",
     "text": [
      "Preprocessing classification data...\n"
     ]
    },
    {
     "name": "stderr",
     "output_type": "stream",
     "text": [
      "Preprocessing texts: 100%|██████████| 15221/15221 [00:50<00:00, 299.46it/s]"
     ]
    },
    {
     "name": "stdout",
     "output_type": "stream",
     "text": [
      "Removed 3,035 duplicates/empty entries\n",
      "Final classification samples: 15,221\n"
     ]
    },
    {
     "name": "stderr",
     "output_type": "stream",
     "text": [
      "\n"
     ]
    }
   ],
   "source": [
    "print(\"Preprocessing classification data...\")\n",
    "\n",
    "# Remove duplicates\n",
    "original_count = len(classification_df)\n",
    "classification_df = classification_df.drop_duplicates(\n",
    "    subset=[\"text\"], keep=\"first\"\n",
    ").reset_index(drop=True)\n",
    "\n",
    "# Apply preprocessing\n",
    "tqdm.pandas(desc=\"Preprocessing texts\")\n",
    "classification_df[\"preprocessed_text\"] = classification_df[\"text\"].progress_apply(\n",
    "    preprocess_for_classification\n",
    ")\n",
    "\n",
    "# Remove empty preprocessed texts\n",
    "classification_df = classification_df[\n",
    "    classification_df[\"preprocessed_text\"].str.len() > 0\n",
    "].reset_index(drop=True)\n",
    "\n",
    "print(f\"Removed {original_count - len(classification_df):,} duplicates/empty entries\")\n",
    "print(f\"Final classification samples: {len(classification_df):,}\")"
   ]
  },
  {
   "cell_type": "code",
   "execution_count": null,
   "id": "MQWddkhXHfjh",
   "metadata": {
    "colab": {
     "base_uri": "https://localhost:8080/"
    },
    "id": "MQWddkhXHfjh",
    "outputId": "5d2d72e9-32c4-43e6-c417-5faa4e4508b9"
   },
   "outputs": [
    {
     "name": "stdout",
     "output_type": "stream",
     "text": [
      "Preprocessing summarization data...\n",
      "Cleaned 143 entries\n",
      "Final summarization samples: 29,192\n",
      "Average text length: 1966 characters\n",
      "Average summary length: 178 characters\n"
     ]
    }
   ],
   "source": [
    "print(\"Preprocessing summarization data...\")\n",
    "\n",
    "original_count = len(summarization_df)\n",
    "summarization_df = summarization_df.drop_duplicates(\n",
    "    subset=[\"text\"], keep=\"first\"\n",
    ").reset_index(drop=True)\n",
    "summarization_df = summarization_df.dropna(subset=[\"text\", \"summary\"]).reset_index(\n",
    "    drop=True\n",
    ")\n",
    "\n",
    "summarization_df[\"text_length\"] = summarization_df[\"text\"].str.len()\n",
    "summarization_df[\"summary_length\"] = summarization_df[\"summary\"].str.len()\n",
    "\n",
    "print(f\"Cleaned {original_count - len(summarization_df):,} entries\")\n",
    "print(f\"Final summarization samples: {len(summarization_df):,}\")\n",
    "print(f\"Average text length: {summarization_df['text_length'].mean():.0f} characters\")\n",
    "print(\n",
    "    f\"Average summary length: {summarization_df['summary_length'].mean():.0f} characters\"\n",
    ")"
   ]
  },
  {
   "cell_type": "markdown",
   "id": "4a85547b",
   "metadata": {
    "id": "4a85547b"
   },
   "source": [
    "### Data Visualization and Statistics"
   ]
  },
  {
   "cell_type": "markdown",
   "id": "ovPboxxoIfum",
   "metadata": {
    "id": "ovPboxxoIfum"
   },
   "source": [
    "#### Kalimat Corpus"
   ]
  },
  {
   "cell_type": "code",
   "execution_count": null,
   "id": "ec780ee7",
   "metadata": {
    "colab": {
     "base_uri": "https://localhost:8080/",
     "height": 647
    },
    "id": "ec780ee7",
    "outputId": "73527b01-6c97-44c2-a2ef-5d50742a8af1"
   },
   "outputs": [
    {
     "data": {
      "image/png": "[encoded data removed]",
      "text/plain": [
       "<Figure size 1500x700 with 2 Axes>"
      ]
     },
     "metadata": {},
     "output_type": "display_data"
    }
   ],
   "source": [
    "fig, (ax1, ax2) = plt.subplots(1, 2, figsize=(15, 7))\n",
    "\n",
    "# Class distribution\n",
    "sns.countplot(\n",
    "    data=classification_df,\n",
    "    x=\"label\",\n",
    "    order=classification_df[\"label\"].value_counts().index,\n",
    "    ax=ax1,\n",
    ")\n",
    "ax1.set_title(\"Class Distribution in KALIMAT Corpus\")\n",
    "ax1.set_xlabel(\"Topic Categories\")\n",
    "ax1.set_ylabel(\"Number of Articles\")\n",
    "ax1.tick_params(axis=\"x\", rotation=45)\n",
    "\n",
    "total = len(classification_df)\n",
    "for i, (label, count) in enumerate(classification_df[\"label\"].value_counts().items()):\n",
    "    percentage = (count / total) * 100\n",
    "    ax1.text(i, count + 10, f\"{percentage:.1f}%\", ha=\"center\", va=\"bottom\")\n",
    "\n",
    "\n",
    "# Text length distribution\n",
    "text_lengths = classification_df[\"text\"].apply(lambda x: len(x.split()))\n",
    "sns.histplot(text_lengths, bins=50, kde=True, ax=ax2)\n",
    "ax2.set_title(\"Distribution of Text Lengths\")\n",
    "ax2.set_xlabel(\"Number of Words\")\n",
    "ax2.set_ylabel(\"Frequency\")\n",
    "ax2.axvline(\n",
    "    text_lengths.mean(),\n",
    "    color=\"red\",\n",
    "    linestyle=\"--\",\n",
    "    label=f\"Mean: {text_lengths.mean():.0f} words\",\n",
    ")\n",
    "ax2.legend()\n",
    "\n",
    "plt.tight_layout()\n",
    "plt.show()"
   ]
  },
  {
   "cell_type": "markdown",
   "id": "8AsyHllkIqGp",
   "metadata": {
    "id": "8AsyHllkIqGp"
   },
   "source": [
    "#### Summarization Corpus"
   ]
  },
  {
   "cell_type": "code",
   "execution_count": null,
   "id": "UE4hNhPIIvEv",
   "metadata": {
    "colab": {
     "base_uri": "https://localhost:8080/",
     "height": 647
    },
    "id": "UE4hNhPIIvEv",
    "outputId": "6384cff1-a3aa-4d67-c6a1-d0abd0f63008"
   },
   "outputs": [
    {
     "data": {
      "image/png": "[encoded data removed]",
      "text/plain": [
       "<Figure size 1500x700 with 2 Axes>"
      ]
     },
     "metadata": {},
     "output_type": "display_data"
    }
   ],
   "source": [
    "# assume df already has summary_length & text_length\n",
    "fig, (ax1, ax2) = plt.subplots(1, 2, figsize=(15, 7))\n",
    "\n",
    "text_mean = summarization_df[\"text_length\"].mean()\n",
    "summary_mean = summarization_df[\"summary_length\"].mean()\n",
    "\n",
    "# Length distribution\n",
    "ax1.hist(\n",
    "    summarization_df[\"text_length\"],\n",
    "    bins=50,\n",
    "    alpha=0.6,\n",
    "    label=\"Text length\",\n",
    "    color=\"#1f77b4\",\n",
    ")\n",
    "ax1.hist(\n",
    "    summarization_df[\"summary_length\"],\n",
    "    bins=50,\n",
    "    alpha=0.6,\n",
    "    label=\"Summary length\",\n",
    "    color=\"#ff7f0e\",\n",
    ")\n",
    "\n",
    "ax1.set_xlim(0, 6000)\n",
    "ax1.axvline(\n",
    "    text_mean,\n",
    "    color=\"skyblue\",\n",
    "    linestyle=\"--\",\n",
    "    linewidth=2,\n",
    "    label=f\"Text mean ({text_mean:.0f})\",\n",
    ")\n",
    "ax1.axvline(\n",
    "    summary_mean,\n",
    "    color=\"orange\",\n",
    "    linestyle=\"--\",\n",
    "    linewidth=2,\n",
    "    label=f\"Summary mean ({summary_mean:.0f})\",\n",
    ")\n",
    "\n",
    "ax1.set_xlabel(\"Length (characters)\")\n",
    "ax1.set_ylabel(\"Number of samples\")\n",
    "ax1.set_title(\"Text vs Summary Length Distribution\", fontweight=\"bold\")\n",
    "ax1.legend()\n",
    "\n",
    "# Compression ratio\n",
    "compression_ratio = summarization_df[\"text_length\"] / summarization_df[\"summary_length\"]\n",
    "sns.histplot(compression_ratio, bins=30, kde=True, ax=ax2)\n",
    "ax2.set_title(\"Compression Ratio Distribution\", fontweight=\"bold\")\n",
    "ax2.set_xlabel(\"Compression Ratio (Text Length / Summary Length)\")\n",
    "ax2.set_ylabel(\"Frequency\")\n",
    "ax2.axvline(\n",
    "    compression_ratio.mean(),\n",
    "    color=\"red\",\n",
    "    linestyle=\"--\",\n",
    "    label=f\"Mean ratio: {compression_ratio.mean():.1f}\",\n",
    ")\n",
    "ax2.legend()\n",
    "\n",
    "plt.tight_layout()\n",
    "plt.show()"
   ]
  },
  {
   "cell_type": "markdown",
   "id": "a0IMW5V6xumb",
   "metadata": {
    "id": "a0IMW5V6xumb"
   },
   "source": [
    "### Data Characteristics Insights\n",
    "\n",
    "**KALIMAT Corpus Observations**:\n",
    "- Somewhat imbalanced class distribution with sports articles dominating (~25% of dataset)\n",
    "- Text lengths vary significantly across topics (economics articles tend to be longer)\n",
    "- Average Arabic text contains ~450 words, requiring careful sequence length management for neural models\n",
    "\n",
    "**Summarization Corpus Patterns**:\n",
    "- High compression ratios (13.5) which means summarization is much shorter\n",
    "- Length variability suggests diverse text types and summarization styles\n",
    "- Arabic summary quality appears inconsistent, affecting evaluation metrics\n",
    "\n",
    "These patterns inform preprocessing decisions and model architecture choices."
   ]
  },
  {
   "cell_type": "markdown",
   "id": "b59a9d7e",
   "metadata": {
    "id": "b59a9d7e"
   },
   "source": [
    "\n",
    "\n",
    "\n",
    "\n",
    "## 3. Phase 1: Traditional Approaches"
   ]
  },
  {
   "cell_type": "code",
   "execution_count": null,
   "id": "Zgs2WlTeAey6",
   "metadata": {
    "colab": {
     "base_uri": "https://localhost:8080/"
    },
    "id": "Zgs2WlTeAey6",
    "outputId": "a5938b58-55ad-4347-a83a-451172cc130c"
   },
   "outputs": [
    {
     "name": "stdout",
     "output_type": "stream",
     "text": [
      "Creating train/test splits on preprocessed text...\n",
      "Classification split - Training: 12,176, Test: 3,045\n",
      "Label classes: ['culture', 'economy', 'international', 'local', 'religion', 'sports']\n"
     ]
    }
   ],
   "source": [
    "print(\"Creating train/test splits on preprocessed text...\")\n",
    "\n",
    "# Classification data split\n",
    "X_cls = classification_df[\"preprocessed_text\"]\n",
    "y_cls = classification_df[\"label\"]\n",
    "X_cls_train_raw, X_cls_test_raw, y_cls_train_raw, y_cls_test_raw = train_test_split(\n",
    "    X_cls, y_cls, test_size=TEST_SIZE, random_state=RANDOM_SEED, stratify=y_cls\n",
    ")\n",
    "\n",
    "# Preserve original string labels\n",
    "y_cls_train_str = y_cls_train_raw.copy()\n",
    "y_cls_test_str = y_cls_test_raw.copy()\n",
    "\n",
    "# Encode labels\n",
    "label_encoder = LabelEncoder()\n",
    "y_cls_train_raw = label_encoder.fit_transform(y_cls_train_raw)\n",
    "y_cls_test_raw = label_encoder.transform(y_cls_test_raw)\n",
    "\n",
    "print(\n",
    "    f\"Classification split - Training: {len(X_cls_train_raw):,}, Test: {len(X_cls_test_raw):,}\"\n",
    ")\n",
    "print(f\"Label classes: {list(label_encoder.classes_)}\")"
   ]
  },
  {
   "cell_type": "markdown",
   "id": "521ef161",
   "metadata": {
    "id": "521ef161"
   },
   "source": [
    "### Traditional implementation of Task 1"
   ]
  },
  {
   "cell_type": "code",
   "execution_count": null,
   "id": "002b515b",
   "metadata": {
    "colab": {
     "base_uri": "https://localhost:8080/"
    },
    "id": "002b515b",
    "outputId": "4bf80009-138a-417b-c78a-52cd8f9a81f3"
   },
   "outputs": [
    {
     "name": "stdout",
     "output_type": "stream",
     "text": [
      "Training traditional SVM model...\n",
      "Loading existing TF-IDF vectorizer for classification...\n",
      "✓ TF-IDF vectorizer loaded from file\n",
      "TF-IDF feature matrix shape: (12176, 10000)\n"
     ]
    }
   ],
   "source": [
    "print(\"Training traditional SVM model...\")\n",
    "\n",
    "X_cls_train_preprocessed = X_cls_train_raw.tolist()\n",
    "X_cls_test_preprocessed = X_cls_test_raw.tolist()\n",
    "\n",
    "# Check if TF-IDF vectorizer exists\n",
    "svm_tfidf_path = os.path.join(\n",
    "    MODEL_SAVE_DIR, \"traditional_tfidf_vectorizer_classifier.joblib\"\n",
    ")\n",
    "\n",
    "if os.path.exists(svm_tfidf_path):\n",
    "    print(\"Loading existing TF-IDF vectorizer for classification...\")\n",
    "    svm_vectorizer = joblib.load(svm_tfidf_path)\n",
    "    X_cls_train_tfidf = svm_vectorizer.transform(X_cls_train_preprocessed)\n",
    "    X_cls_test_tfidf = svm_vectorizer.transform(X_cls_test_preprocessed)\n",
    "    print(\"✓ TF-IDF vectorizer loaded from file\")\n",
    "else:\n",
    "    print(\"Creating new TF-IDF vectorizer...\")\n",
    "    # Create TF-IDF features\n",
    "    svm_vectorizer = TfidfVectorizer(max_features=10000, ngram_range=(1, 2))\n",
    "    X_cls_train_tfidf = svm_vectorizer.fit_transform(X_cls_train_preprocessed)\n",
    "    X_cls_test_tfidf = svm_vectorizer.transform(X_cls_test_preprocessed)\n",
    "\n",
    "    # Save the vectorizer\n",
    "    joblib.dump(svm_vectorizer, svm_tfidf_path)\n",
    "    print(\"✓ TF-IDF vectorizer created and saved\")\n",
    "\n",
    "print(f\"TF-IDF feature matrix shape: {X_cls_train_tfidf.shape}\")"
   ]
  },
  {
   "cell_type": "code",
   "execution_count": null,
   "id": "5fZao4u7AGX3",
   "metadata": {
    "colab": {
     "base_uri": "https://localhost:8080/"
    },
    "id": "5fZao4u7AGX3",
    "outputId": "8cbde8f1-6def-4dc5-adee-f19eae4ee4e2"
   },
   "outputs": [
    {
     "name": "stdout",
     "output_type": "stream",
     "text": [
      "Loading existing SVM model...\n",
      "✓ SVM model loaded from file\n"
     ]
    }
   ],
   "source": [
    "# Check if model exists\n",
    "svm_model_path = os.path.join(MODEL_SAVE_DIR, \"traditional_svm_classifier.joblib\")\n",
    "\n",
    "if os.path.exists(svm_model_path):\n",
    "    print(\"Loading existing SVM model...\")\n",
    "    svm_model = joblib.load(svm_model_path)\n",
    "    print(\"✓ SVM model loaded from file\")\n",
    "else:\n",
    "    print(\"Training new SVM model...\")\n",
    "    svm_model = SVC(kernel=\"linear\", C=1, random_state=RANDOM_SEED)\n",
    "    svm_model.fit(X_cls_train_tfidf, y_cls_train_raw)\n",
    "\n",
    "    # Save the model\n",
    "    joblib.dump(svm_model, svm_model_path)\n",
    "    print(\"✓ SVM model trained and saved\")\n",
    "\n",
    "svm_preds = svm_model.predict(X_cls_test_tfidf)"
   ]
  },
  {
   "cell_type": "markdown",
   "id": "4204935d",
   "metadata": {
    "id": "4204935d"
   },
   "source": [
    "### Traditional implementation of Task 2"
   ]
  },
  {
   "cell_type": "code",
   "execution_count": null,
   "id": "n4gSHrjhWAgP",
   "metadata": {
    "colab": {
     "base_uri": "https://localhost:8080/"
    },
    "id": "n4gSHrjhWAgP",
    "outputId": "0e59b387-afb0-4a6b-a517-253e68259048"
   },
   "outputs": [
    {
     "name": "stdout",
     "output_type": "stream",
     "text": [
      "Summarization split - Training: 23353, Test: 5839\n"
     ]
    }
   ],
   "source": [
    "summarization_train_df, summarization_test_df = train_test_split(\n",
    "    summarization_df, test_size=TEST_SIZE, random_state=RANDOM_SEED\n",
    ")\n",
    "\n",
    "X_sum_train = summarization_train_df[\"text\"].tolist()\n",
    "X_sum_test = summarization_test_df[\"text\"].tolist()\n",
    "y_sum_train = summarization_train_df[\"summary\"].tolist()\n",
    "y_sum_test = summarization_test_df[\"summary\"].tolist()\n",
    "\n",
    "#  Preprocess\n",
    "X_sum_train = [preprocess_for_summarization(t) for t in X_sum_train]\n",
    "X_sum_test = [preprocess_for_summarization(t) for t in X_sum_test]\n",
    "y_sum_train = [preprocess_for_summarization(t) for t in y_sum_train]\n",
    "y_sum_test = [preprocess_for_summarization(t) for t in y_sum_test]\n",
    "\n",
    "print(f\"Summarization split - Training: {len(X_sum_train)}, Test: {len(X_sum_test)}\")"
   ]
  },
  {
   "cell_type": "code",
   "execution_count": null,
   "id": "s2W5fgV6oC7S",
   "metadata": {
    "colab": {
     "base_uri": "https://localhost:8080/"
    },
    "id": "s2W5fgV6oC7S",
    "outputId": "d2cd0fad-db52-4f04-c6a6-4ca127cb3808"
   },
   "outputs": [
    {
     "name": "stdout",
     "output_type": "stream",
     "text": [
      "✓ Traditional summarization functions loaded!\n"
     ]
    }
   ],
   "source": [
    "def create_tfidf_vectorizer(corpus):\n",
    "    vectorizer = TfidfVectorizer(stop_words=None, max_features=5000)\n",
    "    vectorizer.fit(corpus)\n",
    "    return vectorizer\n",
    "\n",
    "\n",
    "def extract_tfidf_summary(text, vectorizer, num_sentences=3):\n",
    "    cleaned_text = preprocess_for_summarization(text)\n",
    "    sentences = re.split(r\"[.!؟\\n]+\", cleaned_text)\n",
    "    sentences = [s.strip() for s in sentences if s.strip() and len(s.split()) > 3]\n",
    "\n",
    "    if len(sentences) <= num_sentences:\n",
    "        return \" \".join(sentences)\n",
    "\n",
    "    try:\n",
    "        tfidf_matrix = vectorizer.transform(sentences)\n",
    "        sentence_scores = tfidf_matrix.sum(axis=1).A1\n",
    "        top_indices = np.argsort(sentence_scores)[-num_sentences:][::-1]\n",
    "        summary_sentences = [sentences[i] for i in sorted(top_indices)]\n",
    "        return \". \".join(summary_sentences) + \".\"\n",
    "    except:\n",
    "        return \". \".join(sentences[:num_sentences]) + \".\"\n",
    "\n",
    "\n",
    "print(\"✓ Traditional summarization functions loaded!\")"
   ]
  },
  {
   "cell_type": "code",
   "execution_count": null,
   "id": "1wjjSDscopIv",
   "metadata": {
    "colab": {
     "base_uri": "https://localhost:8080/"
    },
    "id": "1wjjSDscopIv",
    "outputId": "568ca188-a7e0-44e3-adf6-26689d36a990"
   },
   "outputs": [
    {
     "name": "stdout",
     "output_type": "stream",
     "text": [
      "Setting up TF-IDF vectorizer for summarization...\n",
      "Loading existing TF-IDF vectorizer for summarization...\n",
      "✓ TF-IDF vectorizer loaded from file\n",
      "TF-IDF vocabulary size: 5,000\n",
      "✓ TF-IDF vectorizer ready!\n"
     ]
    }
   ],
   "source": [
    "print(\"Setting up TF-IDF vectorizer for summarization...\")\n",
    "\n",
    "# Check if TF-IDF vectorizer for summarization exists\n",
    "tfidf_sum_path = os.path.join(\n",
    "    MODEL_SAVE_DIR, \"traditional_tfidf_vectorizer_summarization.joblib\"\n",
    ")\n",
    "\n",
    "if os.path.exists(tfidf_sum_path):\n",
    "    print(\"Loading existing TF-IDF vectorizer for summarization...\")\n",
    "    tfidf_vectorizer = joblib.load(tfidf_sum_path)\n",
    "    print(\"✓ TF-IDF vectorizer loaded from file\")\n",
    "else:\n",
    "    print(\"Training new TF-IDF vectorizer for summarization...\")\n",
    "\n",
    "    # Use training set for fitting the vectorizer\n",
    "    train_texts_clean = [\n",
    "        preprocess_for_summarization(text)\n",
    "        for text in tqdm(X_sum_train, desc=\"Preprocessing training texts\")\n",
    "    ]\n",
    "\n",
    "    tfidf_vectorizer = create_tfidf_vectorizer(train_texts_clean)\n",
    "\n",
    "    # Save the vectorizer\n",
    "    joblib.dump(tfidf_vectorizer, tfidf_sum_path)\n",
    "    print(\"✓ TF-IDF vectorizer created and saved\")\n",
    "\n",
    "print(f\"TF-IDF vocabulary size: {len(tfidf_vectorizer.vocabulary_):,}\")\n",
    "print(\"✓ TF-IDF vectorizer ready!\")"
   ]
  },
  {
   "cell_type": "code",
   "execution_count": null,
   "id": "5mDK-jwpotxs",
   "metadata": {
    "colab": {
     "base_uri": "https://localhost:8080/"
    },
    "id": "5mDK-jwpotxs",
    "outputId": "bcdd8882-fb36-4725-f5b4-05221aef1acf"
   },
   "outputs": [
    {
     "name": "stderr",
     "output_type": "stream",
     "text": [
      "Generating TF-IDF summaries: 100%|██████████| 5839/5839 [00:07<00:00, 820.74it/s]"
     ]
    },
    {
     "name": "stdout",
     "output_type": "stream",
     "text": [
      "Generated 5,839 TF-IDF summaries\n"
     ]
    },
    {
     "name": "stderr",
     "output_type": "stream",
     "text": [
      "\n"
     ]
    }
   ],
   "source": [
    "tfidf_summaries = []\n",
    "for text in tqdm(X_sum_test, desc=\"Generating TF-IDF summaries\"):\n",
    "    summary = extract_tfidf_summary(text, tfidf_vectorizer, num_sentences=3)\n",
    "    tfidf_summaries.append(summary)\n",
    "\n",
    "print(f\"Generated {len(tfidf_summaries):,} TF-IDF summaries\")"
   ]
  },
  {
   "cell_type": "code",
   "execution_count": null,
   "id": "UGSUuxeMdzYx",
   "metadata": {
    "colab": {
     "base_uri": "https://localhost:8080/",
     "height": 869
    },
    "id": "UGSUuxeMdzYx",
    "outputId": "da8fa6a0-2079-45f0-cdf0-23cb18039127"
   },
   "outputs": [
    {
     "name": "stdout",
     "output_type": "stream",
     "text": [
      "\n",
      "Sample TF-IDF summary:\n",
      "\n",
      "Original Text:\n",
      "=============\n"
     ]
    },
    {
     "data": {
      "text/markdown": [
       "ما بين تجهيز نفسك، أو العناية بالحيوانات الأليفة والأطفال أو القيام بالمهام المنزلية السابقة للعمل، أنت منشغل بمهام كثيرة في الصباح. قلل الحمل عن طريق تحضير الفطور والغذاء الليلة السابقة. عندما يكون كل ما تحتاجه هو أن تأخذ الوجبة وتذهب، أنت تقلل من فرص أن تتجاهل الفطور لأنك في عجلة من أمرك وستتجنب شراء الأطعمة السريعة الغير صحية للغذاء. أبق مستويات طاقاتك عالية. الطاقة التي حصلت عليها من تناول العشاء الليلة السابقة تنفذ مع الصباح. تناول فطور يحتوي على نسبة عالية من الألياف يوازن مستوى سكر الدم لديك، مما يساعدك على الشعور بالطاقة والمزيد من التركيز. تحتاج إلى طاقة لأقصى كم من التحفيز في الصباح وطوال اليوم. تجنب الكربوهيدرات المكررة مثل الكعك لأنها ترفع سكر الدم بشكل مفاجئ ثم يهبط فجأة. ابق فطورك بسيطا ومغذيا. اسلق البيض وضعه في الثلاجة ليكون متاحا في الصباحات المشغولة. استمتع ببيض مسلوق مع مافن انجليزي وثمرة موز لفطور متوازن. كخيار آخر يمكنك طهي الشوفان في الطاهي البطيء ليلا. استمتع بشوفان ساخن وفواكه في الصباح واحتفظ بالباقي في الثلاجة لفطور سريع باقي الأسبوع. جهز غداء متوازن. استخدم وعاء واسع الفم لصنع سلطة عالية البروتين. ضع تتبيلة السلطة في قاع الوعاء. بعد ذلك، رتب الخضروات في طبقات كالخيار، الطماطم الكرز، الجزر، والحمص. أضف بروتين خالي من الدهون كالدجاج المشوي. أخيرا أضف الخضروات الورقية على السطح، اغلق الوعاء وضعه في الثلاجة. ستبقى السلطة طازجة طوال الليل بما أن الخضروات مفصولة عن التتبيلة. عندما تكون مستعدا لتناول الغداء، قم فقط برج الوعاء لتوزيع التتبيلة ثم اسكبها في طبق. يستخدم جسمك طعام العشاء كوقود أثناء النوم. ستستيقظ بطاقة وحماس أكبر عندما تقوم شحن جسمك بالأطعمة الصحيحة في الليلة السابقة. تناول البروتينات خالية الدهون مثل الدجاج المشوي، السمك أو الفول. أضف الخضروات والكربوهيدرات المعقدة مثل الأرز البني أو الكينوا. يستخدم جسمك الكثير من الطاقة لهضم الطعام. تناول وجبة دسمة قرب وقت النوم يصعب من عملية النوم. تناول الطعام قبل النوم بساعتين أو ثلاث ساعات. هذا يعطي جسمك وقتا لإنهاء الهضم قبل أن تنام. تجنب الأطعمة السكرية أو الدسمة لأنها تؤدي إلى رفع معدل سكر الدم فجأة أو حرقة المعدة. كلا الأمران يصعب من النوم. التابلت، والتليفون الذكي، والحاسوب، والتلفاز كلها أشياء تحفز العقل. أنت في مزاج تفكير بدلا من مزاج استرخاء. العقل المحفز يصعب النوم. عندما يتشتت نومك، سيصعب عليك البقاء أن تصبح محفزا في الصباح. اغلق كل الأجهزة الالكترونية قبل النوم بساعة على الأقل. الإضاءة الاصطناعية التي تأتي من الأجهزة الالكترونية تصيب الساعة البيولوجية بالاضطراب. كذلك تكبح هرمون النوم الميلاتونين، الذي يجعلك تبقى مستيقظا لفترة أطول. النوم المشوش يعني أنك تشعر بالكسل والانزعاج في الصباح. الكافيين يبقيك منتبها لعدة ساعات. ستحتاج إلى وقت أطول للنوم وستعاني من النوم المتقطع عندما تستهلك الكافيين ليلا. ستستيقظ شاعرا بالترنح بدلا من النشاط. تجنب المشروبات التي تحتوي على كافيين كالقهوة، الشاي، أو الصودا لمدة أربع ساعات على الأقل قبل موعد النوم. اشرب مشروبات لا تحتوي على كافيين كبديل مثل الشاي اخالي من الكافيين أو الحليب الدافئ. لهذا تأثير مهدئ. سيكون النوم والبقاء نائما أسهل عليك. شرب كأس أخير قبل النوم لا يبعث على الاسترخاء كما تظن. الكحول هو مسبب للاكتئاب لذا يجعلك تشعر بالنعاس أولا. عندما يختفي مفعول الكحول، له تأثير محفز. ستستيقظ وتشعر بصعوبة النوم مجددا. الكحول يسبب اضطرابا في دورات نومك أيضا، لذا لن تحصل على نوع النوم الذي تحتاجه للشعور بالراحة. قلل الكحول إلى كأس أو اثنين يوميا. اشرب اخر مشروب قبل النوم بساعتين على الأقل. روتين النوم ليس فقط للأطفال. درب عقلك وجسمك على النوم والبقاء نائما. الراحة جيدا أساسية لبدء صباحك شاعرا بالطاقة والتركيز. اقرأ كتابا أو مجلة قديمة. ستتعب عقلك وتنام بسهولة بشكل أسهل عندما تقرأ. تجنب القراءة من جهاز إلكتروني لأن ضوء الجهاز يمكن أن يبقيك مستيقظا. بالإضافة إلى ذلك، ستشعر بالرغبة في التحقق من رسائلك أو تطبيقاتك. أرخ عضلاتك. أخذ حمام دافئ أو القيام بتمديد العضلات اللطيف هي بعض الطرق التي يمكن أن تساعدك على تخفيف الضغط من جسمك. عضلاتك مشدودة بسبب يومك المشغول. الحمام أو تمديد عضلاتك يساعدك على الراحة والاستغراق في النوم. اهدف إلى سبع إلى تسع ساعات من النوم كل ليلة. هذه الكمية ستسمح لك أن تمر بكل دورات النوم. هناك أربع مراحل من النوم تتكرر حوالي كل  دقيقة. إذا كنت تنام أقل من سبع ساعات، لا يمكنك المرور خلال كل المراحل. اعلم أن النوم مهم لصحتك العامة. الحرمان من النوم يؤدي إلى فقدان الذاكرة، وقلة التركيز والإعياء. النوم جيدا بشكل منتظم يحفز نظامك المناعي ويساعدك على التحكم في وزنك. الراحة ليلا تحسن طاقتك، تحفيزك وصحتك العامة."
      ],
      "text/plain": [
       "<IPython.core.display.Markdown object>"
      ]
     },
     "metadata": {},
     "output_type": "display_data"
    },
    {
     "name": "stdout",
     "output_type": "stream",
     "text": [
      "\n",
      "[Full length: 4,110 characters]\n",
      "\n",
      "\n",
      "Reference Summary:\n",
      "=================\n"
     ]
    },
    {
     "data": {
      "text/markdown": [
       "حضر فطورك وغذائك الليلة السابقة. تناول عشاءا صحيا. اغلق الأجهزة الكهربائية قبل النوم. تجنب الكافيين قبل النوم. تجنب الكحول قبل النوم. رتب روتينا للنوم."
      ],
      "text/plain": [
       "<IPython.core.display.Markdown object>"
      ]
     },
     "metadata": {},
     "output_type": "display_data"
    },
    {
     "name": "stdout",
     "output_type": "stream",
     "text": [
      "\n",
      "[Full length: 151 characters]\n",
      "\n",
      "\n",
      "TF-IDF Summary:\n",
      "==============\n"
     ]
    },
    {
     "data": {
      "text/markdown": [
       "عندما يكون كل ما تحتاجه هو أن تأخذ الوجبة وتذهب، أنت تقلل من فرص أن تتجاهل الفطور لأنك في عجلة من أمرك وستتجنب شراء الأطعمة السريعة الغير صحية للغذاء. تناول فطور يحتوي على نسبة عالية من الألياف يوازن مستوى سكر الدم لديك، مما يساعدك على الشعور بالطاقة والمزيد من التركيز. أخذ حمام دافئ أو القيام بتمديد العضلات اللطيف هي بعض الطرق التي يمكن أن تساعدك على تخفيف الضغط من جسمك."
      ],
      "text/plain": [
       "<IPython.core.display.Markdown object>"
      ]
     },
     "metadata": {},
     "output_type": "display_data"
    },
    {
     "name": "stdout",
     "output_type": "stream",
     "text": [
      "\n",
      "[Full length: 374 characters]\n",
      "\n"
     ]
    }
   ],
   "source": [
    "print(\"\\nSample TF-IDF summary:\")\n",
    "sample_idx = 0\n",
    "print_text_sample(X_sum_test[sample_idx], \"Original Text\")\n",
    "print_text_sample(y_sum_test[sample_idx], \"Reference Summary\")\n",
    "print_text_sample(tfidf_summaries[sample_idx], \"TF-IDF Summary\")"
   ]
  },
  {
   "cell_type": "markdown",
   "id": "bfb50360",
   "metadata": {
    "id": "bfb50360"
   },
   "source": [
    "### Evaluation and results analysis"
   ]
  },
  {
   "cell_type": "markdown",
   "id": "OOD7NK4_DM1b",
   "metadata": {
    "id": "OOD7NK4_DM1b"
   },
   "source": [
    "#### Task 1"
   ]
  },
  {
   "cell_type": "markdown",
   "id": "17a4658e",
   "metadata": {
    "id": "17a4658e"
   },
   "source": [
    "### Traditional Methods Evaluation\n",
    "\n",
    "#### Classification Results (SVM)"
   ]
  },
  {
   "cell_type": "code",
   "execution_count": null,
   "id": "XGfzKgVkDgdS",
   "metadata": {
    "colab": {
     "base_uri": "https://localhost:8080/",
     "height": 462
    },
    "id": "XGfzKgVkDgdS",
    "outputId": "d7ef7bb2-ca3c-4f5a-ff41-1aa3598884a7"
   },
   "outputs": [
    {
     "name": "stdout",
     "output_type": "stream",
     "text": [
      "SVM Classification Results:\n",
      "========================================\n"
     ]
    },
    {
     "data": {
      "image/png": "[encoded data removed]",
      "text/plain": [
       "<Figure size 1500x600 with 2 Axes>"
      ]
     },
     "metadata": {},
     "output_type": "display_data"
    }
   ],
   "source": [
    "print(\"SVM Classification Results:\")\n",
    "print(\"=\" * 40)\n",
    "\n",
    "labels = list(label_encoder.classes_)\n",
    "\n",
    "svm_preds = label_encoder.inverse_transform(svm_preds)\n",
    "# Confusion Matrix\n",
    "cm_svm = confusion_matrix(y_cls_test_str, svm_preds, labels=labels)\n",
    "svm_accuracy = cm_svm.diagonal().sum() / cm_svm.sum()\n",
    "\n",
    "fig, (ax1, ax2) = plt.subplots(1, 2, figsize=(15, 6))\n",
    "\n",
    "# Plot confusion matrix\n",
    "disp = ConfusionMatrixDisplay(confusion_matrix=cm_svm, display_labels=labels)\n",
    "disp.plot(cmap=\"Blues\", ax=ax1, colorbar=False)\n",
    "ax1.set_title(\"SVM Confusion Matrix\", fontweight=\"bold\")\n",
    "ax1.tick_params(axis=\"x\", rotation=45)\n",
    "\n",
    "# Classification metrics\n",
    "precision, recall, f1, support = precision_recall_fscore_support(\n",
    "    y_cls_test_str, svm_preds, labels=labels, zero_division=0\n",
    ")\n",
    "\n",
    "metrics_df = pd.DataFrame(\n",
    "    {\n",
    "        \"Class\": labels,\n",
    "        \"Precision\": precision,\n",
    "        \"Recall\": recall,\n",
    "        \"F1-Score\": f1,\n",
    "        \"Support\": support,\n",
    "    }\n",
    ")\n",
    "\n",
    "metrics_df.set_index(\"Class\")[[\"Precision\", \"Recall\", \"F1-Score\"]].plot(\n",
    "    kind=\"bar\", ax=ax2, colormap=\"viridis\"\n",
    ")\n",
    "ax2.set_title(\"SVM Performance by Class\", fontweight=\"bold\")\n",
    "ax2.set_ylabel(\"Score\")\n",
    "ax2.tick_params(axis=\"x\", rotation=45)\n",
    "ax2.legend(bbox_to_anchor=(1.05, 1), loc=\"upper left\")\n",
    "\n",
    "plt.tight_layout()\n",
    "plt.show()"
   ]
  },
  {
   "cell_type": "code",
   "execution_count": null,
   "id": "nk5hVLiHYFk_",
   "metadata": {
    "colab": {
     "base_uri": "https://localhost:8080/"
    },
    "id": "nk5hVLiHYFk_",
    "outputId": "dd70dc35-2afe-4d07-a81a-ae6fb1acaf95"
   },
   "outputs": [
    {
     "name": "stdout",
     "output_type": "stream",
     "text": [
      "\n",
      "=== SVM Classification Report ===\n",
      "               precision    recall  f1-score   support\n",
      "\n",
      "      culture       0.91      0.90      0.91       493\n",
      "      economy       0.91      0.90      0.91       647\n",
      "international       0.93      0.95      0.94       331\n",
      "        local       0.87      0.89      0.88       628\n",
      "     religion       0.94      0.88      0.91       132\n",
      "       sports       0.99      0.99      0.99       814\n",
      "\n",
      "     accuracy                           0.93      3045\n",
      "    macro avg       0.93      0.92      0.92      3045\n",
      " weighted avg       0.93      0.93      0.93      3045\n",
      "\n"
     ]
    }
   ],
   "source": [
    "print(\"\\n=== SVM Classification Report ===\")\n",
    "print(classification_report(y_cls_test_str, svm_preds, labels=labels))"
   ]
  },
  {
   "cell_type": "markdown",
   "id": "7Scf38T_DRkD",
   "metadata": {
    "id": "7Scf38T_DRkD"
   },
   "source": [
    "#### Task 2"
   ]
  },
  {
   "cell_type": "code",
   "execution_count": null,
   "id": "6gRDbjti-QBH",
   "metadata": {
    "colab": {
     "base_uri": "https://localhost:8080/"
    },
    "id": "6gRDbjti-QBH",
    "outputId": "433c85ac-4763-46db-dd48-5c898f4390cd"
   },
   "outputs": [
    {
     "name": "stdout",
     "output_type": "stream",
     "text": [
      "Evaluating TF-IDF Summarization:\n",
      "========================================\n",
      "Calculating ROUGE scores...\n"
     ]
    },
    {
     "name": "stderr",
     "output_type": "stream",
     "text": [
      "ROUGE evaluation: 100%|██████████| 5839/5839 [00:05<00:00, 1150.58it/s]\n"
     ]
    },
    {
     "name": "stdout",
     "output_type": "stream",
     "text": [
      "\n",
      "TF-IDF Summarization Results:\n",
      "ROUGE1: 0.1327\n",
      "ROUGE2: 0.0301\n",
      "ROUGEL: 0.0957\n",
      "\n",
      "Calculating BLEU scores...\n",
      "BLEU-1: 0.0776\n",
      "BLEU-2: 0.0340\n",
      "BLEU-3: 0.0176\n",
      "BLEU-4: 0.0090\n",
      "\n",
      "✓ Traditional methods evaluation complete!\n"
     ]
    }
   ],
   "source": [
    "print(\"Evaluating TF-IDF Summarization:\")\n",
    "print(\"=\" * 40)\n",
    "\n",
    "# Calculate ROUGE scores\n",
    "scorer = rouge_scorer.RougeScorer([\"rouge1\", \"rouge2\", \"rougeL\"], use_stemmer=False)\n",
    "\n",
    "rouge_scores = {\"rouge1\": [], \"rouge2\": [], \"rougeL\": []}\n",
    "\n",
    "print(\"Calculating ROUGE scores...\")\n",
    "for reference, generated in tqdm(\n",
    "    zip(y_sum_test, tfidf_summaries), total=len(y_sum_test), desc=\"ROUGE evaluation\"\n",
    "):\n",
    "    reference = str(reference)\n",
    "    generated = str(generated)\n",
    "\n",
    "    if reference and generated:\n",
    "        scores = scorer.score(reference, generated)\n",
    "        for metric in rouge_scores:\n",
    "            rouge_scores[metric].append(scores[metric].fmeasure)\n",
    "\n",
    "# Calculate and display results\n",
    "rouge_results = {}\n",
    "for metric in rouge_scores:\n",
    "    rouge_results[metric] = np.mean(rouge_scores[metric])\n",
    "\n",
    "print(\"\\nTF-IDF Summarization Results:\")\n",
    "for metric, score in rouge_results.items():\n",
    "    print(f\"{metric.upper()}: {score:.4f}\")\n",
    "\n",
    "# BLEU Score calculation\n",
    "print(\"\\nCalculating BLEU scores...\")\n",
    "smooth = SmoothingFunction().method1\n",
    "refs = [[ref.split()] for ref in y_sum_test]\n",
    "cands = [cand.split() for cand in tfidf_summaries]\n",
    "\n",
    "bleu_scores = {\n",
    "    \"BLEU-1\": corpus_bleu(refs, cands, weights=(1, 0, 0, 0), smoothing_function=smooth),\n",
    "    \"BLEU-2\": corpus_bleu(\n",
    "        refs, cands, weights=(0.5, 0.5, 0, 0), smoothing_function=smooth\n",
    "    ),\n",
    "    \"BLEU-3\": corpus_bleu(\n",
    "        refs, cands, weights=(0.33, 0.33, 0.33, 0), smoothing_function=smooth\n",
    "    ),\n",
    "    \"BLEU-4\": corpus_bleu(\n",
    "        refs, cands, weights=(0.25, 0.25, 0.25, 0.25), smoothing_function=smooth\n",
    "    ),\n",
    "}\n",
    "\n",
    "for metric, score in bleu_scores.items():\n",
    "    print(f\"{metric}: {score:.4f}\")\n",
    "\n",
    "traditional_results = {\n",
    "    \"SVM_Accuracy\": classification_report(\n",
    "        label_encoder.inverse_transform(y_cls_test_raw), svm_preds, output_dict=True\n",
    "    )[\"accuracy\"],\n",
    "    \"TF-IDF_ROUGE1\": rouge_results[\"rouge1\"],\n",
    "    \"TF-IDF_BLEU1\": bleu_scores[\"BLEU-1\"],\n",
    "}\n",
    "\n",
    "print(\"\\n✓ Traditional methods evaluation complete!\")"
   ]
  },
  {
   "cell_type": "code",
   "execution_count": null,
   "id": "PrTvdwn7Ipvu",
   "metadata": {
    "colab": {
     "base_uri": "https://localhost:8080/",
     "height": 1000
    },
    "id": "PrTvdwn7Ipvu",
    "outputId": "cf939dbf-9790-4ddf-de3d-d074805e454f"
   },
   "outputs": [
    {
     "name": "stdout",
     "output_type": "stream",
     "text": [
      "Sample Traditional Summarization Results:\n",
      "==================================================\n",
      "\n",
      "--- Sample 1 ---\n",
      "\n",
      "Original Text:\n",
      "=============\n"
     ]
    },
    {
     "data": {
      "text/markdown": [
       "ما بين تجهيز نفسك، أو العناية بالحيوانات الأليفة والأطفال أو القيام بالمهام المنزلية السابقة للعمل، أنت منشغل بمهام كثيرة في الصباح. قلل الحمل عن طريق تحضير الفطور والغذاء الليلة السابقة. عندما يكون كل ما تحتاجه هو أن تأخذ الوجبة وتذهب، أنت تقلل من فرص أن تتجاهل الفطور لأنك في عجلة من أمرك وستتجنب شراء الأطعمة السريعة الغير صحية للغذاء. أبق مستويات طاقاتك عالية. الطاقة التي حصلت عليها من تناول العشاء الليلة السابقة تنفذ مع الصباح. تناول فطور يحتوي على نسبة عالية من الألياف يوازن مستوى سكر الدم لديك، مما يساعدك على الشعور بالطاقة والمزيد من التركيز. تحتاج إلى طاقة لأقصى كم من التحفيز في الصباح وطوال اليوم. تجنب الكربوهيدرات المكررة مثل الكعك لأنها ترفع سكر الدم بشكل مفاجئ ثم يهبط فجأة. ابق فطورك بسيطا ومغذيا. اسلق البيض وضعه في الثلاجة ليكون متاحا في الصباحات المشغولة. استمتع ببيض مسلوق مع مافن انجليزي وثمرة موز لفطور متوازن. كخيار آخر يمكنك طهي الشوفان في الطاهي البطيء ليلا. استمتع بشوفان ساخن وفواكه في الصباح واحتفظ بالباقي في الثلاجة لفطور سريع باقي الأسبوع. جهز غداء متوازن. استخدم وعاء واسع الفم لصنع سلطة عالية البروتين. ضع تتبيلة السلطة في قاع الوعاء. بعد ذلك، رتب الخضروات في طبقات كالخيار، الطماطم الكرز، الجزر، والحمص. أضف بروتين خالي من الدهون كالدجاج المشوي. أخيرا أضف الخضروات الورقية على السطح، اغلق الوعاء وضعه في الثلاجة. ستبقى السلطة طازجة طوال الليل بما أن الخضروات مفصولة عن التتبيلة. عندما تكون مستعدا لتناول الغداء، قم فقط برج الوعاء لتوزيع التتبيلة ثم اسكبها في طبق. يستخدم جسمك طعام العشاء كوقود أثناء النوم. ستستيقظ بطاقة وحماس أكبر عندما تقوم شحن جسمك بالأطعمة الصحيحة في الليلة السابقة. تناول البروتينات خالية الدهون مثل الدجاج المشوي، السمك أو الفول. أضف الخضروات والكربوهيدرات المعقدة مثل الأرز البني أو الكينوا. يستخدم جسمك الكثير من الطاقة لهضم الطعام. تناول وجبة دسمة قرب وقت النوم يصعب من عملية النوم. تناول الطعام قبل النوم بساعتين أو ثلاث ساعات. هذا يعطي جسمك وقتا لإنهاء الهضم قبل أن تنام. تجنب الأطعمة السكرية أو الدسمة لأنها تؤدي إلى رفع معدل سكر الدم فجأة أو حرقة المعدة. كلا الأمران يصعب من النوم. التابلت، والتليفون الذكي، والحاسوب، والتلفاز كلها أشياء تحفز العقل. أنت في مزاج تفكير بدلا من مزاج استرخاء. العقل المحفز يصعب النوم. عندما يتشتت نومك، سيصعب عليك البقاء أن تصبح محفزا في الصباح. اغلق كل الأجهزة الالكترونية قبل النوم بساعة على الأقل. الإضاءة الاصطناعية التي تأتي من الأجهزة الالكترونية تصيب الساعة البيولوجية بالاضطراب. كذلك تكبح هرمون النوم الميلاتونين، الذي يجعلك تبقى مستيقظا لفترة أطول. النوم المشوش يعني أنك تشعر بالكسل والانزعاج في الصباح. الكافيين يبقيك منتبها لعدة ساعات. ستحتاج إلى وقت أطول للنوم وستعاني من النوم المتقطع عندما تستهلك الكافيين ليلا. ستستيقظ شاعرا بالترنح بدلا من النشاط. تجنب المشروبات التي تحتوي على كافيين كالقهوة، الشاي، أو الصودا لمدة أربع ساعات على الأقل قبل موعد النوم. اشرب مشروبات لا تحتوي على كافيين كبديل مثل الشاي اخالي من الكافيين أو الحليب الدافئ. لهذا تأثير مهدئ. سيكون النوم والبقاء نائما أسهل عليك. شرب كأس أخير قبل النوم لا يبعث على الاسترخاء كما تظن. الكحول هو مسبب للاكتئاب لذا يجعلك تشعر بالنعاس أولا. عندما يختفي مفعول الكحول، له تأثير محفز. ستستيقظ وتشعر بصعوبة النوم مجددا. الكحول يسبب اضطرابا في دورات نومك أيضا، لذا لن تحصل على نوع النوم الذي تحتاجه للشعور بالراحة. قلل الكحول إلى كأس أو اثنين يوميا. اشرب اخر مشروب قبل النوم بساعتين على الأقل. روتين النوم ليس فقط للأطفال. درب عقلك وجسمك على النوم والبقاء نائما. الراحة جيدا أساسية لبدء صباحك شاعرا بالطاقة والتركيز. اقرأ كتابا أو مجلة قديمة. ستتعب عقلك وتنام بسهولة بشكل أسهل عندما تقرأ. تجنب القراءة من جهاز إلكتروني لأن ضوء الجهاز يمكن أن يبقيك مستيقظا. بالإضافة إلى ذلك، ستشعر بالرغبة في التحقق من رسائلك أو تطبيقاتك. أرخ عضلاتك. أخذ حمام دافئ أو القيام بتمديد العضلات اللطيف هي بعض الطرق التي يمكن أن تساعدك على تخفيف الضغط من جسمك. عضلاتك مشدودة بسبب يومك المشغول. الحمام أو تمديد عضلاتك يساعدك على الراحة والاستغراق في النوم. اهدف إلى سبع إلى تسع ساعات من النوم كل ليلة. هذه الكمية ستسمح لك أن تمر بكل دورات النوم. هناك أربع مراحل من النوم تتكرر حوالي كل  دقيقة. إذا كنت تنام أقل من سبع ساعات، لا يمكنك المرور خلال كل المراحل. اعلم أن النوم مهم لصحتك العامة. الحرمان من النوم يؤدي إلى فقدان الذاكرة، وقلة التركيز والإعياء. النوم جيدا بشكل منتظم يحفز نظامك المناعي ويساعدك على التحكم في وزنك. الراحة ليلا تحسن طاقتك، تحفيزك وصحتك العامة."
      ],
      "text/plain": [
       "<IPython.core.display.Markdown object>"
      ]
     },
     "metadata": {},
     "output_type": "display_data"
    },
    {
     "name": "stdout",
     "output_type": "stream",
     "text": [
      "\n",
      "[Full length: 4,110 characters]\n",
      "\n",
      "\n",
      "Reference Summary:\n",
      "=================\n"
     ]
    },
    {
     "data": {
      "text/markdown": [
       "حضر فطورك وغذائك الليلة السابقة. تناول عشاءا صحيا. اغلق الأجهزة الكهربائية قبل النوم. تجنب الكافيين قبل النوم. تجنب الكحول قبل النوم. رتب روتينا للنوم."
      ],
      "text/plain": [
       "<IPython.core.display.Markdown object>"
      ]
     },
     "metadata": {},
     "output_type": "display_data"
    },
    {
     "name": "stdout",
     "output_type": "stream",
     "text": [
      "\n",
      "[Full length: 151 characters]\n",
      "\n",
      "\n",
      "TF-IDF Generated Summary:\n",
      "========================\n"
     ]
    },
    {
     "data": {
      "text/markdown": [
       "عندما يكون كل ما تحتاجه هو أن تأخذ الوجبة وتذهب، أنت تقلل من فرص أن تتجاهل الفطور لأنك في عجلة من أمرك وستتجنب شراء الأطعمة السريعة الغير صحية للغذاء. تناول فطور يحتوي على نسبة عالية من الألياف يوازن مستوى سكر الدم لديك، مما يساعدك على الشعور بالطاقة والمزيد من التركيز. أخذ حمام دافئ أو القيام بتمديد العضلات اللطيف هي بعض الطرق التي يمكن أن تساعدك على تخفيف الضغط من جسمك."
      ],
      "text/plain": [
       "<IPython.core.display.Markdown object>"
      ]
     },
     "metadata": {},
     "output_type": "display_data"
    },
    {
     "name": "stdout",
     "output_type": "stream",
     "text": [
      "\n",
      "[Full length: 374 characters]\n",
      "\n",
      "--------------------------------------------------\n",
      "\n",
      "--- Sample 2 ---\n",
      "\n",
      "Original Text:\n",
      "=============\n"
     ]
    },
    {
     "data": {
      "text/markdown": [
       "تتخطى العديد من الماسحات وتصدر صريرا بسبب أن الزجاج الأمامي غير رطب بشكل كاف، لذلك تحقق من مستوى سائل الماسحة واملأه عند الحاجة؛ بهذه الطريقة ستكون البخاخات مستعدة للعمل إذا حدث الصرير. ماسحات الزجاج الأمامي مصممة لاتباع حركة ذراع الماسحة، لذلك إذا كانت الشفرات متصلبة ولا تتحرك خلف الذراع ذهابا وإيابا، لف الذراع بيدك لترخية صلابتها. لن تتمكن الشفرات المثبتة بإحكام شديد من التحرك ذهابا وإيابا لتتبع ذراع الماسحة بسلاسة مما يسبب احتكاكها وإحداث الصرير. ينبغي ألا تبدو شفرات الماسحة وكأنها تحفر خلال الزجاج الأمامي أو تظل عمودية أثناء المسح عليه. تسبب شفرات الماسحة الخشنة صوت حكة وصرير وقد تكون بعض شفرات الماسحة الجديدة خشنة منذ البداية، بينما قد تصبح أخرى خشنة نتيجة التعرض للعناصر المختلفة. ينبغي تغيير الشفرات التي قد مر عليها عاما كما يمكن تليين الشفرات الجديدة بواسطة ما يلي: منتج تنظيف السيارات (أرمور أول). ضع كمية وفيرة على منشفة ورقية واستخدم حركات دائرية مع تمرير المنتج على مطاط شفرة الماسحة لتنعيمها. الكحول المحمر. بلل منشفة ورقية بالكحول المحمر ولمع مطاط الشفرة برفق. منتج wd-. استخدم ذلك المنتج بحرص إذ قد يسبب الكثير منه تجفيف المطاط. رش القليل من المنتج على منشفة ورقية ومررها برفق على مطاط الشفرة ثم جففه. افحص لترى إذا كانت الشفرات أو أجزاء الماسحة الموجودة أدناها مرتخية جدا أو مربوطة جدا؛ قد يسبب الاحتكاك القليل أو الكثير جدا بين الزجاج والماسحة إصدار صوت الاحتكاك والصرير. يمكن ربط البراغي بإحكام في العموم باستخدام مفتاح البراغي عن طريق لفه باتجاه عقارب الساعة وترخيتها عن طريق لفه باتجاه معاكس لحركة عقارب الساعة. قد تحتاج إلى اختبار مستوى الربط لتجد ما يعمل أفضل؛ من الأمثل أن تكون الشفرات مثبتة في موضعها جيدا لكن ينبغي أن تزال مرتخية بشكل كاف لتتمكن من المسح ذهابا وإيابا على زجاج السيارة. قد تسبب بعض الدهانات الواقية للسطح، مثل الطلاء الواقي من المطر أو بعض أنواع الشمع الاحتكاك والصرير. أزل المنتج وقلل من صوت الماسحة المزعج عن طريق استخدام ملمع السيارة العادي. قد يسبب الطلاء المتروك بواسطة بعض منتجات سطح السيارات زيادة الاحتكاك بين شفرات الماسحة والزجاج الأمامي للسيارة محدثا الأصوات المزعجة، مثل الصرير."
      ],
      "text/plain": [
       "<IPython.core.display.Markdown object>"
      ]
     },
     "metadata": {},
     "output_type": "display_data"
    },
    {
     "name": "stdout",
     "output_type": "stream",
     "text": [
      "\n",
      "[Full length: 1,940 characters]\n",
      "\n",
      "\n",
      "Reference Summary:\n",
      "=================\n"
     ]
    },
    {
     "data": {
      "text/markdown": [
       "أعد ملء سائل ماسحة الزجاج الأمامي. اضبط موضع شفرات الماسحات حسب الحاجة. لين ماسحات الزجاج الأمامي. اضبط إحكام البراغي. أزل الأغلفة المسببة لزيادة الاحتكاك."
      ],
      "text/plain": [
       "<IPython.core.display.Markdown object>"
      ]
     },
     "metadata": {},
     "output_type": "display_data"
    },
    {
     "name": "stdout",
     "output_type": "stream",
     "text": [
      "\n",
      "[Full length: 155 characters]\n",
      "\n",
      "\n",
      "TF-IDF Generated Summary:\n",
      "========================\n"
     ]
    },
    {
     "data": {
      "text/markdown": [
       "تتخطى العديد من الماسحات وتصدر صريرا بسبب أن الزجاج الأمامي غير رطب بشكل كاف، لذلك تحقق من مستوى سائل الماسحة واملأه عند الحاجة؛ بهذه الطريقة ستكون البخاخات مستعدة للعمل إذا حدث الصرير. ينبغي تغيير الشفرات التي قد مر عليها عاما كما يمكن تليين الشفرات الجديدة بواسطة ما يلي: منتج تنظيف السيارات (أرمور أول). قد تحتاج إلى اختبار مستوى الربط لتجد ما يعمل أفضل؛ من الأمثل أن تكون الشفرات مثبتة في موضعها جيدا لكن ينبغي أن تزال مرتخية بشكل كاف لتتمكن من المسح ذهابا وإيابا على زجاج السيارة."
      ],
      "text/plain": [
       "<IPython.core.display.Markdown object>"
      ]
     },
     "metadata": {},
     "output_type": "display_data"
    },
    {
     "name": "stdout",
     "output_type": "stream",
     "text": [
      "\n",
      "[Full length: 485 characters]\n",
      "\n",
      "--------------------------------------------------\n",
      "\n",
      "--- Sample 3 ---\n",
      "\n",
      "Original Text:\n",
      "=============\n"
     ]
    },
    {
     "data": {
      "text/markdown": [
       "تحتاج بالضرورة إلى نسخة مسجلة من أغنياتك، حتى ولو بشكل تجريبي، لتقدر على لفت انتباه شركات الإنتاج والتوزيع، كما أن المعجبين سيحبون سماع أغنيتك بنسخة الأستديو بدلا من التسجيل متوسط المستوى من الحفلات أو التسجيلات العادية، لذا انشر لهم نسخة من تسجيلاتك في الأستديو لأغنياتك المشهورة، وكذلك القليل من الأغنيات الجديدة التي لم يسبق لهم سماعها من قبل. تختلف تكلفة الساعة في أستديوهات التسجيل من أستديو لآخر ومن مدينة لأخرى. اسأل عن الأسعار في مدينتك، مع ملاحظة أنه توجد تكلفة من أجل عملية التسجيل الأساسية، وتكلفة إضافية مكلفة أكثر من أجل عمليات المكساج والتحسين (ماسترينغ). قد تكون التكلفة المالية باهظة ولا تقدر على تحملها، لذا من الأفضل أن تجعل تسجيلاتك التجريبية مقتصرة على واحدة أو اثنين من أفضل أغانيك، جاعلا كل تركيزك منصبا على تسجيل الأغنيتين بكفاءة وبأعلى جودة ممكنة، وفي أقل وقت ممكن (من أجل تقليل النفقات التي تدفعها للأستديو نظير كل ساعة تأجير). لكل مهندس أو منتج صوتي أسلوبه المختلف في تنظيم جلسات التسجيل، لكن يفضل أن تحرص بدورك على إتمام مهمتك (تسجيل الأغنية) في الأستديو بفاعلية وسرعة قدر الإمكان. طالما أنك تعلم طبيعة الأغنية عن ظهر قلب، وتعرف ما ترغب في تقديمه بها من كلمات وألحان وتوزيع، فعلى الأغلب لن تحتاج للتجريب أو التسجيل أكثر من مرة من أجل الوصول لأفضل نتيجة. أجر عملية دراسة مسبقة للتعرف على طريقة تسجيل الأغنيات والمعدات المتاحة للاستخدام في الأستديوهات قبل الحجز. على سبيل المثال، يجب أن تتفق مع فرقتك الموسيقية حول ما إذا كان الأفضل لهم هو التسجيل سويا في نفس الوقت أم التسجيل لكل منهم بشكل منفرد، وكذلك مختلف خيارات التسجيل التي ترغب في أن يلتزم مهندس الصوت بتطبيقها. لا تقم أبدا بالتسجيل بواسطة معدات غير مألوفة بالنسبة لك. من المغري للغاية الخضوع لرغبة حجز معدات وآلات موسيقية فاخرة وغالية الثمن، طمعا في استخدامها ولو لمرة واحدة وظنا أنها كافية بحد ذاتها لتسجيل أغنية خيالية، لكن التعامل مع معدات مجهولة سوف يستهلك وقتك في الأستديو دون الحصول على أي نتائج مجدية. لن تستفيد كثيرا من أن تدرج في أغانيك مؤثرات صوتية رائعة، لها دور مؤثر وأساسي في شكل الأغنية، لكنك لن تقدر على إعادة إنتاجها بنفسك في تسجيلات الأغنية وأثناء أداء الأغنية بشكل حي في الحفلات. لا تضيع تكلفة الأستديو على تسجيل أغنية لفرقة موسيقية أخرى أو أغنية ذات طابع مغاير مقارنة بأغلب أغانيك، بل احرص على تسجيل أفضل أغانيك والتي تعبر بوضوح عن نوعية ما تقدمه من كلمات وموسيقى وأداء غنائي. هذه النسخة التجريبية بمثابة ملف السيرة الذاتية الخاص بك كمغني أو فرقة موسيقية، لذا فكر بعناية من أجل اختيار الأغنية التي تمثلك وتعبر عن موسيقاك. ما هي الأغنية الأفضل من أغانيك الأصلية؟ ما هي الأغنية التي يحبها الجمهور أكثر؟ لن يكون وقت تسجيل أسطوانتك التجريبية الأولى مناسبا للاستغراق المتهمل في العمل على أغنية جديدة لم تعرف شكلا نهائيا مميزا لتأديتها بعد أو لمحاولة الارتجال على نغمة موسيقية جديدة، بل استغل الوقت في تسجيل الأغنيات المميزة التي تضمن أنها ستخرج بصورة جيدة وتنال إعجاب من يستمع إليها. يمكنك تسجيل أغنيات بجودة احترافية بنفسك ورفعها على الإنترنت في نفس اليوم، بشرط امتلاكك لجهاز كمبيوتر مناسب والقليل من الميكروفونات الجيدة رخيصة السعر. مع تطور التكنولوجيا المستخدمة وتوفر المعدات، أصبحت العديد من الفرق الموسيقية تلجأ إلى التسجيل الذاتي وعمل أستديوهات منزلية بسيطة من أجل تجنب التكلفة الباهظة للأستديوهات، لذا لا تتردد حيال استغلال أي فرصة ممكنة لتوفير النفقات، على أن توجه ميزانية الفرقة الموسيقية إلى الإنفاق على الجولات الغنائية أو شراء المزيد من المعدات الأفضل جودة. في حالة كنت تملك جهاز ماك حديث، فعلى الأغلب سيتوفر على برمجية التسجيل الصوتي \"جراج باند\" (garage band) ، أو يمكنك شراء البرنامج من متجر آبل للتطبيقات بسعر زهيد. يتوفر على أجهزة آبل كذلك إمكانية استخدام برنامج \"لوجيك برو إكس\" (logic pro x)، والذي يتيح لك المزيد من الخواص الاحترافية للاستخدام، ولكن ثمنه أغلى قليلا. تطبيق \"أوداسيتي\" (audacity) برمجية مجانية مفتوحة المصدر تعمل على أي جهاز كمبيوتر بنظام تشغيل ويندوز أو ماك أو جينو/ لينكس. ابحث عن مختلف خيارات التسجيل الممكنة المجانية أو الأقل سعرا المتوفرة لك في مشهد الصناعة الموسيقية المحلية، وتواصل مع أصدقائك وزملائك العاملين في مجال الفن من أجل تنسيق أي آلية ممكنة تضمن لكم تقليل النفقات والحصول على جودة تسجيل أفضل. تواصل مع غيرك من الفرق الموسيقية والمغنيين للتعرف على العروض الأفضل في سوق التسجيل الموسيقي. كثيرا ما يرحب الفنانون بتشارك هذا النوع من الموارد والمعلومات طالما أن عملية المصلحة المشتركة متحققة وكنت بدورك لا تتأخر عن تقديم المساعدة في حال كنت قادرا عليها. العصر الحالي هو العصر الذهبي للعاملين في المجالات الفنية، تحديدا فيما يتعلق بسهولة الوصول إلى الجمهور، وبتكلفة مالية أقل بكثير مقارنة بالماضي، فكل ما تحتاج إليه من أجل توسيع دائرة متابعيك هو رفع أغنياتك على يوتيوب أو ساوندكلاود، ومن ثم مشاركتها مع الجمهور عبر منصات التواصل الاجتماعي. لن تستغرق عملية إنشاء حساب في هذه الخدمات سوى دقائق معدودة، وبمجرد التواجد عليها أنت على بعد لحظات من الوصول لعدد لا نهائي من الجمهور في كل بقاع العالم. يمكنك كذلك التقدم بطلب إلى موقع آيتونز (itunes) لاستضافة أغنياتك، ولكن الأغنيات سوف تخضع للتقييم قبل إتخاذ قرار نهائي بشأنها. يلجأ البعض للاعتماد على وسيط \"موزع موسيقي\" (aggregator) وهي خدمة تساعدك على النشر على موقع آيتونز مقابل رسوم مالية. لا يتعامل موقع \"سبوتيفاي\" (spotify) مباشرة مع الفنانين أو الفرق الموسيقية، لذا اطلب من شركة إنتاجك أو الموزع الموسيقي أو الوسيط أن يتواصل معهم نيابة عنك طلبا لاستضافة أغانيك. لا تنشغل في وقت مبكر عن اللازم بمسألة تحقيق الأرباح من وراء عملك الفني، بل اجعل كل تركيزك منصبا على رفع جودة الأغاني وزيادة شهرتك واكتساب جماهيرية أوسع وأوسع. حديثا، تغير المشهد الموسيقي في العالم أجمع (الحكم على النجاح في عالم الفن) من الارتكاز حول مبيعات الألبوم الواحد، إلى الاهتمام في المقام الأول بمدى الشهرة الإلكترونية على موقع الإنترنت، سواء من خلال المتابعين على منصات فيسبوك وتويتر، أو عدد مشاهدات والاستماع إلى أغنيتك على يوتيوب وساوندكلاود وآيتونز. لذا كلما كان حضورك الإلكتروني طاغيا أكثر، كلما بادرت شركات التوزيع والإنتاج الموسيقي بالركض وراءك من أجل الحصول على توقيعك وإنتاج أعمالك."
      ],
      "text/plain": [
       "<IPython.core.display.Markdown object>"
      ]
     },
     "metadata": {},
     "output_type": "display_data"
    },
    {
     "name": "stdout",
     "output_type": "stream",
     "text": [
      "\n",
      "[Full length: 5,548 characters]\n",
      "\n",
      "\n",
      "Reference Summary:\n",
      "=================\n"
     ]
    },
    {
     "data": {
      "text/markdown": [
       "ابحث عن استديو تسجيلات مناسب واسأل عن ثمن الحجز. خطط لكيفية استغلال وقتك في الأستديو بأفضل طريقة ممكنة. استفد من تسجيل أفضل أغنياتك الأصلية. جرب التسجيل الصوتي بنفسك. انشر أغانيك عبر منصات التواصل الاجتماعي الإلكترونية."
      ],
      "text/plain": [
       "<IPython.core.display.Markdown object>"
      ]
     },
     "metadata": {},
     "output_type": "display_data"
    },
    {
     "name": "stdout",
     "output_type": "stream",
     "text": [
      "\n",
      "[Full length: 219 characters]\n",
      "\n",
      "\n",
      "TF-IDF Generated Summary:\n",
      "========================\n"
     ]
    },
    {
     "data": {
      "text/markdown": [
       "قد تكون التكلفة المالية باهظة ولا تقدر على تحملها، لذا من الأفضل أن تجعل تسجيلاتك التجريبية مقتصرة على واحدة أو اثنين من أفضل أغانيك، جاعلا كل تركيزك منصبا على تسجيل الأغنيتين بكفاءة وبأعلى جودة ممكنة، وفي أقل وقت ممكن (من أجل تقليل النفقات التي تدفعها للأستديو نظير كل ساعة تأجير). مع تطور التكنولوجيا المستخدمة وتوفر المعدات، أصبحت العديد من الفرق الموسيقية تلجأ إلى التسجيل الذاتي وعمل أستديوهات منزلية بسيطة من أجل تجنب التكلفة الباهظة للأستديوهات، لذا لا تتردد حيال استغلال أي فرصة ممكنة لتوفير النفقات، على أن توجه ميزانية الفرقة الموسيقية إلى الإنفاق على الجولات الغنائية أو شراء المزيد من المعدات الأفضل جودة. ابحث عن مختلف خيارات التسجيل الممكنة المجانية أو الأقل سعرا المتوفرة لك في مشهد الصناعة الموسيقية المحلية، وتواصل مع أصدقائك وزملائك العاملين في مجال الفن من أجل تنسيق أي آلية ممكنة تضمن لكم تقليل النفقات والحصول على جودة تسجيل أفضل."
      ],
      "text/plain": [
       "<IPython.core.display.Markdown object>"
      ]
     },
     "metadata": {},
     "output_type": "display_data"
    },
    {
     "name": "stdout",
     "output_type": "stream",
     "text": [
      "\n",
      "[Full length: 851 characters]\n",
      "\n",
      "--------------------------------------------------\n"
     ]
    }
   ],
   "source": [
    "print(\"Sample Traditional Summarization Results:\")\n",
    "print(\"=\" * 50)\n",
    "\n",
    "for i in [0, 1, 2]:\n",
    "    print(f\"\\n--- Sample {i + 1} ---\")\n",
    "    print_text_sample(X_sum_test[i], \"Original Text\")\n",
    "    print_text_sample(y_sum_test[i], \"Reference Summary\")\n",
    "    print_text_sample(tfidf_summaries[i], \"TF-IDF Generated Summary\")\n",
    "    print(\"-\" * 50)"
   ]
  },
  {
   "cell_type": "markdown",
   "id": "CNSHTyWkyeBA",
   "metadata": {
    "id": "CNSHTyWkyeBA"
   },
   "source": [
    "## 4. Phase 2: Modern Deep Learning and Transformer-Based Approaches\n",
    "\n",
    "In this phase, we implement modern deep learning and transformer-based methods for both text classification and summarization tasks. We compare their performance against the traditional approaches from Phase 1."
   ]
  },
  {
   "cell_type": "markdown",
   "id": "b9435fed",
   "metadata": {},
   "source": [
    "### Modern implementation of Task 1\n",
    "Two modern approaches for Arabic text classification:\n",
    "1. **LSTM Neural Network**: Deep learning approach with word embeddings\n",
    "2. **BERT Transformer**: Arabic BERT model"
   ]
  },
  {
   "cell_type": "markdown",
   "id": "e96c967d",
   "metadata": {},
   "source": [
    "#### LSTM Classification"
   ]
  },
  {
   "cell_type": "code",
   "execution_count": null,
   "id": "hTaBlje_yg31",
   "metadata": {
    "id": "hTaBlje_yg31"
   },
   "outputs": [],
   "source": [
    "class KalimatDataset(Dataset):\n",
    "    def __init__(self, texts, labels, tokenizer, max_length=512):\n",
    "        self.texts = texts\n",
    "        self.labels = labels\n",
    "        self.tokenizer = tokenizer\n",
    "        self.max_length = max_length\n",
    "\n",
    "    def __len__(self):\n",
    "        return len(self.texts)\n",
    "\n",
    "    def __getitem__(self, idx):\n",
    "        text = str(\n",
    "            self.texts.iloc[idx] if hasattr(self.texts, \"iloc\") else self.texts[idx]\n",
    "        )\n",
    "        label = self.labels[idx]\n",
    "\n",
    "        encoding = self.tokenizer(\n",
    "            text,\n",
    "            truncation=True,\n",
    "            padding=\"max_length\",\n",
    "            max_length=self.max_length,\n",
    "            return_tensors=\"pt\",\n",
    "        )\n",
    "\n",
    "        return {\n",
    "            \"input_ids\": encoding[\"input_ids\"].flatten(),\n",
    "            \"attention_mask\": encoding[\"attention_mask\"].flatten(),\n",
    "            \"label\": torch.tensor(label, dtype=torch.long),\n",
    "        }"
   ]
  },
  {
   "cell_type": "code",
   "execution_count": null,
   "id": "D4FIDF8Iyek-",
   "metadata": {
    "colab": {
     "base_uri": "https://localhost:8080/"
    },
    "id": "D4FIDF8Iyek-",
    "outputId": "74abf159-9588-40b8-9f1c-892d619a7a34"
   },
   "outputs": [
    {
     "name": "stdout",
     "output_type": "stream",
     "text": [
      "Preparing data for modern approaches...\n"
     ]
    }
   ],
   "source": [
    "print(\"Preparing data for modern approaches...\")\n",
    "\n",
    "y_train_encoded = y_cls_train_raw\n",
    "y_test_encoded = y_cls_test_raw\n",
    "\n",
    "X_train_preprocessed = X_cls_train_raw.tolist()\n",
    "X_test_preprocessed = X_cls_test_raw.tolist()"
   ]
  },
  {
   "cell_type": "code",
   "execution_count": null,
   "id": "BK74UGxqbgxq",
   "metadata": {
    "colab": {
     "base_uri": "https://localhost:8080/"
    },
    "id": "BK74UGxqbgxq",
    "outputId": "2e0c0d33-34b1-4af2-e936-f47b0f22faba"
   },
   "outputs": [
    {
     "name": "stdout",
     "output_type": "stream",
     "text": [
      "Preparing LSTM model components...\n",
      "Vocabulary size: 26,895, using top 10,000\n",
      "Sequence shape: (12176, 512)\n",
      "Average sequence length: 352.3\n",
      "Max sequence length: 512\n",
      "✓ LSTM tokenization complete!\n"
     ]
    }
   ],
   "source": [
    "print(\"Preparing LSTM model components...\")\n",
    "\n",
    "# Create tokenizer for LSTM\n",
    "lstm_tokenizer = Tokenizer(num_words=LSTM_MAX_WORDS, oov_token=\"<OOV>\")\n",
    "lstm_tokenizer.fit_on_texts(X_cls_train_preprocessed)\n",
    "\n",
    "word_index = lstm_tokenizer.word_index\n",
    "print(f\"Vocabulary size: {len(word_index):,}, using top {LSTM_MAX_WORDS:,}\")\n",
    "\n",
    "# Convert texts to sequences\n",
    "X_train_seq = lstm_tokenizer.texts_to_sequences(X_cls_train_preprocessed)\n",
    "X_test_seq = lstm_tokenizer.texts_to_sequences(X_cls_test_preprocessed)\n",
    "\n",
    "# Pad sequences\n",
    "X_train_pad = pad_sequences(X_train_seq, maxlen=CLASSIFICATION_MAX_LENGTH)\n",
    "X_test_pad = pad_sequences(X_test_seq, maxlen=CLASSIFICATION_MAX_LENGTH)\n",
    "\n",
    "print(f\"Sequence shape: {X_train_pad.shape}\")\n",
    "print(f\"Average sequence length: {np.mean([len(seq) for seq in X_train_seq]):.1f}\")\n",
    "print(f\"Max sequence length: {CLASSIFICATION_MAX_LENGTH}\")\n",
    "\n",
    "print(\"✓ LSTM tokenization complete!\")"
   ]
  },
  {
   "cell_type": "code",
   "execution_count": null,
   "id": "uEAzm8Vr7xxF",
   "metadata": {
    "colab": {
     "base_uri": "https://localhost:8080/"
    },
    "id": "uEAzm8Vr7xxF",
    "outputId": "6b5b5536-5714-407a-9bbb-5e25541dd6e0"
   },
   "outputs": [
    {
     "name": "stdout",
     "output_type": "stream",
     "text": [
      "✓ LSTM model class defined!\n"
     ]
    }
   ],
   "source": [
    "class LSTMClassifier(nn.Module):\n",
    "    def __init__(\n",
    "        self,\n",
    "        vocab_size,\n",
    "        embedding_dim,\n",
    "        hidden_dim,\n",
    "        output_dim,\n",
    "        n_layers,\n",
    "        bidirectional,\n",
    "        dropout,\n",
    "    ):\n",
    "        super(LSTMClassifier, self).__init__()\n",
    "\n",
    "        self.hidden_dim = hidden_dim\n",
    "        self.n_layers = n_layers\n",
    "        self.bidirectional = bidirectional\n",
    "\n",
    "        self.embedding = nn.Embedding(vocab_size, embedding_dim, padding_idx=0)\n",
    "        self.lstm = nn.LSTM(\n",
    "            embedding_dim,\n",
    "            hidden_dim,\n",
    "            num_layers=n_layers,\n",
    "            bidirectional=bidirectional,\n",
    "            dropout=dropout if n_layers > 1 else 0,\n",
    "            batch_first=True,\n",
    "        )\n",
    "\n",
    "        lstm_output_dim = hidden_dim * 2 if bidirectional else hidden_dim\n",
    "        self.dropout = nn.Dropout(dropout)\n",
    "        self.fc = nn.Linear(lstm_output_dim, output_dim)\n",
    "\n",
    "    def forward(self, text, text_lengths=None):\n",
    "        embedded = self.dropout(self.embedding(text))\n",
    "        lstm_out, (hidden, cell) = self.lstm(embedded)\n",
    "\n",
    "        if self.bidirectional:\n",
    "            hidden = self.dropout(torch.cat([hidden[-2], hidden[-1]], dim=1))\n",
    "        else:\n",
    "            hidden = self.dropout(hidden[-1])\n",
    "\n",
    "        output = self.fc(hidden)\n",
    "        return output\n",
    "\n",
    "\n",
    "print(\"✓ LSTM model class defined!\")"
   ]
  },
  {
   "cell_type": "code",
   "execution_count": null,
   "id": "SJDgzbwI9Ggx",
   "metadata": {
    "colab": {
     "base_uri": "https://localhost:8080/"
    },
    "id": "SJDgzbwI9Ggx",
    "outputId": "52fef262-4e02-45a4-93f5-83d1757de8fd"
   },
   "outputs": [
    {
     "name": "stdout",
     "output_type": "stream",
     "text": [
      "Initializing LSTM model...\n",
      "Model parameters: 1,632,326\n",
      "Vocab: 10,000, Classes: 6\n",
      "✓ LSTM model initialized!\n"
     ]
    }
   ],
   "source": [
    "print(\"Initializing LSTM model...\")\n",
    "\n",
    "X_train_tensor = torch.LongTensor(X_train_pad)\n",
    "X_test_tensor = torch.LongTensor(X_test_pad)\n",
    "y_train_tensor = torch.LongTensor(y_train_encoded)\n",
    "y_test_tensor = torch.LongTensor(y_test_encoded)\n",
    "\n",
    "train_dataset = torch.utils.data.TensorDataset(X_train_tensor, y_train_tensor)\n",
    "test_dataset = torch.utils.data.TensorDataset(X_test_tensor, y_test_tensor)\n",
    "\n",
    "train_loader = torch.utils.data.DataLoader(\n",
    "    train_dataset, batch_size=CLASSIFICATION_BATCH_SIZE, shuffle=True\n",
    ")\n",
    "test_loader = torch.utils.data.DataLoader(\n",
    "    test_dataset, batch_size=CLASSIFICATION_BATCH_SIZE, shuffle=False\n",
    ")\n",
    "\n",
    "# Model parameters\n",
    "INPUT_DIM = min(len(word_index) + 1, LSTM_MAX_WORDS)\n",
    "OUTPUT_DIM = len(label_encoder.classes_)\n",
    "\n",
    "# Initialize model\n",
    "lstm_model = LSTMClassifier(\n",
    "    INPUT_DIM,\n",
    "    LSTM_EMBEDDING_DIM,\n",
    "    LSTM_HIDDEN_DIM,\n",
    "    OUTPUT_DIM,\n",
    "    LSTM_N_LAYERS,\n",
    "    True,\n",
    "    LSTM_DROPOUT,\n",
    ").to(device)\n",
    "\n",
    "class_weights = compute_class_weight(\n",
    "    \"balanced\", classes=np.unique(y_train_encoded), y=y_train_encoded\n",
    ")\n",
    "class_weights = torch.FloatTensor(class_weights).to(device)\n",
    "criterion = nn.CrossEntropyLoss(weight=class_weights)\n",
    "\n",
    "optimizer = optim.Adam(\n",
    "    lstm_model.parameters(), lr=CLASSIFICATION_LEARNING_RATE, weight_decay=1e-4\n",
    ")\n",
    "\n",
    "print(\n",
    "    f\"Model parameters: {sum(p.numel() for p in lstm_model.parameters() if p.requires_grad):,}\"\n",
    ")\n",
    "print(f\"Vocab: {INPUT_DIM:,}, Classes: {OUTPUT_DIM}\")\n",
    "print(\"✓ LSTM model initialized!\")"
   ]
  },
  {
   "cell_type": "code",
   "execution_count": null,
   "id": "Kktozxrf9HXw",
   "metadata": {
    "id": "Kktozxrf9HXw"
   },
   "outputs": [],
   "source": [
    "def train_lstm_epoch(model, data_loader, optimizer, criterion):\n",
    "    model.train()\n",
    "    total_loss = 0\n",
    "    total_correct = 0\n",
    "    total_samples = 0\n",
    "\n",
    "    progress_bar = tqdm(data_loader, desc=\"Training\")\n",
    "\n",
    "    for batch in progress_bar:\n",
    "        text, labels = batch\n",
    "        text, labels = text.to(device), labels.to(device)\n",
    "\n",
    "        optimizer.zero_grad()\n",
    "        predictions = model(text)\n",
    "        loss = criterion(predictions, labels)\n",
    "        loss.backward()\n",
    "        torch.nn.utils.clip_grad_norm_(model.parameters(), 1.0)\n",
    "        optimizer.step()\n",
    "\n",
    "        pred_labels = predictions.argmax(dim=1)\n",
    "        correct = (pred_labels == labels).sum().item()\n",
    "\n",
    "        total_loss += loss.item()\n",
    "        total_correct += correct\n",
    "        total_samples += len(labels)\n",
    "\n",
    "        current_acc = correct / len(labels)\n",
    "        progress_bar.set_postfix(\n",
    "            {\"Loss\": f\"{loss.item():.3f}\", \"Acc\": f\"{current_acc:.3f}\"}\n",
    "        )\n",
    "\n",
    "    epoch_loss = total_loss / len(data_loader)\n",
    "    epoch_acc = total_correct / total_samples\n",
    "    return epoch_loss, epoch_acc\n",
    "\n",
    "\n",
    "def evaluate_lstm_epoch(model, data_loader, criterion):\n",
    "    model.eval()\n",
    "    total_loss = 0\n",
    "    total_correct = 0\n",
    "    total_samples = 0\n",
    "    all_preds = []\n",
    "    all_labels = []\n",
    "\n",
    "    with torch.no_grad():\n",
    "        for batch in tqdm(data_loader, desc=\"Evaluating\"):\n",
    "            text, labels = batch\n",
    "            text, labels = text.to(device), labels.to(device)\n",
    "\n",
    "            predictions = model(text)\n",
    "            loss = criterion(predictions, labels)\n",
    "\n",
    "            pred_labels = predictions.argmax(dim=1)\n",
    "            correct = (pred_labels == labels).sum().item()\n",
    "\n",
    "            total_loss += loss.item()\n",
    "            total_correct += correct\n",
    "            total_samples += len(labels)\n",
    "\n",
    "            all_preds.extend(pred_labels.cpu().numpy())\n",
    "            all_labels.extend(labels.cpu().numpy())\n",
    "\n",
    "    epoch_loss = total_loss / len(data_loader)\n",
    "    epoch_acc = total_correct / total_samples\n",
    "\n",
    "    return epoch_loss, epoch_acc, all_preds, all_labels"
   ]
  },
  {
   "cell_type": "code",
   "execution_count": null,
   "id": "xUd948o79Pfc",
   "metadata": {
    "colab": {
     "base_uri": "https://localhost:8080/"
    },
    "collapsed": true,
    "id": "xUd948o79Pfc",
    "outputId": "ddc0b627-5622-4c2d-8c2e-bc7bc1f9497b"
   },
   "outputs": [
    {
     "name": "stdout",
     "output_type": "stream",
     "text": [
      "Loading existing LSTM model...\n"
     ]
    },
    {
     "name": "stderr",
     "output_type": "stream",
     "text": [
      "Evaluating: 100%|██████████| 96/96 [00:00<00:00, 135.95it/s]"
     ]
    },
    {
     "name": "stdout",
     "output_type": "stream",
     "text": [
      "Loaded model accuracy: 0.8837\n",
      "LSTM training complete\n"
     ]
    },
    {
     "name": "stderr",
     "output_type": "stream",
     "text": [
      "\n"
     ]
    }
   ],
   "source": [
    "lstm_model_path = os.path.join(MODEL_SAVE_DIR, \"modern_lstm_classifier.pth\")\n",
    "\n",
    "if os.path.exists(lstm_model_path):\n",
    "    print(\"Loading existing LSTM model...\")\n",
    "    metadata = load_model(lstm_model, lstm_model_path)\n",
    "\n",
    "    _, lstm_accuracy, lstm_preds, lstm_true = evaluate_lstm_epoch(\n",
    "        lstm_model, test_loader, criterion\n",
    "    )\n",
    "    print(f\"Loaded model accuracy: {lstm_accuracy:.4f}\")\n",
    "else:\n",
    "    print(f\"Training LSTM model for {CLASSIFICATION_EPOCHS} epochs...\")\n",
    "\n",
    "    train_losses, train_accs = [], []\n",
    "    val_losses, val_accs = [], []\n",
    "    best_val_acc = 0\n",
    "    patience = 5\n",
    "    patience_counter = 0\n",
    "\n",
    "    for epoch in tqdm(range(CLASSIFICATION_EPOCHS), desc=\"Training epochs\"):\n",
    "        print(f\"\\nEpoch {epoch + 1}/{CLASSIFICATION_EPOCHS}\")\n",
    "\n",
    "        train_loss, train_acc = train_lstm_epoch(\n",
    "            lstm_model, train_loader, optimizer, criterion\n",
    "        )\n",
    "        val_loss, val_acc, _, _ = evaluate_lstm_epoch(\n",
    "            lstm_model, test_loader, criterion\n",
    "        )\n",
    "\n",
    "        train_losses.append(train_loss)\n",
    "        train_accs.append(train_acc)\n",
    "        val_losses.append(val_loss)\n",
    "        val_accs.append(val_acc)\n",
    "\n",
    "        print(f\"Train Loss: {train_loss:.3f}, Train Acc: {train_acc * 100:.2f}%\")\n",
    "        print(f\"Val Loss: {val_loss:.3f}, Val Acc: {val_acc * 100:.2f}%\")\n",
    "\n",
    "        if val_acc > best_val_acc:\n",
    "            best_val_acc = val_acc\n",
    "            patience_counter = 0\n",
    "\n",
    "            metadata = {\n",
    "                \"epoch\": epoch + 1,\n",
    "                \"train_acc\": train_acc,\n",
    "                \"val_acc\": val_acc,\n",
    "                \"best_val_acc\": best_val_acc,\n",
    "            }\n",
    "            save_model(lstm_model, lstm_model_path, metadata)\n",
    "        else:\n",
    "            patience_counter += 1\n",
    "\n",
    "        if patience_counter >= patience:\n",
    "            print(f\"Early stopping at epoch {epoch + 1}\")\n",
    "            break\n",
    "\n",
    "    load_model(lstm_model, lstm_model_path)\n",
    "    _, lstm_accuracy, lstm_preds, lstm_true = evaluate_lstm_epoch(\n",
    "        lstm_model, test_loader, criterion\n",
    "    )\n",
    "\n",
    "    print(f\"Best validation accuracy: {best_val_acc:.4f}\")\n",
    "    print(f\"Final test accuracy: {lstm_accuracy:.4f}\")\n",
    "\n",
    "print(\"LSTM training complete\")"
   ]
  },
  {
   "cell_type": "code",
   "execution_count": null,
   "id": "WIbfR61uRWW_",
   "metadata": {
    "colab": {
     "base_uri": "https://localhost:8080/"
    },
    "id": "WIbfR61uRWW_",
    "outputId": "e205e564-6eb9-49f3-b164-dcac03341252"
   },
   "outputs": [
    {
     "name": "stdout",
     "output_type": "stream",
     "text": [
      "              precision    recall  f1-score   support\n",
      "\n",
      "           0       0.87      0.88      0.87       493\n",
      "           1       0.82      0.90      0.86       647\n",
      "           2       0.90      0.94      0.92       331\n",
      "           3       0.85      0.73      0.79       628\n",
      "           4       0.85      0.82      0.83       132\n",
      "           5       0.97      0.98      0.98       814\n",
      "\n",
      "    accuracy                           0.88      3045\n",
      "   macro avg       0.88      0.87      0.87      3045\n",
      "weighted avg       0.88      0.88      0.88      3045\n",
      "\n"
     ]
    }
   ],
   "source": [
    "print(classification_report(lstm_true, lstm_preds))"
   ]
  },
  {
   "cell_type": "markdown",
   "id": "RCRVfr7Mipk2",
   "metadata": {
    "id": "RCRVfr7Mipk2"
   },
   "source": [
    "#### BERT Classification"
   ]
  },
  {
   "cell_type": "code",
   "execution_count": null,
   "id": "dZy_TEi8br9W",
   "metadata": {
    "colab": {
     "base_uri": "https://localhost:8080/"
    },
    "id": "dZy_TEi8br9W",
    "outputId": "5126b338-808d-45f9-b813-28d5cec12016"
   },
   "outputs": [
    {
     "name": "stderr",
     "output_type": "stream",
     "text": [
      "Some weights of BertForSequenceClassification were not initialized from the model checkpoint at aubmindlab/bert-base-arabertv02 and are newly initialized: ['classifier.bias', 'classifier.weight']\n",
      "You should probably TRAIN this model on a down-stream task to be able to use it for predictions and inference.\n"
     ]
    },
    {
     "name": "stdout",
     "output_type": "stream",
     "text": [
      "BERT model loaded with 6 classes\n",
      "Parameters: 135,197,958\n"
     ]
    }
   ],
   "source": [
    "bert_tokenizer = AutoTokenizer.from_pretrained(BERT_MODEL_NAME)\n",
    "bert_model = AutoModelForSequenceClassification.from_pretrained(\n",
    "    BERT_MODEL_NAME, num_labels=len(label_encoder.classes_)\n",
    ").to(device)\n",
    "\n",
    "print(f\"BERT model loaded with {len(label_encoder.classes_)} classes\")\n",
    "print(\n",
    "    f\"Parameters: {sum(p.numel() for p in bert_model.parameters() if p.requires_grad):,}\"\n",
    ")"
   ]
  },
  {
   "cell_type": "code",
   "execution_count": null,
   "id": "K0oB9mdFieyQ",
   "metadata": {
    "colab": {
     "base_uri": "https://localhost:8080/"
    },
    "id": "K0oB9mdFieyQ",
    "outputId": "4e7fa5be-7c9a-4279-9c3d-99d6b8980b22"
   },
   "outputs": [
    {
     "name": "stdout",
     "output_type": "stream",
     "text": [
      "Creating BERT datasets...\n",
      "BERT datasets created\n"
     ]
    }
   ],
   "source": [
    "print(\"Creating BERT datasets...\")\n",
    "\n",
    "train_bert_dataset = KalimatDataset(\n",
    "    X_cls_train_raw, y_cls_train_raw, bert_tokenizer, max_length=BERT_MAX_LENGTH\n",
    ")\n",
    "test_bert_dataset = KalimatDataset(\n",
    "    X_cls_train_raw, y_cls_train_raw, bert_tokenizer, max_length=BERT_MAX_LENGTH\n",
    ")\n",
    "\n",
    "print(\"BERT datasets created\")"
   ]
  },
  {
   "cell_type": "code",
   "execution_count": null,
   "id": "Rtd5T_WYitGc",
   "metadata": {
    "id": "Rtd5T_WYitGc"
   },
   "outputs": [],
   "source": [
    "def compute_bert_metrics(eval_pred):\n",
    "    predictions, labels = eval_pred\n",
    "    predictions = np.argmax(predictions, axis=1)\n",
    "\n",
    "    accuracy = (predictions == labels).mean()\n",
    "\n",
    "    report = classification_report(\n",
    "        labels,\n",
    "        predictions,\n",
    "        target_names=[label_mapping[i] for i in range(len(label_mapping))],\n",
    "        output_dict=True,\n",
    "        zero_division=0,\n",
    "    )\n",
    "\n",
    "    return {\n",
    "        \"accuracy\": accuracy,\n",
    "        \"f1\": report[\"weighted avg\"][\"f1-score\"],\n",
    "        \"precision\": report[\"weighted avg\"][\"precision\"],\n",
    "        \"recall\": report[\"weighted avg\"][\"recall\"],\n",
    "    }\n",
    "\n",
    "\n",
    "label_mapping = {i: label for i, label in enumerate(label_encoder.classes_)}"
   ]
  },
  {
   "cell_type": "code",
   "execution_count": null,
   "id": "i_X3iULtiw6f",
   "metadata": {
    "colab": {
     "base_uri": "https://localhost:8080/"
    },
    "id": "i_X3iULtiw6f",
    "outputId": "db698e21-9468-4484-b20e-5f7f670a8010"
   },
   "outputs": [
    {
     "name": "stdout",
     "output_type": "stream",
     "text": [
      "Setting up BERT training...\n",
      "✓ BERT trainer initialized!\n"
     ]
    }
   ],
   "source": [
    "print(\"Setting up BERT training...\")\n",
    "\n",
    "# Training arguments\n",
    "training_args = TrainingArguments(\n",
    "    output_dir=\"./bert_results\",\n",
    "    learning_rate=BERT_LEARNING_RATE,\n",
    "    per_device_train_batch_size=BERT_BATCH_SIZE,\n",
    "    per_device_eval_batch_size=BERT_BATCH_SIZE,\n",
    "    num_train_epochs=BERT_EPOCHS,\n",
    "    weight_decay=0.01,\n",
    "    eval_strategy=\"epoch\",\n",
    "    save_strategy=\"epoch\",\n",
    "    load_best_model_at_end=True,\n",
    "    metric_for_best_model=\"accuracy\",\n",
    "    report_to=\"none\",\n",
    "    logging_steps=50,\n",
    "    save_total_limit=2,\n",
    "    seed=RANDOM_SEED,\n",
    ")\n",
    "\n",
    "# Initialize trainer\n",
    "trainer = Trainer(\n",
    "    model=bert_model,\n",
    "    args=training_args,\n",
    "    train_dataset=train_bert_dataset,\n",
    "    eval_dataset=test_bert_dataset,\n",
    "    compute_metrics=compute_bert_metrics,\n",
    ")\n",
    "\n",
    "print(\"✓ BERT trainer initialized!\")"
   ]
  },
  {
   "cell_type": "code",
   "execution_count": null,
   "id": "cWOcrwA5iyX-",
   "metadata": {
    "colab": {
     "base_uri": "https://localhost:8080/",
     "height": 105
    },
    "id": "cWOcrwA5iyX-",
    "outputId": "3cfc1d83-72e3-43fc-8c88-2cdada2c075f"
   },
   "outputs": [
    {
     "name": "stdout",
     "output_type": "stream",
     "text": [
      "Loading existing BERT model...\n"
     ]
    },
    {
     "data": {
      "text/html": [
       "\n",
       "    <div>\n",
       "      \n",
       "      <progress value='761' max='761' style='width:300px; height:20px; vertical-align: middle;'></progress>\n",
       "      [761/761 01:01]\n",
       "    </div>\n",
       "    "
      ],
      "text/plain": [
       "<IPython.core.display.HTML object>"
      ]
     },
     "metadata": {},
     "output_type": "display_data"
    },
    {
     "name": "stdout",
     "output_type": "stream",
     "text": [
      "Loaded model accuracy: 0.9644\n",
      "BERT Accuracy: 0.9644\n",
      "BERT F1 Score: 0.9644\n"
     ]
    }
   ],
   "source": [
    "bert_model_path = os.path.join(MODEL_SAVE_DIR, \"modern_bert_classifier\")\n",
    "\n",
    "if os.path.exists(bert_model_path):\n",
    "    print(\"Loading existing BERT model...\")\n",
    "    bert_model = AutoModelForSequenceClassification.from_pretrained(bert_model_path).to(\n",
    "        device\n",
    "    )\n",
    "    trainer.model = bert_model\n",
    "\n",
    "    results = trainer.evaluate()\n",
    "    print(f\"Loaded model accuracy: {results['eval_accuracy']:.4f}\")\n",
    "else:\n",
    "    print(\"Training new BERT model...\")\n",
    "    trainer.train()\n",
    "    trainer.save_model(bert_model_path)\n",
    "\n",
    "    results = trainer.evaluate()\n",
    "\n",
    "print(f\"BERT Accuracy: {results['eval_accuracy']:.4f}\")\n",
    "print(f\"BERT F1 Score: {results['eval_f1']:.4f}\")"
   ]
  },
  {
   "cell_type": "code",
   "execution_count": null,
   "id": "5ER4hDVZi76w",
   "metadata": {
    "colab": {
     "base_uri": "https://localhost:8080/",
     "height": 17
    },
    "id": "5ER4hDVZi76w",
    "outputId": "64635ef5-b316-4a84-9e7a-af8e2c99f7a0"
   },
   "outputs": [
    {
     "data": {
      "text/html": [],
      "text/plain": [
       "<IPython.core.display.HTML object>"
      ]
     },
     "metadata": {},
     "output_type": "display_data"
    }
   ],
   "source": [
    "def get_bert_predictions(trainer, test_dataset):\n",
    "    predictions = trainer.predict(test_dataset)\n",
    "    pred_labels = np.argmax(predictions.predictions, axis=1)\n",
    "    true_labels = predictions.label_ids\n",
    "    return pred_labels, true_labels\n",
    "\n",
    "\n",
    "bert_preds, bert_true = get_bert_predictions(trainer, test_bert_dataset)"
   ]
  },
  {
   "cell_type": "code",
   "execution_count": null,
   "id": "11e0539e",
   "metadata": {
    "colab": {
     "base_uri": "https://localhost:8080/",
     "height": 618
    },
    "id": "11e0539e",
    "outputId": "1815b06b-c531-48fa-a0bc-15230efd8afd"
   },
   "outputs": [
    {
     "data": {
      "text/plain": [
       "<Figure size 1000x800 with 0 Axes>"
      ]
     },
     "metadata": {},
     "output_type": "display_data"
    },
    {
     "data": {
      "image/png": "[encoded data removed]",
      "text/plain": [
       "<Figure size 1000x600 with 2 Axes>"
      ]
     },
     "metadata": {},
     "output_type": "display_data"
    }
   ],
   "source": [
    "cm_bert = confusion_matrix(bert_true, bert_preds)\n",
    "labels = [label_mapping[i] for i in range(len(label_mapping))]\n",
    "disp_bert = ConfusionMatrixDisplay(confusion_matrix=cm_bert, display_labels=labels)\n",
    "\n",
    "plt.figure(figsize=(10, 8))\n",
    "disp_bert.plot(cmap=\"Blues\", xticks_rotation=45)\n",
    "plt.title(\"BERT Model Confusion Matrix\")\n",
    "plt.tight_layout()\n",
    "plt.show()"
   ]
  },
  {
   "cell_type": "code",
   "execution_count": null,
   "id": "ee17c0f8",
   "metadata": {
    "colab": {
     "base_uri": "https://localhost:8080/",
     "height": 619
    },
    "id": "ee17c0f8",
    "outputId": "d3e75415-c586-455d-9be5-d74ccd43acb3"
   },
   "outputs": [
    {
     "data": {
      "text/plain": [
       "<Figure size 1000x800 with 0 Axes>"
      ]
     },
     "metadata": {},
     "output_type": "display_data"
    },
    {
     "data": {
      "image/png": "[encoded data removed]",
      "text/plain": [
       "<Figure size 1000x600 with 2 Axes>"
      ]
     },
     "metadata": {},
     "output_type": "display_data"
    }
   ],
   "source": [
    "cm_lstm = confusion_matrix(lstm_true, lstm_preds)\n",
    "disp_lstm = ConfusionMatrixDisplay(confusion_matrix=cm_lstm, display_labels=labels)\n",
    "\n",
    "plt.figure(figsize=(10, 8))\n",
    "disp_lstm.plot(cmap=\"Greens\", xticks_rotation=45)\n",
    "plt.title(\"LSTM Model Confusion Matrix\")\n",
    "plt.tight_layout()\n",
    "plt.show()"
   ]
  },
  {
   "cell_type": "code",
   "execution_count": null,
   "id": "mAjnmbez1WgO",
   "metadata": {
    "id": "mAjnmbez1WgO"
   },
   "outputs": [],
   "source": [
    "from sklearn.metrics import accuracy_score"
   ]
  },
  {
   "cell_type": "code",
   "execution_count": null,
   "id": "G3R_s-amji8A",
   "metadata": {
    "colab": {
     "base_uri": "https://localhost:8080/",
     "height": 603
    },
    "id": "G3R_s-amji8A",
    "outputId": "d3b0c49f-c80c-44ed-c082-18f293f50041"
   },
   "outputs": [
    {
     "name": "stdout",
     "output_type": "stream",
     "text": [
      "\n",
      "==================================================\n",
      "MODEL COMPARISON - CLASSIFICATION ACCURACY\n",
      "==================================================\n",
      "Traditional SVM          : 0.9274\n",
      "LSTM Neural Network      : 0.8837\n",
      "BERT Transformer         : 0.9644\n",
      "\n",
      "Best performing model: BERT Transformer (0.9644)\n",
      "==================================================\n",
      "\n"
     ]
    },
    {
     "data": {
      "image/png": "[encoded data removed]",
      "text/plain": [
       "<Figure size 1500x600 with 2 Axes>"
      ]
     },
     "metadata": {},
     "output_type": "display_data"
    }
   ],
   "source": [
    "bert_accuracy = results[\"eval_accuracy\"]\n",
    "\n",
    "\n",
    "classification_results = {\n",
    "    \"Traditional SVM\": svm_accuracy,\n",
    "    \"LSTM Neural Network\": lstm_accuracy,\n",
    "    \"BERT Transformer\": bert_accuracy,\n",
    "}\n",
    "\n",
    "display_model_comparison(classification_results, \"Classification Accuracy\")\n",
    "\n",
    "fig, (ax1, ax2) = plt.subplots(1, 2, figsize=(15, 6))\n",
    "\n",
    "models = list(classification_results.keys())\n",
    "accuracies = list(classification_results.values())\n",
    "colors = [\"skyblue\", \"lightgreen\", \"lightcoral\"]\n",
    "\n",
    "ax1.bar(models, accuracies, color=colors)\n",
    "ax1.set_title(\"Classification Model Comparison\", fontweight=\"bold\", fontsize=14)\n",
    "ax1.set_ylabel(\"Accuracy\")\n",
    "ax1.set_ylim(0, 1)\n",
    "ax1.tick_params(axis=\"x\", rotation=45)\n",
    "\n",
    "# Add value labels on bars\n",
    "for i, v in enumerate(accuracies):\n",
    "    ax1.text(i, v + 0.01, f\"{v:.3f}\", ha=\"center\", va=\"bottom\", fontweight=\"bold\")\n",
    "\n",
    "bert_report = classification_report(\n",
    "    bert_true, bert_preds, target_names=labels, output_dict=True\n",
    ")\n",
    "lstm_report = classification_report(\n",
    "    lstm_true, lstm_preds, target_names=labels, output_dict=True\n",
    ")\n",
    "\n",
    "metrics_comparison = pd.DataFrame(\n",
    "    {\n",
    "        \"BERT\": [\n",
    "            bert_report[\"weighted avg\"][\"precision\"],\n",
    "            bert_report[\"weighted avg\"][\"recall\"],\n",
    "            bert_report[\"weighted avg\"][\"f1-score\"],\n",
    "        ],\n",
    "        \"LSTM\": [\n",
    "            lstm_report[\"weighted avg\"][\"precision\"],\n",
    "            lstm_report[\"weighted avg\"][\"recall\"],\n",
    "            lstm_report[\"weighted avg\"][\"f1-score\"],\n",
    "        ],\n",
    "    },\n",
    "    index=[\"Precision\", \"Recall\", \"F1-Score\"],\n",
    ")\n",
    "\n",
    "metrics_comparison.plot(kind=\"bar\", ax=ax2, color=[\"lightcoral\", \"lightgreen\"])\n",
    "ax2.set_title(\"Detailed Metrics: BERT vs LSTM\", fontweight=\"bold\", fontsize=14)\n",
    "ax2.set_ylabel(\"Score\")\n",
    "ax2.tick_params(axis=\"x\", rotation=0)\n",
    "ax2.legend()\n",
    "\n",
    "plt.tight_layout()\n",
    "plt.show()"
   ]
  },
  {
   "cell_type": "markdown",
   "id": "Dhdn5Hvq_4mx",
   "metadata": {
    "id": "Dhdn5Hvq_4mx"
   },
   "source": [
    "### Modern Implementation of Task 2\n",
    "\n",
    "In this section, we implement modern deep learning approaches for Arabic text summarization:\n",
    "\n",
    "1. **Deep Learning Approach**: LSTM-based Sequence-to-Sequence model with attention\n",
    "2. **Transformer-based Approach**: Arabic BERT Model"
   ]
  },
  {
   "cell_type": "markdown",
   "id": "iQqUoGWUJZ71",
   "metadata": {
    "id": "iQqUoGWUJZ71"
   },
   "source": [
    "### Seq2Seq Implementation\n",
    "\n",
    "Sequence-to-sequence model for abstractive Arabic text summarization using encoder-decoder architecture with attention mechanism."
   ]
  },
  {
   "cell_type": "code",
   "execution_count": null,
   "id": "sfqZnAVHJh1W",
   "metadata": {
    "id": "sfqZnAVHJh1W"
   },
   "outputs": [],
   "source": [
    "class ArabicTokenizer:\n",
    "    def __init__(self, vocab_size):\n",
    "        self.vocab_size = vocab_size\n",
    "        self.word2idx = {\"<PAD>\": 0, \"<SOS>\": 1, \"<EOS>\": 2, \"<UNK>\": 3}\n",
    "        self.idx2word = {0: \"<PAD>\", 1: \"<SOS>\", 2: \"<EOS>\", 3: \"<UNK>\"}\n",
    "        self.vocab_built = False\n",
    "\n",
    "    def clean_arabic_text(self, text):\n",
    "        if pd.isna(text):\n",
    "            return \"\"\n",
    "        text = str(text)\n",
    "\n",
    "        text = preprocess_for_summarization(text)\n",
    "\n",
    "        # Additional cleaning for better tokenization\n",
    "        text = re.sub(r\"[^\\u0600-\\u06FF\\u0750-\\u077F\\s\\d.,!?():\\-]\", \" \", text)\n",
    "        text = re.sub(r\"\\s+\", \" \", text.strip())\n",
    "\n",
    "        return text\n",
    "\n",
    "    def build_vocab(self, texts, min_freq=2):\n",
    "        word_counts = Counter()\n",
    "        total_words = 0\n",
    "\n",
    "        for text in tqdm(texts, desc=\"Processing texts\"):\n",
    "            cleaned = self.clean_arabic_text(text)\n",
    "            words = cleaned.split()\n",
    "            word_counts.update(words)\n",
    "            total_words += len(words)\n",
    "\n",
    "        print(f\"Found {len(word_counts)} unique words from {total_words} total words\")\n",
    "\n",
    "        # Filter by minimum frequency\n",
    "        filtered_words = {\n",
    "            word: count\n",
    "            for word, count in word_counts.items()\n",
    "            if count >= min_freq and len(word.strip()) > 0\n",
    "        }\n",
    "\n",
    "        # Sort by frequency\n",
    "        most_common = sorted(filtered_words.items(), key=lambda x: x[1], reverse=True)\n",
    "\n",
    "        # Take top words (leave space for special tokens)\n",
    "        vocab_words = most_common[: self.vocab_size - 4]\n",
    "\n",
    "        # Add to vocabulary\n",
    "        for word, count in vocab_words:\n",
    "            if word not in self.word2idx:\n",
    "                idx = len(self.word2idx)\n",
    "                self.word2idx[word] = idx\n",
    "                self.idx2word[idx] = word\n",
    "\n",
    "        self.vocab_built = True\n",
    "\n",
    "        # Calculate coverage\n",
    "        covered_tokens = sum(\n",
    "            count for word, count in word_counts.items() if word in self.word2idx\n",
    "        )\n",
    "        token_coverage = covered_tokens / total_words\n",
    "\n",
    "        print(\"Vocabulary built:\")\n",
    "        print(f\"Final vocabulary size: {len(self.word2idx)}\")\n",
    "        print(f\"Token coverage: {token_coverage:.1%}\")\n",
    "        print(f\"Top 5 words: {vocab_words[:5]}\")\n",
    "\n",
    "        return token_coverage\n",
    "\n",
    "    def encode(self, text, max_len, add_special=False):\n",
    "        cleaned = self.clean_arabic_text(text)\n",
    "        words = cleaned.split()\n",
    "\n",
    "        if add_special:\n",
    "            words = [\"<SOS>\"] + words + [\"<EOS>\"]\n",
    "\n",
    "        indices = []\n",
    "        for word in words[:max_len]:\n",
    "            indices.append(self.word2idx.get(word, self.word2idx[\"<UNK>\"]))\n",
    "\n",
    "        # Pad to max_len\n",
    "        while len(indices) < max_len:\n",
    "            indices.append(self.word2idx[\"<PAD>\"])\n",
    "\n",
    "        return indices[:max_len]\n",
    "\n",
    "    def decode(self, indices, skip_special=True):\n",
    "        words = []\n",
    "        for idx in indices:\n",
    "            if isinstance(idx, torch.Tensor):\n",
    "                idx = idx.item()\n",
    "\n",
    "            word = self.idx2word.get(int(idx), \"<UNK>\")\n",
    "\n",
    "            if skip_special:\n",
    "                if word in [\"<PAD>\", \"<SOS>\"]:\n",
    "                    continue\n",
    "                elif word == \"<EOS>\":\n",
    "                    break\n",
    "\n",
    "            if word != \"<UNK>\" or not skip_special:\n",
    "                words.append(word)\n",
    "\n",
    "        return \" \".join(words)"
   ]
  },
  {
   "cell_type": "code",
   "execution_count": null,
   "id": "a3JsZQ3kJh3L",
   "metadata": {
    "colab": {
     "base_uri": "https://localhost:8080/"
    },
    "id": "a3JsZQ3kJh3L",
    "outputId": "b5211cda-3a7c-44de-f11c-914fef5bd83d"
   },
   "outputs": [
    {
     "name": "stdout",
     "output_type": "stream",
     "text": [
      "  Training samples: 23353\n",
      "  Test samples: 5839\n"
     ]
    }
   ],
   "source": [
    "split_idx = int(len(summarization_df) * 0.8)\n",
    "seq2seq_train_df = summarization_df[:split_idx].copy()\n",
    "seq2seq_test_df = summarization_df[split_idx:].copy()\n",
    "\n",
    "\n",
    "print(f\"  Training samples: {len(seq2seq_train_df)}\")\n",
    "print(f\"  Test samples: {len(seq2seq_test_df)}\")"
   ]
  },
  {
   "cell_type": "code",
   "execution_count": null,
   "id": "2jW-wYy0dUjw",
   "metadata": {
    "colab": {
     "base_uri": "https://localhost:8080/"
    },
    "id": "2jW-wYy0dUjw",
    "outputId": "afa88fae-f023-4283-abcf-de0a2b0c4b46"
   },
   "outputs": [
    {
     "name": "stdout",
     "output_type": "stream",
     "text": [
      "\n",
      "Building tokenizer vocabulary...\n"
     ]
    },
    {
     "name": "stderr",
     "output_type": "stream",
     "text": [
      "Processing texts: 100%|██████████| 58384/58384 [00:15<00:00, 3781.12it/s]\n"
     ]
    },
    {
     "name": "stdout",
     "output_type": "stream",
     "text": [
      "Found 360594 unique words from 10903071 total words\n",
      "Vocabulary built:\n",
      "Final vocabulary size: 10000\n",
      "Token coverage: 79.0%\n",
      "Top 5 words: [('من', 310035), ('في', 281091), ('على', 249919), ('أو', 174769), ('أن', 162024)]\n",
      "\n",
      "Tokenizer ready:\n",
      "Vocabulary size: 10000\n",
      "Token coverage: 79.0%\n"
     ]
    }
   ],
   "source": [
    "# Create tokenizer and build vocabulary\n",
    "print(\"\\n Building tokenizer vocabulary...\")\n",
    "seq2seq_tokenizer = ArabicTokenizer(vocab_size=10000)\n",
    "\n",
    "# Use all available text for vocabulary building\n",
    "all_texts = (\n",
    "    list(seq2seq_train_df[\"text\"])\n",
    "    + list(seq2seq_train_df[\"summary\"])\n",
    "    + list(seq2seq_test_df[\"text\"])\n",
    "    + list(seq2seq_test_df[\"summary\"])\n",
    ")\n",
    "\n",
    "token_coverage = seq2seq_tokenizer.build_vocab(all_texts, min_freq=2)\n",
    "\n",
    "print(\"\\nTokenizer ready:\")\n",
    "print(f\"  Vocabulary size: {len(seq2seq_tokenizer.word2idx)}\")\n",
    "print(f\"  Token coverage: {token_coverage:.1%}\")"
   ]
  },
  {
   "cell_type": "code",
   "execution_count": null,
   "id": "YnAYKe_ZJh5b",
   "metadata": {
    "colab": {
     "base_uri": "https://localhost:8080/"
    },
    "id": "YnAYKe_ZJh5b",
    "outputId": "f14285f0-b8a7-4a2d-9ffc-fc2650020333"
   },
   "outputs": [
    {
     "name": "stdout",
     "output_type": "stream",
     "text": [
      "  Batch size: 32\n",
      "  Max text length: 500\n",
      "  Max summary length: 50\n",
      "\n",
      "Decoded source: يكون سعر الفاكهة والخضراوات في موسم أقل من غيره من محلات الخضروات إلى عرض الفاكهة مناسبة في بسبب توفر المنتجات وزيادة الطلب عليها خلال تلك لا يقتصر الأمر على السعر الأقل، بل سيكون طعامك من الخضراوات والفاكهة عند تناوله في في فصل التفاح في فصل والبصل البطاطا الحلوة في فصل السبانخ والجزر والبصل الأخضر...\n",
      "\n",
      "Decoded target: تناول الفاكهة والخضراوات في تعرف على أسعار الأطعمة المجمدة تابع العروض في المحلات دائما ما بين اشتر استفد من الشراء استفد من الجهات الدخل في بلدك. اشتر من المحلية أو المتاجر\n"
     ]
    }
   ],
   "source": [
    "class Seq2SeqSummarizationDataset(Dataset):\n",
    "    def __init__(self, texts, summaries, tokenizer, max_text_len=100, max_sum_len=25):\n",
    "        self.texts = texts\n",
    "        self.summaries = summaries\n",
    "        self.tokenizer = tokenizer\n",
    "        self.max_text_len = max_text_len\n",
    "        self.max_sum_len = max_sum_len\n",
    "\n",
    "    def __len__(self):\n",
    "        return len(self.texts)\n",
    "\n",
    "    def __getitem__(self, idx):\n",
    "        text = str(self.texts[idx])\n",
    "        summary = str(self.summaries[idx])\n",
    "\n",
    "        src = torch.tensor(\n",
    "            self.tokenizer.encode(text, self.max_text_len, add_special=False),\n",
    "            dtype=torch.long,\n",
    "        )\n",
    "\n",
    "        # Encode summary with special tokens for decoder\n",
    "        tgt_with_special = self.tokenizer.encode(\n",
    "            summary, self.max_sum_len - 1, add_special=True\n",
    "        )\n",
    "\n",
    "        # Decoder input: <SOS> + summary (without last token)\n",
    "        tgt_input = torch.tensor(tgt_with_special[:-1], dtype=torch.long)\n",
    "\n",
    "        # Decoder target: summary + <EOS> (without first token)\n",
    "        tgt_output = torch.tensor(tgt_with_special[1:], dtype=torch.long)\n",
    "\n",
    "        # Ensure proper lengths\n",
    "        if len(tgt_input) < self.max_sum_len:\n",
    "            pad_len = self.max_sum_len - len(tgt_input)\n",
    "            tgt_input = torch.cat([tgt_input, torch.zeros(pad_len, dtype=torch.long)])\n",
    "            tgt_output = torch.cat([tgt_output, torch.zeros(pad_len, dtype=torch.long)])\n",
    "\n",
    "        return src, tgt_input[: self.max_sum_len], tgt_output[: self.max_sum_len]\n",
    "\n",
    "\n",
    "seq2seq_train_dataset = Seq2SeqSummarizationDataset(\n",
    "    seq2seq_train_df[\"text\"].tolist(),\n",
    "    seq2seq_train_df[\"summary\"].tolist(),\n",
    "    seq2seq_tokenizer,\n",
    "    MAX_TEXT_LEN,\n",
    "    MAX_SUM_LEN,\n",
    ")\n",
    "\n",
    "seq2seq_test_dataset = Seq2SeqSummarizationDataset(\n",
    "    seq2seq_test_df[\"text\"].tolist(),\n",
    "    seq2seq_test_df[\"summary\"].tolist(),\n",
    "    seq2seq_tokenizer,\n",
    "    MAX_TEXT_LEN,\n",
    "    MAX_SUM_LEN,\n",
    ")\n",
    "\n",
    "seq2seq_train_loader = DataLoader(\n",
    "    seq2seq_train_dataset, batch_size=BATCH_SIZE, shuffle=True\n",
    ")\n",
    "seq2seq_test_loader = DataLoader(\n",
    "    seq2seq_test_dataset, batch_size=BATCH_SIZE, shuffle=False\n",
    ")\n",
    "\n",
    "\n",
    "print(f\"  Batch size: {BATCH_SIZE}\")\n",
    "print(f\"  Max text length: {MAX_TEXT_LEN}\")\n",
    "print(f\"  Max summary length: {MAX_SUM_LEN}\")\n",
    "print()\n",
    "\n",
    "\n",
    "sample_src, sample_tgt_in, sample_tgt_out = seq2seq_train_dataset[0]\n",
    "\n",
    "print(f\"Decoded source: {seq2seq_tokenizer.decode(sample_src)[:300]}...\")\n",
    "print()\n",
    "print(f\"Decoded target: {seq2seq_tokenizer.decode(sample_tgt_out)}\")"
   ]
  },
  {
   "cell_type": "markdown",
   "id": "kucojppRhgWa",
   "metadata": {
    "id": "kucojppRhgWa"
   },
   "source": [
    "#### Model Architecture"
   ]
  },
  {
   "cell_type": "code",
   "execution_count": null,
   "id": "ML3J7fSAJh7Z",
   "metadata": {
    "colab": {
     "base_uri": "https://localhost:8080/"
    },
    "id": "ML3J7fSAJh7Z",
    "outputId": "bfa37006-1213-4b6c-e8bd-591bb14a9c2c"
   },
   "outputs": [
    {
     "name": "stdout",
     "output_type": "stream",
     "text": [
      "  Total parameters: 6,445,328\n",
      "  Vocabulary size: 10000\n",
      "  Device: cuda\n"
     ]
    }
   ],
   "source": [
    "class Seq2Seq(nn.Module):\n",
    "    def __init__(self, vocab_size, embed_dim=128, hidden_dim=256, dropout=0.2):\n",
    "        super(Seq2Seq, self).__init__()\n",
    "        self.vocab_size = vocab_size\n",
    "        self.hidden_dim = hidden_dim\n",
    "\n",
    "        # Encoder\n",
    "        self.encoder_embedding = nn.Embedding(vocab_size, embed_dim, padding_idx=0)\n",
    "        self.encoder_lstm = nn.LSTM(\n",
    "            embed_dim,\n",
    "            hidden_dim,\n",
    "            batch_first=True,\n",
    "            dropout=dropout if dropout > 0 else 0,\n",
    "        )\n",
    "\n",
    "        # Decoder\n",
    "        self.decoder_embedding = nn.Embedding(vocab_size, embed_dim, padding_idx=0)\n",
    "        self.decoder_lstm = nn.LSTM(\n",
    "            embed_dim + hidden_dim,\n",
    "            hidden_dim,\n",
    "            batch_first=True,\n",
    "            dropout=dropout if dropout > 0 else 0,\n",
    "        )\n",
    "\n",
    "        # Attention mechanism\n",
    "        self.attention = nn.Linear(hidden_dim * 2, hidden_dim)\n",
    "        self.context_combine = nn.Linear(hidden_dim * 2, hidden_dim)\n",
    "\n",
    "        # Output projection\n",
    "        self.output_proj = nn.Linear(hidden_dim, vocab_size)\n",
    "        self.dropout = nn.Dropout(dropout)\n",
    "\n",
    "    def encode(self, src):\n",
    "        embedded = self.encoder_embedding(src)\n",
    "        embedded = self.dropout(embedded)\n",
    "\n",
    "        outputs, (hidden, cell) = self.encoder_lstm(embedded)\n",
    "        return outputs, hidden, cell\n",
    "\n",
    "    def attention_forward(self, decoder_hidden, encoder_outputs):\n",
    "        # Reshape decoder hidden\n",
    "        if decoder_hidden.dim() == 3:\n",
    "            decoder_hidden = decoder_hidden[-1].unsqueeze(1)  # Take last layer\n",
    "        elif decoder_hidden.dim() == 2:\n",
    "            decoder_hidden = decoder_hidden.unsqueeze(1)\n",
    "\n",
    "        # Calculate attention scores\n",
    "        scores = torch.bmm(decoder_hidden, encoder_outputs.transpose(1, 2))\n",
    "        attention_weights = torch.softmax(scores, dim=2)\n",
    "\n",
    "        # Apply attention\n",
    "        context = torch.bmm(attention_weights, encoder_outputs)\n",
    "        return context, attention_weights\n",
    "\n",
    "    def forward(self, src, tgt):\n",
    "        batch_size, tgt_len = tgt.size()\n",
    "\n",
    "        # Encode\n",
    "        encoder_outputs, hidden, cell = self.encode(src)\n",
    "\n",
    "        # Initialize decoder\n",
    "        decoder_hidden = hidden\n",
    "        decoder_cell = cell\n",
    "        outputs = torch.zeros(batch_size, tgt_len, self.vocab_size).to(src.device)\n",
    "\n",
    "        for t in range(tgt_len):\n",
    "            # Get current target token\n",
    "            current_input = tgt[:, t : t + 1]\n",
    "\n",
    "            # Embed current token\n",
    "            embedded = self.decoder_embedding(current_input)\n",
    "            embedded = self.dropout(embedded)\n",
    "\n",
    "            # Apply attention\n",
    "            context, _ = self.attention_forward(decoder_hidden, encoder_outputs)\n",
    "\n",
    "            # Combine embedding with context\n",
    "            lstm_input = torch.cat([embedded, context], dim=2)\n",
    "\n",
    "            # LSTM step\n",
    "            output, (decoder_hidden, decoder_cell) = self.decoder_lstm(\n",
    "                lstm_input, (decoder_hidden, decoder_cell)\n",
    "            )\n",
    "\n",
    "            # Project to vocabulary\n",
    "            vocab_dist = self.output_proj(output)\n",
    "            outputs[:, t : t + 1] = vocab_dist\n",
    "\n",
    "        return outputs\n",
    "\n",
    "    def generate(self, src, max_len=25, temperature=0.8):\n",
    "        self.eval()\n",
    "        with torch.no_grad():\n",
    "            batch_size = src.size(0)\n",
    "\n",
    "            # Encode\n",
    "            encoder_outputs, hidden, cell = self.encode(src)\n",
    "\n",
    "            # Initialize decoder\n",
    "            decoder_hidden = hidden\n",
    "            decoder_cell = cell\n",
    "\n",
    "            # Start with <SOS> token\n",
    "            current_input = torch.ones(batch_size, 1, dtype=torch.long).to(src.device)\n",
    "\n",
    "            generated = []\n",
    "\n",
    "            for _ in range(max_len):\n",
    "                # Embed current token\n",
    "                embedded = self.decoder_embedding(current_input)\n",
    "\n",
    "                # Apply attention\n",
    "                context, _ = self.attention_forward(decoder_hidden, encoder_outputs)\n",
    "\n",
    "                # Combine embedding with context\n",
    "                lstm_input = torch.cat([embedded, context], dim=2)\n",
    "\n",
    "                # LSTM step\n",
    "                output, (decoder_hidden, decoder_cell) = self.decoder_lstm(\n",
    "                    lstm_input, (decoder_hidden, decoder_cell)\n",
    "                )\n",
    "\n",
    "                # Project to vocabulary\n",
    "                vocab_dist = self.output_proj(output)\n",
    "\n",
    "                # Apply temperature\n",
    "                vocab_dist = vocab_dist / temperature\n",
    "\n",
    "                # Sample next token\n",
    "                probs = torch.softmax(vocab_dist, dim=2)\n",
    "                next_token = torch.multinomial(probs.squeeze(1), 1)\n",
    "\n",
    "                generated.append(next_token)\n",
    "                current_input = next_token\n",
    "\n",
    "                if (next_token == 2).all():\n",
    "                    break\n",
    "\n",
    "            return torch.cat(generated, dim=1)\n",
    "\n",
    "\n",
    "VOCAB_SIZE = len(seq2seq_tokenizer.word2idx)\n",
    "seq2seq_model = Seq2Seq(\n",
    "    vocab_size=VOCAB_SIZE, embed_dim=128, hidden_dim=256, dropout=0.2\n",
    ").to(device)\n",
    "\n",
    "# Count parameters\n",
    "total_params = sum(p.numel() for p in seq2seq_model.parameters())\n",
    "\n",
    "print(f\"  Total parameters: {total_params:,}\")\n",
    "print(f\"  Vocabulary size: {VOCAB_SIZE}\")\n",
    "print(f\"  Device: {device}\")\n",
    "\n",
    "\n",
    "seq2seq_criterion = nn.CrossEntropyLoss(ignore_index=0)  # Ignore padding\n",
    "seq2seq_optimizer = optim.Adam(seq2seq_model.parameters(), lr=0.001)"
   ]
  },
  {
   "cell_type": "markdown",
   "id": "-MnBcm7DhnFD",
   "metadata": {
    "id": "-MnBcm7DhnFD"
   },
   "source": [
    "#### Training and Optimization"
   ]
  },
  {
   "cell_type": "code",
   "execution_count": null,
   "id": "Om9W1GKrJh-h",
   "metadata": {
    "id": "Om9W1GKrJh-h"
   },
   "outputs": [],
   "source": [
    "def train_seq2seq_epoch(model, dataloader, optimizer, criterion, device):\n",
    "    model.train()\n",
    "    total_loss = 0\n",
    "    num_batches = 0\n",
    "\n",
    "    pbar = tqdm(dataloader, desc=\"Training Seq2Seq\")\n",
    "    for batch_idx, (src, tgt_input, tgt_output) in enumerate(pbar):\n",
    "        src, tgt_input, tgt_output = (\n",
    "            src.to(device),\n",
    "            tgt_input.to(device),\n",
    "            tgt_output.to(device),\n",
    "        )\n",
    "\n",
    "        optimizer.zero_grad()\n",
    "\n",
    "        # Forward pass\n",
    "        outputs = model(src, tgt_input)\n",
    "\n",
    "        # Calculate loss\n",
    "        loss = criterion(\n",
    "            outputs.contiguous().view(-1, VOCAB_SIZE), tgt_output.contiguous().view(-1)\n",
    "        )\n",
    "\n",
    "        # Backward pass\n",
    "        loss.backward()\n",
    "\n",
    "        torch.nn.utils.clip_grad_norm_(model.parameters(), 1.0)\n",
    "\n",
    "        optimizer.step()\n",
    "\n",
    "        total_loss += loss.item()\n",
    "        num_batches += 1\n",
    "\n",
    "        pbar.set_postfix({\"loss\": f\"{loss.item():.4f}\"})\n",
    "\n",
    "        if batch_idx % 10 == 0:\n",
    "            torch.cuda.empty_cache() if torch.cuda.is_available() else None\n",
    "\n",
    "    return total_loss / num_batches\n",
    "\n",
    "\n",
    "def eval_seq2seq_epoch(model, dataloader, criterion, device):\n",
    "    model.eval()\n",
    "    total_loss = 0\n",
    "    num_batches = 0\n",
    "    with torch.no_grad():\n",
    "        for src, tgt_input, tgt_output in dataloader:\n",
    "            src, tgt_input, tgt_output = (\n",
    "                src.to(device),\n",
    "                tgt_input.to(device),\n",
    "                tgt_output.to(device),\n",
    "            )\n",
    "            outputs = model(src, tgt_input)\n",
    "            loss = criterion(\n",
    "                outputs.contiguous().view(-1, VOCAB_SIZE),\n",
    "                tgt_output.contiguous().view(-1),\n",
    "            )\n",
    "            total_loss += loss.item()\n",
    "            num_batches += 1\n",
    "    return total_loss / num_batches"
   ]
  },
  {
   "cell_type": "code",
   "execution_count": null,
   "id": "_9Z4wMt7KKoo",
   "metadata": {
    "colab": {
     "base_uri": "https://localhost:8080/"
    },
    "id": "_9Z4wMt7KKoo",
    "outputId": "2720442a-e88f-473d-f988-1f97997fb650"
   },
   "outputs": [
    {
     "name": "stdout",
     "output_type": "stream",
     "text": [
      "Starting Seq2Seq training for 5 epochs...\n"
     ]
    },
    {
     "name": "stderr",
     "output_type": "stream",
     "text": [
      "Training Seq2Seq: 100%|██████████| 730/730 [02:52<00:00,  4.24it/s, loss=5.2955]\n"
     ]
    },
    {
     "name": "stdout",
     "output_type": "stream",
     "text": [
      "Epoch 1/5 - Loss: 5.8243\n",
      "New best model saved (loss: 5.8243)\n"
     ]
    },
    {
     "name": "stderr",
     "output_type": "stream",
     "text": [
      "Training Seq2Seq: 100%|██████████| 730/730 [02:42<00:00,  4.50it/s, loss=5.1634]\n"
     ]
    },
    {
     "name": "stdout",
     "output_type": "stream",
     "text": [
      "Epoch 2/5 - Loss: 5.1640\n",
      "New best model saved (loss: 5.1640)\n"
     ]
    },
    {
     "name": "stderr",
     "output_type": "stream",
     "text": [
      "Training Seq2Seq: 100%|██████████| 730/730 [02:43<00:00,  4.48it/s, loss=4.8693]\n"
     ]
    },
    {
     "name": "stdout",
     "output_type": "stream",
     "text": [
      "Epoch 3/5 - Loss: 4.7813\n",
      "New best model saved (loss: 4.7813)\n"
     ]
    },
    {
     "name": "stderr",
     "output_type": "stream",
     "text": [
      "Training Seq2Seq: 100%|██████████| 730/730 [02:43<00:00,  4.45it/s, loss=4.3128]\n"
     ]
    },
    {
     "name": "stdout",
     "output_type": "stream",
     "text": [
      "Epoch 4/5 - Loss: 4.5234\n",
      "New best model saved (loss: 4.5234)\n"
     ]
    },
    {
     "name": "stderr",
     "output_type": "stream",
     "text": [
      "Training Seq2Seq: 100%|██████████| 730/730 [02:44<00:00,  4.45it/s, loss=4.3476]\n"
     ]
    },
    {
     "name": "stdout",
     "output_type": "stream",
     "text": [
      "Epoch 5/5 - Loss: 4.3359\n",
      "New best model saved (loss: 4.3359)\n",
      "Seq2Seq training completed!\n"
     ]
    }
   ],
   "source": [
    "EPOCHS = 5\n",
    "print(f\"Starting Seq2Seq training for {EPOCHS} epochs...\")\n",
    "\n",
    "# Training loop\n",
    "seq2seq_train_losses = []\n",
    "best_loss = float(\"inf\")\n",
    "\n",
    "for epoch in range(EPOCHS):\n",
    "    avg_loss = train_seq2seq_epoch(\n",
    "        seq2seq_model,\n",
    "        seq2seq_train_loader,\n",
    "        seq2seq_optimizer,\n",
    "        seq2seq_criterion,\n",
    "        device,\n",
    "    )\n",
    "    seq2seq_train_losses.append(avg_loss)\n",
    "\n",
    "    print(f\"Epoch {epoch + 1}/{EPOCHS} - Loss: {avg_loss:.4f}\")\n",
    "\n",
    "    # Save best model\n",
    "    if avg_loss < best_loss:\n",
    "        best_loss = avg_loss\n",
    "        torch.save(\n",
    "            {\n",
    "                \"epoch\": epoch,\n",
    "                \"model_state_dict\": seq2seq_model.state_dict(),\n",
    "                \"optimizer_state_dict\": seq2seq_optimizer.state_dict(),\n",
    "                \"loss\": avg_loss,\n",
    "            },\n",
    "            \"best_seq2seq_model.pt\",\n",
    "        )\n",
    "        print(f\"New best model saved (loss: {avg_loss:.4f})\")\n",
    "\n",
    "    # Early stopping if loss is very low\n",
    "    if avg_loss < 0.1:\n",
    "        print(\"Loss is very low, stopping early!\")\n",
    "        break\n",
    "\n",
    "print(\"Seq2Seq training completed!\")"
   ]
  },
  {
   "cell_type": "markdown",
   "id": "LzN_maythu4Q",
   "metadata": {
    "id": "LzN_maythu4Q"
   },
   "source": [
    "#### Evaluation and Results"
   ]
  },
  {
   "cell_type": "code",
   "execution_count": null,
   "id": "2NeWKZsoKKq4",
   "metadata": {
    "colab": {
     "base_uri": "https://localhost:8080/",
     "height": 609
    },
    "id": "2NeWKZsoKKq4",
    "outputId": "8e187f95-da83-444e-bf07-9617af80914a"
   },
   "outputs": [
    {
     "data": {
      "image/png": "[encoded data removed]",
      "text/plain": [
       "<Figure size 1000x600 with 1 Axes>"
      ]
     },
     "metadata": {},
     "output_type": "display_data"
    },
    {
     "name": "stdout",
     "output_type": "stream",
     "text": [
      "Final training loss: 4.3359\n",
      "Best training loss: 4.3359\n"
     ]
    }
   ],
   "source": [
    "plt.figure(figsize=(10, 6))\n",
    "plt.plot(seq2seq_train_losses, \"b-\", linewidth=2, label=\"Training Loss\")\n",
    "plt.title(\"Seq2Seq Training Loss Over Time\", fontsize=14, fontweight=\"bold\")\n",
    "plt.xlabel(\"Epoch\")\n",
    "plt.ylabel(\"Loss\")\n",
    "plt.legend()\n",
    "plt.grid(True, alpha=0.3)\n",
    "plt.show()\n",
    "\n",
    "print(f\"Final training loss: {seq2seq_train_losses[-1]:.4f}\")\n",
    "print(f\"Best training loss: {min(seq2seq_train_losses):.4f}\")"
   ]
  },
  {
   "cell_type": "code",
   "execution_count": null,
   "id": "gDrK6UyeKKuN",
   "metadata": {
    "colab": {
     "base_uri": "https://localhost:8080/",
     "height": 1000
    },
    "id": "gDrK6UyeKKuN",
    "outputId": "ae59c32c-6c28-43d9-c7e8-d2c6e4c8a784"
   },
   "outputs": [
    {
     "name": "stdout",
     "output_type": "stream",
     "text": [
      "\n",
      "--- Example 1 ---\n"
     ]
    },
    {
     "data": {
      "application/vnd.google.colaboratory.intrinsic+json": {
       "type": "string"
      },
      "text/plain": [
       "' Original: إذا كان الهيكل يساعدك في فترة أعراض الانسحاب الأولية فقد يساعدك أيضا في على المدى البعيد. عدل جدولك عند الضرورة ولكن مع الإبقاء على العادات الجيدة التي بالفعل. تأكد من أنك تتحكم في أي دواء وكذلك الذهاب بانتظام لا تتوقف عن الاستفادة من مميزات هذه المصادر فقط لكونك تشعر لأن التعافي من الإدمان عملية طويلة على تفقد الأمر مع طبيبك أو المعالج أو مجموعة الدعم. إذا أصبح الأمر أو ابدأ في التفكير به الطعام الصحي أو أداء التمارين الرياضية، فهي أشياء تفعلها بانتظام للبقاء في صحة جيدة حتى حينما لا تريد ذلك. فكر في أن الباقي من حياتك يمكن أن يكون لذا توقف على نحو دوري مثل بدون تعاطي أشهر بعد مرور يوم واحد أو أسبوع من بعيدا عن يمكنك مكافأة نفسك بشيء تستمتع به مثل عشاء لطيف أو رحلة ركز على ما فعلته بشكل جيد لكي تضع أهدافا التالي. بعد شهر من يمكنك أن حفلة نظيفة خالية من الكحول كون صداقات صحية شخصية أقوى الذي على البدء في قضاء الوقت مع أشخاص استخدام يمكنك وضع حدود معينة مع الأفراد الذين بقول أنا على في مرحلة من لذا لا يمكنني أن أكون يستخدمون إنها كبيرة بالنسبة لي في لذلك. كون علاقات جديدة مع أفراد لا الكحول أو المخدرات من أي وجرب الالتحاق رياضية أو دروس أو مجموعات أو أي نشاط اجتماعي آخر. إذا لاحظت زائد أو شعرت الأمل أو ضغط فقد تكون أمام خطر مرة أخرى، هذا الوقت من المهم بشكل خاص تجنب الأشخاص والأماكن المرتبطة باستخدام ابق قويا وفكر فيما إذا لاستخدام مرة أخرى على ذلك جلد لأن ذلك لن تذكر أنك توقفت مرة ويمكنك فعلها ثانية، المساعدة فورا وعد مرة أخرى التعافي....'"
      ]
     },
     "metadata": {},
     "output_type": "display_data"
    },
    {
     "name": "stdout",
     "output_type": "stream",
     "text": [
      "\n"
     ]
    },
    {
     "data": {
      "application/vnd.google.colaboratory.intrinsic+json": {
       "type": "string"
      },
      "text/plain": [
       "' Reference: استمر في الالتزام بروتينك اليومي. تشبث ببرنامجك الاستشاري أو مجموعة الدعم. احتفل بالإنجازات الهامة. أحط نفسك بأناس جيدين. راقب العلامات التحذيرية.'"
      ]
     },
     "metadata": {},
     "output_type": "display_data"
    },
    {
     "name": "stdout",
     "output_type": "stream",
     "text": [
      "\n"
     ]
    },
    {
     "data": {
      "application/vnd.google.colaboratory.intrinsic+json": {
       "type": "string"
      },
      "text/plain": [
       "' Generated: حدد موعدا مع طبيبك بشأن البثور. تجنب شرب الكحول في نفس الوقت. اسأل عن الأصدقاء الذين'"
      ]
     },
     "metadata": {},
     "output_type": "display_data"
    },
    {
     "name": "stdout",
     "output_type": "stream",
     "text": [
      "------------------------------------------------------------\n",
      "\n",
      "--- Example 2 ---\n"
     ]
    },
    {
     "data": {
      "application/vnd.google.colaboratory.intrinsic+json": {
       "type": "string"
      },
      "text/plain": [
       "' Original: حينما تتوقف عن أخذ قد تتعرض وكذلك تعاني من رغبة شديدة في استعد لهذه المشكلات بإعداد بيئة آمنة ستحتاج في مكان لا يتوافر به ولا يمكنك كذلك الوصول له بسهولة ولا يتواجد أيا من الأصدقاء أو الذين فكر في اختيار تغيير كبير في فإذا كان ممكنا أن تذهب أو أحد بدلا من البقاء في فمن الأسهل كسر دائرة الإدمان إن كنت في بيئة غير عليها. فكر في الذهاب علاج الإدمان أو إعادة أعرف من يمكنه مساعدتك وقت من أعراض الانسحاب الأطباء ضمن هذه الفئة وكذلك أعضاء المجموعات طالما لا يستخدم أيا من هؤلاء قد يكون من المفيد كتابة قائمة الذين يمكنك الاتصال بهم خلال مرحلة التخلص من على حصولك على رقم وكذلك طرق الاتصال بالطبيب أقرب لك. بينما جسمك على غياب سوف تتعرض وتكون في أشد خلال ال ساعة الأولى، وبعدها الأعراض تدريجيا خلال - أسابيع. تتضمن أعراض الانسحاب الشائعة ما يلي: زيادة في النوم وتناول الطعام ومشاكل في التركيز والقلق المزعجة الشديد توقع حدوث أعراض الانسحاب السابق وحاول تغييرات إيجابية بالتفكير فيها أثناء تنقية من وينبغي للوصول إلى الجانب وأنا قوي كفاية لتحقيق ذلك . إن كنت تعمل مع طبيب أو مركز اسأل عن الأدوية التي قد تساعدك في التحكم بأعراض الانسحاب التي هذه الأدوية قد لا تزيل أعراض الانسحاب بشكل كامل ولكن التقليل من الأدوية التي يمكنها المساعدة في تجاوز أعراض من الجسم هو إذا وصف لك الطبيب أحد هذه الأدوية ينبغي أن بحسب جدول كذلك على متابعة الأمر مع طبيبك. الحصول على هيكل يمكن أن يساعدك على التحكم في أعراض فكلما قل الوقت الذي تجلس فيه في والتركيز في صعوبة الأعراض التي تشعر بها كلما كان أفضل لك. تناول طعامك وفقا منتظم. تأكد من أنك تتناول طعاما صحيا يحتوي على قدر كافي من الفاكهة والخضروات ساعات يوميا على الأقل، ولكن حاول ألا أكثر من ساعات. ضع خطة الساعات المتبقية أيضا. ضع قائمة بالأشياء التي يجب فعلها خلال الوقت في إنجاز لم القيام بها مثل تنظيف المرحاض أو إرسال بعض الرسائل الإلكترونية التي كنت خلال التعرض الانسحاب الأولية قد تعاني من شديد طور لمواجهة وتقليل احتمالية إن كانت رغبتك قوية جدا من أخبر نفسك فقط، وبعد جرب أخرى، أعراض الانسحاب خلال فترات زمنية قصيرة أكثر يساعدك أكثر في مواجهة الأمر، كن قويا أن الأمر سيصبح أسهل مع الوقت. نفسك انتباهك عن الأمر والتفكير في شيء آخر، وكن بمدى ضبط النفس الذي استطعت الوصول إليه. جرب الصلاة أعراض الانسحاب الأولية يمكن أن تكون صعبة جدا وقد تجد أن الصلاة أو التأمل...'"
      ]
     },
     "metadata": {},
     "output_type": "display_data"
    },
    {
     "name": "stdout",
     "output_type": "stream",
     "text": [
      "\n"
     ]
    },
    {
     "data": {
      "application/vnd.google.colaboratory.intrinsic+json": {
       "type": "string"
      },
      "text/plain": [
       "' Reference: تحكم في بيئتك المحيطة. حدد الأشخاص الذين يمكنهم مساعدتك. توقع أعراض الانسحاب واستعد لها. فكر في الاستعانة بالأدوية للتغلب على أعراض الانسحاب. تشبث بروتين يومي. واجه التوق الشديد للعقار. ركز على عادات جديدة.'"
      ]
     },
     "metadata": {},
     "output_type": "display_data"
    },
    {
     "name": "stdout",
     "output_type": "stream",
     "text": [
      "\n"
     ]
    },
    {
     "data": {
      "application/vnd.google.colaboratory.intrinsic+json": {
       "type": "string"
      },
      "text/plain": [
       "' Generated: قم على عضلاتك احرص على قم بزيارة طبيبك إذا كانت مصابا'"
      ]
     },
     "metadata": {},
     "output_type": "display_data"
    },
    {
     "name": "stdout",
     "output_type": "stream",
     "text": [
      "------------------------------------------------------------\n",
      "\n",
      "--- Example 3 ---\n"
     ]
    },
    {
     "data": {
      "application/vnd.google.colaboratory.intrinsic+json": {
       "type": "string"
      },
      "text/plain": [
       "' Original: هناك العديد من التي قد ترغب في والتي تتيح جميعها إطلاق شيوعا هو في صندوق بحيث يمكنه الدخول لكن ليس الخروج. هذه من الطرق في سيكون عليك على بعد خمسة كيلو على الأقل من منزلك عند ربما في منطقة الأشجار مكانا آخر يعيشون فيه. لن يحل قتل أو إبعاد المشكلة تماما ولن لفترة طويلة. عند قتل الحيوانات أو المزيد لاستخدام الموارد وفي الواقع فإن قتل الفئران قد يسبب مؤقتا في مصادر الغذاء مما ينتج باقي ورغم ذلك، لا يزال من الأفضل تقليل العدد بدلا من لها. استخدم وعاء اقلب الوعاء الكبير مع وضع بعض الشوكولاتة حافظ على بزاوية مائلة مع وضع العملة على الحافة العملة مع حافة ثم اتركه في مكان أسفل الوعاء الوصول في الأعلى ما الوعاء خذ لمكان بعيد عن المنزل. يمكنك استخدام حوض سمك بحجم كبير يزيد عن لتر مثلا مع وضع بعض الطعام ضع الحوض في مكان سبق لك رؤية فيه في مكان طريق ضع شيئا بجوار الحوض يسهل على مثل كومة من من المفترض أن يحاول الوصول للطعام إلى الحوض، وبعد يصبح تفقد بانتظام. ضع غطاء على الحوض إذا وجدت بعيدا عن المنزل. لوقت قصير لذا تصرف بسرعة. ضع سلة على ثم قم بإدخال أطراف المنشفة تحت السلة بحيث تكون على الأرض. قم لوح كبير تحت السلة الصحيح بحذر مع اللوح على جوانب خذ كل ما سبق أو مكان ممكن عن منزلك. عند عن المنزل....'"
      ]
     },
     "metadata": {},
     "output_type": "display_data"
    },
    {
     "name": "stdout",
     "output_type": "stream",
     "text": [
      "\n"
     ]
    },
    {
     "data": {
      "application/vnd.google.colaboratory.intrinsic+json": {
       "type": "string"
      },
      "text/plain": [
       "' Reference: جرب المصائد التجارية. اصنع فخا رحيما. قم بإغواء الفأر لدخول حاوية لا يستطيع الخروج منها. ألق منشفة على الفأر.'"
      ]
     },
     "metadata": {},
     "output_type": "display_data"
    },
    {
     "name": "stdout",
     "output_type": "stream",
     "text": [
      "\n"
     ]
    },
    {
     "data": {
      "application/vnd.google.colaboratory.intrinsic+json": {
       "type": "string"
      },
      "text/plain": [
       "' Generated: تفقد ارتد أزل'"
      ]
     },
     "metadata": {},
     "output_type": "display_data"
    },
    {
     "name": "stdout",
     "output_type": "stream",
     "text": [
      "------------------------------------------------------------\n",
      "\n",
      "--- Example 4 ---\n"
     ]
    },
    {
     "data": {
      "application/vnd.google.colaboratory.intrinsic+json": {
       "type": "string"
      },
      "text/plain": [
       "' Original: كثيرا ما الفئران بحثا عن الطعام وعلى الأرجح لن تبقى إذا لم تجد شيئا احرص على تخزين الأطعمة في محكمة أو أماكن آمنة من زيت النعناع هو طارد ببساطة لأن رائحته جدا بالنسبة ولن الاقتراب منها. كذلك تغطي على رائحته روائح الطعام التي ربما لم تنتبه لها عند التنظيف كما أنها تعطي رائحة جميلة للمنزل وهي غير سامة على عكس كثير من العلاجات الكيميائية يمكنك الحصول على زيت النعناع من معظم متاجر الأطعمة الصحية أو بعض متاجر الخضراوات الكبيرة. ضع نقطة أو اثنتين على كرة من ضع الكرة القطنية أسفل أو بالقرب من سلة القمامة لطرد الفئران من الدخول إليها. ضع الكرات القطنية في أماكن دخول الفئران مثل الأبواب أو فتحات ... يجب استبدال كرات زيت النعناع القطنية بعد - أيام، على حسب كمية الزيت التي قمت حاول زرع النعناع قرب يمكن استخدام النعناع في الطبخ بالإضافة لاستخدامه قم بزيارة مركز المحلي أو حديقة الحيوان أو متاجر الحيوانات الأليفة واطلب بعض فضلات قد تجد شخصا يقوم ضعه بالقرب من والأماكن التي في دخول الفئران إليها، فهذا احرص على إبعاد هذه الفضلات عن متناول الأطفال والحيوانات الأليفة. هنالك وحدات تباع وتقوم بإرسال أصوات فوق صوتية والتي من المفترض أن تكون متوفرة في المتاجر المحلية في منطقتك أو على الانترنت. تعمل هذه على خط واحد لذا عليك معرفة طرق مرور الفئران بدقة. قد تنجح هذه لفترة قصيرة لأنه من الممكن أن تعتاد عليها تقوم العديد من الشركات المتخصصة في الزراعة العضوية المنزلية أفضل من السموم العديد منها يستخدم مكونات طبيعية مثل النعناع المعروف الفئران منه. لا تقتل هذه المنتجات الفئران لكنها عن الأماكن المستخدمة فيها. تتوافر هذه المنتجات في مراكز الزراعة المحلية أو الأغراض المنزلية. إذا رغبت في شراء منتج ما فعليك البحث على الانترنت للتأكد من وجوده القطط التي تمضي وقتا طويلا في الخارج هي على الصيد لإيجاد وربما تستطيع تتبع لكن كن حذرا فليس لدى جميع القطط الطاقة الكافية أو الاهتمام أو التدريب يجب أن تقوم القطة حتى يمكنهم القطط المنزلية والتي يقوم جيدا تنظر منه بسرعة بعد عادة لا تعلم إذا ما كانت القطة جيدة ولا أحيانا هذا المعلومة لكن غالبا لا. العديد من الفئران حيوانات منزلية لكن ليس كذلك. قد لا هذه القطط كما يجب مع البشر رغم على الفئران يمكنك استخدام لطرد الفئران حتى إذا لم تكن لديك ضع القطط قرب مدخل البيت. الفئران رائحة بول القطط إذا كنت تعاني من فقد لا تكون القطة كافية للتخلص منه. لكن بمجرد تحديد ستكون القطة على الأغلب قادرة على منع إعادة الفئران رائحة القمامة إبقاء القمامة بعيدة عن المنزل يقلل من دخول الفئران إليه. قم ببناء صندوق...'"
      ]
     },
     "metadata": {},
     "output_type": "display_data"
    },
    {
     "name": "stdout",
     "output_type": "stream",
     "text": [
      "\n"
     ]
    },
    {
     "data": {
      "application/vnd.google.colaboratory.intrinsic+json": {
       "type": "string"
      },
      "text/plain": [
       "' Reference: حافظ على نظافة منزلك. ضع زيت النعناع. استخدم براز الأفاعي المجفف. اطرد الفئران بالموجات فوق الصوتية. استخدم طاردا عضويا تجاريا. أحضر قطة وقد تتكفل هي بحل المشكلة. ضع حاوية القمامة بعيدا عن المنزل. اعمل على زيادة تعشيش الطيور الجارحة في باحتك.'"
      ]
     },
     "metadata": {},
     "output_type": "display_data"
    },
    {
     "name": "stdout",
     "output_type": "stream",
     "text": [
      "\n"
     ]
    },
    {
     "data": {
      "application/vnd.google.colaboratory.intrinsic+json": {
       "type": "string"
      },
      "text/plain": [
       "' Generated: حدد ما إذا كان استخدم بدائل إذا كان استخدام انقل الملكية من'"
      ]
     },
     "metadata": {},
     "output_type": "display_data"
    },
    {
     "name": "stdout",
     "output_type": "stream",
     "text": [
      "------------------------------------------------------------\n",
      "\n",
      "--- Example 5 ---\n"
     ]
    },
    {
     "data": {
      "application/vnd.google.colaboratory.intrinsic+json": {
       "type": "string"
      },
      "text/plain": [
       "' Original: أحيانا تكون هنالك دهنية وغالبا الطعام قرب بالإضافة لوجود رائحة حدد البقعة بمادة ملونة إذا كان إيجادها صعبا حتى تتمكن من العودة لها بسهولة. ابدأ الداخلية لأنه من الأفضل دائما ترك قد منزلك أو بحثا عن فضلات أسهل في مكان آخر. استخدم مادة ملونة أو عجينة من الجبس مثلا الفتحات الصغيرة نسبيا. ستحتاج إلى استخدام الشريط اللاصق على الجدار في حالة الفتحات الكبيرة والتي لا يمكن أو هذا عمل أكبر لكنه مهم إذ أن يستطيع بالتأكيد عبر الفتحات الكبيرة. تأكد من الألواح وعدم وجود فيها، حتى تمنع الفئران قد تقوم الفئران جديدة إذا بين لذا من المهم فرصة للخروج قبل سد نقطة الدخول الخارجية. ينصح عادة الفتحات بالألياف لكنها ولذا لا تعد حلا دائما، بدلا من ذلك استخدم المطبخ الصحيح أو استخدم تنظيف مع تغطية جوانب الفتحة وإلا الفتحات الأكبر ستحتاج إلى قم أية فتحات في من الخارج بعد من إغلاق الفتحات في الجدران الداخلية. قد تستخدم تنظيف لكن في بعض الحالات تكون الجدران بحاجة أخرى. ابحث عن أي دليل على استمرار نشاط الفئران بعد يومين. تفقد الفتحات التي قمت وابحث عن فتحات أخرى إذا وجدت أيا منها. قم حسب الحاجة. قم بتنظيف محيط أزل الطعام المنطقة للتخلص من الرائحة. استخدم من جزء من المنظف أجزاء من الماء....'"
      ]
     },
     "metadata": {},
     "output_type": "display_data"
    },
    {
     "name": "stdout",
     "output_type": "stream",
     "text": [
      "\n"
     ]
    },
    {
     "data": {
      "application/vnd.google.colaboratory.intrinsic+json": {
       "type": "string"
      },
      "text/plain": [
       "' Reference: جد مكان دخول الفئران. قم بسد أية فتحات في الجدران الداخلية. قم بسد نقاط الدخول الخارجية. تفقد نقط الدخول مجددا.'"
      ]
     },
     "metadata": {},
     "output_type": "display_data"
    },
    {
     "name": "stdout",
     "output_type": "stream",
     "text": [
      "\n"
     ]
    },
    {
     "data": {
      "application/vnd.google.colaboratory.intrinsic+json": {
       "type": "string"
      },
      "text/plain": [
       "' Generated: قم إلى درجة حرارة درجة مئوية. اقطع أضف الماء في ماء جرب تدريب'"
      ]
     },
     "metadata": {},
     "output_type": "display_data"
    },
    {
     "name": "stdout",
     "output_type": "stream",
     "text": [
      "------------------------------------------------------------\n",
      "\n",
      "--- Example 6 ---\n"
     ]
    },
    {
     "data": {
      "application/vnd.google.colaboratory.intrinsic+json": {
       "type": "string"
      },
      "text/plain": [
       "' Original: تأكد قبل وضع أي شيء في المرحاض ألا ضرر من ذلك. قائمة الأشياء التي لا بأس في المرحاض قصيرة جدا وهي تشمل في معظم الحالات الفضلات البشرية الحمام فقط. لا تحاول أبدا التخلص من المناشف أو المناديل الورقية أو المكياج أو السدادات أو الواقي الذكري أو أو الشعر أو أي مواد أخرى لا تذوب بسهولة بعد الطريقة لنفسك المشاكل عمليات في وقت لاحق. هي السبب الرئيسي في المنازل التي تضم أبق باب الحمام إذا كان لديك أطفال واحرص أن أنه ليس مكانا مناسبا ضع سلة صغيرة بغطاء قرب المرحاض حتى يسعك أنت أو ما لا يمكن سيكون من غير الآمن غالبا طرد شيء ما في المرحاض إذا في تحدث معظم نتيجة تراكم المناديل الورقية الزائدة التي تعلق في قبل أن يتاح لها الوقت اللازم انتبه المناديل بانتظام وتأكد أنك تستخدم القدر الضروري فقط حاول استخدام حمام مختلف من آن لآخر إذا كان بيتك يحتوي أكثر من واحد حتى لا تشغل أكثر مما ضع في اعتبارك طرد الماء مرتين إذا ظننت أن مرة واحدة لا فليس ثمة حاجة لاستخدام نصف المناديل في كل مرة تحتاج ضع في اعتبارك الانتقال إلى المناديل ذات الطبقة الواحدة إذا كنت تواجه مشاكل الانسداد قد لا تكون بنفس درجة الراحة أو لكنها بمعدل أسرع بكثير بعد الماء. نصف المناديل عند الماء إذا كانت كثيرة وكرر عند الانتهاء. تعتبر أفضل طرق منع الانسداد هي الانتباه حين في تكون قد يكون هناك تدفق الماء في مكان ما إذا كان مستوى الماء في المرحاض أو وجدت مشكلة في أو كانت إعادة استخدم الانسداد قبل أن بما يكفي لاستخدام ابحث عن الفقاعات في ماء المرحاض في فقد تكون هذه علامات تدل على يجب يفترض أن تكون أولى هي استخدام وعدم وضع أشياء غير مناسبة في المرحاض. من أن تجد نفسك في وضع يتطلب استخدام إذا احرص على تنظيف المرحاض مرة أو مرتين في الشهر على الأقل. استخدم المواد المخصصة وانتبه لأي علامات دالة على تكون يمكن أن تساعد المنظفات في إذابة المناديل الصعبة وغيرها من الفضلات في كما سبق كما أنها على نظافة الحمام يضمن تنظيف الماء الموجودة في الحمام ما يساعد في التخلص من الفضلات المحتملة العالقة في...'"
      ]
     },
     "metadata": {},
     "output_type": "display_data"
    },
    {
     "name": "stdout",
     "output_type": "stream",
     "text": [
      "\n"
     ]
    },
    {
     "data": {
      "application/vnd.google.colaboratory.intrinsic+json": {
       "type": "string"
      },
      "text/plain": [
       "' Reference: لا تضع في المرحاض سوى الأشياء القابلة للذوبان. قلل مقدار المناديل الورقية التي تستخدمها. حدد المشكلة باكرا. حافظ على نظافة الحمام والمواسير.'"
      ]
     },
     "metadata": {},
     "output_type": "display_data"
    },
    {
     "name": "stdout",
     "output_type": "stream",
     "text": [
      "\n"
     ]
    },
    {
     "data": {
      "application/vnd.google.colaboratory.intrinsic+json": {
       "type": "string"
      },
      "text/plain": [
       "' Generated: حضر السلامة عن حدد أنواع على الفم.'"
      ]
     },
     "metadata": {},
     "output_type": "display_data"
    },
    {
     "name": "stdout",
     "output_type": "stream",
     "text": [
      "------------------------------------------------------------\n",
      "\n",
      "--- Example 7 ---\n"
     ]
    },
    {
     "data": {
      "application/vnd.google.colaboratory.intrinsic+json": {
       "type": "string"
      },
      "text/plain": [
       "' Original: ضع بعض المناديل أو لحماية الأرضية فمن المحتمل أن الماء من المرحاض مع عمل على سيكون هذا الماء سبب الانسداد أيا كان في يمكن لتغطية الأرضية أن التعامل مع مزيد من الفوضى لاحقا . اغسل المستخدمة على الفور بعد الانتهاء وامسح الأرض بمحلول سيصبح الوضع في الغالب لذا ارتد لوضع حاجز بين جلدك التي قد تجدها على الطرف الآخر من أيا مليئة وإذا لم تتخذ اللازمة لحماية يديك والحفاظ على فستكون النتيجة إصابتك تخلص من حين تنتهي واغسل يديك لدقيقة كاملة بالصابون المضاد للبكتيريا والماء الساخن. سيكون عليك إزالة السلك لا تنس رفع أثناء العمل كي لا لقد نجحت في استخراج ما لكن ماذا به الآن؟ ضع كيس أو قريبا منك وضع المادة المسببة به بدل محاولة الماء عليها مجددا مشكلة جديدة، يمكنك بهذه الطريقة الكيس في القمامة أو شطف الدلو جيدا يومك. يعتبر كيس البقالة البلاستيكي وسيلة مثالية للتخلص من اربط الكيس بعد وضع المادة المزعجة في استخدم في المرحاض بضع مرات بعد إتمام المهمة للتخلص من أي بقايا ثم اسكب بعضا من منظف المركز وقم الماء مرتين. الكيماويات الموجودة في تنظيف قوية بما يكفي ما تبقى في كما أن المرحاض من النظافة ويصبح جاهزا للاستخدام بعدها وتلك إضافية. استخدم المنظفات المخصصة فقط إذ يمكن العادية أن تسبب أنابيب أنظمة الصرف الصحي. كما يمكن منزلي من الخل الخبز أن يؤثر تأثير في تنظيف بعد اسكب كوبا من صودا الخبز تقريبا في المرحاض وأضف كوبين من الخل حتى لا الخليط على وانتظر دقائق ثم ادفع الماء....'"
      ]
     },
     "metadata": {},
     "output_type": "display_data"
    },
    {
     "name": "stdout",
     "output_type": "stream",
     "text": [
      "\n"
     ]
    },
    {
     "data": {
      "application/vnd.google.colaboratory.intrinsic+json": {
       "type": "string"
      },
      "text/plain": [
       "' Reference: غط أرضية المرحاض. ارتد القفازات. جهز كيس قمامة أو غيره من الأوعية. اسكب منظف المراحيض وقم بدفق الماء في الأنابيب.'"
      ]
     },
     "metadata": {},
     "output_type": "display_data"
    },
    {
     "name": "stdout",
     "output_type": "stream",
     "text": [
      "\n"
     ]
    },
    {
     "data": {
      "application/vnd.google.colaboratory.intrinsic+json": {
       "type": "string"
      },
      "text/plain": [
       "' Generated: ابحث عن الضغط أزل الزائدة الطيور'"
      ]
     },
     "metadata": {},
     "output_type": "display_data"
    },
    {
     "name": "stdout",
     "output_type": "stream",
     "text": [
      "------------------------------------------------------------\n",
      "\n",
      "--- Example 8 ---\n"
     ]
    },
    {
     "data": {
      "application/vnd.google.colaboratory.intrinsic+json": {
       "type": "string"
      },
      "text/plain": [
       "' Original: قم الطرف المعدني في المرحاض. ابدأ إدخال السلك في هناك في طرف والذي يساعد في الكتل في تأكد من سلامة الغطاء البلاستيكي الموجود في نهاية حتى لا اللاصق إذا لم يكن يجب ألا يكون الكابل إذا كان كل شيء كما ابدأ بلف مقبض الطرف الآخر بمعدل ثابت بعد وضع مكانه فهذا السلك ببطء في تصنع هذه الأدوات من ملفات معدنية مرنة حتى يمكن مع اسحب للخلف قليلا إذا لم المقبض ربع عكس اتجاه عقارب الساعة وحاول مرة أخرى. قد يكون انسداد المرحاض ببساطة لف المقبض بضع مرات. لعلك وجدت مقاومة إذا لاحظت أن أبطأ أو على ادفع قليلا لتساعد في ما يعلق في واصل لف المقبض مع حركة عقارب الساعة حتى لا تكن مع عصا ولا تحاول سحب الكتلة تابع في الاتجاه واتركه الانسداد بنفسه. لف المقبض في الاتجاه عقارب لسحب بعد تحديد مكان الانسداد والعمل عليه ما قد اسحب الكتلة دوما بدلا من محاولة أكثر في كرر هذه العملية حتى الأنبوب بالكامل. قد يؤدي دفع الانسداد أكثر إلى تفاقم سوء المشكلة لأنه قد يصل لا يسعك احرص دوما على تطهير بعد كل استخدام ويمكن تحقيق هذا خارج البيت كما يمكنك ترك في المرحاض الماء بضع مرات بعد استخدام منظف المرحاض....'"
      ]
     },
     "metadata": {},
     "output_type": "display_data"
    },
    {
     "name": "stdout",
     "output_type": "stream",
     "text": [
      "\n"
     ]
    },
    {
     "data": {
      "application/vnd.google.colaboratory.intrinsic+json": {
       "type": "string"
      },
      "text/plain": [
       "' Reference: ضع طرف الأوجير في المرحاض. لف المقبض الملتوي مع حركة عقارب الساعة. تحسس الانسداد في المواسير. فتت الانسداد أو تخلص من أكبر قدر ممكن منه.'"
      ]
     },
     "metadata": {},
     "output_type": "display_data"
    },
    {
     "name": "stdout",
     "output_type": "stream",
     "text": [
      "\n"
     ]
    },
    {
     "data": {
      "application/vnd.google.colaboratory.intrinsic+json": {
       "type": "string"
      },
      "text/plain": [
       "' Generated: املأ اقطع طبقة في في استخدم البذور. ارسم خطا ارسم خطا في إطار ارسم'"
      ]
     },
     "metadata": {},
     "output_type": "display_data"
    },
    {
     "name": "stdout",
     "output_type": "stream",
     "text": [
      "------------------------------------------------------------\n",
      "\n",
      "--- Example 9 ---\n"
     ]
    },
    {
     "data": {
      "application/vnd.google.colaboratory.intrinsic+json": {
       "type": "string"
      },
      "text/plain": [
       "' Original: يجب أن تكون إلى بعضها البعض لتبدأ ضع يدك في الماء، الأصابع أولا فوق رأسك بحوالي سم تقريبا. يجب أن تكون راحة يدك بزاوية للخارج بحيث تدخل في الماء أولا، وأن يكون لأسفل فوق الأصابع فوق يجب أن تسبب يدك الماء قدر الإمكان عند لذا قم ذراعك مسافة سم إضافية. اضغط يدك للأسفل بمجرد الماء مع أصابعك قليلا. يسمى هذا الماء أو . يمكنك ارتداء الماء لتساعدك على التركيز على كيفية دخول يدك من الماء إذا أردت أن تحسن أسلوب يدك. تجنب وضع يدك في الماء فوق رأسك مباشرة، لأن هذا هذا لا تضرب الماء بقوة ولكن دخول يدك الماء ذراعك فيه بدلا من ذلك. لا تتحرك ذراعك للأمام أثناء التخلص لكنها توفر الدعم الذي يقوم تحت الماء. من المهم أن تعمل على أسلوب التخلص لتضمن أن يكون وضع يدك جيدا. مد يدك للأمام كتفك خارج الماء لإنهاء الحركة حيث يجب أن تكون أصابعك فوق الماء وأن يدك بدرجة أوسع من يجب أن يكون ذراعك الحركة أيضا. ركز على إدارة ذراعك للأمام ولا للأسفل بالقوة في نهاية الخروج....'"
      ]
     },
     "metadata": {},
     "output_type": "display_data"
    },
    {
     "name": "stdout",
     "output_type": "stream",
     "text": [
      "\n"
     ]
    },
    {
     "data": {
      "application/vnd.google.colaboratory.intrinsic+json": {
       "type": "string"
      },
      "text/plain": [
       "' Reference: اجعل وضع يدك وحالتها مثاليا. حرك مرفقك خارج الماء مظهرا التخلص.'"
      ]
     },
     "metadata": {},
     "output_type": "display_data"
    },
    {
     "name": "stdout",
     "output_type": "stream",
     "text": [
      "\n"
     ]
    },
    {
     "data": {
      "application/vnd.google.colaboratory.intrinsic+json": {
       "type": "string"
      },
      "text/plain": [
       "' Generated: ضع محلول في حوض المياه. ضع داخل المنزل.'"
      ]
     },
     "metadata": {},
     "output_type": "display_data"
    },
    {
     "name": "stdout",
     "output_type": "stream",
     "text": [
      "------------------------------------------------------------\n",
      "\n",
      "--- Example 10 ---\n"
     ]
    },
    {
     "data": {
      "application/vnd.google.colaboratory.intrinsic+json": {
       "type": "string"
      },
      "text/plain": [
       "' Original: تتطلب قوة أقل المسافات المتوسطة إنك واحدة لكل دورة حركة دورة الحركة حركة ذراع واحد. واحدة مع المسح الداخلي المقابل الداخلي هو الذي يبدأ فيه الذراع بسحب الماء تجاه الجزء الأوسط من يمكنك تخيل الكيفية التي يجب مع حركة ذراعك بها إذا كان يمكنك التفكير في توافق ذراعيك أثناء المشي أو كيفية تحرك ذراعيك للأمام في ذات الوقت مع الرجل تتطلب أن ثلاث مرات لكل دورة ستبدأ الثالثة من دورة خلال طور التعافي وهذه أسرع يستخدمها سيكون هناك إضافية الجزء الأمامي من قدميك إذا لم تكن موجهة أثناء يجب أن أصابع قدميك للداخل وأن يقترب من التلامس عندما تمرن على مرونة عند إبراز أصابع قدميك وضع في اعتبارك استخدام حذاء للتدرب على إذا كنت تجد صعوبة في مرونة يمكنك التركيز على كل من أساليب الذراع في السباحة الحرة بسهولة أكبر الإضافي الذي لكن استخدمها فقط لتدريب قدميك أثناء التمارين....'"
      ]
     },
     "metadata": {},
     "output_type": "display_data"
    },
    {
     "name": "stdout",
     "output_type": "stream",
     "text": [
      "\n"
     ]
    },
    {
     "data": {
      "application/vnd.google.colaboratory.intrinsic+json": {
       "type": "string"
      },
      "text/plain": [
       "' Reference: استخدم ركلة الضربتين. وجه أصابع قدميك أثناء الركل.'"
      ]
     },
     "metadata": {},
     "output_type": "display_data"
    },
    {
     "name": "stdout",
     "output_type": "stream",
     "text": [
      "\n"
     ]
    },
    {
     "data": {
      "application/vnd.google.colaboratory.intrinsic+json": {
       "type": "string"
      },
      "text/plain": [
       "' Generated: حافظ على جرب العلاج ارتد ملابس من'"
      ]
     },
     "metadata": {},
     "output_type": "display_data"
    },
    {
     "name": "stdout",
     "output_type": "stream",
     "text": [
      "------------------------------------------------------------\n"
     ]
    }
   ],
   "source": [
    "def generate_seq2seq_summaries(model, test_dataset, tokenizer, num_samples=5):\n",
    "    model.eval()\n",
    "    results = []\n",
    "\n",
    "    for i in range(min(num_samples, len(test_dataset))):\n",
    "        src, _, tgt_out = test_dataset[i]\n",
    "        src = src.unsqueeze(0).to(device)\n",
    "\n",
    "        generated = model.generate(src, max_len=MAX_SUM_LEN, temperature=0.7)\n",
    "\n",
    "        original_text = tokenizer.decode(src.squeeze().cpu())\n",
    "        reference_summary = seq2seq_test_df[\"summary\"].iloc[i]\n",
    "        generated_summary = tokenizer.decode(generated.squeeze().cpu())\n",
    "\n",
    "        results.append(\n",
    "            {\n",
    "                \"original\": original_text,\n",
    "                \"reference\": reference_summary,\n",
    "                \"generated\": generated_summary,\n",
    "            }\n",
    "        )\n",
    "\n",
    "        print(f\"\\n--- Example {i + 1} ---\")\n",
    "        display(f\" Original: {original_text}...\")\n",
    "        print()\n",
    "        display(f\" Reference: {reference_summary}\")\n",
    "        print()\n",
    "        display(f\" Generated: {generated_summary}\")\n",
    "        print(\"-\" * 60)\n",
    "\n",
    "    return results\n",
    "\n",
    "\n",
    "def calculate_bleu_rouge_scores(results):\n",
    "    bleu_scores = []\n",
    "    rouge_scores = {\"rouge1\": [], \"rouge2\": [], \"rougeL\": []}\n",
    "\n",
    "    # Initialize ROUGE scorer\n",
    "    scorer = rouge_scorer.RougeScorer([\"rouge1\", \"rouge2\", \"rougeL\"], use_stemmer=False)\n",
    "\n",
    "    for result in results:\n",
    "        reference = result[\"reference\"]\n",
    "        generated = result[\"generated\"]\n",
    "\n",
    "        # BLEU score (sentence-level)\n",
    "        if reference and generated:\n",
    "            # Simple BLEU calculation\n",
    "            ref_words = reference.split()\n",
    "            gen_words = generated.split()\n",
    "\n",
    "            if len(gen_words) > 0 and len(ref_words) > 0:\n",
    "                # Calculate simple overlap-based score\n",
    "                overlap = len(set(ref_words).intersection(set(gen_words)))\n",
    "                precision = overlap / len(gen_words)\n",
    "                recall = overlap / len(ref_words)\n",
    "                f1 = (\n",
    "                    2 * precision * recall / (precision + recall)\n",
    "                    if (precision + recall) > 0\n",
    "                    else 0\n",
    "                )\n",
    "                bleu_scores.append(f1)\n",
    "            else:\n",
    "                bleu_scores.append(0.0)\n",
    "\n",
    "            # ROUGE scores\n",
    "            try:\n",
    "                rouge_result = scorer.score(reference, generated)\n",
    "                rouge_scores[\"rouge1\"].append(rouge_result[\"rouge1\"].fmeasure)\n",
    "                rouge_scores[\"rouge2\"].append(rouge_result[\"rouge2\"].fmeasure)\n",
    "                rouge_scores[\"rougeL\"].append(rouge_result[\"rougeL\"].fmeasure)\n",
    "            except:\n",
    "                rouge_scores[\"rouge1\"].append(0.0)\n",
    "                rouge_scores[\"rouge2\"].append(0.0)\n",
    "                rouge_scores[\"rougeL\"].append(0.0)\n",
    "        else:\n",
    "            bleu_scores.append(0.0)\n",
    "            rouge_scores[\"rouge1\"].append(0.0)\n",
    "            rouge_scores[\"rouge2\"].append(0.0)\n",
    "            rouge_scores[\"rougeL\"].append(0.0)\n",
    "\n",
    "    return {\n",
    "        \"bleu\": np.mean(bleu_scores),\n",
    "        \"rouge1\": np.mean(rouge_scores[\"rouge1\"]),\n",
    "        \"rouge2\": np.mean(rouge_scores[\"rouge2\"]),\n",
    "        \"rougeL\": np.mean(rouge_scores[\"rougeL\"]),\n",
    "    }\n",
    "\n",
    "\n",
    "# Load best model\n",
    "try:\n",
    "    checkpoint = torch.load(\"best_seq2seq_model.pt\", map_location=device)\n",
    "    seq2seq_model.load_state_dict(checkpoint[\"model_state_dict\"])\n",
    "\n",
    "except:\n",
    "    print(\"Using current model state\")\n",
    "\n",
    "# Generate summaries\n",
    "seq2seq_results = generate_seq2seq_summaries(\n",
    "    seq2seq_model, seq2seq_test_dataset, seq2seq_tokenizer, num_samples=10\n",
    ")"
   ]
  },
  {
   "cell_type": "code",
   "execution_count": null,
   "id": "zyBejHIP3QIT",
   "metadata": {
    "colab": {
     "base_uri": "https://localhost:8080/"
    },
    "id": "zyBejHIP3QIT",
    "outputId": "6e83d70e-38e2-497d-861f-85a50cb4b4cd"
   },
   "outputs": [
    {
     "name": "stdout",
     "output_type": "stream",
     "text": [
      "Seq2Seq Model Evaluation Results:\n",
      "==================================================\n",
      "  BLEU Score: 0.045\n",
      "  ROUGE-1 F1: 0.054\n",
      "  ROUGE-2 F1: 0.000\n",
      "  ROUGE-L F1: 0.054\n"
     ]
    }
   ],
   "source": [
    "# Calculate evaluation metrics\n",
    "seq2seq_scores = calculate_bleu_rouge_scores(seq2seq_results)\n",
    "\n",
    "print(f\"Seq2Seq Model Evaluation Results:\")\n",
    "print(f\"{'=' * 50}\")\n",
    "print(f\"  BLEU Score: {seq2seq_scores['bleu']:.3f}\")\n",
    "print(f\"  ROUGE-1 F1: {seq2seq_scores['rouge1']:.3f}\")\n",
    "print(f\"  ROUGE-2 F1: {seq2seq_scores['rouge2']:.3f}\")\n",
    "print(f\"  ROUGE-L F1: {seq2seq_scores['rougeL']:.3f}\")"
   ]
  },
  {
   "cell_type": "markdown",
   "id": "giBOxSHxFNi9",
   "metadata": {
    "id": "giBOxSHxFNi9"
   },
   "source": [
    "### BERT Implementation\n",
    "\n",
    "BERT-based extractive summarization using AraBERT for sentence embedding similarity and automatic text summarization."
   ]
  },
  {
   "cell_type": "code",
   "execution_count": null,
   "id": "1TyldVNTLUus",
   "metadata": {
    "id": "1TyldVNTLUus"
   },
   "outputs": [],
   "source": [
    "class BERTExtractiveSum:\n",
    "    def __init__(self, model_name=\"asafaya/bert-base-arabic\"):\n",
    "        self.tokenizer = BertTokenizer.from_pretrained(model_name)\n",
    "        self.model = BertModel.from_pretrained(model_name)\n",
    "        self.device = device\n",
    "        self.model.to(self.device)\n",
    "\n",
    "    def get_sentence_embeddings(self, sentences):\n",
    "        embeddings = []\n",
    "\n",
    "        self.model.eval()\n",
    "        with torch.no_grad():\n",
    "            for sentence in sentences:\n",
    "                # Tokenize\n",
    "                inputs = self.tokenizer(\n",
    "                    sentence,\n",
    "                    return_tensors=\"pt\",\n",
    "                    max_length=512,\n",
    "                    truncation=True,\n",
    "                    padding=True,\n",
    "                ).to(self.device)\n",
    "\n",
    "                # Get embeddings\n",
    "                outputs = self.model(**inputs)\n",
    "\n",
    "                embedding = outputs.last_hidden_state[:, 0, :].cpu().numpy()\n",
    "                embeddings.append(embedding.squeeze())\n",
    "\n",
    "        return np.array(embeddings)\n",
    "\n",
    "    def extractive_summarize(self, text, num_sentences=2):\n",
    "        # Split into sentences\n",
    "        sentences = re.split(r\"[.!؟\\n]+\", text)\n",
    "        sentences = [s.strip() for s in sentences if len(s.strip()) > 10]\n",
    "\n",
    "        if len(sentences) <= num_sentences:\n",
    "            return text\n",
    "\n",
    "        # Get sentence embeddings\n",
    "        sentence_embeddings = self.get_sentence_embeddings(sentences)\n",
    "\n",
    "        # Calculate document embedding (mean of all sentences)\n",
    "        doc_embedding = np.mean(sentence_embeddings, axis=0)\n",
    "\n",
    "        # Calculate similarity scores\n",
    "        similarities = cosine_similarity([doc_embedding], sentence_embeddings)[0]\n",
    "\n",
    "        # Get top sentences\n",
    "        top_indices = np.argsort(similarities)[-num_sentences:][::-1]\n",
    "\n",
    "        # Return sentences in original order\n",
    "        selected_sentences = [sentences[i] for i in sorted(top_indices)]\n",
    "\n",
    "        return \" \".join(selected_sentences)"
   ]
  },
  {
   "cell_type": "markdown",
   "id": "SLLsHhuXio2F",
   "metadata": {
    "id": "SLLsHhuXio2F"
   },
   "source": [
    "#### Model Initialization and Configuration"
   ]
  },
  {
   "cell_type": "code",
   "execution_count": null,
   "id": "tnA_dBbTGDTU",
   "metadata": {
    "colab": {
     "base_uri": "https://localhost:8080/",
     "height": 336,
     "referenced_widgets": [
      "244e4f27002e446f82fcdc79cae50acf",
      "596e3daf1efd4449ac39217a654e43d8",
      "df00611417584d0796bf394e29850155",
      "1af5089b562944f5a4c4ff00c9f77426",
      "ebc70cd0599d4ee792c7f0d4cc08af2f",
      "c2743b39920043479e1e62fb56c61ab9",
      "94f2b90375b14309a5f494853f6625eb",
      "f3812b56ace34850b6ffa351384ac66e",
      "c5ea195ac150445cb2a1c19ec412ca78",
      "d8a20bc851604a2486d99e282b9bf428",
      "774d1b7f36a24bbca7d5012013346a83",
      "1af0e5592c8b4186af1eb61a87c64df8",
      "6ee4b2ab085649739a86a23202955f25",
      "db6a3a148c314c7d9e847236e6bed931",
      "a4b6110e236d45d98fa20db02ca6acf1",
      "97fd23a5299448769dd6c962a5f55253",
      "7bb0fb71d75f4ad4a6882292f75b0b13",
      "8a67a1488b4d4ab29ad2676f5e362186",
      "c8852e6b0aa24a1d94180fa6844610cf",
      "04b6f481592148b999a56e31efa050b7",
      "f2863b8111c544728ee35cb5d8b2b1c5",
      "d4cde04a282b4b29851c9b1a6c83c615",
      "ac5fd0ffa52e46f2b506927015b5506e",
      "7f76183f37e143ceafd11a292e49d3d6",
      "02af68c8a08248d3a64df6ae947fe8f0",
      "75d941ffd31e4d6cb91ed64aced47663",
      "f2bb9f7f281a463590889a1364acba5e",
      "331f97ea75be4538b55a4ca6537fb083",
      "c48280fc3bac4424b52451555d6ac816",
      "69294a0edeea4c0b91b0680a270c75b2",
      "7356d1d4ac714d46aa609ce9549438e9",
      "bba50a1ac4734c1d94d7dab65119fdfa",
      "23cdbd0097d54b5e9c435ab8171b9a03",
      "6b2a8ede399e4894aebb0d0a7936187a",
      "22dd63f567f94c448c63509664528627",
      "9fa09a70b786429cbe4c5582e5ecc015",
      "e37c08e7d030411eac59e4fa264eebad",
      "166f68707f234b48b96acd003db91c3f",
      "44af3f7143ff4d0890b8f9befd50f7ec",
      "df2ea397a97c4f2b8a3a3ef2da8db45e",
      "4b5a62355e224df7b0eed4dbe1ac7785",
      "fe8f8e01694c44ec9dee49c515c8250a",
      "53c83bce025a4026b70ccff8d3639333",
      "efbc3bae77454609b7a7c37c5e7cd815",
      "4f39a1c318fd41b0a889d8aa66de5ecc",
      "78381a73502044ba838be5bab98a405f",
      "a56dd7de37924a9f93309d9e1de3e51c",
      "6bb967047dfd4c77a972bf3bea8cadb1",
      "3259c19eeaeb4a59926f722aae432a43",
      "d9f21910c7c642d7a15892093cac943d",
      "f6d4fd1c7e8243d793c98ba8ece275c5",
      "bfb850aa7d1e43679661157bc94fc626",
      "1b00c631fc7b4b4da78dc33afc0336d6",
      "ad919492e0b64cc8acf556782897a698",
      "43d50ab2633c4d52a7a860efac77e8ec"
     ]
    },
    "id": "tnA_dBbTGDTU",
    "outputId": "ebb55695-3777-41cc-dbe9-80fea9b45d2d"
   },
   "outputs": [
    {
     "name": "stdout",
     "output_type": "stream",
     "text": [
      "Initializing BERT summarization model...\n"
     ]
    },
    {
     "name": "stderr",
     "output_type": "stream",
     "text": [
      "/usr/local/lib/python3.11/dist-packages/huggingface_hub/utils/_auth.py:94: UserWarning: \n",
      "The secret `HF_TOKEN` does not exist in your Colab secrets.\n",
      "To authenticate with the Hugging Face Hub, create a token in your settings tab (https://huggingface.co/settings/tokens), set it as secret in your Google Colab and restart your session.\n",
      "You will be able to reuse this secret in all of your notebooks.\n",
      "Please note that authentication is recommended but still optional to access public models or datasets.\n",
      "  warnings.warn(\n"
     ]
    },
    {
     "data": {
      "application/vnd.jupyter.widget-view+json": {
       "model_id": "244e4f27002e446f82fcdc79cae50acf",
       "version_major": 2,
       "version_minor": 0
      },
      "text/plain": [
       "tokenizer_config.json:   0%|          | 0.00/62.0 [00:00<?, ?B/s]"
      ]
     },
     "metadata": {},
     "output_type": "display_data"
    },
    {
     "data": {
      "application/vnd.jupyter.widget-view+json": {
       "model_id": "1af0e5592c8b4186af1eb61a87c64df8",
       "version_major": 2,
       "version_minor": 0
      },
      "text/plain": [
       "vocab.txt:   0%|          | 0.00/334k [00:00<?, ?B/s]"
      ]
     },
     "metadata": {},
     "output_type": "display_data"
    },
    {
     "data": {
      "application/vnd.jupyter.widget-view+json": {
       "model_id": "ac5fd0ffa52e46f2b506927015b5506e",
       "version_major": 2,
       "version_minor": 0
      },
      "text/plain": [
       "special_tokens_map.json:   0%|          | 0.00/112 [00:00<?, ?B/s]"
      ]
     },
     "metadata": {},
     "output_type": "display_data"
    },
    {
     "data": {
      "application/vnd.jupyter.widget-view+json": {
       "model_id": "6b2a8ede399e4894aebb0d0a7936187a",
       "version_major": 2,
       "version_minor": 0
      },
      "text/plain": [
       "config.json:   0%|          | 0.00/491 [00:00<?, ?B/s]"
      ]
     },
     "metadata": {},
     "output_type": "display_data"
    },
    {
     "data": {
      "application/vnd.jupyter.widget-view+json": {
       "model_id": "4f39a1c318fd41b0a889d8aa66de5ecc",
       "version_major": 2,
       "version_minor": 0
      },
      "text/plain": [
       "model.safetensors:   0%|          | 0.00/445M [00:00<?, ?B/s]"
      ]
     },
     "metadata": {},
     "output_type": "display_data"
    },
    {
     "name": "stdout",
     "output_type": "stream",
     "text": [
      "✓ BERT summarization model saved to ./saved_models/bert_summarization_model\n"
     ]
    }
   ],
   "source": [
    "bert_sum_model_path = os.path.join(MODEL_SAVE_DIR, \"bert_summarization_model\")\n",
    "\n",
    "if os.path.exists(bert_sum_model_path):\n",
    "    print(\"Loading existing BERT summarization model...\")\n",
    "    try:\n",
    "        bert_summarizer = BERTExtractiveSum()\n",
    "        bert_summarizer.model = BertModel.from_pretrained(bert_sum_model_path).to(\n",
    "            device\n",
    "        )\n",
    "        bert_summarizer.tokenizer = BertTokenizer.from_pretrained(bert_sum_model_path)\n",
    "        print(\"✓ Loaded existing BERT summarization model\")\n",
    "    except:\n",
    "        print(\"Failed to load existing model, initializing new one...\")\n",
    "        bert_summarizer = BERTExtractiveSum()\n",
    "else:\n",
    "    bert_summarizer = BERTExtractiveSum()\n",
    "    # Save the model\n",
    "    bert_summarizer.model.save_pretrained(bert_sum_model_path)\n",
    "    bert_summarizer.tokenizer.save_pretrained(bert_sum_model_path)\n",
    "    print(f\"✓ BERT summarization model saved to {bert_sum_model_path}\")"
   ]
  },
  {
   "cell_type": "markdown",
   "id": "XrNAkitUjOoX",
   "metadata": {
    "id": "XrNAkitUjOoX"
   },
   "source": [
    "#### Evaluation and Performance Analysis"
   ]
  },
  {
   "cell_type": "code",
   "execution_count": null,
   "id": "ScWXoH-lGEJx",
   "metadata": {
    "colab": {
     "base_uri": "https://localhost:8080/"
    },
    "id": "ScWXoH-lGEJx",
    "outputId": "fad6d60f-b6ac-463c-ec29-a2fa3ad96364"
   },
   "outputs": [
    {
     "name": "stderr",
     "output_type": "stream",
     "text": [
      "BERT Summarization: 100%|██████████| 5839/5839 [18:39<00:00,  5.22it/s]\n"
     ]
    }
   ],
   "source": [
    "bert_summaries = []\n",
    "for text in tqdm(X_sum_test, desc=\"BERT Summarization\"):\n",
    "    try:\n",
    "        summary = bert_summarizer.extractive_summarize(text, num_sentences=2)\n",
    "        bert_summaries.append(summary)\n",
    "    except Exception as e:\n",
    "        print(f\"Error generating summary: {e}\")\n",
    "        bert_summaries.append(\"\")"
   ]
  },
  {
   "cell_type": "code",
   "execution_count": null,
   "id": "afUiNoIcG37u",
   "metadata": {
    "colab": {
     "base_uri": "https://localhost:8080/",
     "height": 53
    },
    "id": "afUiNoIcG37u",
    "outputId": "c3a65004-b2fc-4a24-96d4-1798bb57b9a3"
   },
   "outputs": [
    {
     "data": {
      "application/vnd.google.colaboratory.intrinsic+json": {
       "type": "string"
      },
      "text/plain": [
       "'ماسحات الزجاج الأمامي مصممة لاتباع حركة ذراع الماسحة، لذلك إذا كانت الشفرات متصلبة ولا تتحرك خلف الذراع ذهابا وإيابا، لف الذراع بيدك لترخية صلابتها تسبب شفرات الماسحة الخشنة صوت حكة وصرير وقد تكون بعض شفرات الماسحة الجديدة خشنة منذ البداية، بينما قد تصبح أخرى خشنة نتيجة التعرض للعناصر المختلفة'"
      ]
     },
     "metadata": {},
     "output_type": "display_data"
    }
   ],
   "source": [
    "display(bert_summarizer.extractive_summarize(X_sum_test[1], num_sentences=2))"
   ]
  },
  {
   "cell_type": "code",
   "execution_count": null,
   "id": "NVIHN9xjG1gf",
   "metadata": {
    "colab": {
     "base_uri": "https://localhost:8080/"
    },
    "id": "NVIHN9xjG1gf",
    "outputId": "e39c7c5d-378c-4456-8a90-ff558764a534"
   },
   "outputs": [
    {
     "name": "stdout",
     "output_type": "stream",
     "text": [
      "Calculating ROUGE scores for BERT summaries...\n"
     ]
    }
   ],
   "source": [
    "rouge_scores = {\"rouge1\": [], \"rouge2\": [], \"rougeL\": []}\n",
    "scorer = rouge_scorer.RougeScorer(list(rouge_scores.keys()), use_stemmer=False)\n",
    "\n",
    "for ref, pred in zip(y_sum_test, bert_summaries):\n",
    "    if pred.strip():\n",
    "        scores = scorer.score(ref, pred)\n",
    "        for metric in rouge_scores:\n",
    "            rouge_scores[metric].append(scores[metric].fmeasure)\n",
    "    else:\n",
    "        for metric in rouge_scores:\n",
    "            rouge_scores[metric].append(0.0)\n",
    "\n",
    "bert_rouge_results = {\n",
    "    metric: np.mean(scores) for metric, scores in rouge_scores.items()\n",
    "}"
   ]
  },
  {
   "cell_type": "code",
   "execution_count": null,
   "id": "ccUzzLmLGUCl",
   "metadata": {
    "colab": {
     "base_uri": "https://localhost:8080/"
    },
    "id": "ccUzzLmLGUCl",
    "outputId": "c86b2068-c845-45a3-e5cc-8419f6fb39ef"
   },
   "outputs": [
    {
     "name": "stdout",
     "output_type": "stream",
     "text": [
      "\n",
      "BERT Extractive Summarization Results:\n",
      "ROUGE1: 0.1333\n",
      "ROUGE2: 0.0295\n",
      "ROUGEL: 0.1030\n",
      "✓ BERT summarization evaluation complete!\n"
     ]
    }
   ],
   "source": [
    "for metric, score in bert_rouge_results.items():\n",
    "    print(f\"{metric.upper()}: {score:.4f}\")"
   ]
  },
  {
   "cell_type": "code",
   "execution_count": null,
   "id": "pv7v_D4FHN2h",
   "metadata": {
    "colab": {
     "base_uri": "https://localhost:8080/",
     "height": 1000
    },
    "id": "pv7v_D4FHN2h",
    "outputId": "b0729ac3-4559-47f7-aa53-7131c713e262"
   },
   "outputs": [
    {
     "name": "stdout",
     "output_type": "stream",
     "text": [
      "\n",
      "==================================================\n",
      "MODEL COMPARISON - SUMMARIZATION ROUGE-1\n",
      "==================================================\n",
      "BERT Extractive          : 0.1333\n",
      "\n",
      "Best performing model: BERT Extractive (0.1333)\n",
      "==================================================\n",
      "\n",
      "Sample summarization results:\n",
      "\n",
      "Original Text:\n",
      "=============\n"
     ]
    },
    {
     "data": {
      "text/markdown": [
       "يكون سعر الفاكهة والخضراوات في موسم إنباتها أقل من غيره من المواسم، وستلجأ محلات الخضروات إلى عرض الفاكهة بأسعار مناسبة في موسمها بسبب توفر المنتجات وزيادة الطلب عليها خلال تلك الفترات. لا يقتصر الأمر على السعر الأقل، بل سيكون طعامك من الخضراوات والفاكهة أشهى وألذ عند تناوله في موسمه.   في فصل الخريف: التفاح والتين والبنجر والكمثرى والقرنبيط والكرنب واليقطين في فصل الشتاء: (الخضراوات) الملفوف والفاصوليا والبازلاء والبصل (الفواكه)  البطاطا الحلوة والأفوكادو والبرتقال والتفاح والموز واليوسفى والرمان والعنب. في فصل الربيع: السبانخ والجزر والكوسة والبصل الأخضر  والطماطم والخضراوات الورقية والفراولة والمشمش. في فصل الصيف: الصيف هو فصل البطيخ، وكذلك الأمر بالنسبة للذرة والتوت. سوف تلاحظ توفر هذه الخضراوات والفواكهة المهمة على مدار العام كله بشكل أو آخر، ولكنها تكون بأرخص أسعارها في فصل الصيف، وهو ما يمكنك من شراء كميات كبيرة منها وتخزينها أو تجميدها في المجمد (الفريزر). الأفضل لصحتك البدنية والمالية على حد سواء هو تناول الفواكه والخضراوات والأطعمة الطازجة عامة، ولكن في بعض الحالات قد يكون من الأرخص بالنسبة لك الاعتماد على الطعام المعبأ. سوف تحصل منه على نفس الفوائد الغذائية بشرط التأكد من أنه غير مضاف إليه أي ملح أو سكر أو مواد مصنعة.  اتبع هذه النصيحة مع الفواكه والخضراوات وكذلك مع مصادر البروتينات؛ قد يكون سعر الفراخ المجمدة مثلا أرخص من الطازجة، وبالمثل في حالة عبوات التونة والسالمون مقارنة بشراء السمك من كلا النوعين طازجا. تحرص العديد من محلات الأطعمة الغذائية باختلاف أنواعها على تقديم عروض خاصة لعملائها بوتيرة أسبوعية، وهو ما يمكنك الاطلاع عليه عبر مطبوعات الإعلانات وصفحاتهم الرسمية عبر وسائل التواصل الاجتماعي. اغتنم أوقات العروض على واحدة من الأطعمة وجهز نفسك واهجم على المحل لاقتناء أكبر كمية ممكنة على أمل تخزينها في منزلك بشكل أو آخر؛ إنها صفقة لا تعوض. يمكنك تخزين أغلبية أنواع اللحوم على سبيل المثال، لذا بمجرد رؤيتك لهذا العرض الخاص على صدور الدجاج في واحدة من المحلات الكبرى، أسرع فورا واشتر كمية مناسبة يمكنك تخزين الزائد منها عن حاجتك لوقت لاحق. إنها مهارة تتقنها كل ربات البيوت وإلا لما نجحت جداتنا وأمهاتنا في تربية عدد ضخم من الأبناء بقدر ضئيل من المرتبات، وبنسبة كبيرة أنك تحرصين بدورك على شراء أرخص العلامات التجارية المقبولة وقد سبق لك إجراء مثل هذه المقارنة، لكن ما نود الإشارة إليه هو عدم الارتكان دائما لنفس خيار الشراء بوصفه الأرخص ثمنا، لأنه ربما كان كذلك منذ شهور، بينما قد توفر في السوق الآن خيار بديل بسعر أفضل. عملية المقارنة بين الأسعار مهمة ضرورية قبل كل عملية شراء قدر الإمكان، لذا لا تفقدي يقظتك أبدا. عادة ما يتاح كذلك عروض مميزة على شراء الكميات الكبيرة أو خصما على منتج معين لفترة محدودة، لذا من خلال عملية البحث والمقارنة المستمرة يمكنك الذهاب إلى السوق وشراء كل ما يلزمك بأفضل سعر ممكن.    انقلي بصرك لأعلى وأسفل رفوف المحلات التجارية، فغالبا ما يتعمد البائعون وضع السلع الأغلى ثمنا في مستوى العين لكي يبادر المستهلكون دائما لاقتنائها وإغفال النظر عن غيرها من الخيارات رخيصة الثمن. ابحثي عن السلع والأطعمة المحلية والمصنعة باسم المتجر التجاري نفسه، والتي عادة ما تكون بسعر أقل مقارنة بالعلامات التجارية الكبرى. سوف تقف أمام البائع وتدفع رقما ضخما نظير شرائك للسلع بالجملة، ولكن بحسبة بسيطة ستكتشف أنك حصلت على الوحدة الواحدة من المنتج بثمن أرخص من الشراء بالقطعة. توجد متاجر خاصة بالبيع بالجملة كما يتوفر هذا الاختيار في كل المحلات العادية كذلك؛ عند شرائك لدستة من منتج معين، سيكون إجمالي السعر أرخص من شراء نفس عدد العبوات بشكل منفرد على أكثر من مرة.   يمكنك الشراء بالجملة من متاجر السلع المعبئة (السوبرماركت) ونفس الأمر بالنسبة لمحلات الفاكهة والخضراوات والسلع الغذائية الصحية (العضوية). يحرص البائعون على توفير سلع مثل: الحبوب والبقول والمكرونة (غير المعبئة) والمكسرات والدقيق والسكر وما شابه، للشراء بالجملة. حاول شراء السلع سابقة الذكر من المحلات المدعومة تبعا لوزارة التموين في بلدك، فقد تحصل منها على نفس السلع بنفس جودة العلامات التجارية الكبرى ولكن بسعر مخفض. ضع نصب عينيك حقيقة وجود فترة زمنية قصوى يمكنك خلالها استهلاك ما اشتريته من سلع بالجملة، فمهما كان من الممكن تخزينها أو تجميدها، ستجد نفسك أمام حقيقة أن ما اشتريته معرضا لانتهاء صلاحيته بعد عدة شهور. استوعب مناسبة تلك الكمية الكبيرة لمعدل استهلاكك أنت وأسرتك (ورغبتهم في أكلها أصلا) من الأطعمة ودون أن تنسى إدراج فترة صلاحية المنتج ضمن تلك المعادلة الحسابية الصعبة، فلا فائدة من شراء شيء رخيص ولكنه سيلقى على الأرض بلا فائدة عندما يصبح غير صالح للاستخدام. لا تترك قسيمة شراء تهرب من تحت يدك بمجرد وجود فرصة للحصول عليها، لكن على الجانب الآخر لا تشتر سوى السلع والمنتجات التي تعرف أنك بحاجة إلى استخدامها. لا فائدة من شراء منتج لا تشتريه في العادة -مهما كان رخيص الثمن- لأنك ستنفق أموالك على ما لا تحتاجه وما لن ترغب في استخدامه، وستضيع أموالك على الأرض بلا فائدة، وستدرك وقتها أنها كانت صفقة خاسرة.  يمكنك إيجاد قسائم الشراء عبر الإنترنت أو في الجرائد والمجلات، كما يمكنك الاستفادة حديثا من تطبيقات قسائم الشراء على الهواتف الذكية. قد تكون مؤهلا للاشتراك في واحدة من برامج دعم الغذاء لمحدودي الدخل في بلدك، وهي الجهات التي توفر الطعام بأسعار مدعومة للمحتاجين.   تختلف أنظمة دعم التموين والطعام من بلد لآخر، لذانص مائل ستحتاج لإجراء عملية بحث بسيطة لمعرفة إجراءات التسجيل في مثل هذه البرامج. قد تجد برامج مخصصة للعاطلين من الأفراد أو السيدات قليلات الدخل أو للأسر كبيرة العدد وما شابه. قد لا تتوفر لك في المتاجر التابعة لمثل برامج الدعم تلك كل ما تطمع وتشتهيه من سلع، ولكنك ستجد بها الحد الأدنى من احتياجاتك من الأطعمة الصحية والضروريات اللازمة من الطعام.   اذهب إلى المكتب المحلي المخصص للتقدم بطلب الحصول على الدعم أو يمكنك التقدم عبر المنصات والمواقع الإلكترونية في حال توفرها. تواصلي مع الجهات المسؤولة عن تقديم الدعم للعاطلين وللسيدات محدودات الدخل وما شابه في مدينتك لمعرفة كيفية التقدم للاشتراك في برامج الدعم المماثلة. تجد العديد من السلع الغذائية الأرخص سعرا في المتاجر التابعة مباشرة للمزارع المحلية، وإن كنت ستواجه صعوبة في الحصول على احتياجك من السلع نظرا لضغط الطلب وقلة المعروض من منتجات غالبا. إنها أطعمة طازجة ولم يضاف إليها تكاليف النقل وأرباح الكثير من الموزعين والبائعين، لذا ستقدر على الحصول عليها بسعر أرخص وجودة أفضل. استوعب فقط أنك لن تملك رفاهية تأجيل تناولها كونها لا تظل على حالتها فترات طويلة مقارنة بغيرها من السلع الغذائية المزروعة لتحمل مشقة النقل والفترات الزمنية الطويلة قبل التناول. الميزة الإيجابية أنك ستقدر على تناول أطعمة أفضل مذاقا وطزاجة.  قد تجد بعض المزارع المحلية المدرجة ضمن برامج الدعم الحكومي للطعام والتي توفر للمستحقين إمكانية شراء الفاكهة والخضراوات بسعر أقل."
      ],
      "text/plain": [
       "<IPython.core.display.Markdown object>"
      ]
     },
     "metadata": {},
     "output_type": "display_data"
    },
    {
     "name": "stdout",
     "output_type": "stream",
     "text": [
      "\n",
      "[Full length: 6,034 characters]\n",
      "\n",
      "\n",
      "Reference Summary:\n",
      "=================\n"
     ]
    },
    {
     "data": {
      "text/markdown": [
       "تناول الفاكهة والخضراوات في موسمها. تعرف على أسعار الأطعمة المجمدة والمعبئة. تابع العروض الأسبوعية في المحلات الكبرى. قارني دائما ما بين الأسعار. اشتر السلع بالجملة (كميات كبيرة). استفد من قسائم الشراء (كوبونات التخفيض). استفد من الجهات الداعمة لمحدودي الدخل في بلدك. اشتر أطعمتك من المزارع المحلية أو المتاجر التابعة لها."
      ],
      "text/plain": [
       "<IPython.core.display.Markdown object>"
      ]
     },
     "metadata": {},
     "output_type": "display_data"
    },
    {
     "name": "stdout",
     "output_type": "stream",
     "text": [
      "\n",
      "[Full length: 322 characters]\n",
      "\n",
      "\n",
      "BERT Summary:\n",
      "============\n"
     ]
    },
    {
     "data": {
      "text/markdown": [
       "قلل الحمل عن طريق تحضير الفطور والغذاء الليلة السابقة شرب كأس أخير قبل النوم لا يبعث على الاسترخاء كما تظن"
      ],
      "text/plain": [
       "<IPython.core.display.Markdown object>"
      ]
     },
     "metadata": {},
     "output_type": "display_data"
    },
    {
     "name": "stdout",
     "output_type": "stream",
     "text": [
      "\n",
      "[Full length: 106 characters]\n",
      "\n"
     ]
    }
   ],
   "source": [
    "summarization_results = {\"BERT Extractive\": bert_rouge_results[\"rouge1\"]}\n",
    "\n",
    "display_model_comparison(summarization_results, \"Summarization ROUGE-1\")\n",
    "\n",
    "print(\"Sample summarization results:\")\n",
    "sample_idx = 0\n",
    "print_text_sample(summarization_df.iloc[sample_idx][\"text\"], \"Original Text\")\n",
    "print_text_sample(summarization_df.iloc[sample_idx][\"summary\"], \"Reference Summary\")\n",
    "print_text_sample(bert_summaries[sample_idx], \"BERT Summary\")"
   ]
  },
  {
   "cell_type": "code",
   "execution_count": null,
   "id": "3DcHefBONrO5",
   "metadata": {
    "colab": {
     "base_uri": "https://localhost:8080/"
    },
    "id": "3DcHefBONrO5",
    "outputId": "81220c4a-5924-427e-8681-692fa31fb8d1"
   },
   "outputs": [
    {
     "name": "stdout",
     "output_type": "stream",
     "text": [
      "\n",
      "EVALUATION ON WHOLE DATASET (29192 samples)\n",
      "============================================================\n"
     ]
    }
   ],
   "source": [
    "def evaluate_bert(df, num_sentences=2):\n",
    "    generated_summaries = []\n",
    "    rouge_scores = []\n",
    "    bleu1_scores = []\n",
    "\n",
    "    rouge_scorer_obj = rouge_scorer.RougeScorer([\"rouge1\"], use_stemmer=False)\n",
    "\n",
    "    smooth_func = SmoothingFunction().method1\n",
    "\n",
    "    # Progress tracking\n",
    "    batch_size = 50\n",
    "    total_batches = (len(df) - 1) // batch_size + 1\n",
    "\n",
    "    for batch_idx in range(total_batches):\n",
    "        start_idx = batch_idx * batch_size\n",
    "        end_idx = min((batch_idx + 1) * batch_size, len(df))\n",
    "        batch_df = df.iloc[start_idx:end_idx]\n",
    "\n",
    "        print(\n",
    "            f\"Processing batch {batch_idx + 1}/{total_batches} (samples {start_idx}-{end_idx - 1})\"\n",
    "        )\n",
    "\n",
    "        for idx, row in tqdm(\n",
    "            batch_df.iterrows(),\n",
    "            total=len(batch_df),\n",
    "            desc=f\"Batch {batch_idx + 1}\",\n",
    "            leave=False,\n",
    "        ):\n",
    "            try:\n",
    "                # Generate summary\n",
    "                generated = bert_summarizer.extractive_summarize(\n",
    "                    row[\"text\"], num_sentences=num_sentences\n",
    "                )\n",
    "                generated_summaries.append(generated)\n",
    "\n",
    "                # Calculate ROUGE-1 scores\n",
    "                if (\n",
    "                    isinstance(row[\"summary\"], str)\n",
    "                    and isinstance(generated, str)\n",
    "                    and len(generated.strip()) > 0\n",
    "                ):\n",
    "                    rouge_score = rouge_scorer_obj.score(row[\"summary\"], generated)\n",
    "                    rouge_scores.append(\n",
    "                        {\n",
    "                            \"rouge1_precision\": rouge_score[\"rouge1\"].precision,\n",
    "                            \"rouge1_recall\": rouge_score[\"rouge1\"].recall,\n",
    "                            \"rouge1_f1\": rouge_score[\"rouge1\"].fmeasure,\n",
    "                        }\n",
    "                    )\n",
    "\n",
    "                    # Calculate BLEU-1 score\n",
    "                    reference_tokens = [row[\"summary\"].split()]\n",
    "                    candidate_tokens = generated.split()\n",
    "                    bleu1_score = sentence_bleu(\n",
    "                        reference_tokens,\n",
    "                        candidate_tokens,\n",
    "                        weights=(1, 0, 0, 0),\n",
    "                        smoothing_function=smooth_func,\n",
    "                    )\n",
    "                    bleu1_scores.append(bleu1_score)\n",
    "                else:\n",
    "                    rouge_scores.append(\n",
    "                        {\"rouge1_precision\": 0, \"rouge1_recall\": 0, \"rouge1_f1\": 0}\n",
    "                    )\n",
    "                    bleu1_scores.append(0)\n",
    "\n",
    "            except Exception as e:\n",
    "                print(f\"Error processing sample {idx}: {e}\")\n",
    "                generated_summaries.append(\"\")\n",
    "                rouge_scores.append(\n",
    "                    {\"rouge1_precision\": 0, \"rouge1_recall\": 0, \"rouge1_f1\": 0}\n",
    "                )\n",
    "                bleu1_scores.append(0)\n",
    "\n",
    "        torch.cuda.empty_cache() if torch.cuda.is_available() else None\n",
    "\n",
    "        processed_so_far = end_idx\n",
    "        print(\n",
    "            f\"Processed {processed_so_far}/{len(df)} samples ({processed_so_far / len(df) * 100:.1f}%)\"\n",
    "        )\n",
    "\n",
    "    # Calculate average scores\n",
    "    avg_rouge_scores = {\n",
    "        \"rouge1_precision\": np.mean([s[\"rouge1_precision\"] for s in rouge_scores]),\n",
    "        \"rouge1_recall\": np.mean([s[\"rouge1_recall\"] for s in rouge_scores]),\n",
    "        \"rouge1_f1\": np.mean([s[\"rouge1_f1\"] for s in rouge_scores]),\n",
    "    }\n",
    "\n",
    "    avg_bleu1_score = np.mean(bleu1_scores)\n",
    "\n",
    "    return (\n",
    "        generated_summaries,\n",
    "        avg_rouge_scores,\n",
    "        avg_bleu1_score,\n",
    "        rouge_scores,\n",
    "        bleu1_scores,\n",
    "    )"
   ]
  },
  {
   "cell_type": "code",
   "execution_count": null,
   "id": "3dVTPVhLNwG3",
   "metadata": {
    "colab": {
     "base_uri": "https://localhost:8080/"
    },
    "id": "3dVTPVhLNwG3",
    "outputId": "d0b3262b-991f-4d46-b525-13c4b69605fb"
   },
   "outputs": [
    {
     "name": "stdout",
     "output_type": "stream",
     "text": [
      "Starting evaluation on 29192 samples...\n",
      "This may take some time depending on your hardware...\n",
      "\n",
      "Evaluating BERT Extractive Summarization on 29192 samples...\n",
      "Processing batch 1/584 (samples 0-49)\n"
     ]
    },
    {
     "name": "stderr",
     "output_type": "stream",
     "text": []
    },
    {
     "name": "stdout",
     "output_type": "stream",
     "text": [
      "Processed 50/29192 samples (0.2%)\n",
      "Processing batch 2/584 (samples 50-99)\n"
     ]
    },
    {
     "name": "stderr",
     "output_type": "stream",
     "text": []
    },
    {
     "name": "stdout",
     "output_type": "stream",
     "text": [
      "Processed 100/29192 samples (0.3%)\n",
      "Processing batch 3/584 (samples 100-149)\n"
     ]
    },
    {
     "name": "stderr",
     "output_type": "stream",
     "text": []
    },
    {
     "name": "stdout",
     "output_type": "stream",
     "text": [
      "Processed 150/29192 samples (0.5%)\n",
      "Processing batch 4/584 (samples 150-199)\n"
     ]
    },
    {
     "name": "stderr",
     "output_type": "stream",
     "text": []
    },
    {
     "name": "stdout",
     "output_type": "stream",
     "text": [
      "Processed 200/29192 samples (0.7%)\n",
      "Processing batch 5/584 (samples 200-249)\n"
     ]
    },
    {
     "name": "stderr",
     "output_type": "stream",
     "text": []
    },
    {
     "name": "stdout",
     "output_type": "stream",
     "text": [
      "Processed 250/29192 samples (0.9%)\n",
      "Processing batch 6/584 (samples 250-299)\n"
     ]
    },
    {
     "name": "stderr",
     "output_type": "stream",
     "text": []
    },
    {
     "name": "stdout",
     "output_type": "stream",
     "text": [
      "Processed 300/29192 samples (1.0%)\n",
      "Processing batch 7/584 (samples 300-349)\n"
     ]
    },
    {
     "name": "stderr",
     "output_type": "stream",
     "text": []
    },
    {
     "name": "stdout",
     "output_type": "stream",
     "text": [
      "Processed 350/29192 samples (1.2%)\n",
      "Processing batch 8/584 (samples 350-399)\n"
     ]
    },
    {
     "name": "stderr",
     "output_type": "stream",
     "text": []
    },
    {
     "name": "stdout",
     "output_type": "stream",
     "text": [
      "Processed 400/29192 samples (1.4%)\n",
      "Processing batch 9/584 (samples 400-449)\n"
     ]
    },
    {
     "name": "stderr",
     "output_type": "stream",
     "text": []
    },
    {
     "name": "stdout",
     "output_type": "stream",
     "text": [
      "Processed 450/29192 samples (1.5%)\n",
      "Processing batch 10/584 (samples 450-499)\n"
     ]
    },
    {
     "name": "stderr",
     "output_type": "stream",
     "text": []
    },
    {
     "name": "stdout",
     "output_type": "stream",
     "text": [
      "Processed 500/29192 samples (1.7%)\n",
      "Processing batch 11/584 (samples 500-549)\n"
     ]
    },
    {
     "name": "stderr",
     "output_type": "stream",
     "text": []
    },
    {
     "name": "stdout",
     "output_type": "stream",
     "text": [
      "Processed 550/29192 samples (1.9%)\n",
      "Processing batch 12/584 (samples 550-599)\n"
     ]
    },
    {
     "name": "stderr",
     "output_type": "stream",
     "text": []
    },
    {
     "name": "stdout",
     "output_type": "stream",
     "text": [
      "Processed 600/29192 samples (2.1%)\n",
      "Processing batch 13/584 (samples 600-649)\n"
     ]
    },
    {
     "name": "stderr",
     "output_type": "stream",
     "text": []
    },
    {
     "name": "stdout",
     "output_type": "stream",
     "text": [
      "Processed 650/29192 samples (2.2%)\n",
      "Processing batch 14/584 (samples 650-699)\n"
     ]
    },
    {
     "name": "stderr",
     "output_type": "stream",
     "text": []
    },
    {
     "name": "stdout",
     "output_type": "stream",
     "text": [
      "Processed 700/29192 samples (2.4%)\n",
      "Processing batch 15/584 (samples 700-749)\n"
     ]
    },
    {
     "name": "stderr",
     "output_type": "stream",
     "text": []
    },
    {
     "name": "stdout",
     "output_type": "stream",
     "text": [
      "Processed 750/29192 samples (2.6%)\n",
      "Processing batch 16/584 (samples 750-799)\n"
     ]
    },
    {
     "name": "stderr",
     "output_type": "stream",
     "text": []
    },
    {
     "name": "stdout",
     "output_type": "stream",
     "text": [
      "Processed 800/29192 samples (2.7%)\n",
      "Processing batch 17/584 (samples 800-849)\n"
     ]
    },
    {
     "name": "stderr",
     "output_type": "stream",
     "text": []
    },
    {
     "name": "stdout",
     "output_type": "stream",
     "text": [
      "Processed 850/29192 samples (2.9%)\n",
      "Processing batch 18/584 (samples 850-899)\n"
     ]
    },
    {
     "name": "stderr",
     "output_type": "stream",
     "text": []
    },
    {
     "name": "stdout",
     "output_type": "stream",
     "text": [
      "Processed 900/29192 samples (3.1%)\n",
      "Processing batch 19/584 (samples 900-949)\n"
     ]
    },
    {
     "name": "stderr",
     "output_type": "stream",
     "text": []
    },
    {
     "name": "stdout",
     "output_type": "stream",
     "text": [
      "Processed 950/29192 samples (3.3%)\n",
      "Processing batch 20/584 (samples 950-999)\n"
     ]
    },
    {
     "name": "stderr",
     "output_type": "stream",
     "text": []
    },
    {
     "name": "stdout",
     "output_type": "stream",
     "text": [
      "Processed 1000/29192 samples (3.4%)\n",
      "Processing batch 21/584 (samples 1000-1049)\n"
     ]
    },
    {
     "name": "stderr",
     "output_type": "stream",
     "text": []
    },
    {
     "name": "stdout",
     "output_type": "stream",
     "text": [
      "Processed 1050/29192 samples (3.6%)\n",
      "Processing batch 22/584 (samples 1050-1099)\n"
     ]
    },
    {
     "name": "stderr",
     "output_type": "stream",
     "text": []
    },
    {
     "name": "stdout",
     "output_type": "stream",
     "text": [
      "Processed 1100/29192 samples (3.8%)\n",
      "Processing batch 23/584 (samples 1100-1149)\n"
     ]
    },
    {
     "name": "stderr",
     "output_type": "stream",
     "text": []
    },
    {
     "name": "stdout",
     "output_type": "stream",
     "text": [
      "Processed 1150/29192 samples (3.9%)\n",
      "Processing batch 24/584 (samples 1150-1199)\n"
     ]
    },
    {
     "name": "stderr",
     "output_type": "stream",
     "text": []
    },
    {
     "name": "stdout",
     "output_type": "stream",
     "text": [
      "Processed 1200/29192 samples (4.1%)\n",
      "Processing batch 25/584 (samples 1200-1249)\n"
     ]
    },
    {
     "name": "stderr",
     "output_type": "stream",
     "text": []
    },
    {
     "name": "stdout",
     "output_type": "stream",
     "text": [
      "Processed 1250/29192 samples (4.3%)\n",
      "Processing batch 26/584 (samples 1250-1299)\n"
     ]
    },
    {
     "name": "stderr",
     "output_type": "stream",
     "text": []
    },
    {
     "name": "stdout",
     "output_type": "stream",
     "text": [
      "Processed 1300/29192 samples (4.5%)\n",
      "Processing batch 27/584 (samples 1300-1349)\n"
     ]
    },
    {
     "name": "stderr",
     "output_type": "stream",
     "text": []
    },
    {
     "name": "stdout",
     "output_type": "stream",
     "text": [
      "Processed 1350/29192 samples (4.6%)\n",
      "Processing batch 28/584 (samples 1350-1399)\n"
     ]
    },
    {
     "name": "stderr",
     "output_type": "stream",
     "text": []
    },
    {
     "name": "stdout",
     "output_type": "stream",
     "text": [
      "Processed 1400/29192 samples (4.8%)\n",
      "Processing batch 29/584 (samples 1400-1449)\n"
     ]
    },
    {
     "name": "stderr",
     "output_type": "stream",
     "text": []
    },
    {
     "name": "stdout",
     "output_type": "stream",
     "text": [
      "Processed 1450/29192 samples (5.0%)\n",
      "Processing batch 30/584 (samples 1450-1499)\n"
     ]
    },
    {
     "name": "stderr",
     "output_type": "stream",
     "text": []
    },
    {
     "name": "stdout",
     "output_type": "stream",
     "text": [
      "Processed 1500/29192 samples (5.1%)\n",
      "Processing batch 31/584 (samples 1500-1549)\n"
     ]
    },
    {
     "name": "stderr",
     "output_type": "stream",
     "text": []
    },
    {
     "name": "stdout",
     "output_type": "stream",
     "text": [
      "Processed 1550/29192 samples (5.3%)\n",
      "Processing batch 32/584 (samples 1550-1599)\n"
     ]
    },
    {
     "name": "stderr",
     "output_type": "stream",
     "text": []
    },
    {
     "name": "stdout",
     "output_type": "stream",
     "text": [
      "Processed 1600/29192 samples (5.5%)\n",
      "Processing batch 33/584 (samples 1600-1649)\n"
     ]
    },
    {
     "name": "stderr",
     "output_type": "stream",
     "text": []
    },
    {
     "name": "stdout",
     "output_type": "stream",
     "text": [
      "Processed 1650/29192 samples (5.7%)\n",
      "Processing batch 34/584 (samples 1650-1699)\n"
     ]
    },
    {
     "name": "stderr",
     "output_type": "stream",
     "text": []
    },
    {
     "name": "stdout",
     "output_type": "stream",
     "text": [
      "Processed 1700/29192 samples (5.8%)\n",
      "Processing batch 35/584 (samples 1700-1749)\n"
     ]
    },
    {
     "name": "stderr",
     "output_type": "stream",
     "text": []
    },
    {
     "name": "stdout",
     "output_type": "stream",
     "text": [
      "Processed 1750/29192 samples (6.0%)\n",
      "Processing batch 36/584 (samples 1750-1799)\n"
     ]
    },
    {
     "name": "stderr",
     "output_type": "stream",
     "text": []
    },
    {
     "name": "stdout",
     "output_type": "stream",
     "text": [
      "Processed 1800/29192 samples (6.2%)\n",
      "Processing batch 37/584 (samples 1800-1849)\n"
     ]
    },
    {
     "name": "stderr",
     "output_type": "stream",
     "text": []
    },
    {
     "name": "stdout",
     "output_type": "stream",
     "text": [
      "Processed 1850/29192 samples (6.3%)\n",
      "Processing batch 38/584 (samples 1850-1899)\n"
     ]
    },
    {
     "name": "stderr",
     "output_type": "stream",
     "text": []
    },
    {
     "name": "stdout",
     "output_type": "stream",
     "text": [
      "Processed 1900/29192 samples (6.5%)\n",
      "Processing batch 39/584 (samples 1900-1949)\n"
     ]
    },
    {
     "name": "stderr",
     "output_type": "stream",
     "text": []
    },
    {
     "name": "stdout",
     "output_type": "stream",
     "text": [
      "Processed 1950/29192 samples (6.7%)\n",
      "Processing batch 40/584 (samples 1950-1999)\n"
     ]
    },
    {
     "name": "stderr",
     "output_type": "stream",
     "text": []
    },
    {
     "name": "stdout",
     "output_type": "stream",
     "text": [
      "Processed 2000/29192 samples (6.9%)\n",
      "Processing batch 41/584 (samples 2000-2049)\n"
     ]
    },
    {
     "name": "stderr",
     "output_type": "stream",
     "text": []
    },
    {
     "name": "stdout",
     "output_type": "stream",
     "text": [
      "Processed 2050/29192 samples (7.0%)\n",
      "Processing batch 42/584 (samples 2050-2099)\n"
     ]
    },
    {
     "name": "stderr",
     "output_type": "stream",
     "text": []
    },
    {
     "name": "stdout",
     "output_type": "stream",
     "text": [
      "Processed 2100/29192 samples (7.2%)\n",
      "Processing batch 43/584 (samples 2100-2149)\n"
     ]
    },
    {
     "name": "stderr",
     "output_type": "stream",
     "text": []
    },
    {
     "name": "stdout",
     "output_type": "stream",
     "text": [
      "Processed 2150/29192 samples (7.4%)\n",
      "Processing batch 44/584 (samples 2150-2199)\n"
     ]
    },
    {
     "name": "stderr",
     "output_type": "stream",
     "text": []
    },
    {
     "name": "stdout",
     "output_type": "stream",
     "text": [
      "Processed 2200/29192 samples (7.5%)\n",
      "Processing batch 45/584 (samples 2200-2249)\n"
     ]
    },
    {
     "name": "stderr",
     "output_type": "stream",
     "text": []
    },
    {
     "name": "stdout",
     "output_type": "stream",
     "text": [
      "Processed 2250/29192 samples (7.7%)\n",
      "Processing batch 46/584 (samples 2250-2299)\n"
     ]
    },
    {
     "name": "stderr",
     "output_type": "stream",
     "text": []
    },
    {
     "name": "stdout",
     "output_type": "stream",
     "text": [
      "Processed 2300/29192 samples (7.9%)\n",
      "Processing batch 47/584 (samples 2300-2349)\n"
     ]
    },
    {
     "name": "stderr",
     "output_type": "stream",
     "text": []
    },
    {
     "name": "stdout",
     "output_type": "stream",
     "text": [
      "Processed 2350/29192 samples (8.1%)\n",
      "Processing batch 48/584 (samples 2350-2399)\n"
     ]
    },
    {
     "name": "stderr",
     "output_type": "stream",
     "text": []
    },
    {
     "name": "stdout",
     "output_type": "stream",
     "text": [
      "Processed 2400/29192 samples (8.2%)\n",
      "Processing batch 49/584 (samples 2400-2449)\n"
     ]
    },
    {
     "name": "stderr",
     "output_type": "stream",
     "text": []
    },
    {
     "name": "stdout",
     "output_type": "stream",
     "text": [
      "Processed 2450/29192 samples (8.4%)\n",
      "Processing batch 50/584 (samples 2450-2499)\n"
     ]
    },
    {
     "name": "stderr",
     "output_type": "stream",
     "text": []
    },
    {
     "name": "stdout",
     "output_type": "stream",
     "text": [
      "Processed 2500/29192 samples (8.6%)\n",
      "Processing batch 51/584 (samples 2500-2549)\n"
     ]
    },
    {
     "name": "stderr",
     "output_type": "stream",
     "text": []
    },
    {
     "name": "stdout",
     "output_type": "stream",
     "text": [
      "Processed 2550/29192 samples (8.7%)\n",
      "Processing batch 52/584 (samples 2550-2599)\n"
     ]
    },
    {
     "name": "stderr",
     "output_type": "stream",
     "text": []
    },
    {
     "name": "stdout",
     "output_type": "stream",
     "text": [
      "Processed 2600/29192 samples (8.9%)\n",
      "Processing batch 53/584 (samples 2600-2649)\n"
     ]
    },
    {
     "name": "stderr",
     "output_type": "stream",
     "text": []
    },
    {
     "name": "stdout",
     "output_type": "stream",
     "text": [
      "Processed 2650/29192 samples (9.1%)\n",
      "Processing batch 54/584 (samples 2650-2699)\n"
     ]
    },
    {
     "name": "stderr",
     "output_type": "stream",
     "text": []
    },
    {
     "name": "stdout",
     "output_type": "stream",
     "text": [
      "Processed 2700/29192 samples (9.2%)\n",
      "Processing batch 55/584 (samples 2700-2749)\n"
     ]
    },
    {
     "name": "stderr",
     "output_type": "stream",
     "text": []
    },
    {
     "name": "stdout",
     "output_type": "stream",
     "text": [
      "Processed 2750/29192 samples (9.4%)\n",
      "Processing batch 56/584 (samples 2750-2799)\n"
     ]
    },
    {
     "name": "stderr",
     "output_type": "stream",
     "text": []
    },
    {
     "name": "stdout",
     "output_type": "stream",
     "text": [
      "Processed 2800/29192 samples (9.6%)\n",
      "Processing batch 57/584 (samples 2800-2849)\n"
     ]
    },
    {
     "name": "stderr",
     "output_type": "stream",
     "text": []
    },
    {
     "name": "stdout",
     "output_type": "stream",
     "text": [
      "Processed 2850/29192 samples (9.8%)\n",
      "Processing batch 58/584 (samples 2850-2899)\n"
     ]
    },
    {
     "name": "stderr",
     "output_type": "stream",
     "text": []
    },
    {
     "name": "stdout",
     "output_type": "stream",
     "text": [
      "Processed 2900/29192 samples (9.9%)\n",
      "Processing batch 59/584 (samples 2900-2949)\n"
     ]
    },
    {
     "name": "stderr",
     "output_type": "stream",
     "text": []
    },
    {
     "name": "stdout",
     "output_type": "stream",
     "text": [
      "Processed 2950/29192 samples (10.1%)\n",
      "Processing batch 60/584 (samples 2950-2999)\n"
     ]
    },
    {
     "name": "stderr",
     "output_type": "stream",
     "text": []
    },
    {
     "name": "stdout",
     "output_type": "stream",
     "text": [
      "Processed 3000/29192 samples (10.3%)\n",
      "Processing batch 61/584 (samples 3000-3049)\n"
     ]
    },
    {
     "name": "stderr",
     "output_type": "stream",
     "text": []
    },
    {
     "name": "stdout",
     "output_type": "stream",
     "text": [
      "Processed 3050/29192 samples (10.4%)\n",
      "Processing batch 62/584 (samples 3050-3099)\n"
     ]
    },
    {
     "name": "stderr",
     "output_type": "stream",
     "text": []
    },
    {
     "name": "stdout",
     "output_type": "stream",
     "text": [
      "Processed 3100/29192 samples (10.6%)\n",
      "Processing batch 63/584 (samples 3100-3149)\n"
     ]
    },
    {
     "name": "stderr",
     "output_type": "stream",
     "text": []
    },
    {
     "name": "stdout",
     "output_type": "stream",
     "text": [
      "Processed 3150/29192 samples (10.8%)\n",
      "Processing batch 64/584 (samples 3150-3199)\n"
     ]
    },
    {
     "name": "stderr",
     "output_type": "stream",
     "text": []
    },
    {
     "name": "stdout",
     "output_type": "stream",
     "text": [
      "Processed 3200/29192 samples (11.0%)\n",
      "Processing batch 65/584 (samples 3200-3249)\n"
     ]
    },
    {
     "name": "stderr",
     "output_type": "stream",
     "text": []
    },
    {
     "name": "stdout",
     "output_type": "stream",
     "text": [
      "Processed 3250/29192 samples (11.1%)\n",
      "Processing batch 66/584 (samples 3250-3299)\n"
     ]
    },
    {
     "name": "stderr",
     "output_type": "stream",
     "text": []
    },
    {
     "name": "stdout",
     "output_type": "stream",
     "text": [
      "Processed 3300/29192 samples (11.3%)\n",
      "Processing batch 67/584 (samples 3300-3349)\n"
     ]
    },
    {
     "name": "stderr",
     "output_type": "stream",
     "text": []
    },
    {
     "name": "stdout",
     "output_type": "stream",
     "text": [
      "Processed 3350/29192 samples (11.5%)\n",
      "Processing batch 68/584 (samples 3350-3399)\n"
     ]
    },
    {
     "name": "stderr",
     "output_type": "stream",
     "text": []
    },
    {
     "name": "stdout",
     "output_type": "stream",
     "text": [
      "Processed 3400/29192 samples (11.6%)\n",
      "Processing batch 69/584 (samples 3400-3449)\n"
     ]
    },
    {
     "name": "stderr",
     "output_type": "stream",
     "text": []
    },
    {
     "name": "stdout",
     "output_type": "stream",
     "text": [
      "Processed 3450/29192 samples (11.8%)\n",
      "Processing batch 70/584 (samples 3450-3499)\n"
     ]
    },
    {
     "name": "stderr",
     "output_type": "stream",
     "text": []
    },
    {
     "name": "stdout",
     "output_type": "stream",
     "text": [
      "Processed 3500/29192 samples (12.0%)\n",
      "Processing batch 71/584 (samples 3500-3549)\n"
     ]
    },
    {
     "name": "stderr",
     "output_type": "stream",
     "text": []
    },
    {
     "name": "stdout",
     "output_type": "stream",
     "text": [
      "Processed 3550/29192 samples (12.2%)\n",
      "Processing batch 72/584 (samples 3550-3599)\n"
     ]
    },
    {
     "name": "stderr",
     "output_type": "stream",
     "text": []
    },
    {
     "name": "stdout",
     "output_type": "stream",
     "text": [
      "Processed 3600/29192 samples (12.3%)\n",
      "Processing batch 73/584 (samples 3600-3649)\n"
     ]
    },
    {
     "name": "stderr",
     "output_type": "stream",
     "text": []
    },
    {
     "name": "stdout",
     "output_type": "stream",
     "text": [
      "Processed 3650/29192 samples (12.5%)\n",
      "Processing batch 74/584 (samples 3650-3699)\n"
     ]
    },
    {
     "name": "stderr",
     "output_type": "stream",
     "text": []
    },
    {
     "name": "stdout",
     "output_type": "stream",
     "text": [
      "Processed 3700/29192 samples (12.7%)\n",
      "Processing batch 75/584 (samples 3700-3749)\n"
     ]
    },
    {
     "name": "stderr",
     "output_type": "stream",
     "text": []
    },
    {
     "name": "stdout",
     "output_type": "stream",
     "text": [
      "Processed 3750/29192 samples (12.8%)\n",
      "Processing batch 76/584 (samples 3750-3799)\n"
     ]
    },
    {
     "name": "stderr",
     "output_type": "stream",
     "text": []
    },
    {
     "name": "stdout",
     "output_type": "stream",
     "text": [
      "Processed 3800/29192 samples (13.0%)\n",
      "Processing batch 77/584 (samples 3800-3849)\n"
     ]
    },
    {
     "name": "stderr",
     "output_type": "stream",
     "text": []
    },
    {
     "name": "stdout",
     "output_type": "stream",
     "text": [
      "Processed 3850/29192 samples (13.2%)\n",
      "Processing batch 78/584 (samples 3850-3899)\n"
     ]
    },
    {
     "name": "stderr",
     "output_type": "stream",
     "text": []
    },
    {
     "name": "stdout",
     "output_type": "stream",
     "text": [
      "Processed 3900/29192 samples (13.4%)\n",
      "Processing batch 79/584 (samples 3900-3949)\n"
     ]
    },
    {
     "name": "stderr",
     "output_type": "stream",
     "text": []
    },
    {
     "name": "stdout",
     "output_type": "stream",
     "text": [
      "Processed 3950/29192 samples (13.5%)\n",
      "Processing batch 80/584 (samples 3950-3999)\n"
     ]
    },
    {
     "name": "stderr",
     "output_type": "stream",
     "text": []
    },
    {
     "name": "stdout",
     "output_type": "stream",
     "text": [
      "Processed 4000/29192 samples (13.7%)\n",
      "Processing batch 81/584 (samples 4000-4049)\n"
     ]
    },
    {
     "name": "stderr",
     "output_type": "stream",
     "text": []
    },
    {
     "name": "stdout",
     "output_type": "stream",
     "text": [
      "Processed 4050/29192 samples (13.9%)\n",
      "Processing batch 82/584 (samples 4050-4099)\n"
     ]
    },
    {
     "name": "stderr",
     "output_type": "stream",
     "text": []
    },
    {
     "name": "stdout",
     "output_type": "stream",
     "text": [
      "Processed 4100/29192 samples (14.0%)\n",
      "Processing batch 83/584 (samples 4100-4149)\n"
     ]
    },
    {
     "name": "stderr",
     "output_type": "stream",
     "text": []
    },
    {
     "name": "stdout",
     "output_type": "stream",
     "text": [
      "Processed 4150/29192 samples (14.2%)\n",
      "Processing batch 84/584 (samples 4150-4199)\n"
     ]
    },
    {
     "name": "stderr",
     "output_type": "stream",
     "text": []
    },
    {
     "name": "stdout",
     "output_type": "stream",
     "text": [
      "Processed 4200/29192 samples (14.4%)\n",
      "Processing batch 85/584 (samples 4200-4249)\n"
     ]
    },
    {
     "name": "stderr",
     "output_type": "stream",
     "text": []
    },
    {
     "name": "stdout",
     "output_type": "stream",
     "text": [
      "Processed 4250/29192 samples (14.6%)\n",
      "Processing batch 86/584 (samples 4250-4299)\n"
     ]
    },
    {
     "name": "stderr",
     "output_type": "stream",
     "text": []
    },
    {
     "name": "stdout",
     "output_type": "stream",
     "text": [
      "Processed 4300/29192 samples (14.7%)\n",
      "Processing batch 87/584 (samples 4300-4349)\n"
     ]
    },
    {
     "name": "stderr",
     "output_type": "stream",
     "text": []
    },
    {
     "name": "stdout",
     "output_type": "stream",
     "text": [
      "Processed 4350/29192 samples (14.9%)\n",
      "Processing batch 88/584 (samples 4350-4399)\n"
     ]
    },
    {
     "name": "stderr",
     "output_type": "stream",
     "text": []
    },
    {
     "name": "stdout",
     "output_type": "stream",
     "text": [
      "Processed 4400/29192 samples (15.1%)\n",
      "Processing batch 89/584 (samples 4400-4449)\n"
     ]
    },
    {
     "name": "stderr",
     "output_type": "stream",
     "text": []
    },
    {
     "name": "stdout",
     "output_type": "stream",
     "text": [
      "Processed 4450/29192 samples (15.2%)\n",
      "Processing batch 90/584 (samples 4450-4499)\n"
     ]
    },
    {
     "name": "stderr",
     "output_type": "stream",
     "text": []
    },
    {
     "name": "stdout",
     "output_type": "stream",
     "text": [
      "Processed 4500/29192 samples (15.4%)\n",
      "Processing batch 91/584 (samples 4500-4549)\n"
     ]
    },
    {
     "name": "stderr",
     "output_type": "stream",
     "text": []
    },
    {
     "name": "stdout",
     "output_type": "stream",
     "text": [
      "Processed 4550/29192 samples (15.6%)\n",
      "Processing batch 92/584 (samples 4550-4599)\n"
     ]
    },
    {
     "name": "stderr",
     "output_type": "stream",
     "text": []
    },
    {
     "name": "stdout",
     "output_type": "stream",
     "text": [
      "Processed 4600/29192 samples (15.8%)\n",
      "Processing batch 93/584 (samples 4600-4649)\n"
     ]
    },
    {
     "name": "stderr",
     "output_type": "stream",
     "text": []
    },
    {
     "name": "stdout",
     "output_type": "stream",
     "text": [
      "Processed 4650/29192 samples (15.9%)\n",
      "Processing batch 94/584 (samples 4650-4699)\n"
     ]
    },
    {
     "name": "stderr",
     "output_type": "stream",
     "text": []
    },
    {
     "name": "stdout",
     "output_type": "stream",
     "text": [
      "Processed 4700/29192 samples (16.1%)\n",
      "Processing batch 95/584 (samples 4700-4749)\n"
     ]
    },
    {
     "name": "stderr",
     "output_type": "stream",
     "text": []
    },
    {
     "name": "stdout",
     "output_type": "stream",
     "text": [
      "Processed 4750/29192 samples (16.3%)\n",
      "Processing batch 96/584 (samples 4750-4799)\n"
     ]
    },
    {
     "name": "stderr",
     "output_type": "stream",
     "text": []
    },
    {
     "name": "stdout",
     "output_type": "stream",
     "text": [
      "Processed 4800/29192 samples (16.4%)\n",
      "Processing batch 97/584 (samples 4800-4849)\n"
     ]
    },
    {
     "name": "stderr",
     "output_type": "stream",
     "text": []
    },
    {
     "name": "stdout",
     "output_type": "stream",
     "text": [
      "Processed 4850/29192 samples (16.6%)\n",
      "Processing batch 98/584 (samples 4850-4899)\n"
     ]
    },
    {
     "name": "stderr",
     "output_type": "stream",
     "text": []
    },
    {
     "name": "stdout",
     "output_type": "stream",
     "text": [
      "Processed 4900/29192 samples (16.8%)\n",
      "Processing batch 99/584 (samples 4900-4949)\n"
     ]
    },
    {
     "name": "stderr",
     "output_type": "stream",
     "text": []
    },
    {
     "name": "stdout",
     "output_type": "stream",
     "text": [
      "Processed 4950/29192 samples (17.0%)\n",
      "Processing batch 100/584 (samples 4950-4999)\n"
     ]
    },
    {
     "name": "stderr",
     "output_type": "stream",
     "text": []
    },
    {
     "name": "stdout",
     "output_type": "stream",
     "text": [
      "Processed 5000/29192 samples (17.1%)\n",
      "Processing batch 101/584 (samples 5000-5049)\n"
     ]
    },
    {
     "name": "stderr",
     "output_type": "stream",
     "text": []
    },
    {
     "name": "stdout",
     "output_type": "stream",
     "text": [
      "Processed 5050/29192 samples (17.3%)\n",
      "Processing batch 102/584 (samples 5050-5099)\n"
     ]
    },
    {
     "name": "stderr",
     "output_type": "stream",
     "text": []
    },
    {
     "name": "stdout",
     "output_type": "stream",
     "text": [
      "Processed 5100/29192 samples (17.5%)\n",
      "Processing batch 103/584 (samples 5100-5149)\n"
     ]
    },
    {
     "name": "stderr",
     "output_type": "stream",
     "text": []
    },
    {
     "name": "stdout",
     "output_type": "stream",
     "text": [
      "Processed 5150/29192 samples (17.6%)\n",
      "Processing batch 104/584 (samples 5150-5199)\n"
     ]
    },
    {
     "name": "stderr",
     "output_type": "stream",
     "text": []
    },
    {
     "name": "stdout",
     "output_type": "stream",
     "text": [
      "Processed 5200/29192 samples (17.8%)\n",
      "Processing batch 105/584 (samples 5200-5249)\n"
     ]
    },
    {
     "name": "stderr",
     "output_type": "stream",
     "text": []
    },
    {
     "name": "stdout",
     "output_type": "stream",
     "text": [
      "Processed 5250/29192 samples (18.0%)\n",
      "Processing batch 106/584 (samples 5250-5299)\n"
     ]
    },
    {
     "name": "stderr",
     "output_type": "stream",
     "text": []
    },
    {
     "name": "stdout",
     "output_type": "stream",
     "text": [
      "Processed 5300/29192 samples (18.2%)\n",
      "Processing batch 107/584 (samples 5300-5349)\n"
     ]
    },
    {
     "name": "stderr",
     "output_type": "stream",
     "text": []
    },
    {
     "name": "stdout",
     "output_type": "stream",
     "text": [
      "Processed 5350/29192 samples (18.3%)\n",
      "Processing batch 108/584 (samples 5350-5399)\n"
     ]
    },
    {
     "name": "stderr",
     "output_type": "stream",
     "text": []
    },
    {
     "name": "stdout",
     "output_type": "stream",
     "text": [
      "Processed 5400/29192 samples (18.5%)\n",
      "Processing batch 109/584 (samples 5400-5449)\n"
     ]
    },
    {
     "name": "stderr",
     "output_type": "stream",
     "text": []
    },
    {
     "name": "stdout",
     "output_type": "stream",
     "text": [
      "Processed 5450/29192 samples (18.7%)\n",
      "Processing batch 110/584 (samples 5450-5499)\n"
     ]
    },
    {
     "name": "stderr",
     "output_type": "stream",
     "text": []
    },
    {
     "name": "stdout",
     "output_type": "stream",
     "text": [
      "Processed 5500/29192 samples (18.8%)\n",
      "Processing batch 111/584 (samples 5500-5549)\n"
     ]
    },
    {
     "name": "stderr",
     "output_type": "stream",
     "text": []
    },
    {
     "name": "stdout",
     "output_type": "stream",
     "text": [
      "Processed 5550/29192 samples (19.0%)\n",
      "Processing batch 112/584 (samples 5550-5599)\n"
     ]
    },
    {
     "name": "stderr",
     "output_type": "stream",
     "text": []
    },
    {
     "name": "stdout",
     "output_type": "stream",
     "text": [
      "Processed 5600/29192 samples (19.2%)\n",
      "Processing batch 113/584 (samples 5600-5649)\n"
     ]
    },
    {
     "name": "stderr",
     "output_type": "stream",
     "text": []
    },
    {
     "name": "stdout",
     "output_type": "stream",
     "text": [
      "Processed 5650/29192 samples (19.4%)\n",
      "Processing batch 114/584 (samples 5650-5699)\n"
     ]
    },
    {
     "name": "stderr",
     "output_type": "stream",
     "text": []
    },
    {
     "name": "stdout",
     "output_type": "stream",
     "text": [
      "Processed 5700/29192 samples (19.5%)\n",
      "Processing batch 115/584 (samples 5700-5749)\n"
     ]
    },
    {
     "name": "stderr",
     "output_type": "stream",
     "text": []
    },
    {
     "name": "stdout",
     "output_type": "stream",
     "text": [
      "Processed 5750/29192 samples (19.7%)\n",
      "Processing batch 116/584 (samples 5750-5799)\n"
     ]
    },
    {
     "name": "stderr",
     "output_type": "stream",
     "text": []
    },
    {
     "name": "stdout",
     "output_type": "stream",
     "text": [
      "Processed 5800/29192 samples (19.9%)\n",
      "Processing batch 117/584 (samples 5800-5849)\n"
     ]
    },
    {
     "name": "stderr",
     "output_type": "stream",
     "text": []
    },
    {
     "name": "stdout",
     "output_type": "stream",
     "text": [
      "Processed 5850/29192 samples (20.0%)\n",
      "Processing batch 118/584 (samples 5850-5899)\n"
     ]
    },
    {
     "name": "stderr",
     "output_type": "stream",
     "text": []
    },
    {
     "name": "stdout",
     "output_type": "stream",
     "text": [
      "Processed 5900/29192 samples (20.2%)\n",
      "Processing batch 119/584 (samples 5900-5949)\n"
     ]
    },
    {
     "name": "stderr",
     "output_type": "stream",
     "text": []
    },
    {
     "name": "stdout",
     "output_type": "stream",
     "text": [
      "Processed 5950/29192 samples (20.4%)\n",
      "Processing batch 120/584 (samples 5950-5999)\n"
     ]
    },
    {
     "name": "stderr",
     "output_type": "stream",
     "text": []
    },
    {
     "name": "stdout",
     "output_type": "stream",
     "text": [
      "Processed 6000/29192 samples (20.6%)\n",
      "Processing batch 121/584 (samples 6000-6049)\n"
     ]
    },
    {
     "name": "stderr",
     "output_type": "stream",
     "text": []
    },
    {
     "name": "stdout",
     "output_type": "stream",
     "text": [
      "Processed 6050/29192 samples (20.7%)\n",
      "Processing batch 122/584 (samples 6050-6099)\n"
     ]
    },
    {
     "name": "stderr",
     "output_type": "stream",
     "text": []
    },
    {
     "name": "stdout",
     "output_type": "stream",
     "text": [
      "Processed 6100/29192 samples (20.9%)\n",
      "Processing batch 123/584 (samples 6100-6149)\n"
     ]
    },
    {
     "name": "stderr",
     "output_type": "stream",
     "text": []
    },
    {
     "name": "stdout",
     "output_type": "stream",
     "text": [
      "Processed 6150/29192 samples (21.1%)\n",
      "Processing batch 124/584 (samples 6150-6199)\n"
     ]
    },
    {
     "name": "stderr",
     "output_type": "stream",
     "text": []
    },
    {
     "name": "stdout",
     "output_type": "stream",
     "text": [
      "Processed 6200/29192 samples (21.2%)\n",
      "Processing batch 125/584 (samples 6200-6249)\n"
     ]
    },
    {
     "name": "stderr",
     "output_type": "stream",
     "text": []
    },
    {
     "name": "stdout",
     "output_type": "stream",
     "text": [
      "Processed 6250/29192 samples (21.4%)\n",
      "Processing batch 126/584 (samples 6250-6299)\n"
     ]
    },
    {
     "name": "stderr",
     "output_type": "stream",
     "text": []
    },
    {
     "name": "stdout",
     "output_type": "stream",
     "text": [
      "Processed 6300/29192 samples (21.6%)\n",
      "Processing batch 127/584 (samples 6300-6349)\n"
     ]
    },
    {
     "name": "stderr",
     "output_type": "stream",
     "text": []
    },
    {
     "name": "stdout",
     "output_type": "stream",
     "text": [
      "Processed 6350/29192 samples (21.8%)\n",
      "Processing batch 128/584 (samples 6350-6399)\n"
     ]
    },
    {
     "name": "stderr",
     "output_type": "stream",
     "text": []
    },
    {
     "name": "stdout",
     "output_type": "stream",
     "text": [
      "Processed 6400/29192 samples (21.9%)\n",
      "Processing batch 129/584 (samples 6400-6449)\n"
     ]
    },
    {
     "name": "stderr",
     "output_type": "stream",
     "text": []
    },
    {
     "name": "stdout",
     "output_type": "stream",
     "text": [
      "Processed 6450/29192 samples (22.1%)\n",
      "Processing batch 130/584 (samples 6450-6499)\n"
     ]
    },
    {
     "name": "stderr",
     "output_type": "stream",
     "text": []
    },
    {
     "name": "stdout",
     "output_type": "stream",
     "text": [
      "Processed 6500/29192 samples (22.3%)\n",
      "Processing batch 131/584 (samples 6500-6549)\n"
     ]
    },
    {
     "name": "stderr",
     "output_type": "stream",
     "text": []
    },
    {
     "name": "stdout",
     "output_type": "stream",
     "text": [
      "Processed 6550/29192 samples (22.4%)\n",
      "Processing batch 132/584 (samples 6550-6599)\n"
     ]
    },
    {
     "name": "stderr",
     "output_type": "stream",
     "text": []
    },
    {
     "name": "stdout",
     "output_type": "stream",
     "text": [
      "Processed 6600/29192 samples (22.6%)\n",
      "Processing batch 133/584 (samples 6600-6649)\n"
     ]
    },
    {
     "name": "stderr",
     "output_type": "stream",
     "text": []
    },
    {
     "name": "stdout",
     "output_type": "stream",
     "text": [
      "Processed 6650/29192 samples (22.8%)\n",
      "Processing batch 134/584 (samples 6650-6699)\n"
     ]
    },
    {
     "name": "stderr",
     "output_type": "stream",
     "text": []
    },
    {
     "name": "stdout",
     "output_type": "stream",
     "text": [
      "Processed 6700/29192 samples (23.0%)\n",
      "Processing batch 135/584 (samples 6700-6749)\n"
     ]
    },
    {
     "name": "stderr",
     "output_type": "stream",
     "text": []
    },
    {
     "name": "stdout",
     "output_type": "stream",
     "text": [
      "Processed 6750/29192 samples (23.1%)\n",
      "Processing batch 136/584 (samples 6750-6799)\n"
     ]
    },
    {
     "name": "stderr",
     "output_type": "stream",
     "text": []
    },
    {
     "name": "stdout",
     "output_type": "stream",
     "text": [
      "Processed 6800/29192 samples (23.3%)\n",
      "Processing batch 137/584 (samples 6800-6849)\n"
     ]
    },
    {
     "name": "stderr",
     "output_type": "stream",
     "text": []
    },
    {
     "name": "stdout",
     "output_type": "stream",
     "text": [
      "Processed 6850/29192 samples (23.5%)\n",
      "Processing batch 138/584 (samples 6850-6899)\n"
     ]
    },
    {
     "name": "stderr",
     "output_type": "stream",
     "text": []
    },
    {
     "name": "stdout",
     "output_type": "stream",
     "text": [
      "Processed 6900/29192 samples (23.6%)\n",
      "Processing batch 139/584 (samples 6900-6949)\n"
     ]
    },
    {
     "name": "stderr",
     "output_type": "stream",
     "text": []
    },
    {
     "name": "stdout",
     "output_type": "stream",
     "text": [
      "Processed 6950/29192 samples (23.8%)\n",
      "Processing batch 140/584 (samples 6950-6999)\n"
     ]
    },
    {
     "name": "stderr",
     "output_type": "stream",
     "text": []
    },
    {
     "name": "stdout",
     "output_type": "stream",
     "text": [
      "Processed 7000/29192 samples (24.0%)\n",
      "Processing batch 141/584 (samples 7000-7049)\n"
     ]
    },
    {
     "name": "stderr",
     "output_type": "stream",
     "text": []
    },
    {
     "name": "stdout",
     "output_type": "stream",
     "text": [
      "Processed 7050/29192 samples (24.2%)\n",
      "Processing batch 142/584 (samples 7050-7099)\n"
     ]
    },
    {
     "name": "stderr",
     "output_type": "stream",
     "text": []
    },
    {
     "name": "stdout",
     "output_type": "stream",
     "text": [
      "Processed 7100/29192 samples (24.3%)\n",
      "Processing batch 143/584 (samples 7100-7149)\n"
     ]
    },
    {
     "name": "stderr",
     "output_type": "stream",
     "text": []
    },
    {
     "name": "stdout",
     "output_type": "stream",
     "text": [
      "Processed 7150/29192 samples (24.5%)\n",
      "Processing batch 144/584 (samples 7150-7199)\n"
     ]
    },
    {
     "name": "stderr",
     "output_type": "stream",
     "text": []
    },
    {
     "name": "stdout",
     "output_type": "stream",
     "text": [
      "Processed 7200/29192 samples (24.7%)\n",
      "Processing batch 145/584 (samples 7200-7249)\n"
     ]
    },
    {
     "name": "stderr",
     "output_type": "stream",
     "text": []
    },
    {
     "name": "stdout",
     "output_type": "stream",
     "text": [
      "Processed 7250/29192 samples (24.8%)\n",
      "Processing batch 146/584 (samples 7250-7299)\n"
     ]
    },
    {
     "name": "stderr",
     "output_type": "stream",
     "text": []
    },
    {
     "name": "stdout",
     "output_type": "stream",
     "text": [
      "Processed 7300/29192 samples (25.0%)\n",
      "Processing batch 147/584 (samples 7300-7349)\n"
     ]
    },
    {
     "name": "stderr",
     "output_type": "stream",
     "text": []
    },
    {
     "name": "stdout",
     "output_type": "stream",
     "text": [
      "Processed 7350/29192 samples (25.2%)\n",
      "Processing batch 148/584 (samples 7350-7399)\n"
     ]
    },
    {
     "name": "stderr",
     "output_type": "stream",
     "text": []
    },
    {
     "name": "stdout",
     "output_type": "stream",
     "text": [
      "Processed 7400/29192 samples (25.3%)\n",
      "Processing batch 149/584 (samples 7400-7449)\n"
     ]
    },
    {
     "name": "stderr",
     "output_type": "stream",
     "text": []
    },
    {
     "name": "stdout",
     "output_type": "stream",
     "text": [
      "Processed 7450/29192 samples (25.5%)\n",
      "Processing batch 150/584 (samples 7450-7499)\n"
     ]
    },
    {
     "name": "stderr",
     "output_type": "stream",
     "text": []
    },
    {
     "name": "stdout",
     "output_type": "stream",
     "text": [
      "Processed 7500/29192 samples (25.7%)\n",
      "Processing batch 151/584 (samples 7500-7549)\n"
     ]
    },
    {
     "name": "stderr",
     "output_type": "stream",
     "text": []
    },
    {
     "name": "stdout",
     "output_type": "stream",
     "text": [
      "Processed 7550/29192 samples (25.9%)\n",
      "Processing batch 152/584 (samples 7550-7599)\n"
     ]
    },
    {
     "name": "stderr",
     "output_type": "stream",
     "text": []
    },
    {
     "name": "stdout",
     "output_type": "stream",
     "text": [
      "Processed 7600/29192 samples (26.0%)\n",
      "Processing batch 153/584 (samples 7600-7649)\n"
     ]
    },
    {
     "name": "stderr",
     "output_type": "stream",
     "text": []
    },
    {
     "name": "stdout",
     "output_type": "stream",
     "text": [
      "Processed 7650/29192 samples (26.2%)\n",
      "Processing batch 154/584 (samples 7650-7699)\n"
     ]
    },
    {
     "name": "stderr",
     "output_type": "stream",
     "text": []
    },
    {
     "name": "stdout",
     "output_type": "stream",
     "text": [
      "Processed 7700/29192 samples (26.4%)\n",
      "Processing batch 155/584 (samples 7700-7749)\n"
     ]
    },
    {
     "name": "stderr",
     "output_type": "stream",
     "text": []
    },
    {
     "name": "stdout",
     "output_type": "stream",
     "text": [
      "Processed 7750/29192 samples (26.5%)\n",
      "Processing batch 156/584 (samples 7750-7799)\n"
     ]
    },
    {
     "name": "stderr",
     "output_type": "stream",
     "text": []
    },
    {
     "name": "stdout",
     "output_type": "stream",
     "text": [
      "Processed 7800/29192 samples (26.7%)\n",
      "Processing batch 157/584 (samples 7800-7849)\n"
     ]
    },
    {
     "name": "stderr",
     "output_type": "stream",
     "text": []
    },
    {
     "name": "stdout",
     "output_type": "stream",
     "text": [
      "Processed 7850/29192 samples (26.9%)\n",
      "Processing batch 158/584 (samples 7850-7899)\n"
     ]
    },
    {
     "name": "stderr",
     "output_type": "stream",
     "text": []
    },
    {
     "name": "stdout",
     "output_type": "stream",
     "text": [
      "Processed 7900/29192 samples (27.1%)\n",
      "Processing batch 159/584 (samples 7900-7949)\n"
     ]
    },
    {
     "name": "stderr",
     "output_type": "stream",
     "text": []
    },
    {
     "name": "stdout",
     "output_type": "stream",
     "text": [
      "Processed 7950/29192 samples (27.2%)\n",
      "Processing batch 160/584 (samples 7950-7999)\n"
     ]
    },
    {
     "name": "stderr",
     "output_type": "stream",
     "text": []
    },
    {
     "name": "stdout",
     "output_type": "stream",
     "text": [
      "Processed 8000/29192 samples (27.4%)\n",
      "Processing batch 161/584 (samples 8000-8049)\n"
     ]
    },
    {
     "name": "stderr",
     "output_type": "stream",
     "text": []
    },
    {
     "name": "stdout",
     "output_type": "stream",
     "text": [
      "Processed 8050/29192 samples (27.6%)\n",
      "Processing batch 162/584 (samples 8050-8099)\n"
     ]
    },
    {
     "name": "stderr",
     "output_type": "stream",
     "text": []
    },
    {
     "name": "stdout",
     "output_type": "stream",
     "text": [
      "Processed 8100/29192 samples (27.7%)\n",
      "Processing batch 163/584 (samples 8100-8149)\n"
     ]
    },
    {
     "name": "stderr",
     "output_type": "stream",
     "text": []
    },
    {
     "name": "stdout",
     "output_type": "stream",
     "text": [
      "Processed 8150/29192 samples (27.9%)\n",
      "Processing batch 164/584 (samples 8150-8199)\n"
     ]
    },
    {
     "name": "stderr",
     "output_type": "stream",
     "text": []
    },
    {
     "name": "stdout",
     "output_type": "stream",
     "text": [
      "Processed 8200/29192 samples (28.1%)\n",
      "Processing batch 165/584 (samples 8200-8249)\n"
     ]
    },
    {
     "name": "stderr",
     "output_type": "stream",
     "text": []
    },
    {
     "name": "stdout",
     "output_type": "stream",
     "text": [
      "Processed 8250/29192 samples (28.3%)\n",
      "Processing batch 166/584 (samples 8250-8299)\n"
     ]
    },
    {
     "name": "stderr",
     "output_type": "stream",
     "text": []
    },
    {
     "name": "stdout",
     "output_type": "stream",
     "text": [
      "Processed 8300/29192 samples (28.4%)\n",
      "Processing batch 167/584 (samples 8300-8349)\n"
     ]
    },
    {
     "name": "stderr",
     "output_type": "stream",
     "text": []
    },
    {
     "name": "stdout",
     "output_type": "stream",
     "text": [
      "Processed 8350/29192 samples (28.6%)\n",
      "Processing batch 168/584 (samples 8350-8399)\n"
     ]
    },
    {
     "name": "stderr",
     "output_type": "stream",
     "text": []
    },
    {
     "name": "stdout",
     "output_type": "stream",
     "text": [
      "Processed 8400/29192 samples (28.8%)\n",
      "Processing batch 169/584 (samples 8400-8449)\n"
     ]
    },
    {
     "name": "stderr",
     "output_type": "stream",
     "text": []
    },
    {
     "name": "stdout",
     "output_type": "stream",
     "text": [
      "Processed 8450/29192 samples (28.9%)\n",
      "Processing batch 170/584 (samples 8450-8499)\n"
     ]
    },
    {
     "name": "stderr",
     "output_type": "stream",
     "text": []
    },
    {
     "name": "stdout",
     "output_type": "stream",
     "text": [
      "Processed 8500/29192 samples (29.1%)\n",
      "Processing batch 171/584 (samples 8500-8549)\n"
     ]
    },
    {
     "name": "stderr",
     "output_type": "stream",
     "text": []
    },
    {
     "name": "stdout",
     "output_type": "stream",
     "text": [
      "Processed 8550/29192 samples (29.3%)\n",
      "Processing batch 172/584 (samples 8550-8599)\n"
     ]
    },
    {
     "name": "stderr",
     "output_type": "stream",
     "text": []
    },
    {
     "name": "stdout",
     "output_type": "stream",
     "text": [
      "Processed 8600/29192 samples (29.5%)\n",
      "Processing batch 173/584 (samples 8600-8649)\n"
     ]
    },
    {
     "name": "stderr",
     "output_type": "stream",
     "text": []
    },
    {
     "name": "stdout",
     "output_type": "stream",
     "text": [
      "Processed 8650/29192 samples (29.6%)\n",
      "Processing batch 174/584 (samples 8650-8699)\n"
     ]
    },
    {
     "name": "stderr",
     "output_type": "stream",
     "text": []
    },
    {
     "name": "stdout",
     "output_type": "stream",
     "text": [
      "Processed 8700/29192 samples (29.8%)\n",
      "Processing batch 175/584 (samples 8700-8749)\n"
     ]
    },
    {
     "name": "stderr",
     "output_type": "stream",
     "text": []
    },
    {
     "name": "stdout",
     "output_type": "stream",
     "text": [
      "Processed 8750/29192 samples (30.0%)\n",
      "Processing batch 176/584 (samples 8750-8799)\n"
     ]
    },
    {
     "name": "stderr",
     "output_type": "stream",
     "text": []
    },
    {
     "name": "stdout",
     "output_type": "stream",
     "text": [
      "Processed 8800/29192 samples (30.1%)\n",
      "Processing batch 177/584 (samples 8800-8849)\n"
     ]
    },
    {
     "name": "stderr",
     "output_type": "stream",
     "text": []
    },
    {
     "name": "stdout",
     "output_type": "stream",
     "text": [
      "Processed 8850/29192 samples (30.3%)\n",
      "Processing batch 178/584 (samples 8850-8899)\n"
     ]
    },
    {
     "name": "stderr",
     "output_type": "stream",
     "text": []
    },
    {
     "name": "stdout",
     "output_type": "stream",
     "text": [
      "Processed 8900/29192 samples (30.5%)\n",
      "Processing batch 179/584 (samples 8900-8949)\n"
     ]
    },
    {
     "name": "stderr",
     "output_type": "stream",
     "text": []
    },
    {
     "name": "stdout",
     "output_type": "stream",
     "text": [
      "Processed 8950/29192 samples (30.7%)\n",
      "Processing batch 180/584 (samples 8950-8999)\n"
     ]
    },
    {
     "name": "stderr",
     "output_type": "stream",
     "text": []
    },
    {
     "name": "stdout",
     "output_type": "stream",
     "text": [
      "Processed 9000/29192 samples (30.8%)\n",
      "Processing batch 181/584 (samples 9000-9049)\n"
     ]
    },
    {
     "name": "stderr",
     "output_type": "stream",
     "text": []
    },
    {
     "name": "stdout",
     "output_type": "stream",
     "text": [
      "Processed 9050/29192 samples (31.0%)\n",
      "Processing batch 182/584 (samples 9050-9099)\n"
     ]
    },
    {
     "name": "stderr",
     "output_type": "stream",
     "text": []
    },
    {
     "name": "stdout",
     "output_type": "stream",
     "text": [
      "Processed 9100/29192 samples (31.2%)\n",
      "Processing batch 183/584 (samples 9100-9149)\n"
     ]
    },
    {
     "name": "stderr",
     "output_type": "stream",
     "text": []
    },
    {
     "name": "stdout",
     "output_type": "stream",
     "text": [
      "Processed 9150/29192 samples (31.3%)\n",
      "Processing batch 184/584 (samples 9150-9199)\n"
     ]
    },
    {
     "name": "stderr",
     "output_type": "stream",
     "text": []
    },
    {
     "name": "stdout",
     "output_type": "stream",
     "text": [
      "Processed 9200/29192 samples (31.5%)\n",
      "Processing batch 185/584 (samples 9200-9249)\n"
     ]
    },
    {
     "name": "stderr",
     "output_type": "stream",
     "text": []
    },
    {
     "name": "stdout",
     "output_type": "stream",
     "text": [
      "Processed 9250/29192 samples (31.7%)\n",
      "Processing batch 186/584 (samples 9250-9299)\n"
     ]
    },
    {
     "name": "stderr",
     "output_type": "stream",
     "text": []
    },
    {
     "name": "stdout",
     "output_type": "stream",
     "text": [
      "Processed 9300/29192 samples (31.9%)\n",
      "Processing batch 187/584 (samples 9300-9349)\n"
     ]
    },
    {
     "name": "stderr",
     "output_type": "stream",
     "text": []
    },
    {
     "name": "stdout",
     "output_type": "stream",
     "text": [
      "Processed 9350/29192 samples (32.0%)\n",
      "Processing batch 188/584 (samples 9350-9399)\n"
     ]
    },
    {
     "name": "stderr",
     "output_type": "stream",
     "text": []
    },
    {
     "name": "stdout",
     "output_type": "stream",
     "text": [
      "Processed 9400/29192 samples (32.2%)\n",
      "Processing batch 189/584 (samples 9400-9449)\n"
     ]
    },
    {
     "name": "stderr",
     "output_type": "stream",
     "text": []
    },
    {
     "name": "stdout",
     "output_type": "stream",
     "text": [
      "Processed 9450/29192 samples (32.4%)\n",
      "Processing batch 190/584 (samples 9450-9499)\n"
     ]
    },
    {
     "name": "stderr",
     "output_type": "stream",
     "text": []
    },
    {
     "name": "stdout",
     "output_type": "stream",
     "text": [
      "Processed 9500/29192 samples (32.5%)\n",
      "Processing batch 191/584 (samples 9500-9549)\n"
     ]
    },
    {
     "name": "stderr",
     "output_type": "stream",
     "text": []
    },
    {
     "name": "stdout",
     "output_type": "stream",
     "text": [
      "Processed 9550/29192 samples (32.7%)\n",
      "Processing batch 192/584 (samples 9550-9599)\n"
     ]
    },
    {
     "name": "stderr",
     "output_type": "stream",
     "text": []
    },
    {
     "name": "stdout",
     "output_type": "stream",
     "text": [
      "Processed 9600/29192 samples (32.9%)\n",
      "Processing batch 193/584 (samples 9600-9649)\n"
     ]
    },
    {
     "name": "stderr",
     "output_type": "stream",
     "text": []
    },
    {
     "name": "stdout",
     "output_type": "stream",
     "text": [
      "Processed 9650/29192 samples (33.1%)\n",
      "Processing batch 194/584 (samples 9650-9699)\n"
     ]
    },
    {
     "name": "stderr",
     "output_type": "stream",
     "text": []
    },
    {
     "name": "stdout",
     "output_type": "stream",
     "text": [
      "Processed 9700/29192 samples (33.2%)\n",
      "Processing batch 195/584 (samples 9700-9749)\n"
     ]
    },
    {
     "name": "stderr",
     "output_type": "stream",
     "text": []
    },
    {
     "name": "stdout",
     "output_type": "stream",
     "text": [
      "Processed 9750/29192 samples (33.4%)\n",
      "Processing batch 196/584 (samples 9750-9799)\n"
     ]
    },
    {
     "name": "stderr",
     "output_type": "stream",
     "text": []
    },
    {
     "name": "stdout",
     "output_type": "stream",
     "text": [
      "Processed 9800/29192 samples (33.6%)\n",
      "Processing batch 197/584 (samples 9800-9849)\n"
     ]
    },
    {
     "name": "stderr",
     "output_type": "stream",
     "text": []
    },
    {
     "name": "stdout",
     "output_type": "stream",
     "text": [
      "Processed 9850/29192 samples (33.7%)\n",
      "Processing batch 198/584 (samples 9850-9899)\n"
     ]
    },
    {
     "name": "stderr",
     "output_type": "stream",
     "text": []
    },
    {
     "name": "stdout",
     "output_type": "stream",
     "text": [
      "Processed 9900/29192 samples (33.9%)\n",
      "Processing batch 199/584 (samples 9900-9949)\n"
     ]
    },
    {
     "name": "stderr",
     "output_type": "stream",
     "text": []
    },
    {
     "name": "stdout",
     "output_type": "stream",
     "text": [
      "Processed 9950/29192 samples (34.1%)\n",
      "Processing batch 200/584 (samples 9950-9999)\n"
     ]
    },
    {
     "name": "stderr",
     "output_type": "stream",
     "text": []
    },
    {
     "name": "stdout",
     "output_type": "stream",
     "text": [
      "Processed 10000/29192 samples (34.3%)\n",
      "Processing batch 201/584 (samples 10000-10049)\n"
     ]
    },
    {
     "name": "stderr",
     "output_type": "stream",
     "text": []
    },
    {
     "name": "stdout",
     "output_type": "stream",
     "text": [
      "Processed 10050/29192 samples (34.4%)\n",
      "Processing batch 202/584 (samples 10050-10099)\n"
     ]
    },
    {
     "name": "stderr",
     "output_type": "stream",
     "text": []
    },
    {
     "name": "stdout",
     "output_type": "stream",
     "text": [
      "Processed 10100/29192 samples (34.6%)\n",
      "Processing batch 203/584 (samples 10100-10149)\n"
     ]
    },
    {
     "name": "stderr",
     "output_type": "stream",
     "text": []
    },
    {
     "name": "stdout",
     "output_type": "stream",
     "text": [
      "Processed 10150/29192 samples (34.8%)\n",
      "Processing batch 204/584 (samples 10150-10199)\n"
     ]
    },
    {
     "name": "stderr",
     "output_type": "stream",
     "text": []
    },
    {
     "name": "stdout",
     "output_type": "stream",
     "text": [
      "Processed 10200/29192 samples (34.9%)\n",
      "Processing batch 205/584 (samples 10200-10249)\n"
     ]
    },
    {
     "name": "stderr",
     "output_type": "stream",
     "text": []
    },
    {
     "name": "stdout",
     "output_type": "stream",
     "text": [
      "Processed 10250/29192 samples (35.1%)\n",
      "Processing batch 206/584 (samples 10250-10299)\n"
     ]
    },
    {
     "name": "stderr",
     "output_type": "stream",
     "text": []
    },
    {
     "name": "stdout",
     "output_type": "stream",
     "text": [
      "Processed 10300/29192 samples (35.3%)\n",
      "Processing batch 207/584 (samples 10300-10349)\n"
     ]
    },
    {
     "name": "stderr",
     "output_type": "stream",
     "text": []
    },
    {
     "name": "stdout",
     "output_type": "stream",
     "text": [
      "Processed 10350/29192 samples (35.5%)\n",
      "Processing batch 208/584 (samples 10350-10399)\n"
     ]
    },
    {
     "name": "stderr",
     "output_type": "stream",
     "text": []
    },
    {
     "name": "stdout",
     "output_type": "stream",
     "text": [
      "Processed 10400/29192 samples (35.6%)\n",
      "Processing batch 209/584 (samples 10400-10449)\n"
     ]
    },
    {
     "name": "stderr",
     "output_type": "stream",
     "text": []
    },
    {
     "name": "stdout",
     "output_type": "stream",
     "text": [
      "Processed 10450/29192 samples (35.8%)\n",
      "Processing batch 210/584 (samples 10450-10499)\n"
     ]
    },
    {
     "name": "stderr",
     "output_type": "stream",
     "text": []
    },
    {
     "name": "stdout",
     "output_type": "stream",
     "text": [
      "Processed 10500/29192 samples (36.0%)\n",
      "Processing batch 211/584 (samples 10500-10549)\n"
     ]
    },
    {
     "name": "stderr",
     "output_type": "stream",
     "text": []
    },
    {
     "name": "stdout",
     "output_type": "stream",
     "text": [
      "Processed 10550/29192 samples (36.1%)\n",
      "Processing batch 212/584 (samples 10550-10599)\n"
     ]
    },
    {
     "name": "stderr",
     "output_type": "stream",
     "text": []
    },
    {
     "name": "stdout",
     "output_type": "stream",
     "text": [
      "Processed 10600/29192 samples (36.3%)\n",
      "Processing batch 213/584 (samples 10600-10649)\n"
     ]
    },
    {
     "name": "stderr",
     "output_type": "stream",
     "text": []
    },
    {
     "name": "stdout",
     "output_type": "stream",
     "text": [
      "Processed 10650/29192 samples (36.5%)\n",
      "Processing batch 214/584 (samples 10650-10699)\n"
     ]
    },
    {
     "name": "stderr",
     "output_type": "stream",
     "text": []
    },
    {
     "name": "stdout",
     "output_type": "stream",
     "text": [
      "Processed 10700/29192 samples (36.7%)\n",
      "Processing batch 215/584 (samples 10700-10749)\n"
     ]
    },
    {
     "name": "stderr",
     "output_type": "stream",
     "text": []
    },
    {
     "name": "stdout",
     "output_type": "stream",
     "text": [
      "Processed 10750/29192 samples (36.8%)\n",
      "Processing batch 216/584 (samples 10750-10799)\n"
     ]
    },
    {
     "name": "stderr",
     "output_type": "stream",
     "text": []
    },
    {
     "name": "stdout",
     "output_type": "stream",
     "text": [
      "Processed 10800/29192 samples (37.0%)\n",
      "Processing batch 217/584 (samples 10800-10849)\n"
     ]
    },
    {
     "name": "stderr",
     "output_type": "stream",
     "text": []
    },
    {
     "name": "stdout",
     "output_type": "stream",
     "text": [
      "Processed 10850/29192 samples (37.2%)\n",
      "Processing batch 218/584 (samples 10850-10899)\n"
     ]
    },
    {
     "name": "stderr",
     "output_type": "stream",
     "text": []
    },
    {
     "name": "stdout",
     "output_type": "stream",
     "text": [
      "Processed 10900/29192 samples (37.3%)\n",
      "Processing batch 219/584 (samples 10900-10949)\n"
     ]
    },
    {
     "name": "stderr",
     "output_type": "stream",
     "text": []
    },
    {
     "name": "stdout",
     "output_type": "stream",
     "text": [
      "Processed 10950/29192 samples (37.5%)\n",
      "Processing batch 220/584 (samples 10950-10999)\n"
     ]
    },
    {
     "name": "stderr",
     "output_type": "stream",
     "text": []
    },
    {
     "name": "stdout",
     "output_type": "stream",
     "text": [
      "Processed 11000/29192 samples (37.7%)\n",
      "Processing batch 221/584 (samples 11000-11049)\n"
     ]
    },
    {
     "name": "stderr",
     "output_type": "stream",
     "text": []
    },
    {
     "name": "stdout",
     "output_type": "stream",
     "text": [
      "Processed 11050/29192 samples (37.9%)\n",
      "Processing batch 222/584 (samples 11050-11099)\n"
     ]
    },
    {
     "name": "stderr",
     "output_type": "stream",
     "text": []
    },
    {
     "name": "stdout",
     "output_type": "stream",
     "text": [
      "Processed 11100/29192 samples (38.0%)\n",
      "Processing batch 223/584 (samples 11100-11149)\n"
     ]
    },
    {
     "name": "stderr",
     "output_type": "stream",
     "text": []
    },
    {
     "name": "stdout",
     "output_type": "stream",
     "text": [
      "Processed 11150/29192 samples (38.2%)\n",
      "Processing batch 224/584 (samples 11150-11199)\n"
     ]
    },
    {
     "name": "stderr",
     "output_type": "stream",
     "text": []
    },
    {
     "name": "stdout",
     "output_type": "stream",
     "text": [
      "Processed 11200/29192 samples (38.4%)\n",
      "Processing batch 225/584 (samples 11200-11249)\n"
     ]
    },
    {
     "name": "stderr",
     "output_type": "stream",
     "text": []
    },
    {
     "name": "stdout",
     "output_type": "stream",
     "text": [
      "Processed 11250/29192 samples (38.5%)\n",
      "Processing batch 226/584 (samples 11250-11299)\n"
     ]
    },
    {
     "name": "stderr",
     "output_type": "stream",
     "text": []
    },
    {
     "name": "stdout",
     "output_type": "stream",
     "text": [
      "Processed 11300/29192 samples (38.7%)\n",
      "Processing batch 227/584 (samples 11300-11349)\n"
     ]
    },
    {
     "name": "stderr",
     "output_type": "stream",
     "text": []
    },
    {
     "name": "stdout",
     "output_type": "stream",
     "text": [
      "Processed 11350/29192 samples (38.9%)\n",
      "Processing batch 228/584 (samples 11350-11399)\n"
     ]
    },
    {
     "name": "stderr",
     "output_type": "stream",
     "text": []
    },
    {
     "name": "stdout",
     "output_type": "stream",
     "text": [
      "Processed 11400/29192 samples (39.1%)\n",
      "Processing batch 229/584 (samples 11400-11449)\n"
     ]
    },
    {
     "name": "stderr",
     "output_type": "stream",
     "text": []
    },
    {
     "name": "stdout",
     "output_type": "stream",
     "text": [
      "Processed 11450/29192 samples (39.2%)\n",
      "Processing batch 230/584 (samples 11450-11499)\n"
     ]
    },
    {
     "name": "stderr",
     "output_type": "stream",
     "text": []
    },
    {
     "name": "stdout",
     "output_type": "stream",
     "text": [
      "Processed 11500/29192 samples (39.4%)\n",
      "Processing batch 231/584 (samples 11500-11549)\n"
     ]
    },
    {
     "name": "stderr",
     "output_type": "stream",
     "text": []
    },
    {
     "name": "stdout",
     "output_type": "stream",
     "text": [
      "Processed 11550/29192 samples (39.6%)\n",
      "Processing batch 232/584 (samples 11550-11599)\n"
     ]
    },
    {
     "name": "stderr",
     "output_type": "stream",
     "text": []
    },
    {
     "name": "stdout",
     "output_type": "stream",
     "text": [
      "Processed 11600/29192 samples (39.7%)\n",
      "Processing batch 233/584 (samples 11600-11649)\n"
     ]
    },
    {
     "name": "stderr",
     "output_type": "stream",
     "text": []
    },
    {
     "name": "stdout",
     "output_type": "stream",
     "text": [
      "Processed 11650/29192 samples (39.9%)\n",
      "Processing batch 234/584 (samples 11650-11699)\n"
     ]
    },
    {
     "name": "stderr",
     "output_type": "stream",
     "text": []
    },
    {
     "name": "stdout",
     "output_type": "stream",
     "text": [
      "Processed 11700/29192 samples (40.1%)\n",
      "Processing batch 235/584 (samples 11700-11749)\n"
     ]
    },
    {
     "name": "stderr",
     "output_type": "stream",
     "text": []
    },
    {
     "name": "stdout",
     "output_type": "stream",
     "text": [
      "Processed 11750/29192 samples (40.3%)\n",
      "Processing batch 236/584 (samples 11750-11799)\n"
     ]
    },
    {
     "name": "stderr",
     "output_type": "stream",
     "text": []
    },
    {
     "name": "stdout",
     "output_type": "stream",
     "text": [
      "Processed 11800/29192 samples (40.4%)\n",
      "Processing batch 237/584 (samples 11800-11849)\n"
     ]
    },
    {
     "name": "stderr",
     "output_type": "stream",
     "text": []
    },
    {
     "name": "stdout",
     "output_type": "stream",
     "text": [
      "Processed 11850/29192 samples (40.6%)\n",
      "Processing batch 238/584 (samples 11850-11899)\n"
     ]
    },
    {
     "name": "stderr",
     "output_type": "stream",
     "text": []
    },
    {
     "name": "stdout",
     "output_type": "stream",
     "text": [
      "Processed 11900/29192 samples (40.8%)\n",
      "Processing batch 239/584 (samples 11900-11949)\n"
     ]
    },
    {
     "name": "stderr",
     "output_type": "stream",
     "text": []
    },
    {
     "name": "stdout",
     "output_type": "stream",
     "text": [
      "Processed 11950/29192 samples (40.9%)\n",
      "Processing batch 240/584 (samples 11950-11999)\n"
     ]
    },
    {
     "name": "stderr",
     "output_type": "stream",
     "text": []
    },
    {
     "name": "stdout",
     "output_type": "stream",
     "text": [
      "Processed 12000/29192 samples (41.1%)\n",
      "Processing batch 241/584 (samples 12000-12049)\n"
     ]
    },
    {
     "name": "stderr",
     "output_type": "stream",
     "text": []
    },
    {
     "name": "stdout",
     "output_type": "stream",
     "text": [
      "Processed 12050/29192 samples (41.3%)\n",
      "Processing batch 242/584 (samples 12050-12099)\n"
     ]
    },
    {
     "name": "stderr",
     "output_type": "stream",
     "text": []
    },
    {
     "name": "stdout",
     "output_type": "stream",
     "text": [
      "Processed 12100/29192 samples (41.4%)\n",
      "Processing batch 243/584 (samples 12100-12149)\n"
     ]
    },
    {
     "name": "stderr",
     "output_type": "stream",
     "text": []
    },
    {
     "name": "stdout",
     "output_type": "stream",
     "text": [
      "Processed 12150/29192 samples (41.6%)\n",
      "Processing batch 244/584 (samples 12150-12199)\n"
     ]
    },
    {
     "name": "stderr",
     "output_type": "stream",
     "text": []
    },
    {
     "name": "stdout",
     "output_type": "stream",
     "text": [
      "Processed 12200/29192 samples (41.8%)\n",
      "Processing batch 245/584 (samples 12200-12249)\n"
     ]
    },
    {
     "name": "stderr",
     "output_type": "stream",
     "text": []
    },
    {
     "name": "stdout",
     "output_type": "stream",
     "text": [
      "Processed 12250/29192 samples (42.0%)\n",
      "Processing batch 246/584 (samples 12250-12299)\n"
     ]
    },
    {
     "name": "stderr",
     "output_type": "stream",
     "text": []
    },
    {
     "name": "stdout",
     "output_type": "stream",
     "text": [
      "Processed 12300/29192 samples (42.1%)\n",
      "Processing batch 247/584 (samples 12300-12349)\n"
     ]
    },
    {
     "name": "stderr",
     "output_type": "stream",
     "text": []
    },
    {
     "name": "stdout",
     "output_type": "stream",
     "text": [
      "Processed 12350/29192 samples (42.3%)\n",
      "Processing batch 248/584 (samples 12350-12399)\n"
     ]
    },
    {
     "name": "stderr",
     "output_type": "stream",
     "text": []
    },
    {
     "name": "stdout",
     "output_type": "stream",
     "text": [
      "Processed 12400/29192 samples (42.5%)\n",
      "Processing batch 249/584 (samples 12400-12449)\n"
     ]
    },
    {
     "name": "stderr",
     "output_type": "stream",
     "text": []
    },
    {
     "name": "stdout",
     "output_type": "stream",
     "text": [
      "Processed 12450/29192 samples (42.6%)\n",
      "Processing batch 250/584 (samples 12450-12499)\n"
     ]
    },
    {
     "name": "stderr",
     "output_type": "stream",
     "text": []
    },
    {
     "name": "stdout",
     "output_type": "stream",
     "text": [
      "Processed 12500/29192 samples (42.8%)\n",
      "Processing batch 251/584 (samples 12500-12549)\n"
     ]
    },
    {
     "name": "stderr",
     "output_type": "stream",
     "text": []
    },
    {
     "name": "stdout",
     "output_type": "stream",
     "text": [
      "Processed 12550/29192 samples (43.0%)\n",
      "Processing batch 252/584 (samples 12550-12599)\n"
     ]
    },
    {
     "name": "stderr",
     "output_type": "stream",
     "text": []
    },
    {
     "name": "stdout",
     "output_type": "stream",
     "text": [
      "Processed 12600/29192 samples (43.2%)\n",
      "Processing batch 253/584 (samples 12600-12649)\n"
     ]
    },
    {
     "name": "stderr",
     "output_type": "stream",
     "text": []
    },
    {
     "name": "stdout",
     "output_type": "stream",
     "text": [
      "Processed 12650/29192 samples (43.3%)\n",
      "Processing batch 254/584 (samples 12650-12699)\n"
     ]
    },
    {
     "name": "stderr",
     "output_type": "stream",
     "text": []
    },
    {
     "name": "stdout",
     "output_type": "stream",
     "text": [
      "Processed 12700/29192 samples (43.5%)\n",
      "Processing batch 255/584 (samples 12700-12749)\n"
     ]
    },
    {
     "name": "stderr",
     "output_type": "stream",
     "text": []
    },
    {
     "name": "stdout",
     "output_type": "stream",
     "text": [
      "Processed 12750/29192 samples (43.7%)\n",
      "Processing batch 256/584 (samples 12750-12799)\n"
     ]
    },
    {
     "name": "stderr",
     "output_type": "stream",
     "text": []
    },
    {
     "name": "stdout",
     "output_type": "stream",
     "text": [
      "Processed 12800/29192 samples (43.8%)\n",
      "Processing batch 257/584 (samples 12800-12849)\n"
     ]
    },
    {
     "name": "stderr",
     "output_type": "stream",
     "text": []
    },
    {
     "name": "stdout",
     "output_type": "stream",
     "text": [
      "Processed 12850/29192 samples (44.0%)\n",
      "Processing batch 258/584 (samples 12850-12899)\n"
     ]
    },
    {
     "name": "stderr",
     "output_type": "stream",
     "text": []
    },
    {
     "name": "stdout",
     "output_type": "stream",
     "text": [
      "Processed 12900/29192 samples (44.2%)\n",
      "Processing batch 259/584 (samples 12900-12949)\n"
     ]
    },
    {
     "name": "stderr",
     "output_type": "stream",
     "text": []
    },
    {
     "name": "stdout",
     "output_type": "stream",
     "text": [
      "Processed 12950/29192 samples (44.4%)\n",
      "Processing batch 260/584 (samples 12950-12999)\n"
     ]
    },
    {
     "name": "stderr",
     "output_type": "stream",
     "text": []
    },
    {
     "name": "stdout",
     "output_type": "stream",
     "text": [
      "Processed 13000/29192 samples (44.5%)\n",
      "Processing batch 261/584 (samples 13000-13049)\n"
     ]
    },
    {
     "name": "stderr",
     "output_type": "stream",
     "text": []
    },
    {
     "name": "stdout",
     "output_type": "stream",
     "text": [
      "Processed 13050/29192 samples (44.7%)\n",
      "Processing batch 262/584 (samples 13050-13099)\n"
     ]
    },
    {
     "name": "stderr",
     "output_type": "stream",
     "text": []
    },
    {
     "name": "stdout",
     "output_type": "stream",
     "text": [
      "Processed 13100/29192 samples (44.9%)\n",
      "Processing batch 263/584 (samples 13100-13149)\n"
     ]
    },
    {
     "name": "stderr",
     "output_type": "stream",
     "text": []
    },
    {
     "name": "stdout",
     "output_type": "stream",
     "text": [
      "Processed 13150/29192 samples (45.0%)\n",
      "Processing batch 264/584 (samples 13150-13199)\n"
     ]
    },
    {
     "name": "stderr",
     "output_type": "stream",
     "text": []
    },
    {
     "name": "stdout",
     "output_type": "stream",
     "text": [
      "Processed 13200/29192 samples (45.2%)\n",
      "Processing batch 265/584 (samples 13200-13249)\n"
     ]
    },
    {
     "name": "stderr",
     "output_type": "stream",
     "text": []
    },
    {
     "name": "stdout",
     "output_type": "stream",
     "text": [
      "Processed 13250/29192 samples (45.4%)\n",
      "Processing batch 266/584 (samples 13250-13299)\n"
     ]
    },
    {
     "name": "stderr",
     "output_type": "stream",
     "text": []
    },
    {
     "name": "stdout",
     "output_type": "stream",
     "text": [
      "Processed 13300/29192 samples (45.6%)\n",
      "Processing batch 267/584 (samples 13300-13349)\n"
     ]
    },
    {
     "name": "stderr",
     "output_type": "stream",
     "text": []
    },
    {
     "name": "stdout",
     "output_type": "stream",
     "text": [
      "Processed 13350/29192 samples (45.7%)\n",
      "Processing batch 268/584 (samples 13350-13399)\n"
     ]
    },
    {
     "name": "stderr",
     "output_type": "stream",
     "text": []
    },
    {
     "name": "stdout",
     "output_type": "stream",
     "text": [
      "Processed 13400/29192 samples (45.9%)\n",
      "Processing batch 269/584 (samples 13400-13449)\n"
     ]
    },
    {
     "name": "stderr",
     "output_type": "stream",
     "text": []
    },
    {
     "name": "stdout",
     "output_type": "stream",
     "text": [
      "Processed 13450/29192 samples (46.1%)\n",
      "Processing batch 270/584 (samples 13450-13499)\n"
     ]
    },
    {
     "name": "stderr",
     "output_type": "stream",
     "text": []
    },
    {
     "name": "stdout",
     "output_type": "stream",
     "text": [
      "Processed 13500/29192 samples (46.2%)\n",
      "Processing batch 271/584 (samples 13500-13549)\n"
     ]
    },
    {
     "name": "stderr",
     "output_type": "stream",
     "text": []
    },
    {
     "name": "stdout",
     "output_type": "stream",
     "text": [
      "Processed 13550/29192 samples (46.4%)\n",
      "Processing batch 272/584 (samples 13550-13599)\n"
     ]
    },
    {
     "name": "stderr",
     "output_type": "stream",
     "text": []
    },
    {
     "name": "stdout",
     "output_type": "stream",
     "text": [
      "Processed 13600/29192 samples (46.6%)\n",
      "Processing batch 273/584 (samples 13600-13649)\n"
     ]
    },
    {
     "name": "stderr",
     "output_type": "stream",
     "text": []
    },
    {
     "name": "stdout",
     "output_type": "stream",
     "text": [
      "Processed 13650/29192 samples (46.8%)\n",
      "Processing batch 274/584 (samples 13650-13699)\n"
     ]
    },
    {
     "name": "stderr",
     "output_type": "stream",
     "text": []
    },
    {
     "name": "stdout",
     "output_type": "stream",
     "text": [
      "Processed 13700/29192 samples (46.9%)\n",
      "Processing batch 275/584 (samples 13700-13749)\n"
     ]
    },
    {
     "name": "stderr",
     "output_type": "stream",
     "text": []
    },
    {
     "name": "stdout",
     "output_type": "stream",
     "text": [
      "Processed 13750/29192 samples (47.1%)\n",
      "Processing batch 276/584 (samples 13750-13799)\n"
     ]
    },
    {
     "name": "stderr",
     "output_type": "stream",
     "text": []
    },
    {
     "name": "stdout",
     "output_type": "stream",
     "text": [
      "Processed 13800/29192 samples (47.3%)\n",
      "Processing batch 277/584 (samples 13800-13849)\n"
     ]
    },
    {
     "name": "stderr",
     "output_type": "stream",
     "text": []
    },
    {
     "name": "stdout",
     "output_type": "stream",
     "text": [
      "Processed 13850/29192 samples (47.4%)\n",
      "Processing batch 278/584 (samples 13850-13899)\n"
     ]
    },
    {
     "name": "stderr",
     "output_type": "stream",
     "text": []
    },
    {
     "name": "stdout",
     "output_type": "stream",
     "text": [
      "Processed 13900/29192 samples (47.6%)\n",
      "Processing batch 279/584 (samples 13900-13949)\n"
     ]
    },
    {
     "name": "stderr",
     "output_type": "stream",
     "text": []
    },
    {
     "name": "stdout",
     "output_type": "stream",
     "text": [
      "Processed 13950/29192 samples (47.8%)\n",
      "Processing batch 280/584 (samples 13950-13999)\n"
     ]
    },
    {
     "name": "stderr",
     "output_type": "stream",
     "text": []
    },
    {
     "name": "stdout",
     "output_type": "stream",
     "text": [
      "Processed 14000/29192 samples (48.0%)\n",
      "Processing batch 281/584 (samples 14000-14049)\n"
     ]
    },
    {
     "name": "stderr",
     "output_type": "stream",
     "text": []
    },
    {
     "name": "stdout",
     "output_type": "stream",
     "text": [
      "Processed 14050/29192 samples (48.1%)\n",
      "Processing batch 282/584 (samples 14050-14099)\n"
     ]
    },
    {
     "name": "stderr",
     "output_type": "stream",
     "text": []
    },
    {
     "name": "stdout",
     "output_type": "stream",
     "text": [
      "Processed 14100/29192 samples (48.3%)\n",
      "Processing batch 283/584 (samples 14100-14149)\n"
     ]
    },
    {
     "name": "stderr",
     "output_type": "stream",
     "text": []
    },
    {
     "name": "stdout",
     "output_type": "stream",
     "text": [
      "Processed 14150/29192 samples (48.5%)\n",
      "Processing batch 284/584 (samples 14150-14199)\n"
     ]
    },
    {
     "name": "stderr",
     "output_type": "stream",
     "text": []
    },
    {
     "name": "stdout",
     "output_type": "stream",
     "text": [
      "Processed 14200/29192 samples (48.6%)\n",
      "Processing batch 285/584 (samples 14200-14249)\n"
     ]
    },
    {
     "name": "stderr",
     "output_type": "stream",
     "text": []
    },
    {
     "name": "stdout",
     "output_type": "stream",
     "text": [
      "Processed 14250/29192 samples (48.8%)\n",
      "Processing batch 286/584 (samples 14250-14299)\n"
     ]
    },
    {
     "name": "stderr",
     "output_type": "stream",
     "text": []
    },
    {
     "name": "stdout",
     "output_type": "stream",
     "text": [
      "Processed 14300/29192 samples (49.0%)\n",
      "Processing batch 287/584 (samples 14300-14349)\n"
     ]
    },
    {
     "name": "stderr",
     "output_type": "stream",
     "text": []
    },
    {
     "name": "stdout",
     "output_type": "stream",
     "text": [
      "Processed 14350/29192 samples (49.2%)\n",
      "Processing batch 288/584 (samples 14350-14399)\n"
     ]
    },
    {
     "name": "stderr",
     "output_type": "stream",
     "text": []
    },
    {
     "name": "stdout",
     "output_type": "stream",
     "text": [
      "Processed 14400/29192 samples (49.3%)\n",
      "Processing batch 289/584 (samples 14400-14449)\n"
     ]
    },
    {
     "name": "stderr",
     "output_type": "stream",
     "text": []
    },
    {
     "name": "stdout",
     "output_type": "stream",
     "text": [
      "Processed 14450/29192 samples (49.5%)\n",
      "Processing batch 290/584 (samples 14450-14499)\n"
     ]
    },
    {
     "name": "stderr",
     "output_type": "stream",
     "text": []
    },
    {
     "name": "stdout",
     "output_type": "stream",
     "text": [
      "Processed 14500/29192 samples (49.7%)\n",
      "Processing batch 291/584 (samples 14500-14549)\n"
     ]
    },
    {
     "name": "stderr",
     "output_type": "stream",
     "text": []
    },
    {
     "name": "stdout",
     "output_type": "stream",
     "text": [
      "Processed 14550/29192 samples (49.8%)\n",
      "Processing batch 292/584 (samples 14550-14599)\n"
     ]
    },
    {
     "name": "stderr",
     "output_type": "stream",
     "text": []
    },
    {
     "name": "stdout",
     "output_type": "stream",
     "text": [
      "Processed 14600/29192 samples (50.0%)\n",
      "Processing batch 293/584 (samples 14600-14649)\n"
     ]
    },
    {
     "name": "stderr",
     "output_type": "stream",
     "text": []
    },
    {
     "name": "stdout",
     "output_type": "stream",
     "text": [
      "Processed 14650/29192 samples (50.2%)\n",
      "Processing batch 294/584 (samples 14650-14699)\n"
     ]
    },
    {
     "name": "stderr",
     "output_type": "stream",
     "text": []
    },
    {
     "name": "stdout",
     "output_type": "stream",
     "text": [
      "Processed 14700/29192 samples (50.4%)\n",
      "Processing batch 295/584 (samples 14700-14749)\n"
     ]
    },
    {
     "name": "stderr",
     "output_type": "stream",
     "text": []
    },
    {
     "name": "stdout",
     "output_type": "stream",
     "text": [
      "Processed 14750/29192 samples (50.5%)\n",
      "Processing batch 296/584 (samples 14750-14799)\n"
     ]
    },
    {
     "name": "stderr",
     "output_type": "stream",
     "text": []
    },
    {
     "name": "stdout",
     "output_type": "stream",
     "text": [
      "Processed 14800/29192 samples (50.7%)\n",
      "Processing batch 297/584 (samples 14800-14849)\n"
     ]
    },
    {
     "name": "stderr",
     "output_type": "stream",
     "text": []
    },
    {
     "name": "stdout",
     "output_type": "stream",
     "text": [
      "Processed 14850/29192 samples (50.9%)\n",
      "Processing batch 298/584 (samples 14850-14899)\n"
     ]
    },
    {
     "name": "stderr",
     "output_type": "stream",
     "text": []
    },
    {
     "name": "stdout",
     "output_type": "stream",
     "text": [
      "Processed 14900/29192 samples (51.0%)\n",
      "Processing batch 299/584 (samples 14900-14949)\n"
     ]
    },
    {
     "name": "stderr",
     "output_type": "stream",
     "text": []
    },
    {
     "name": "stdout",
     "output_type": "stream",
     "text": [
      "Processed 14950/29192 samples (51.2%)\n",
      "Processing batch 300/584 (samples 14950-14999)\n"
     ]
    },
    {
     "name": "stderr",
     "output_type": "stream",
     "text": []
    },
    {
     "name": "stdout",
     "output_type": "stream",
     "text": [
      "Processed 15000/29192 samples (51.4%)\n",
      "Processing batch 301/584 (samples 15000-15049)\n"
     ]
    },
    {
     "name": "stderr",
     "output_type": "stream",
     "text": []
    },
    {
     "name": "stdout",
     "output_type": "stream",
     "text": [
      "Processed 15050/29192 samples (51.6%)\n",
      "Processing batch 302/584 (samples 15050-15099)\n"
     ]
    },
    {
     "name": "stderr",
     "output_type": "stream",
     "text": []
    },
    {
     "name": "stdout",
     "output_type": "stream",
     "text": [
      "Processed 15100/29192 samples (51.7%)\n",
      "Processing batch 303/584 (samples 15100-15149)\n"
     ]
    },
    {
     "name": "stderr",
     "output_type": "stream",
     "text": []
    },
    {
     "name": "stdout",
     "output_type": "stream",
     "text": [
      "Processed 15150/29192 samples (51.9%)\n",
      "Processing batch 304/584 (samples 15150-15199)\n"
     ]
    },
    {
     "name": "stderr",
     "output_type": "stream",
     "text": []
    },
    {
     "name": "stdout",
     "output_type": "stream",
     "text": [
      "Processed 15200/29192 samples (52.1%)\n",
      "Processing batch 305/584 (samples 15200-15249)\n"
     ]
    },
    {
     "name": "stderr",
     "output_type": "stream",
     "text": []
    },
    {
     "name": "stdout",
     "output_type": "stream",
     "text": [
      "Processed 15250/29192 samples (52.2%)\n",
      "Processing batch 306/584 (samples 15250-15299)\n"
     ]
    },
    {
     "name": "stderr",
     "output_type": "stream",
     "text": []
    },
    {
     "name": "stdout",
     "output_type": "stream",
     "text": [
      "Processed 15300/29192 samples (52.4%)\n",
      "Processing batch 307/584 (samples 15300-15349)\n"
     ]
    },
    {
     "name": "stderr",
     "output_type": "stream",
     "text": []
    },
    {
     "name": "stdout",
     "output_type": "stream",
     "text": [
      "Processed 15350/29192 samples (52.6%)\n",
      "Processing batch 308/584 (samples 15350-15399)\n"
     ]
    },
    {
     "name": "stderr",
     "output_type": "stream",
     "text": []
    },
    {
     "name": "stdout",
     "output_type": "stream",
     "text": [
      "Processed 15400/29192 samples (52.8%)\n",
      "Processing batch 309/584 (samples 15400-15449)\n"
     ]
    },
    {
     "name": "stderr",
     "output_type": "stream",
     "text": []
    },
    {
     "name": "stdout",
     "output_type": "stream",
     "text": [
      "Processed 15450/29192 samples (52.9%)\n",
      "Processing batch 310/584 (samples 15450-15499)\n"
     ]
    },
    {
     "name": "stderr",
     "output_type": "stream",
     "text": []
    },
    {
     "name": "stdout",
     "output_type": "stream",
     "text": [
      "Processed 15500/29192 samples (53.1%)\n",
      "Processing batch 311/584 (samples 15500-15549)\n"
     ]
    },
    {
     "name": "stderr",
     "output_type": "stream",
     "text": []
    },
    {
     "name": "stdout",
     "output_type": "stream",
     "text": [
      "Processed 15550/29192 samples (53.3%)\n",
      "Processing batch 312/584 (samples 15550-15599)\n"
     ]
    },
    {
     "name": "stderr",
     "output_type": "stream",
     "text": []
    },
    {
     "name": "stdout",
     "output_type": "stream",
     "text": [
      "Processed 15600/29192 samples (53.4%)\n",
      "Processing batch 313/584 (samples 15600-15649)\n"
     ]
    },
    {
     "name": "stderr",
     "output_type": "stream",
     "text": []
    },
    {
     "name": "stdout",
     "output_type": "stream",
     "text": [
      "Processed 15650/29192 samples (53.6%)\n",
      "Processing batch 314/584 (samples 15650-15699)\n"
     ]
    },
    {
     "name": "stderr",
     "output_type": "stream",
     "text": []
    },
    {
     "name": "stdout",
     "output_type": "stream",
     "text": [
      "Processed 15700/29192 samples (53.8%)\n",
      "Processing batch 315/584 (samples 15700-15749)\n"
     ]
    },
    {
     "name": "stderr",
     "output_type": "stream",
     "text": []
    },
    {
     "name": "stdout",
     "output_type": "stream",
     "text": [
      "Processed 15750/29192 samples (54.0%)\n",
      "Processing batch 316/584 (samples 15750-15799)\n"
     ]
    },
    {
     "name": "stderr",
     "output_type": "stream",
     "text": []
    },
    {
     "name": "stdout",
     "output_type": "stream",
     "text": [
      "Processed 15800/29192 samples (54.1%)\n",
      "Processing batch 317/584 (samples 15800-15849)\n"
     ]
    },
    {
     "name": "stderr",
     "output_type": "stream",
     "text": []
    },
    {
     "name": "stdout",
     "output_type": "stream",
     "text": [
      "Processed 15850/29192 samples (54.3%)\n",
      "Processing batch 318/584 (samples 15850-15899)\n"
     ]
    },
    {
     "name": "stderr",
     "output_type": "stream",
     "text": []
    },
    {
     "name": "stdout",
     "output_type": "stream",
     "text": [
      "Processed 15900/29192 samples (54.5%)\n",
      "Processing batch 319/584 (samples 15900-15949)\n"
     ]
    },
    {
     "name": "stderr",
     "output_type": "stream",
     "text": []
    },
    {
     "name": "stdout",
     "output_type": "stream",
     "text": [
      "Processed 15950/29192 samples (54.6%)\n",
      "Processing batch 320/584 (samples 15950-15999)\n"
     ]
    },
    {
     "name": "stderr",
     "output_type": "stream",
     "text": []
    },
    {
     "name": "stdout",
     "output_type": "stream",
     "text": [
      "Processed 16000/29192 samples (54.8%)\n",
      "Processing batch 321/584 (samples 16000-16049)\n"
     ]
    },
    {
     "name": "stderr",
     "output_type": "stream",
     "text": []
    },
    {
     "name": "stdout",
     "output_type": "stream",
     "text": [
      "Processed 16050/29192 samples (55.0%)\n",
      "Processing batch 322/584 (samples 16050-16099)\n"
     ]
    },
    {
     "name": "stderr",
     "output_type": "stream",
     "text": [
      "Batch 322:  52%|█████▏    | 26/50 [00:05<00:04,  5.91it/s]"
     ]
    }
   ],
   "source": [
    "# Generate summaries and calculate scores\n",
    "(\n",
    "    bert_summaries,\n",
    "    bert_rouge_scores,\n",
    "    bert_bleu1_score,\n",
    "    individual_rouge_scores,\n",
    "    individual_bleu1_scores,\n",
    ") = evaluate_bert(summarization_df, num_sentences=2)"
   ]
  },
  {
   "cell_type": "code",
   "execution_count": null,
   "id": "48HPr7lQNzv1",
   "metadata": {
    "id": "48HPr7lQNzv1"
   },
   "outputs": [],
   "source": [
    "print(\"ROUGE-1 Scores:\")\n",
    "print(f\"   Precision: {bert_rouge_scores['rouge1_precision']:.4f}\")\n",
    "print(f\"   Recall:    {bert_rouge_scores['rouge1_recall']:.4f}\")\n",
    "print(f\"   F1 Score:  {bert_rouge_scores['rouge1_f1']:.4f}\")"
   ]
  },
  {
   "cell_type": "code",
   "execution_count": null,
   "id": "BsdgpdDCOWoB",
   "metadata": {
    "id": "BsdgpdDCOWoB"
   },
   "outputs": [],
   "source": [
    "# Calculate summary length statistics\n",
    "generated_lengths = [\n",
    "    len(summary.split()) for summary in bert_summaries if summary.strip()\n",
    "]\n",
    "reference_lengths = [len(ref.split()) for ref in summarization_df[\"summary\"]]\n",
    "\n",
    "print(\"Summary Length Statistics:\")\n",
    "print(f\"   Generated summaries - Mean: {np.mean(generated_lengths):.1f} words\")\n",
    "print(f\"   Generated summaries - Std:  {np.std(generated_lengths):.1f} words\")\n",
    "print(f\"   Reference summaries - Mean: {np.mean(reference_lengths):.1f} words\")\n",
    "print(f\"   Reference summaries - Std:  {np.std(reference_lengths):.1f} words\")"
   ]
  },
  {
   "cell_type": "code",
   "execution_count": null,
   "id": "i3gaPyK-OYc7",
   "metadata": {
    "id": "i3gaPyK-OYc7"
   },
   "outputs": [],
   "source": [
    "non_empty_summaries = sum(1 for summary in bert_summaries if summary.strip())\n",
    "print(\"\\nCoverage Analysis:\")\n",
    "print(\n",
    "    f\"   Successfully generated summaries: {non_empty_summaries}/{len(bert_summaries)} ({non_empty_summaries / len(bert_summaries) * 100:.1f}%)\"\n",
    ")"
   ]
  },
  {
   "cell_type": "code",
   "execution_count": null,
   "id": "RVXj0u4kOaYn",
   "metadata": {
    "id": "RVXj0u4kOaYn"
   },
   "outputs": [],
   "source": [
    "# Performance distribution analysis\n",
    "rouge_f1_scores = [s[\"rouge1_f1\"] for s in individual_rouge_scores]\n",
    "high_quality_summaries = sum(1 for score in rouge_f1_scores if score > 0.3)\n",
    "medium_quality_summaries = sum(1 for score in rouge_f1_scores if 0.1 < score <= 0.3)\n",
    "low_quality_summaries = sum(1 for score in rouge_f1_scores if score <= 0.1)\n",
    "\n",
    "print(\"\\nQuality Distribution (ROUGE-1 F1):\")\n",
    "print(\n",
    "    f\"   High quality (>0.3):     {high_quality_summaries}/{len(rouge_f1_scores)} ({high_quality_summaries / len(rouge_f1_scores) * 100:.1f}%)\"\n",
    ")\n",
    "print(\n",
    "    f\"   Medium quality (0.1-0.3): {medium_quality_summaries}/{len(rouge_f1_scores)} ({medium_quality_summaries / len(rouge_f1_scores) * 100:.1f}%)\"\n",
    ")\n",
    "print(\n",
    "    f\"   Low quality (≤0.1):       {low_quality_summaries}/{len(rouge_f1_scores)} ({low_quality_summaries / len(rouge_f1_scores) * 100:.1f}%)\"\n",
    ")\n",
    "\n",
    "# BLEU-1 distribution\n",
    "bleu1_high = sum(1 for score in individual_bleu1_scores if score > 0.3)\n",
    "bleu1_medium = sum(1 for score in individual_bleu1_scores if 0.1 < score <= 0.3)\n",
    "bleu1_low = sum(1 for score in individual_bleu1_scores if score <= 0.1)\n",
    "\n",
    "print(\"\\nBLEU-1 Distribution:\")\n",
    "print(\n",
    "    f\"   High BLEU-1 (>0.3):     {bleu1_high}/{len(individual_bleu1_scores)} ({bleu1_high / len(individual_bleu1_scores) * 100:.1f}%)\"\n",
    ")\n",
    "print(\n",
    "    f\"   Medium BLEU-1 (0.1-0.3): {bleu1_medium}/{len(individual_bleu1_scores)} ({bleu1_medium / len(individual_bleu1_scores) * 100:.1f}%)\"\n",
    ")\n",
    "print(\n",
    "    f\"   Low BLEU-1 (≤0.1):       {bleu1_low}/{len(individual_bleu1_scores)} ({bleu1_low / len(individual_bleu1_scores) * 100:.1f}%)\"\n",
    ")"
   ]
  },
  {
   "cell_type": "markdown",
   "id": "b9X8yXTlHYvn",
   "metadata": {
    "id": "b9X8yXTlHYvn"
   },
   "source": [
    "# 5. Comparative Analysis"
   ]
  },
  {
   "cell_type": "markdown",
   "id": "a20h0LETHZx0",
   "metadata": {
    "id": "a20h0LETHZx0"
   },
   "source": [
    "### Performance Comparison\n",
    "\n",
    "Comprehensive comparison of all implemented methods across both tasks."
   ]
  },
  {
   "cell_type": "code",
   "execution_count": null,
   "id": "VC6D1HKsHZmI",
   "metadata": {
    "id": "VC6D1HKsHZmI"
   },
   "outputs": [],
   "source": [
    "fig, (ax1, ax2) = plt.subplots(1, 2, figsize=(15, 6))\n",
    "\n",
    "# Classification comparison\n",
    "if \"classification_results\" in locals():\n",
    "    models = list(classification_results.keys())\n",
    "    accuracies = list(classification_results.values())\n",
    "    colors = [\"skyblue\", \"lightgreen\", \"lightcoral\"]\n",
    "\n",
    "    ax1.bar(models, accuracies, color=colors)\n",
    "    ax1.set_title(\"Text Classification Performance\", fontweight=\"bold\", fontsize=14)\n",
    "    ax1.set_ylabel(\"Accuracy\")\n",
    "    ax1.set_ylim(0, 1)\n",
    "    ax1.tick_params(axis=\"x\", rotation=45)\n",
    "\n",
    "    for i, v in enumerate(accuracies):\n",
    "        ax1.text(i, v + 0.01, f\"{v:.3f}\", ha=\"center\", va=\"bottom\", fontweight=\"bold\")\n",
    "\n",
    "# Summarization comparison\n",
    "if \"summarization_results\" in locals():\n",
    "    sum_models = list(summarization_results.keys())\n",
    "    sum_scores = list(summarization_results.values())\n",
    "    colors = [\"orange\", \"green\"]\n",
    "\n",
    "    ax2.bar(sum_models, sum_scores, color=colors)\n",
    "    ax2.set_title(\"Text Summarization Performance\", fontweight=\"bold\", fontsize=14)\n",
    "    ax2.set_ylabel(\"ROUGE-1 F1 Score\")\n",
    "    ax2.set_ylim(0, 1)\n",
    "    ax2.tick_params(axis=\"x\", rotation=45)\n",
    "\n",
    "    for i, v in enumerate(sum_scores):\n",
    "        ax2.text(i, v + 0.01, f\"{v:.3f}\", ha=\"center\", va=\"bottom\", fontweight=\"bold\")\n",
    "\n",
    "plt.tight_layout()\n",
    "plt.show()"
   ]
  },
  {
   "cell_type": "markdown",
   "id": "8UYoQmRpS4dT",
   "metadata": {
    "id": "8UYoQmRpS4dT"
   },
   "source": [
    "### Trade-off Analysis\n",
    "\n",
    "#### Performance vs. Computational Efficiency\n",
    "\n",
    "**Classification Task Performance:**\n",
    "- **BERT**: Achieved highest accuracy (~96% F1-score) but requires significant computational resources\n",
    "- **SVM**: Strong traditional performance (~93% F1-score) with minimal resources\n",
    "- **LSTM**: Lowest accuracy (~89% F1-score) despite moderate resource requirements\n",
    "\n",
    "**Summarization Task Performance:**\n",
    "- **BERT Extractive**: Best coherence and relevance but computationally expensive\n",
    "- **TF-IDF**: Surprisingly competitive baseline with excellent speed and minimal resources\n",
    "- **Seq2Seq**: inconsistent abstractive summaries quality and prone to hallucination and repetition\n",
    "\n",
    "#### Traditional vs. Modern Performance Gap\n",
    "\n",
    "**Classification Findings:**\n",
    "- Traditional SVM achieved 96% of BERT's performance at 10x speed and 50x lower resource usage\n",
    "- LSTM underperformed both traditional and transformer approaches, questioning the \"deep learning advantage\" assumption\n",
    "- **Key Insight**: Well-engineered traditional methods remain highly competitive for Arabic text classification\n",
    "\n",
    "**Summarization Findings:**\n",
    "- TF-IDF extractive summarization achieved 85% of BERT's ROUGE scores with near-instant processing\n",
    "- Traditional methods excel at maintaining factual accuracy and avoiding hallucination\n",
    "- Modern abstractive approaches struggle with Arabic morphological complexity\n",
    "\n",
    "#### Preprocessing Impact Trade-offs\n",
    "\n",
    "**Classification Benefits vs. Summarization Costs:**\n",
    "- Aggressive Arabic preprocessing (stemming, normalization, diacritics removal) improved classification accuracy by ~3-5%\n",
    "- Same preprocessing degraded summarization quality by breaking sentence coherence and readability\n",
    "- **Solution**: Applied differential preprocessing - heavy for classification, light for summarization\n",
    "\n",
    "#### Resource Efficiency Analysis\n",
    "\n",
    "**Computational Requirements:**\n",
    "- **SVM**: Train in minutes, require <10MB storage, CPU-compatible, ideal for production\n",
    "- **BERT**: Hours of training, GB-scale storage, GPU-dependent, maximum accuracy\n",
    "- **LSTM**: Worst of both worlds - slow training with mediocre performance\n",
    "\n",
    "**Production Viability:**\n",
    "- Traditional models offer immediate deployment with reliable performance\n",
    "- BERT requires infrastructure investment but provides marginal accuracy gains\n",
    "- LSTM models showed poor ROI in this Arabic NLP context\n",
    "\n",
    "#### Interpretability vs. Accuracy\n",
    "\n",
    "**Model Transparency:**\n",
    "- **SVM**: Clear feature weights reveal Arabic text patterns, excellent for explainable AI\n",
    "- **TF-IDF Summarization**: Transparent sentence ranking enables trust and debugging\n",
    "- **BERT Models**: Black-box nature limits interpretability despite superior performance\n",
    "\n",
    "#### Language-Specific Insights\n",
    "\n",
    "**Arabic NLP Reality Check:**\n",
    "- Traditional methods handle Arabic morphological complexity better than expected\n",
    "- Limited Arabic training data reduces deep learning advantages\n",
    "- Preprocessing quality matters more than model sophistication for many tasks\n",
    "- Resource constraints in Arabic NLP favor efficient traditional approaches\n",
    "\n",
    "#### Recommended Use Cases\n",
    "\n",
    "**When Traditional Methods Excel:**\n",
    "- Production systems requiring <100ms response times\n",
    "- Resource-constrained environments (mobile, edge computing)\n",
    "- Explainable AI requirements in sensitive domains\n",
    "- Quick prototyping and baseline establishment\n",
    "\n",
    "**When Modern Methods Justify Costs:**\n",
    "- Maximum accuracy requirements regardless of computational cost\n",
    "- Research contexts with abundant computational resources\n",
    "- Tasks where small accuracy improvements have high business value\n",
    "- Scenarios with unlimited inference time budgets"
   ]
  },
  {
   "cell_type": "markdown",
   "id": "u7uXiD6lOwLB",
   "metadata": {
    "id": "u7uXiD6lOwLB"
   },
   "source": [
    "### Best practices and recommendations\n",
    "\n",
    "**Preprocessing Trade-offs:** Extensive Arabic preprocessing (diacritics removal, normalization, stemming) typically improves classification accuracy but can harm summarization quality. Heavy preprocessing breaks sentence coherence needed for extractive summarization, so lighter preprocessing was used for Task 2 while maintaining aggressive preprocessing for Task 1 classification.\n",
    "\n",
    "**Model Selection Rationale:** Traditional methods (SVM, TF-IDF) provide baseline performance and interpretability, while modern approaches (BERT) offer superior accuracy at computational cost. The six-model comparison demonstrates this accuracy-efficiency spectrum across both tasks.\n",
    "\n",
    "**Arabic-Specific Challenges:** Arabic's rich morphology creates vocabulary explosion issues - the same root can generate dozens of surface forms. This affects both feature extraction for traditional models and tokenization for transformers. Subword tokenization in AraBERT partially addresses this but introduces new challenges for sentence-level tasks.\n",
    "\n",
    "**Evaluation Methodology:** ROUGE metrics needed adjustment for Arabic text structure. Standard stemming was disabled since Arabic stemmers often over-reduce words, creating false matches. Cross-validation splits maintained topic distribution to prevent data leakage between news categories.\n",
    "\n",
    "**Resource Constraints**: GPU memory limitations forced sequence length restrictions and batch size tuning. The Seq2Seq model required early stopping due to convergence issues, while BERT needed gradient accumulation for stable training on limited hardware.\n",
    "\n",
    "**Production Considerations:** Model export strategy balances accuracy with deployment feasibility. BERT models require careful serialization of tokenizer states, while traditional models need feature extraction pipelines preserved for consistent inference.\n",
    "\n"
   ]
  },
  {
   "cell_type": "markdown",
   "id": "6vPdOAsUQo3U",
   "metadata": {
    "id": "6vPdOAsUQo3U"
   },
   "source": [
    "# 6. Conclusion"
   ]
  },
  {
   "cell_type": "markdown",
   "id": "4OtDttNvRInT",
   "metadata": {
    "id": "4OtDttNvRInT"
   },
   "source": [
    "### Summary of key findings\n",
    "\n",
    "**Traditional vs Modern Trade-offs**: Traditional methods (SVM, TF-IDF) achieve nearly as good as modern performance with 10x less computational cost. For resource-constrained deployments, traditional approaches remain highly viable.\n",
    "\n",
    "**Arabic-Specific Insights**: Morphological complexity affects all approaches differently. Pre-trained Arabic models (AraBERT) show significant advantages over generic multilingual models.\n",
    "\n",
    "**Summarization Challenges**: Seq2Seq models frequently exhibit repetition patterns in Arabic, and are not very good for summarization tasks."
   ]
  },
  {
   "cell_type": "markdown",
   "id": "9bxG20k6RPoS",
   "metadata": {
    "id": "9bxG20k6RPoS"
   },
   "source": [
    "### Limitations and future work\n",
    "\n",
    "**Current Limitations**:\n",
    "- Limited evaluation on dialectal Arabic varieties\n",
    "- Seq2Seq repetition issues not fully resolved\n",
    "- Computational constraints limited model size exploration\n",
    "\n",
    "**Future Directions**:\n",
    "- Integration of Arabic-specific linguistic features into neural architectures\n",
    "- Multi-dialectal training data incorporation\n",
    "- Hybrid approaches combining traditional and modern strengths\n",
    "- Evaluation on longer document summarization tasks"
   ]
  },
  {
   "cell_type": "markdown",
   "id": "FBG-05XuRTNK",
   "metadata": {
    "id": "FBG-05XuRTNK"
   },
   "source": [
    "### References\n",
    "\n",
    "\n",
    "\n",
    "1.   N. V. Otten, \"Arabic NLP: How to overcome challenges in preprocessing,\" Medium, Mar. 6, 2021. [Online]. Available: https://medium.com/@neri.vvo/arabic-nlp-how-to-overcome-challenges-in-preprocessing-ed56de0c43e2\n",
    "\n",
    "2.   W. Antoun, F. Baly, and H. Hajj, \"AraBERT: Transformer-based Model for Arabic Language Understanding,\" in *LREC 2020 Workshop Language Resources and Evaluation Conference*, May 11–16, 2020, pp. 9.\n",
    "\n",
    "3.   A. Safaya, M. Abdullatif, and D. Yuret, \"{KUISAIL} at {S}em{E}val-2020 Task 12: {BERT}-{CNN} for Offensive Speech Identification in Social Media,\" in *Proceedings of the Fourteenth Workshop on Semantic Evaluation*, Barcelona (online), Dec. 2020, pp. 2054–2059. [Online]. Available: https://www.aclweb.org/anthology/2020.semeval-1.271\n",
    "\n",
    "4.   S. Alla, \"Implement a Sequence to Sequence (seq2seq) Model for Text Summarization with Keras,\" DigitalOcean, Aug. 3, 2020. [Online]. Available: https://www.digitalocean.com/community/tutorials/implement-seq2seq-for-text-summarization-keras"
   ]
  },
  {
   "cell_type": "markdown",
   "id": "rleh7iKyRcdH",
   "metadata": {
    "id": "rleh7iKyRcdH"
   },
   "source": [
    "# 7. Interactive Demo\n",
    "\n",
    "**Website:**\n",
    "https://nlp-project-tau.vercel.app\n",
    "\n",
    "**Frontend repository:**\n",
    "https://github.com/Fkhrayef/nlp-project\n",
    "\n",
    "**Backend repository:**\n",
    "https://huggingface.co/spaces/mabosaimi/arabic-summarizer-classifier/tree/main"
   ]
  }
 ],
 "metadata": {
  "accelerator": "GPU",
  "kernelspec": {
   "display_name": "Python 3",
   "name": "python3"
  },
  "language_info": {
   "codemirror_mode": {
    "name": "ipython",
    "version": 3
   },
   "file_extension": ".py",
   "mimetype": "text/x-python",
   "name": "python",
   "nbconvert_exporter": "python",
   "pygments_lexer": "ipython3",
   "version": "3.10.2"
  }
 },
 "nbformat": 4,
 "nbformat_minor": 5
}

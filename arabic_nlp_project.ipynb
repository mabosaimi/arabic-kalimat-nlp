{
 "cells": [
  {
   "cell_type": "markdown",
   "id": "2b3dda6f",
   "metadata": {
    "id": "2b3dda6f"
   },
   "source": [
    "# Arabic NLP Project – KALIMAT Dataset\n",
    "\n",
    "## Table of Contents\n",
    "\n",
    "1. [Introduction](#1-introduction)\n",
    "2. [Data Exploration and Preprocessing](#2-data-exploration-and-preprocessing)\n",
    "3. [Phase 1: Traditional Approaches](#3-phase-1-traditional-approaches)"
   ]
  },
  {
   "cell_type": "markdown",
   "id": "4aadd371",
   "metadata": {
    "id": "4aadd371"
   },
   "source": [
    "## 1. Introduction"
   ]
  },
  {
   "cell_type": "markdown",
   "id": "7754f2e0",
   "metadata": {
    "id": "7754f2e0"
   },
   "source": [
    "### Project overview and objectives\n",
    "\n",
    "This project explores two core NLP tasks on Arabic text data: text classification and text summarization. The goal is to evaluate and compare traditional machine learning methods and modern deep learning/transformer-based models in the context of Arabic language processing. The project aims to highlight how each approach handles Arabic-specific linguistic challenges and determine the most effective techniques for each task."
   ]
  },
  {
   "cell_type": "markdown",
   "id": "d9358125",
   "metadata": {
    "id": "d9358125"
   },
   "source": [
    "### Description of the chosen dataset and tasks\n",
    "\n",
    "Two different datasets are used in this project, one for each task:\n",
    "\n",
    "1. **KALIMAT Corpus** used for **Task 1: Text Classification**. It contains Arabic texts categorized into six topics: culture, economy, local news, international news, religion, and sports.\n",
    "\n",
    "2. **Summarization Corpus** used for **Task 2: Text Summarization**. It includes Arabic texts paired with corresponding summaries.\n",
    "\n",
    "The two NLP tasks implemented are:\n",
    "\n",
    "**Task 1 Text Classification**: assigning topic labels to Arabic texts.\n",
    "\n",
    "**Task 2 Text Summarization**: producing concise summaries from Arabic texts and comparing extractive and generative approaches."
   ]
  },
  {
   "cell_type": "markdown",
   "id": "837c9809",
   "metadata": {
    "id": "837c9809"
   },
   "source": [
    "### Brief background on relevant challenges (Arabic NLP or multimodal processing)\n",
    "\n",
    "Arabic NLP is challenging due to the language’s rich morphology, root-based word structure, and multiple forms of the same letter. A major issue is that diacritics (harakat), which are important for meaning, are often omitted in writing, leading to ambiguity. Tokenization, stemming, and normalization are more difficult than in English. There's also limited availability of large annotated datasets, and differences between Modern Standard Arabic and dialects make generalization harder. Preprocessing is important, but small mistakes in normalization or stemming can change word meanings and affect results."
   ]
  },
  {
   "cell_type": "code",
   "execution_count": null,
   "id": "fYemRzorifWp",
   "metadata": {
    "colab": {
     "base_uri": "https://localhost:8080/"
    },
    "id": "fYemRzorifWp",
    "outputId": "a1536fc9-b661-470e-a26d-90ce3c4c6688"
   },
   "outputs": [
    {
     "name": "stdout",
     "output_type": "stream",
     "text": [
      "Collecting git+https://github.com/ARBML/rouge_score_ar\n",
      "  Cloning https://github.com/ARBML/rouge_score_ar to /tmp/pip-req-build-h02p9nc2\n",
      "  Running command git clone --filter=blob:none --quiet https://github.com/ARBML/rouge_score_ar /tmp/pip-req-build-h02p9nc2\n",
      "  Resolved https://github.com/ARBML/rouge_score_ar to commit 74e50809e2c52b034ccdc6825fb2bff113bcbdfe\n",
      "  Preparing metadata (setup.py) ... \u001b[?25l\u001b[?25hdone\n",
      "Requirement already satisfied: absl-py in /usr/local/lib/python3.11/dist-packages (from rouge_score_ar==0.1.2) (1.4.0)\n",
      "Requirement already satisfied: nltk in /usr/local/lib/python3.11/dist-packages (from rouge_score_ar==0.1.2) (3.9.1)\n",
      "Requirement already satisfied: numpy in /usr/local/lib/python3.11/dist-packages (from rouge_score_ar==0.1.2) (2.0.2)\n",
      "Requirement already satisfied: six>=1.14.0 in /usr/local/lib/python3.11/dist-packages (from rouge_score_ar==0.1.2) (1.17.0)\n",
      "Requirement already satisfied: click in /usr/local/lib/python3.11/dist-packages (from nltk->rouge_score_ar==0.1.2) (8.2.1)\n",
      "Requirement already satisfied: joblib in /usr/local/lib/python3.11/dist-packages (from nltk->rouge_score_ar==0.1.2) (1.5.1)\n",
      "Requirement already satisfied: regex>=2021.8.3 in /usr/local/lib/python3.11/dist-packages (from nltk->rouge_score_ar==0.1.2) (2024.11.6)\n",
      "Requirement already satisfied: tqdm in /usr/local/lib/python3.11/dist-packages (from nltk->rouge_score_ar==0.1.2) (4.67.1)\n",
      "Building wheels for collected packages: rouge_score_ar\n",
      "  Building wheel for rouge_score_ar (setup.py) ... \u001b[?25l\u001b[?25hdone\n",
      "  Created wheel for rouge_score_ar: filename=rouge_score_ar-0.1.2-py3-none-any.whl size=19176 sha256=d6e0322b47223540f6eea11eeef170287b85417c8e4097cbff60fddd3c8ae12f\n",
      "  Stored in directory: /tmp/pip-ephem-wheel-cache-7uowi0ta/wheels/d3/f4/57/b79d000eafab023f843bbd4cbaf60d239e2db14d63aba9e1e3\n",
      "Successfully built rouge_score_ar\n",
      "Installing collected packages: rouge_score_ar\n",
      "Successfully installed rouge_score_ar-0.1.2\n",
      "Collecting rouge_score\n",
      "  Downloading rouge_score-0.1.2.tar.gz (17 kB)\n",
      "  Preparing metadata (setup.py) ... \u001b[?25l\u001b[?25hdone\n",
      "Requirement already satisfied: absl-py in /usr/local/lib/python3.11/dist-packages (from rouge_score) (1.4.0)\n",
      "Requirement already satisfied: nltk in /usr/local/lib/python3.11/dist-packages (from rouge_score) (3.9.1)\n",
      "Requirement already satisfied: numpy in /usr/local/lib/python3.11/dist-packages (from rouge_score) (2.0.2)\n",
      "Requirement already satisfied: six>=1.14.0 in /usr/local/lib/python3.11/dist-packages (from rouge_score) (1.17.0)\n",
      "Requirement already satisfied: click in /usr/local/lib/python3.11/dist-packages (from nltk->rouge_score) (8.2.1)\n",
      "Requirement already satisfied: joblib in /usr/local/lib/python3.11/dist-packages (from nltk->rouge_score) (1.5.1)\n",
      "Requirement already satisfied: regex>=2021.8.3 in /usr/local/lib/python3.11/dist-packages (from nltk->rouge_score) (2024.11.6)\n",
      "Requirement already satisfied: tqdm in /usr/local/lib/python3.11/dist-packages (from nltk->rouge_score) (4.67.1)\n",
      "Building wheels for collected packages: rouge_score\n",
      "  Building wheel for rouge_score (setup.py) ... \u001b[?25l\u001b[?25hdone\n",
      "  Created wheel for rouge_score: filename=rouge_score-0.1.2-py3-none-any.whl size=24934 sha256=61f8c12e327d6adf0cb09439c3ecd6562cbf01703447c299bdf65db8443ee077\n",
      "  Stored in directory: /root/.cache/pip/wheels/1e/19/43/8a442dc83660ca25e163e1bd1f89919284ab0d0c1475475148\n",
      "Successfully built rouge_score\n",
      "Installing collected packages: rouge_score\n",
      "Successfully installed rouge_score-0.1.2\n"
     ]
    }
   ],
   "source": [
    "!pip install git+https://github.com/ARBML/rouge_score_ar\n",
    "!pip install rouge_score"
   ]
  },
  {
   "cell_type": "code",
   "execution_count": null,
   "id": "WpnxT7m52GB1",
   "metadata": {
    "colab": {
     "base_uri": "https://localhost:8080/"
    },
    "id": "WpnxT7m52GB1",
    "outputId": "e1ac81e0-5f45-4bed-ff7e-45b831c435fd"
   },
   "outputs": [
    {
     "data": {
      "text/plain": [
       "True"
      ]
     },
     "execution_count": 2,
     "metadata": {},
     "output_type": "execute_result"
    }
   ],
   "source": [
    "# Standard library imports\n",
    "import glob\n",
    "import os\n",
    "import joblib\n",
    "import re\n",
    "from IPython.display import Markdown, display\n",
    "\n",
    "# Data handling and visualization\n",
    "import gdown\n",
    "import matplotlib.pyplot as plt\n",
    "import numpy as np\n",
    "import pandas as pd\n",
    "import seaborn as sns\n",
    "from tqdm import tqdm\n",
    "\n",
    "# NLP libraries\n",
    "import nltk\n",
    "from nltk.corpus import stopwords\n",
    "from nltk.stem.isri import ISRIStemmer\n",
    "from nltk.translate.bleu_score import corpus_bleu, SmoothingFunction\n",
    "from rouge_score import rouge_scorer\n",
    "\n",
    "# Scikit-learn\n",
    "from sklearn.feature_extraction.text import TfidfVectorizer\n",
    "from sklearn.metrics import (\n",
    "    classification_report,\n",
    "    confusion_matrix,\n",
    "    ConfusionMatrixDisplay,\n",
    "    precision_recall_fscore_support,\n",
    ")\n",
    "from sklearn.model_selection import train_test_split\n",
    "from sklearn.preprocessing import LabelEncoder\n",
    "from sklearn.svm import SVC\n",
    "\n",
    "# Deep learning libraries\n",
    "import torch\n",
    "\n",
    "# Transformers\n",
    "from transformers import (\n",
    "    set_seed,\n",
    ")\n",
    "\n",
    "\n",
    "# Download NLTK data\n",
    "nltk.download(\"stopwords\", quiet=True)"
   ]
  },
  {
   "cell_type": "markdown",
   "id": "b53f6680",
   "metadata": {
    "id": "b53f6680"
   },
   "source": [
    "## Global Configuration & Constants"
   ]
  },
  {
   "cell_type": "code",
   "execution_count": null,
   "id": "3a43c87f",
   "metadata": {
    "colab": {
     "base_uri": "https://localhost:8080/"
    },
    "id": "3a43c87f",
    "outputId": "ac5ae35e-85c1-4e46-d6ae-c2a0a46be89a"
   },
   "outputs": [
    {
     "name": "stdout",
     "output_type": "stream",
     "text": [
      "Using device: cuda\n",
      "CUDA device: Tesla T4\n"
     ]
    }
   ],
   "source": [
    "# Global Configuration\n",
    "RANDOM_SEED = 0\n",
    "TEST_SIZE = 0.2\n",
    "\n",
    "# Model hyperparameters - Classification\n",
    "CLASSIFICATION_MAX_LENGTH = 512\n",
    "CLASSIFICATION_BATCH_SIZE = 32\n",
    "CLASSIFICATION_EPOCHS = 15\n",
    "CLASSIFICATION_LEARNING_RATE = 0.001\n",
    "\n",
    "# Model hyperparameters - LSTM\n",
    "LSTM_MAX_WORDS = 10000\n",
    "LSTM_EMBEDDING_DIM = 100\n",
    "LSTM_HIDDEN_DIM = 128\n",
    "LSTM_N_LAYERS = 2\n",
    "LSTM_DROPOUT = 0.5\n",
    "\n",
    "# Model hyperparameters - BERT\n",
    "BERT_MODEL_NAME = \"aubmindlab/bert-base-arabertv02\"\n",
    "BERT_MAX_LENGTH = 256\n",
    "BERT_BATCH_SIZE = 16\n",
    "BERT_EPOCHS = 3\n",
    "BERT_LEARNING_RATE = 2e-5\n",
    "\n",
    "# Model hyperparameters - Summarization\n",
    "SUM_MAX_TEXT_LENGTH = 200\n",
    "SUM_MAX_SUMMARY_LENGTH = 40\n",
    "SUM_VOCAB_SIZE = 10000\n",
    "SUM_BATCH_SIZE = 32\n",
    "SUM_EPOCHS = 10\n",
    "SUM_LEARNING_RATE = 0.001\n",
    "\n",
    "# Seq2Seq model parameters\n",
    "SEQ2SEQ_EMBED_DIM = 128\n",
    "SEQ2SEQ_HIDDEN_DIM = 512\n",
    "SEQ2SEQ_N_LAYERS = 1\n",
    "SEQ2SEQ_DROPOUT = 0.3\n",
    "SEQ2SEQ_TEACHER_FORCING_RATIO = 0.5\n",
    "\n",
    "# Sequence length parameters\n",
    "MAX_TEXT_LEN = 500\n",
    "MAX_SUM_LEN = 50\n",
    "BATCH_SIZE = 32\n",
    "\n",
    "set_seed(RANDOM_SEED)\n",
    "np.random.seed(RANDOM_SEED)\n",
    "torch.manual_seed(RANDOM_SEED)\n",
    "\n",
    "# Device configuration\n",
    "device = torch.device(\"cuda\" if torch.cuda.is_available() else \"cpu\")\n",
    "print(f\"Using device: {device}\")\n",
    "\n",
    "if torch.cuda.is_available():\n",
    "    print(f\"CUDA device: {torch.cuda.get_device_name()}\")\n",
    "    torch.backends.cudnn.benchmark = True\n",
    "    torch.cuda.manual_seed_all(RANDOM_SEED)\n",
    "\n",
    "# Model save paths\n",
    "MODEL_SAVE_DIR = \"./saved_models/\"\n",
    "os.makedirs(MODEL_SAVE_DIR, exist_ok=True)\n",
    "\n",
    "# Set plot style\n",
    "sns.set_theme(style=\"whitegrid\")\n",
    "plt.rcParams[\"figure.figsize\"] = (10, 6)"
   ]
  },
  {
   "cell_type": "code",
   "execution_count": null,
   "id": "de8c4982",
   "metadata": {
    "id": "de8c4982"
   },
   "outputs": [],
   "source": [
    "def print_text_sample(text, title=\"Text Sample\"):\n",
    "    print(f\"\\n{title}:\")\n",
    "    print(\"=\" * len(title))\n",
    "    display(Markdown(str(text)))\n",
    "    print(f\"\\n[Full length: {len(str(text)):,} characters]\\n\")\n",
    "\n",
    "\n",
    "def save_model(model, path, metadata=None):\n",
    "    save_dict = {\"model_state_dict\": model.state_dict(), \"metadata\": metadata or {}}\n",
    "    torch.save(save_dict, path)\n",
    "\n",
    "\n",
    "def load_model(model, path):\n",
    "    if os.path.exists(path):\n",
    "        checkpoint = torch.load(path, map_location=device)\n",
    "        model.load_state_dict(checkpoint[\"model_state_dict\"])\n",
    "        return checkpoint.get(\"metadata\", {})\n",
    "    return {}\n",
    "\n",
    "\n",
    "def display_model_comparison(models_results, metric_name=\"Accuracy\"):\n",
    "    print(f\"\\n{'=' * 50}\")\n",
    "    print(f\"MODEL COMPARISON - {metric_name.upper()}\")\n",
    "    print(f\"{'=' * 50}\")\n",
    "\n",
    "    for model_name, result in models_results.items():\n",
    "        print(f\"{model_name:<25}: {result:.4f}\")\n",
    "\n",
    "    best_model = max(models_results.items(), key=lambda x: x[1])\n",
    "    print(f\"\\nBest performing model: {best_model[0]} ({best_model[1]:.4f})\")\n",
    "    print(f\"{'=' * 50}\\n\")"
   ]
  },
  {
   "cell_type": "markdown",
   "id": "87ba4767",
   "metadata": {
    "id": "87ba4767"
   },
   "source": [
    "## 2. Data Exploration and Preprocessing"
   ]
  },
  {
   "cell_type": "markdown",
   "id": "be0c2ae6",
   "metadata": {
    "id": "be0c2ae6"
   },
   "source": [
    "### Dataset Loading and Exploration"
   ]
  },
  {
   "cell_type": "code",
   "execution_count": null,
   "id": "qICXuriTcbhg",
   "metadata": {
    "colab": {
     "base_uri": "https://localhost:8080/"
    },
    "id": "qICXuriTcbhg",
    "outputId": "53a9edb9-ea5d-4f96-c92b-c935c24f1c12"
   },
   "outputs": [
    {
     "name": "stdout",
     "output_type": "stream",
     "text": [
      "Downloading datasets...\n"
     ]
    },
    {
     "name": "stderr",
     "output_type": "stream",
     "text": [
      "Downloading...\n",
      "From (original): https://drive.google.com/uc?id=1ews4QEXGC9bW5eKumlqTKgLEC06Cqbtw\n",
      "From (redirected): https://drive.google.com/uc?id=1ews4QEXGC9bW5eKumlqTKgLEC06Cqbtw&confirm=t&uuid=6baa5dc8-5ec9-43b4-a99c-5a629bf1da1a\n",
      "To: /content/kalimat_corpus.zip\n",
      "100%|██████████| 34.9M/34.9M [00:00<00:00, 38.2MB/s]\n",
      "Downloading...\n",
      "From: https://drive.google.com/uc?id=1V7kFgZdlHeTucA9eowNBNy9TG08VDxcY\n",
      "To: /content/summarization_corpus.csv\n",
      "100%|██████████| 37.9M/37.9M [00:01<00:00, 34.2MB/s]\n"
     ]
    }
   ],
   "source": [
    "# Google Drive file IDs for datasets\n",
    "kalimat_id = \"1ews4QEXGC9bW5eKumlqTKgLEC06Cqbtw\"\n",
    "summarization_id = \"1V7kFgZdlHeTucA9eowNBNy9TG08VDxcY\"\n",
    "\n",
    "print(\"Downloading datasets...\")\n",
    "gdown.download(\n",
    "    f\"https://drive.google.com/uc?id={kalimat_id}\", \"kalimat_corpus.zip\", quiet=False\n",
    ")\n",
    "gdown.download(\n",
    "    f\"https://drive.google.com/uc?id={summarization_id}\",\n",
    "    \"summarization_corpus.csv\",\n",
    "    quiet=False,\n",
    ")\n",
    "\n",
    "!unzip -q kalimat_corpus.zip -d ./kalimat_corpus\n",
    "!rm kalimat_corpus.zip"
   ]
  },
  {
   "cell_type": "code",
   "execution_count": null,
   "id": "90f3c540",
   "metadata": {
    "colab": {
     "base_uri": "https://localhost:8080/"
    },
    "id": "90f3c540",
    "outputId": "771d4926-673a-429e-e486-7fb807705a57"
   },
   "outputs": [
    {
     "name": "stderr",
     "output_type": "stream",
     "text": [
      "Processing folders:   0%|          | 0/6 [00:00<?, ?it/s]\n",
      "Loading culture:   0%|          | 0/2495 [00:00<?, ?it/s]\u001b[A\n",
      "Loading culture:  19%|█▉        | 476/2495 [00:00<00:00, 4758.96it/s]\u001b[A\n",
      "Loading culture:  43%|████▎     | 1063/2495 [00:00<00:00, 5381.67it/s]\u001b[A\n",
      "Loading culture:  64%|██████▍   | 1601/2495 [00:00<00:00, 4254.62it/s]\u001b[A\n",
      "Loading culture:  89%|████████▉ | 2232/2495 [00:00<00:00, 4951.47it/s]\u001b[A\n",
      "Processing folders:  17%|█▋        | 1/6 [00:00<00:02,  1.74it/s]\n",
      "Loading economy:   0%|          | 0/3265 [00:00<?, ?it/s]\u001b[A\n",
      "Loading economy:  32%|███▏      | 1031/3265 [00:00<00:00, 10306.82it/s]\u001b[A\n",
      "Loading economy:  68%|██████▊   | 2228/3265 [00:00<00:00, 11282.78it/s]\u001b[A\n",
      "Processing folders:  33%|███▎      | 2/6 [00:00<00:01,  2.26it/s]\n",
      "Loading local:   0%|          | 0/3237 [00:00<?, ?it/s]\u001b[A\n",
      "Loading local:  37%|███▋      | 1183/3237 [00:00<00:00, 11824.32it/s]\u001b[A\n",
      "Loading local:  73%|███████▎  | 2366/3237 [00:00<00:00, 9450.53it/s] \u001b[A\n",
      "Processing folders:  50%|█████     | 3/6 [00:01<00:01,  2.50it/s]\n",
      "Loading international:   0%|          | 0/1689 [00:00<?, ?it/s]\u001b[A\n",
      "Loading international:  80%|███████▉  | 1350/1689 [00:00<00:00, 13496.06it/s]\u001b[A\n",
      "Processing folders:  67%|██████▋   | 4/6 [00:01<00:00,  3.27it/s]\n",
      "Loading religion:   0%|          | 0/3475 [00:00<?, ?it/s]\u001b[A\n",
      "Loading religion:  20%|█▉        | 686/3475 [00:00<00:00, 6856.75it/s]\u001b[A\n",
      "Loading religion:  43%|████▎     | 1509/3475 [00:00<00:00, 7663.15it/s]\u001b[A\n",
      "Loading religion:  65%|██████▌   | 2276/3475 [00:00<00:00, 7189.17it/s]\u001b[A\n",
      "Loading religion:  86%|████████▋ | 2999/3475 [00:00<00:00, 7118.07it/s]\u001b[A\n",
      "Processing folders:  83%|████████▎ | 5/6 [00:01<00:00,  2.66it/s]\n",
      "Loading sports:   0%|          | 0/4095 [00:00<?, ?it/s]\u001b[A\n",
      "Loading sports:  30%|██▉       | 1215/4095 [00:00<00:00, 12144.22it/s]\u001b[A\n",
      "Loading sports:  59%|█████▉    | 2430/4095 [00:00<00:00, 10042.35it/s]\u001b[A\n",
      "Loading sports:  96%|█████████▌| 3937/4095 [00:00<00:00, 12101.43it/s]\u001b[A\n",
      "Processing folders: 100%|██████████| 6/6 [00:02<00:00,  2.59it/s]\n"
     ]
    },
    {
     "name": "stdout",
     "output_type": "stream",
     "text": [
      "Classification samples: 18,256\n",
      "Summarization samples: 29,335\n"
     ]
    }
   ],
   "source": [
    "classification_corpus_path = \"./kalimat_corpus\"\n",
    "classification_topic_map = {\n",
    "    \"articlesCulture\": \"culture\",\n",
    "    \"articlesEconomy\": \"economy\",\n",
    "    \"articlesLocal\": \"local\",\n",
    "    \"articlesInternational\": \"international\",\n",
    "    \"articlesReligion\": \"religion\",\n",
    "    \"articlesSports\": \"sports\",\n",
    "}\n",
    "\n",
    "classification_data = []\n",
    "\n",
    "for folder, label in tqdm(classification_topic_map.items(), desc=\"Processing folders\"):\n",
    "    folder_path = os.path.join(classification_corpus_path, folder)\n",
    "    file_paths = glob.glob(os.path.join(folder_path, \"*\"))\n",
    "\n",
    "    for file_path in tqdm(file_paths, desc=f\"Loading {label}\", leave=False):\n",
    "        try:\n",
    "            with open(file_path, \"r\", encoding=\"utf-8\") as f:\n",
    "                text = f.read().strip()\n",
    "                if text:\n",
    "                    classification_data.append((text, label))\n",
    "        except Exception:\n",
    "            continue\n",
    "\n",
    "classification_df = pd.DataFrame(classification_data, columns=[\"text\", \"label\"])\n",
    "\n",
    "summarization_corpus_path = \"./summarization_corpus.csv\"\n",
    "summarization_df = pd.read_excel(summarization_corpus_path, header=1)\n",
    "\n",
    "print(f\"Classification samples: {len(classification_df):,}\")\n",
    "print(f\"Summarization samples: {len(summarization_df):,}\")"
   ]
  },
  {
   "cell_type": "markdown",
   "id": "P9I2YNi3FKL6",
   "metadata": {
    "id": "P9I2YNi3FKL6"
   },
   "source": [
    "#### Kalimat Corpus"
   ]
  },
  {
   "cell_type": "code",
   "execution_count": null,
   "id": "bH1-LGOdvcQs",
   "metadata": {
    "colab": {
     "base_uri": "https://localhost:8080/"
    },
    "id": "bH1-LGOdvcQs",
    "outputId": "c56b92a2-7816-4ef9-ffe4-002ef6aa330c"
   },
   "outputs": [
    {
     "name": "stdout",
     "output_type": "stream",
     "text": [
      "Classification - Total: 18256\n",
      "Classification - Unique: 15221\n",
      "Classification - Duplicates: 3035\n",
      "Classification - Missing: 0\n"
     ]
    }
   ],
   "source": [
    "print(f\"Classification - Total: {len(classification_df)}\")\n",
    "print(f\"Classification - Unique: {classification_df['text'].nunique()}\")\n",
    "print(f\"Classification - Duplicates: {classification_df['text'].duplicated().sum()}\")\n",
    "print(f\"Classification - Missing: {classification_df.isnull().sum().sum()}\")"
   ]
  },
  {
   "cell_type": "code",
   "execution_count": null,
   "id": "1tv6dPPfk9wM",
   "metadata": {
    "colab": {
     "base_uri": "https://localhost:8080/"
    },
    "id": "1tv6dPPfk9wM",
    "outputId": "e6a4666b-15fb-4686-fc1d-48c4eefa181c"
   },
   "outputs": [
    {
     "name": "stdout",
     "output_type": "stream",
     "text": [
      "\n",
      "Class Distribution:\n",
      "label\n",
      "sports           4095\n",
      "religion         3475\n",
      "economy          3265\n",
      "local            3237\n",
      "culture          2495\n",
      "international    1689\n",
      "Name: count, dtype: int64\n"
     ]
    }
   ],
   "source": [
    "print(\"\\nClass Distribution:\")\n",
    "print(classification_df[\"label\"].value_counts())"
   ]
  },
  {
   "cell_type": "markdown",
   "id": "HqfWL7E6Fg_4",
   "metadata": {
    "id": "HqfWL7E6Fg_4"
   },
   "source": [
    "#### Summarization Corpus"
   ]
  },
  {
   "cell_type": "code",
   "execution_count": null,
   "id": "FnpAA8jiy-9F",
   "metadata": {
    "colab": {
     "base_uri": "https://localhost:8080/"
    },
    "id": "FnpAA8jiy-9F",
    "outputId": "c0a2573a-af13-4a71-9683-c1deb5538b4d"
   },
   "outputs": [
    {
     "name": "stdout",
     "output_type": "stream",
     "text": [
      "\n",
      "Summarization - Total: 29335\n",
      "Summarization - Unique: 29192\n",
      "Summarization - Duplicates: 142\n",
      "Summarization - Missing: 189\n"
     ]
    }
   ],
   "source": [
    "print(f\"\\nSummarization - Total: {len(summarization_df)}\")\n",
    "print(f\"Summarization - Unique: {summarization_df['text'].nunique()}\")\n",
    "print(f\"Summarization - Duplicates: {summarization_df['text'].duplicated().sum()}\")\n",
    "print(f\"Summarization - Missing: {summarization_df.isnull().sum().sum()}\")"
   ]
  },
  {
   "cell_type": "markdown",
   "id": "415e9eb0",
   "metadata": {
    "id": "415e9eb0"
   },
   "source": [
    "### Preprocessing\n",
    "\n",
    "Arabic text preprocessing is crucial for model performance. Unlike English, Arabic requires handling of:\n",
    "- **Diacritics removal**: Harakat marks that are often inconsistent in modern texts\n",
    "- **Character normalization**: Multiple forms of the same letter (أ, إ, آ → ا)\n",
    "- **Root-based stemming**: Extracting word roots while preserving meaning\n",
    "\n",
    "The preprocessing pipeline balances normalization with information preservation, as aggressive preprocessing can lose important semantic distinctions in Arabic."
   ]
  },
  {
   "cell_type": "code",
   "execution_count": null,
   "id": "eb667348",
   "metadata": {
    "id": "eb667348"
   },
   "outputs": [],
   "source": [
    "# Initialize Arabic NLP tools\n",
    "arabic_stopwords = set(stopwords.words(\"arabic\"))\n",
    "stemmer = ISRIStemmer()\n",
    "\n",
    "# Character normalization mapping\n",
    "char_map = str.maketrans(\n",
    "    {\"أ\": \"ا\", \"إ\": \"ا\", \"آ\": \"ا\", \"ى\": \"ي\", \"ة\": \"ه\", \"ؤ\": \"و\", \"ئ\": \"ي\", \"ـ\": \"\"}\n",
    ")\n",
    "\n",
    "# Compiled regex patterns\n",
    "diacritics_pattern = re.compile(r\"[\\u064B-\\u0652]\")\n",
    "punctuation_pattern = re.compile(r\"[^\\w\\s]\")\n",
    "whitespace_pattern = re.compile(r\"\\s+\")\n",
    "repeated_char_pattern = re.compile(r\"(.)\\1+\")\n",
    "digits_pattern = re.compile(r\"\\d+\")\n",
    "\n",
    "\n",
    "def normalize_arabic(text):\n",
    "    return text.translate(char_map)\n",
    "\n",
    "\n",
    "def remove_diacritics(text):\n",
    "    return diacritics_pattern.sub(\"\", text)\n",
    "\n",
    "\n",
    "def remove_punctuation(text):\n",
    "    return punctuation_pattern.sub(\" \", text)\n",
    "\n",
    "\n",
    "def reduce_repeated_characters(text):\n",
    "    return repeated_char_pattern.sub(r\"\\1\", text)\n",
    "\n",
    "\n",
    "def remove_stopwords(tokens):\n",
    "    return [word for word in tokens if word not in arabic_stopwords]\n",
    "\n",
    "\n",
    "def stem_tokens(tokens):\n",
    "    return [stemmer.stem(token) for token in tokens]\n",
    "\n",
    "\n",
    "def preprocess_for_classification(text):\n",
    "    if not isinstance(text, str):\n",
    "        return \"\"\n",
    "\n",
    "    text = text.strip().lower()\n",
    "    text = normalize_arabic(text)\n",
    "    text = remove_diacritics(text)\n",
    "    text = remove_punctuation(text)\n",
    "    text = reduce_repeated_characters(text)\n",
    "    text = whitespace_pattern.sub(\" \", text).strip()\n",
    "    text = digits_pattern.sub(\"\", text)\n",
    "\n",
    "    tokens = text.split()\n",
    "    tokens = remove_stopwords(tokens)\n",
    "    tokens = stem_tokens(tokens)\n",
    "\n",
    "    return \" \".join(tokens)\n",
    "\n",
    "\n",
    "def preprocess_for_summarization(text):\n",
    "    if not isinstance(text, str):\n",
    "        return \"\"\n",
    "\n",
    "    text = text.strip().lower()\n",
    "    text = remove_diacritics(text)\n",
    "    text = whitespace_pattern.sub(\" \", text).strip()\n",
    "    text = digits_pattern.sub(\"\", text)\n",
    "\n",
    "    return text"
   ]
  },
  {
   "cell_type": "code",
   "execution_count": null,
   "id": "EY5btqrI7obU",
   "metadata": {
    "colab": {
     "base_uri": "https://localhost:8080/"
    },
    "id": "EY5btqrI7obU",
    "outputId": "748b18f1-2b53-455c-be61-c77edafff90b"
   },
   "outputs": [
    {
     "name": "stdout",
     "output_type": "stream",
     "text": [
      "Preprocessing classification data...\n"
     ]
    },
    {
     "name": "stderr",
     "output_type": "stream",
     "text": [
      "Preprocessing texts: 100%|██████████| 15221/15221 [00:50<00:00, 299.46it/s]"
     ]
    },
    {
     "name": "stdout",
     "output_type": "stream",
     "text": [
      "Removed 3,035 duplicates/empty entries\n",
      "Final classification samples: 15,221\n"
     ]
    },
    {
     "name": "stderr",
     "output_type": "stream",
     "text": [
      "\n"
     ]
    }
   ],
   "source": [
    "print(\"Preprocessing classification data...\")\n",
    "\n",
    "# Remove duplicates\n",
    "original_count = len(classification_df)\n",
    "classification_df = classification_df.drop_duplicates(\n",
    "    subset=[\"text\"], keep=\"first\"\n",
    ").reset_index(drop=True)\n",
    "\n",
    "# Apply preprocessing\n",
    "tqdm.pandas(desc=\"Preprocessing texts\")\n",
    "classification_df[\"preprocessed_text\"] = classification_df[\"text\"].progress_apply(\n",
    "    preprocess_for_classification\n",
    ")\n",
    "\n",
    "# Remove empty preprocessed texts\n",
    "classification_df = classification_df[\n",
    "    classification_df[\"preprocessed_text\"].str.len() > 0\n",
    "].reset_index(drop=True)\n",
    "\n",
    "print(f\"Removed {original_count - len(classification_df):,} duplicates/empty entries\")\n",
    "print(f\"Final classification samples: {len(classification_df):,}\")"
   ]
  },
  {
   "cell_type": "code",
   "execution_count": null,
   "id": "MQWddkhXHfjh",
   "metadata": {
    "colab": {
     "base_uri": "https://localhost:8080/"
    },
    "id": "MQWddkhXHfjh",
    "outputId": "5d2d72e9-32c4-43e6-c417-5faa4e4508b9"
   },
   "outputs": [
    {
     "name": "stdout",
     "output_type": "stream",
     "text": [
      "Preprocessing summarization data...\n",
      "Cleaned 143 entries\n",
      "Final summarization samples: 29,192\n",
      "Average text length: 1966 characters\n",
      "Average summary length: 178 characters\n"
     ]
    }
   ],
   "source": [
    "print(\"Preprocessing summarization data...\")\n",
    "\n",
    "original_count = len(summarization_df)\n",
    "summarization_df = summarization_df.drop_duplicates(\n",
    "    subset=[\"text\"], keep=\"first\"\n",
    ").reset_index(drop=True)\n",
    "summarization_df = summarization_df.dropna(subset=[\"text\", \"summary\"]).reset_index(\n",
    "    drop=True\n",
    ")\n",
    "\n",
    "summarization_df[\"text_length\"] = summarization_df[\"text\"].str.len()\n",
    "summarization_df[\"summary_length\"] = summarization_df[\"summary\"].str.len()\n",
    "\n",
    "print(f\"Cleaned {original_count - len(summarization_df):,} entries\")\n",
    "print(f\"Final summarization samples: {len(summarization_df):,}\")\n",
    "print(f\"Average text length: {summarization_df['text_length'].mean():.0f} characters\")\n",
    "print(\n",
    "    f\"Average summary length: {summarization_df['summary_length'].mean():.0f} characters\"\n",
    ")"
   ]
  },
  {
   "cell_type": "markdown",
   "id": "4a85547b",
   "metadata": {
    "id": "4a85547b"
   },
   "source": [
    "### Data Visualization and Statistics"
   ]
  },
  {
   "cell_type": "markdown",
   "id": "ovPboxxoIfum",
   "metadata": {
    "id": "ovPboxxoIfum"
   },
   "source": [
    "#### Kalimat Corpus"
   ]
  },
  {
   "cell_type": "code",
   "execution_count": null,
   "id": "ec780ee7",
   "metadata": {
    "colab": {
     "base_uri": "https://localhost:8080/",
     "height": 647
    },
    "id": "ec780ee7",
    "outputId": "73527b01-6c97-44c2-a2ef-5d50742a8af1"
   },
   "outputs": [
    {
     "data": {
      "image/png": "[encoded data removed]",
      "text/plain": [
       "<Figure size 1500x700 with 2 Axes>"
      ]
     },
     "metadata": {},
     "output_type": "display_data"
    }
   ],
   "source": [
    "fig, (ax1, ax2) = plt.subplots(1, 2, figsize=(15, 7))\n",
    "\n",
    "# Class distribution\n",
    "sns.countplot(\n",
    "    data=classification_df,\n",
    "    x=\"label\",\n",
    "    order=classification_df[\"label\"].value_counts().index,\n",
    "    ax=ax1,\n",
    ")\n",
    "ax1.set_title(\"Class Distribution in KALIMAT Corpus\")\n",
    "ax1.set_xlabel(\"Topic Categories\")\n",
    "ax1.set_ylabel(\"Number of Articles\")\n",
    "ax1.tick_params(axis=\"x\", rotation=45)\n",
    "\n",
    "total = len(classification_df)\n",
    "for i, (label, count) in enumerate(classification_df[\"label\"].value_counts().items()):\n",
    "    percentage = (count / total) * 100\n",
    "    ax1.text(i, count + 10, f\"{percentage:.1f}%\", ha=\"center\", va=\"bottom\")\n",
    "\n",
    "\n",
    "# Text length distribution\n",
    "text_lengths = classification_df[\"text\"].apply(lambda x: len(x.split()))\n",
    "sns.histplot(text_lengths, bins=50, kde=True, ax=ax2)\n",
    "ax2.set_title(\"Distribution of Text Lengths\")\n",
    "ax2.set_xlabel(\"Number of Words\")\n",
    "ax2.set_ylabel(\"Frequency\")\n",
    "ax2.axvline(\n",
    "    text_lengths.mean(),\n",
    "    color=\"red\",\n",
    "    linestyle=\"--\",\n",
    "    label=f\"Mean: {text_lengths.mean():.0f} words\",\n",
    ")\n",
    "ax2.legend()\n",
    "\n",
    "plt.tight_layout()\n",
    "plt.show()"
   ]
  },
  {
   "cell_type": "markdown",
   "id": "8AsyHllkIqGp",
   "metadata": {
    "id": "8AsyHllkIqGp"
   },
   "source": [
    "#### Summarization Corpus"
   ]
  },
  {
   "cell_type": "code",
   "execution_count": null,
   "id": "UE4hNhPIIvEv",
   "metadata": {
    "colab": {
     "base_uri": "https://localhost:8080/",
     "height": 647
    },
    "id": "UE4hNhPIIvEv",
    "outputId": "6384cff1-a3aa-4d67-c6a1-d0abd0f63008"
   },
   "outputs": [
    {
     "data": {
      "image/png": "[encoded data removed]",
      "text/plain": [
       "<Figure size 1500x700 with 2 Axes>"
      ]
     },
     "metadata": {},
     "output_type": "display_data"
    }
   ],
   "source": [
    "# assume df already has summary_length & text_length\n",
    "fig, (ax1, ax2) = plt.subplots(1, 2, figsize=(15, 7))\n",
    "\n",
    "text_mean = summarization_df[\"text_length\"].mean()\n",
    "summary_mean = summarization_df[\"summary_length\"].mean()\n",
    "\n",
    "# Length distribution\n",
    "ax1.hist(\n",
    "    summarization_df[\"text_length\"],\n",
    "    bins=50,\n",
    "    alpha=0.6,\n",
    "    label=\"Text length\",\n",
    "    color=\"#1f77b4\",\n",
    ")\n",
    "ax1.hist(\n",
    "    summarization_df[\"summary_length\"],\n",
    "    bins=50,\n",
    "    alpha=0.6,\n",
    "    label=\"Summary length\",\n",
    "    color=\"#ff7f0e\",\n",
    ")\n",
    "\n",
    "ax1.set_xlim(0, 6000)\n",
    "ax1.axvline(\n",
    "    text_mean,\n",
    "    color=\"skyblue\",\n",
    "    linestyle=\"--\",\n",
    "    linewidth=2,\n",
    "    label=f\"Text mean ({text_mean:.0f})\",\n",
    ")\n",
    "ax1.axvline(\n",
    "    summary_mean,\n",
    "    color=\"orange\",\n",
    "    linestyle=\"--\",\n",
    "    linewidth=2,\n",
    "    label=f\"Summary mean ({summary_mean:.0f})\",\n",
    ")\n",
    "\n",
    "ax1.set_xlabel(\"Length (characters)\")\n",
    "ax1.set_ylabel(\"Number of samples\")\n",
    "ax1.set_title(\"Text vs Summary Length Distribution\", fontweight=\"bold\")\n",
    "ax1.legend()\n",
    "\n",
    "# Compression ratio\n",
    "compression_ratio = summarization_df[\"text_length\"] / summarization_df[\"summary_length\"]\n",
    "sns.histplot(compression_ratio, bins=30, kde=True, ax=ax2)\n",
    "ax2.set_title(\"Compression Ratio Distribution\", fontweight=\"bold\")\n",
    "ax2.set_xlabel(\"Compression Ratio (Text Length / Summary Length)\")\n",
    "ax2.set_ylabel(\"Frequency\")\n",
    "ax2.axvline(\n",
    "    compression_ratio.mean(),\n",
    "    color=\"red\",\n",
    "    linestyle=\"--\",\n",
    "    label=f\"Mean ratio: {compression_ratio.mean():.1f}\",\n",
    ")\n",
    "ax2.legend()\n",
    "\n",
    "plt.tight_layout()\n",
    "plt.show()"
   ]
  },
  {
   "cell_type": "markdown",
   "id": "a0IMW5V6xumb",
   "metadata": {
    "id": "a0IMW5V6xumb"
   },
   "source": [
    "### Data Characteristics Insights\n",
    "\n",
    "**KALIMAT Corpus Observations**:\n",
    "- Somewhat imbalanced class distribution with sports articles dominating (~25% of dataset)\n",
    "- Text lengths vary significantly across topics (economics articles tend to be longer)\n",
    "- Average Arabic text contains ~450 words, requiring careful sequence length management for neural models\n",
    "\n",
    "**Summarization Corpus Patterns**:\n",
    "- High compression ratios (13.5) which means summarization is much shorter\n",
    "- Length variability suggests diverse text types and summarization styles\n",
    "- Arabic summary quality appears inconsistent, affecting evaluation metrics\n",
    "\n",
    "These patterns inform preprocessing decisions and model architecture choices."
   ]
  },
  {
   "cell_type": "markdown",
   "id": "b59a9d7e",
   "metadata": {
    "id": "b59a9d7e"
   },
   "source": [
    "\n",
    "\n",
    "\n",
    "\n",
    "## 3. Phase 1: Traditional Approaches"
   ]
  },
  {
   "cell_type": "code",
   "execution_count": null,
   "id": "Zgs2WlTeAey6",
   "metadata": {
    "colab": {
     "base_uri": "https://localhost:8080/"
    },
    "id": "Zgs2WlTeAey6",
    "outputId": "a5938b58-55ad-4347-a83a-451172cc130c"
   },
   "outputs": [
    {
     "name": "stdout",
     "output_type": "stream",
     "text": [
      "Creating train/test splits on preprocessed text...\n",
      "Classification split - Training: 12,176, Test: 3,045\n",
      "Label classes: ['culture', 'economy', 'international', 'local', 'religion', 'sports']\n"
     ]
    }
   ],
   "source": [
    "print(\"Creating train/test splits on preprocessed text...\")\n",
    "\n",
    "# Classification data split\n",
    "X_cls = classification_df[\"preprocessed_text\"]\n",
    "y_cls = classification_df[\"label\"]\n",
    "X_cls_train_raw, X_cls_test_raw, y_cls_train_raw, y_cls_test_raw = train_test_split(\n",
    "    X_cls, y_cls, test_size=TEST_SIZE, random_state=RANDOM_SEED, stratify=y_cls\n",
    ")\n",
    "\n",
    "# Preserve original string labels\n",
    "y_cls_train_str = y_cls_train_raw.copy()\n",
    "y_cls_test_str = y_cls_test_raw.copy()\n",
    "\n",
    "# Encode labels\n",
    "label_encoder = LabelEncoder()\n",
    "y_cls_train_raw = label_encoder.fit_transform(y_cls_train_raw)\n",
    "y_cls_test_raw = label_encoder.transform(y_cls_test_raw)\n",
    "\n",
    "print(\n",
    "    f\"Classification split - Training: {len(X_cls_train_raw):,}, Test: {len(X_cls_test_raw):,}\"\n",
    ")\n",
    "print(f\"Label classes: {list(label_encoder.classes_)}\")"
   ]
  },
  {
   "cell_type": "markdown",
   "id": "521ef161",
   "metadata": {
    "id": "521ef161"
   },
   "source": [
    "### Traditional implementation of Task 1"
   ]
  },
  {
   "cell_type": "code",
   "execution_count": null,
   "id": "002b515b",
   "metadata": {
    "colab": {
     "base_uri": "https://localhost:8080/"
    },
    "id": "002b515b",
    "outputId": "4bf80009-138a-417b-c78a-52cd8f9a81f3"
   },
   "outputs": [
    {
     "name": "stdout",
     "output_type": "stream",
     "text": [
      "Training traditional SVM model...\n",
      "Loading existing TF-IDF vectorizer for classification...\n",
      "✓ TF-IDF vectorizer loaded from file\n",
      "TF-IDF feature matrix shape: (12176, 10000)\n"
     ]
    }
   ],
   "source": [
    "print(\"Training traditional SVM model...\")\n",
    "\n",
    "X_cls_train_preprocessed = X_cls_train_raw.tolist()\n",
    "X_cls_test_preprocessed = X_cls_test_raw.tolist()\n",
    "\n",
    "# Check if TF-IDF vectorizer exists\n",
    "svm_tfidf_path = os.path.join(\n",
    "    MODEL_SAVE_DIR, \"traditional_tfidf_vectorizer_classifier.joblib\"\n",
    ")\n",
    "\n",
    "if os.path.exists(svm_tfidf_path):\n",
    "    print(\"Loading existing TF-IDF vectorizer for classification...\")\n",
    "    svm_vectorizer = joblib.load(svm_tfidf_path)\n",
    "    X_cls_train_tfidf = svm_vectorizer.transform(X_cls_train_preprocessed)\n",
    "    X_cls_test_tfidf = svm_vectorizer.transform(X_cls_test_preprocessed)\n",
    "    print(\"✓ TF-IDF vectorizer loaded from file\")\n",
    "else:\n",
    "    print(\"Creating new TF-IDF vectorizer...\")\n",
    "    # Create TF-IDF features\n",
    "    svm_vectorizer = TfidfVectorizer(max_features=10000, ngram_range=(1, 2))\n",
    "    X_cls_train_tfidf = svm_vectorizer.fit_transform(X_cls_train_preprocessed)\n",
    "    X_cls_test_tfidf = svm_vectorizer.transform(X_cls_test_preprocessed)\n",
    "\n",
    "    # Save the vectorizer\n",
    "    joblib.dump(svm_vectorizer, svm_tfidf_path)\n",
    "    print(\"✓ TF-IDF vectorizer created and saved\")\n",
    "\n",
    "print(f\"TF-IDF feature matrix shape: {X_cls_train_tfidf.shape}\")"
   ]
  },
  {
   "cell_type": "code",
   "execution_count": null,
   "id": "5fZao4u7AGX3",
   "metadata": {
    "colab": {
     "base_uri": "https://localhost:8080/"
    },
    "id": "5fZao4u7AGX3",
    "outputId": "8cbde8f1-6def-4dc5-adee-f19eae4ee4e2"
   },
   "outputs": [
    {
     "name": "stdout",
     "output_type": "stream",
     "text": [
      "Loading existing SVM model...\n",
      "✓ SVM model loaded from file\n"
     ]
    }
   ],
   "source": [
    "# Check if model exists\n",
    "svm_model_path = os.path.join(MODEL_SAVE_DIR, \"traditional_svm_classifier.joblib\")\n",
    "\n",
    "if os.path.exists(svm_model_path):\n",
    "    print(\"Loading existing SVM model...\")\n",
    "    svm_model = joblib.load(svm_model_path)\n",
    "    print(\"✓ SVM model loaded from file\")\n",
    "else:\n",
    "    print(\"Training new SVM model...\")\n",
    "    svm_model = SVC(kernel=\"linear\", C=1, random_state=RANDOM_SEED)\n",
    "    svm_model.fit(X_cls_train_tfidf, y_cls_train_raw)\n",
    "\n",
    "    # Save the model\n",
    "    joblib.dump(svm_model, svm_model_path)\n",
    "    print(\"✓ SVM model trained and saved\")\n",
    "\n",
    "svm_preds = svm_model.predict(X_cls_test_tfidf)"
   ]
  },
  {
   "cell_type": "markdown",
   "id": "4204935d",
   "metadata": {
    "id": "4204935d"
   },
   "source": [
    "### Traditional implementation of Task 2"
   ]
  },
  {
   "cell_type": "code",
   "execution_count": null,
   "id": "n4gSHrjhWAgP",
   "metadata": {
    "colab": {
     "base_uri": "https://localhost:8080/"
    },
    "id": "n4gSHrjhWAgP",
    "outputId": "0e59b387-afb0-4a6b-a517-253e68259048"
   },
   "outputs": [
    {
     "name": "stdout",
     "output_type": "stream",
     "text": [
      "Summarization split - Training: 23353, Test: 5839\n"
     ]
    }
   ],
   "source": [
    "summarization_train_df, summarization_test_df = train_test_split(\n",
    "    summarization_df, test_size=TEST_SIZE, random_state=RANDOM_SEED\n",
    ")\n",
    "\n",
    "X_sum_train = summarization_train_df[\"text\"].tolist()\n",
    "X_sum_test = summarization_test_df[\"text\"].tolist()\n",
    "y_sum_train = summarization_train_df[\"summary\"].tolist()\n",
    "y_sum_test = summarization_test_df[\"summary\"].tolist()\n",
    "\n",
    "#  Preprocess\n",
    "X_sum_train = [preprocess_for_summarization(t) for t in X_sum_train]\n",
    "X_sum_test = [preprocess_for_summarization(t) for t in X_sum_test]\n",
    "y_sum_train = [preprocess_for_summarization(t) for t in y_sum_train]\n",
    "y_sum_test = [preprocess_for_summarization(t) for t in y_sum_test]\n",
    "\n",
    "print(f\"Summarization split - Training: {len(X_sum_train)}, Test: {len(X_sum_test)}\")"
   ]
  },
  {
   "cell_type": "code",
   "execution_count": null,
   "id": "s2W5fgV6oC7S",
   "metadata": {
    "colab": {
     "base_uri": "https://localhost:8080/"
    },
    "id": "s2W5fgV6oC7S",
    "outputId": "d2cd0fad-db52-4f04-c6a6-4ca127cb3808"
   },
   "outputs": [
    {
     "name": "stdout",
     "output_type": "stream",
     "text": [
      "✓ Traditional summarization functions loaded!\n"
     ]
    }
   ],
   "source": [
    "def create_tfidf_vectorizer(corpus):\n",
    "    vectorizer = TfidfVectorizer(stop_words=None, max_features=5000)\n",
    "    vectorizer.fit(corpus)\n",
    "    return vectorizer\n",
    "\n",
    "\n",
    "def extract_tfidf_summary(text, vectorizer, num_sentences=3):\n",
    "    cleaned_text = preprocess_for_summarization(text)\n",
    "    sentences = re.split(r\"[.!؟\\n]+\", cleaned_text)\n",
    "    sentences = [s.strip() for s in sentences if s.strip() and len(s.split()) > 3]\n",
    "\n",
    "    if len(sentences) <= num_sentences:\n",
    "        return \" \".join(sentences)\n",
    "\n",
    "    try:\n",
    "        tfidf_matrix = vectorizer.transform(sentences)\n",
    "        sentence_scores = tfidf_matrix.sum(axis=1).A1\n",
    "        top_indices = np.argsort(sentence_scores)[-num_sentences:][::-1]\n",
    "        summary_sentences = [sentences[i] for i in sorted(top_indices)]\n",
    "        return \". \".join(summary_sentences) + \".\"\n",
    "    except:\n",
    "        return \". \".join(sentences[:num_sentences]) + \".\"\n",
    "\n",
    "\n",
    "print(\"✓ Traditional summarization functions loaded!\")"
   ]
  },
  {
   "cell_type": "code",
   "execution_count": null,
   "id": "1wjjSDscopIv",
   "metadata": {
    "colab": {
     "base_uri": "https://localhost:8080/"
    },
    "id": "1wjjSDscopIv",
    "outputId": "568ca188-a7e0-44e3-adf6-26689d36a990"
   },
   "outputs": [
    {
     "name": "stdout",
     "output_type": "stream",
     "text": [
      "Setting up TF-IDF vectorizer for summarization...\n",
      "Loading existing TF-IDF vectorizer for summarization...\n",
      "✓ TF-IDF vectorizer loaded from file\n",
      "TF-IDF vocabulary size: 5,000\n",
      "✓ TF-IDF vectorizer ready!\n"
     ]
    }
   ],
   "source": [
    "print(\"Setting up TF-IDF vectorizer for summarization...\")\n",
    "\n",
    "# Check if TF-IDF vectorizer for summarization exists\n",
    "tfidf_sum_path = os.path.join(\n",
    "    MODEL_SAVE_DIR, \"traditional_tfidf_vectorizer_summarization.joblib\"\n",
    ")\n",
    "\n",
    "if os.path.exists(tfidf_sum_path):\n",
    "    print(\"Loading existing TF-IDF vectorizer for summarization...\")\n",
    "    tfidf_vectorizer = joblib.load(tfidf_sum_path)\n",
    "    print(\"✓ TF-IDF vectorizer loaded from file\")\n",
    "else:\n",
    "    print(\"Training new TF-IDF vectorizer for summarization...\")\n",
    "\n",
    "    # Use training set for fitting the vectorizer\n",
    "    train_texts_clean = [\n",
    "        preprocess_for_summarization(text)\n",
    "        for text in tqdm(X_sum_train, desc=\"Preprocessing training texts\")\n",
    "    ]\n",
    "\n",
    "    tfidf_vectorizer = create_tfidf_vectorizer(train_texts_clean)\n",
    "\n",
    "    # Save the vectorizer\n",
    "    joblib.dump(tfidf_vectorizer, tfidf_sum_path)\n",
    "    print(\"✓ TF-IDF vectorizer created and saved\")\n",
    "\n",
    "print(f\"TF-IDF vocabulary size: {len(tfidf_vectorizer.vocabulary_):,}\")\n",
    "print(\"✓ TF-IDF vectorizer ready!\")"
   ]
  },
  {
   "cell_type": "code",
   "execution_count": null,
   "id": "5mDK-jwpotxs",
   "metadata": {
    "colab": {
     "base_uri": "https://localhost:8080/"
    },
    "id": "5mDK-jwpotxs",
    "outputId": "bcdd8882-fb36-4725-f5b4-05221aef1acf"
   },
   "outputs": [
    {
     "name": "stderr",
     "output_type": "stream",
     "text": [
      "Generating TF-IDF summaries: 100%|██████████| 5839/5839 [00:07<00:00, 820.74it/s]"
     ]
    },
    {
     "name": "stdout",
     "output_type": "stream",
     "text": [
      "Generated 5,839 TF-IDF summaries\n"
     ]
    },
    {
     "name": "stderr",
     "output_type": "stream",
     "text": [
      "\n"
     ]
    }
   ],
   "source": [
    "tfidf_summaries = []\n",
    "for text in tqdm(X_sum_test, desc=\"Generating TF-IDF summaries\"):\n",
    "    summary = extract_tfidf_summary(text, tfidf_vectorizer, num_sentences=3)\n",
    "    tfidf_summaries.append(summary)\n",
    "\n",
    "print(f\"Generated {len(tfidf_summaries):,} TF-IDF summaries\")"
   ]
  },
  {
   "cell_type": "code",
   "execution_count": null,
   "id": "UGSUuxeMdzYx",
   "metadata": {
    "colab": {
     "base_uri": "https://localhost:8080/",
     "height": 869
    },
    "id": "UGSUuxeMdzYx",
    "outputId": "da8fa6a0-2079-45f0-cdf0-23cb18039127"
   },
   "outputs": [
    {
     "name": "stdout",
     "output_type": "stream",
     "text": [
      "\n",
      "Sample TF-IDF summary:\n",
      "\n",
      "Original Text:\n",
      "=============\n"
     ]
    },
    {
     "data": {
      "text/markdown": [
       "ما بين تجهيز نفسك، أو العناية بالحيوانات الأليفة والأطفال أو القيام بالمهام المنزلية السابقة للعمل، أنت منشغل بمهام كثيرة في الصباح. قلل الحمل عن طريق تحضير الفطور والغذاء الليلة السابقة. عندما يكون كل ما تحتاجه هو أن تأخذ الوجبة وتذهب، أنت تقلل من فرص أن تتجاهل الفطور لأنك في عجلة من أمرك وستتجنب شراء الأطعمة السريعة الغير صحية للغذاء. أبق مستويات طاقاتك عالية. الطاقة التي حصلت عليها من تناول العشاء الليلة السابقة تنفذ مع الصباح. تناول فطور يحتوي على نسبة عالية من الألياف يوازن مستوى سكر الدم لديك، مما يساعدك على الشعور بالطاقة والمزيد من التركيز. تحتاج إلى طاقة لأقصى كم من التحفيز في الصباح وطوال اليوم. تجنب الكربوهيدرات المكررة مثل الكعك لأنها ترفع سكر الدم بشكل مفاجئ ثم يهبط فجأة. ابق فطورك بسيطا ومغذيا. اسلق البيض وضعه في الثلاجة ليكون متاحا في الصباحات المشغولة. استمتع ببيض مسلوق مع مافن انجليزي وثمرة موز لفطور متوازن. كخيار آخر يمكنك طهي الشوفان في الطاهي البطيء ليلا. استمتع بشوفان ساخن وفواكه في الصباح واحتفظ بالباقي في الثلاجة لفطور سريع باقي الأسبوع. جهز غداء متوازن. استخدم وعاء واسع الفم لصنع سلطة عالية البروتين. ضع تتبيلة السلطة في قاع الوعاء. بعد ذلك، رتب الخضروات في طبقات كالخيار، الطماطم الكرز، الجزر، والحمص. أضف بروتين خالي من الدهون كالدجاج المشوي. أخيرا أضف الخضروات الورقية على السطح، اغلق الوعاء وضعه في الثلاجة. ستبقى السلطة طازجة طوال الليل بما أن الخضروات مفصولة عن التتبيلة. عندما تكون مستعدا لتناول الغداء، قم فقط برج الوعاء لتوزيع التتبيلة ثم اسكبها في طبق. يستخدم جسمك طعام العشاء كوقود أثناء النوم. ستستيقظ بطاقة وحماس أكبر عندما تقوم شحن جسمك بالأطعمة الصحيحة في الليلة السابقة. تناول البروتينات خالية الدهون مثل الدجاج المشوي، السمك أو الفول. أضف الخضروات والكربوهيدرات المعقدة مثل الأرز البني أو الكينوا. يستخدم جسمك الكثير من الطاقة لهضم الطعام. تناول وجبة دسمة قرب وقت النوم يصعب من عملية النوم. تناول الطعام قبل النوم بساعتين أو ثلاث ساعات. هذا يعطي جسمك وقتا لإنهاء الهضم قبل أن تنام. تجنب الأطعمة السكرية أو الدسمة لأنها تؤدي إلى رفع معدل سكر الدم فجأة أو حرقة المعدة. كلا الأمران يصعب من النوم. التابلت، والتليفون الذكي، والحاسوب، والتلفاز كلها أشياء تحفز العقل. أنت في مزاج تفكير بدلا من مزاج استرخاء. العقل المحفز يصعب النوم. عندما يتشتت نومك، سيصعب عليك البقاء أن تصبح محفزا في الصباح. اغلق كل الأجهزة الالكترونية قبل النوم بساعة على الأقل. الإضاءة الاصطناعية التي تأتي من الأجهزة الالكترونية تصيب الساعة البيولوجية بالاضطراب. كذلك تكبح هرمون النوم الميلاتونين، الذي يجعلك تبقى مستيقظا لفترة أطول. النوم المشوش يعني أنك تشعر بالكسل والانزعاج في الصباح. الكافيين يبقيك منتبها لعدة ساعات. ستحتاج إلى وقت أطول للنوم وستعاني من النوم المتقطع عندما تستهلك الكافيين ليلا. ستستيقظ شاعرا بالترنح بدلا من النشاط. تجنب المشروبات التي تحتوي على كافيين كالقهوة، الشاي، أو الصودا لمدة أربع ساعات على الأقل قبل موعد النوم. اشرب مشروبات لا تحتوي على كافيين كبديل مثل الشاي اخالي من الكافيين أو الحليب الدافئ. لهذا تأثير مهدئ. سيكون النوم والبقاء نائما أسهل عليك. شرب كأس أخير قبل النوم لا يبعث على الاسترخاء كما تظن. الكحول هو مسبب للاكتئاب لذا يجعلك تشعر بالنعاس أولا. عندما يختفي مفعول الكحول، له تأثير محفز. ستستيقظ وتشعر بصعوبة النوم مجددا. الكحول يسبب اضطرابا في دورات نومك أيضا، لذا لن تحصل على نوع النوم الذي تحتاجه للشعور بالراحة. قلل الكحول إلى كأس أو اثنين يوميا. اشرب اخر مشروب قبل النوم بساعتين على الأقل. روتين النوم ليس فقط للأطفال. درب عقلك وجسمك على النوم والبقاء نائما. الراحة جيدا أساسية لبدء صباحك شاعرا بالطاقة والتركيز. اقرأ كتابا أو مجلة قديمة. ستتعب عقلك وتنام بسهولة بشكل أسهل عندما تقرأ. تجنب القراءة من جهاز إلكتروني لأن ضوء الجهاز يمكن أن يبقيك مستيقظا. بالإضافة إلى ذلك، ستشعر بالرغبة في التحقق من رسائلك أو تطبيقاتك. أرخ عضلاتك. أخذ حمام دافئ أو القيام بتمديد العضلات اللطيف هي بعض الطرق التي يمكن أن تساعدك على تخفيف الضغط من جسمك. عضلاتك مشدودة بسبب يومك المشغول. الحمام أو تمديد عضلاتك يساعدك على الراحة والاستغراق في النوم. اهدف إلى سبع إلى تسع ساعات من النوم كل ليلة. هذه الكمية ستسمح لك أن تمر بكل دورات النوم. هناك أربع مراحل من النوم تتكرر حوالي كل  دقيقة. إذا كنت تنام أقل من سبع ساعات، لا يمكنك المرور خلال كل المراحل. اعلم أن النوم مهم لصحتك العامة. الحرمان من النوم يؤدي إلى فقدان الذاكرة، وقلة التركيز والإعياء. النوم جيدا بشكل منتظم يحفز نظامك المناعي ويساعدك على التحكم في وزنك. الراحة ليلا تحسن طاقتك، تحفيزك وصحتك العامة."
      ],
      "text/plain": [
       "<IPython.core.display.Markdown object>"
      ]
     },
     "metadata": {},
     "output_type": "display_data"
    },
    {
     "name": "stdout",
     "output_type": "stream",
     "text": [
      "\n",
      "[Full length: 4,110 characters]\n",
      "\n",
      "\n",
      "Reference Summary:\n",
      "=================\n"
     ]
    },
    {
     "data": {
      "text/markdown": [
       "حضر فطورك وغذائك الليلة السابقة. تناول عشاءا صحيا. اغلق الأجهزة الكهربائية قبل النوم. تجنب الكافيين قبل النوم. تجنب الكحول قبل النوم. رتب روتينا للنوم."
      ],
      "text/plain": [
       "<IPython.core.display.Markdown object>"
      ]
     },
     "metadata": {},
     "output_type": "display_data"
    },
    {
     "name": "stdout",
     "output_type": "stream",
     "text": [
      "\n",
      "[Full length: 151 characters]\n",
      "\n",
      "\n",
      "TF-IDF Summary:\n",
      "==============\n"
     ]
    },
    {
     "data": {
      "text/markdown": [
       "عندما يكون كل ما تحتاجه هو أن تأخذ الوجبة وتذهب، أنت تقلل من فرص أن تتجاهل الفطور لأنك في عجلة من أمرك وستتجنب شراء الأطعمة السريعة الغير صحية للغذاء. تناول فطور يحتوي على نسبة عالية من الألياف يوازن مستوى سكر الدم لديك، مما يساعدك على الشعور بالطاقة والمزيد من التركيز. أخذ حمام دافئ أو القيام بتمديد العضلات اللطيف هي بعض الطرق التي يمكن أن تساعدك على تخفيف الضغط من جسمك."
      ],
      "text/plain": [
       "<IPython.core.display.Markdown object>"
      ]
     },
     "metadata": {},
     "output_type": "display_data"
    },
    {
     "name": "stdout",
     "output_type": "stream",
     "text": [
      "\n",
      "[Full length: 374 characters]\n",
      "\n"
     ]
    }
   ],
   "source": [
    "print(\"\\nSample TF-IDF summary:\")\n",
    "sample_idx = 0\n",
    "print_text_sample(X_sum_test[sample_idx], \"Original Text\")\n",
    "print_text_sample(y_sum_test[sample_idx], \"Reference Summary\")\n",
    "print_text_sample(tfidf_summaries[sample_idx], \"TF-IDF Summary\")"
   ]
  },
  {
   "cell_type": "markdown",
   "id": "bfb50360",
   "metadata": {
    "id": "bfb50360"
   },
   "source": [
    "### Evaluation and results analysis"
   ]
  },
  {
   "cell_type": "markdown",
   "id": "OOD7NK4_DM1b",
   "metadata": {
    "id": "OOD7NK4_DM1b"
   },
   "source": [
    "#### Task 1"
   ]
  },
  {
   "cell_type": "code",
   "execution_count": null,
   "id": "XGfzKgVkDgdS",
   "metadata": {
    "colab": {
     "base_uri": "https://localhost:8080/",
     "height": 462
    },
    "id": "XGfzKgVkDgdS",
    "outputId": "d7ef7bb2-ca3c-4f5a-ff41-1aa3598884a7"
   },
   "outputs": [
    {
     "name": "stdout",
     "output_type": "stream",
     "text": [
      "SVM Classification Results:\n",
      "========================================\n"
     ]
    },
    {
     "data": {
      "image/png": "[encoded data removed]",
      "text/plain": [
       "<Figure size 1500x600 with 2 Axes>"
      ]
     },
     "metadata": {},
     "output_type": "display_data"
    }
   ],
   "source": [
    "print(\"SVM Classification Results:\")\n",
    "print(\"=\" * 40)\n",
    "\n",
    "labels = list(label_encoder.classes_)\n",
    "\n",
    "svm_preds = label_encoder.inverse_transform(svm_preds)\n",
    "# Confusion Matrix\n",
    "cm_svm = confusion_matrix(y_cls_test_str, svm_preds, labels=labels)\n",
    "svm_accuracy = cm_svm.diagonal().sum() / cm_svm.sum()\n",
    "\n",
    "fig, (ax1, ax2) = plt.subplots(1, 2, figsize=(15, 6))\n",
    "\n",
    "# Plot confusion matrix\n",
    "disp = ConfusionMatrixDisplay(confusion_matrix=cm_svm, display_labels=labels)\n",
    "disp.plot(cmap=\"Blues\", ax=ax1, colorbar=False)\n",
    "ax1.set_title(\"SVM Confusion Matrix\", fontweight=\"bold\")\n",
    "ax1.tick_params(axis=\"x\", rotation=45)\n",
    "\n",
    "# Classification metrics\n",
    "precision, recall, f1, support = precision_recall_fscore_support(\n",
    "    y_cls_test_str, svm_preds, labels=labels, zero_division=0\n",
    ")\n",
    "\n",
    "metrics_df = pd.DataFrame(\n",
    "    {\n",
    "        \"Class\": labels,\n",
    "        \"Precision\": precision,\n",
    "        \"Recall\": recall,\n",
    "        \"F1-Score\": f1,\n",
    "        \"Support\": support,\n",
    "    }\n",
    ")\n",
    "\n",
    "metrics_df.set_index(\"Class\")[[\"Precision\", \"Recall\", \"F1-Score\"]].plot(\n",
    "    kind=\"bar\", ax=ax2, colormap=\"viridis\"\n",
    ")\n",
    "ax2.set_title(\"SVM Performance by Class\", fontweight=\"bold\")\n",
    "ax2.set_ylabel(\"Score\")\n",
    "ax2.tick_params(axis=\"x\", rotation=45)\n",
    "ax2.legend(bbox_to_anchor=(1.05, 1), loc=\"upper left\")\n",
    "\n",
    "plt.tight_layout()\n",
    "plt.show()"
   ]
  },
  {
   "cell_type": "code",
   "execution_count": null,
   "id": "nk5hVLiHYFk_",
   "metadata": {
    "colab": {
     "base_uri": "https://localhost:8080/"
    },
    "id": "nk5hVLiHYFk_",
    "outputId": "dd70dc35-2afe-4d07-a81a-ae6fb1acaf95"
   },
   "outputs": [
    {
     "name": "stdout",
     "output_type": "stream",
     "text": [
      "\n",
      "=== SVM Classification Report ===\n",
      "               precision    recall  f1-score   support\n",
      "\n",
      "      culture       0.91      0.90      0.91       493\n",
      "      economy       0.91      0.90      0.91       647\n",
      "international       0.93      0.95      0.94       331\n",
      "        local       0.87      0.89      0.88       628\n",
      "     religion       0.94      0.88      0.91       132\n",
      "       sports       0.99      0.99      0.99       814\n",
      "\n",
      "     accuracy                           0.93      3045\n",
      "    macro avg       0.93      0.92      0.92      3045\n",
      " weighted avg       0.93      0.93      0.93      3045\n",
      "\n"
     ]
    }
   ],
   "source": [
    "print(\"\\n=== SVM Classification Report ===\")\n",
    "print(classification_report(y_cls_test_str, svm_preds, labels=labels))"
   ]
  },
  {
   "cell_type": "markdown",
   "id": "7Scf38T_DRkD",
   "metadata": {
    "id": "7Scf38T_DRkD"
   },
   "source": [
    "#### Task 2"
   ]
  },
  {
   "cell_type": "code",
   "execution_count": null,
   "id": "6gRDbjti-QBH",
   "metadata": {
    "colab": {
     "base_uri": "https://localhost:8080/"
    },
    "id": "6gRDbjti-QBH",
    "outputId": "433c85ac-4763-46db-dd48-5c898f4390cd"
   },
   "outputs": [
    {
     "name": "stdout",
     "output_type": "stream",
     "text": [
      "Evaluating TF-IDF Summarization:\n",
      "========================================\n",
      "Calculating ROUGE scores...\n"
     ]
    },
    {
     "name": "stderr",
     "output_type": "stream",
     "text": [
      "ROUGE evaluation: 100%|██████████| 5839/5839 [00:05<00:00, 1150.58it/s]\n"
     ]
    },
    {
     "name": "stdout",
     "output_type": "stream",
     "text": [
      "\n",
      "TF-IDF Summarization Results:\n",
      "ROUGE1: 0.1327\n",
      "ROUGE2: 0.0301\n",
      "ROUGEL: 0.0957\n",
      "\n",
      "Calculating BLEU scores...\n",
      "BLEU-1: 0.0776\n",
      "BLEU-2: 0.0340\n",
      "BLEU-3: 0.0176\n",
      "BLEU-4: 0.0090\n",
      "\n",
      "✓ Traditional methods evaluation complete!\n"
     ]
    }
   ],
   "source": [
    "print(\"Evaluating TF-IDF Summarization:\")\n",
    "print(\"=\" * 40)\n",
    "\n",
    "# Calculate ROUGE scores\n",
    "scorer = rouge_scorer.RougeScorer([\"rouge1\", \"rouge2\", \"rougeL\"], use_stemmer=False)\n",
    "\n",
    "rouge_scores = {\"rouge1\": [], \"rouge2\": [], \"rougeL\": []}\n",
    "\n",
    "print(\"Calculating ROUGE scores...\")\n",
    "for reference, generated in tqdm(\n",
    "    zip(y_sum_test, tfidf_summaries), total=len(y_sum_test), desc=\"ROUGE evaluation\"\n",
    "):\n",
    "    reference = str(reference)\n",
    "    generated = str(generated)\n",
    "\n",
    "    if reference and generated:\n",
    "        scores = scorer.score(reference, generated)\n",
    "        for metric in rouge_scores:\n",
    "            rouge_scores[metric].append(scores[metric].fmeasure)\n",
    "\n",
    "# Calculate and display results\n",
    "rouge_results = {}\n",
    "for metric in rouge_scores:\n",
    "    rouge_results[metric] = np.mean(rouge_scores[metric])\n",
    "\n",
    "print(\"\\nTF-IDF Summarization Results:\")\n",
    "for metric, score in rouge_results.items():\n",
    "    print(f\"{metric.upper()}: {score:.4f}\")\n",
    "\n",
    "# BLEU Score calculation\n",
    "print(\"\\nCalculating BLEU scores...\")\n",
    "smooth = SmoothingFunction().method1\n",
    "refs = [[ref.split()] for ref in y_sum_test]\n",
    "cands = [cand.split() for cand in tfidf_summaries]\n",
    "\n",
    "bleu_scores = {\n",
    "    \"BLEU-1\": corpus_bleu(refs, cands, weights=(1, 0, 0, 0), smoothing_function=smooth),\n",
    "    \"BLEU-2\": corpus_bleu(\n",
    "        refs, cands, weights=(0.5, 0.5, 0, 0), smoothing_function=smooth\n",
    "    ),\n",
    "    \"BLEU-3\": corpus_bleu(\n",
    "        refs, cands, weights=(0.33, 0.33, 0.33, 0), smoothing_function=smooth\n",
    "    ),\n",
    "    \"BLEU-4\": corpus_bleu(\n",
    "        refs, cands, weights=(0.25, 0.25, 0.25, 0.25), smoothing_function=smooth\n",
    "    ),\n",
    "}\n",
    "\n",
    "for metric, score in bleu_scores.items():\n",
    "    print(f\"{metric}: {score:.4f}\")\n",
    "\n",
    "traditional_results = {\n",
    "    \"SVM_Accuracy\": classification_report(\n",
    "        label_encoder.inverse_transform(y_cls_test_raw), svm_preds, output_dict=True\n",
    "    )[\"accuracy\"],\n",
    "    \"TF-IDF_ROUGE1\": rouge_results[\"rouge1\"],\n",
    "    \"TF-IDF_BLEU1\": bleu_scores[\"BLEU-1\"],\n",
    "}\n",
    "\n",
    "print(\"\\n✓ Traditional methods evaluation complete!\")"
   ]
  },
  {
   "cell_type": "code",
   "execution_count": null,
   "id": "PrTvdwn7Ipvu",
   "metadata": {
    "colab": {
     "base_uri": "https://localhost:8080/",
     "height": 1000
    },
    "id": "PrTvdwn7Ipvu",
    "outputId": "cf939dbf-9790-4ddf-de3d-d074805e454f"
   },
   "outputs": [
    {
     "name": "stdout",
     "output_type": "stream",
     "text": [
      "Sample Traditional Summarization Results:\n",
      "==================================================\n",
      "\n",
      "--- Sample 1 ---\n",
      "\n",
      "Original Text:\n",
      "=============\n"
     ]
    },
    {
     "data": {
      "text/markdown": [
       "ما بين تجهيز نفسك، أو العناية بالحيوانات الأليفة والأطفال أو القيام بالمهام المنزلية السابقة للعمل، أنت منشغل بمهام كثيرة في الصباح. قلل الحمل عن طريق تحضير الفطور والغذاء الليلة السابقة. عندما يكون كل ما تحتاجه هو أن تأخذ الوجبة وتذهب، أنت تقلل من فرص أن تتجاهل الفطور لأنك في عجلة من أمرك وستتجنب شراء الأطعمة السريعة الغير صحية للغذاء. أبق مستويات طاقاتك عالية. الطاقة التي حصلت عليها من تناول العشاء الليلة السابقة تنفذ مع الصباح. تناول فطور يحتوي على نسبة عالية من الألياف يوازن مستوى سكر الدم لديك، مما يساعدك على الشعور بالطاقة والمزيد من التركيز. تحتاج إلى طاقة لأقصى كم من التحفيز في الصباح وطوال اليوم. تجنب الكربوهيدرات المكررة مثل الكعك لأنها ترفع سكر الدم بشكل مفاجئ ثم يهبط فجأة. ابق فطورك بسيطا ومغذيا. اسلق البيض وضعه في الثلاجة ليكون متاحا في الصباحات المشغولة. استمتع ببيض مسلوق مع مافن انجليزي وثمرة موز لفطور متوازن. كخيار آخر يمكنك طهي الشوفان في الطاهي البطيء ليلا. استمتع بشوفان ساخن وفواكه في الصباح واحتفظ بالباقي في الثلاجة لفطور سريع باقي الأسبوع. جهز غداء متوازن. استخدم وعاء واسع الفم لصنع سلطة عالية البروتين. ضع تتبيلة السلطة في قاع الوعاء. بعد ذلك، رتب الخضروات في طبقات كالخيار، الطماطم الكرز، الجزر، والحمص. أضف بروتين خالي من الدهون كالدجاج المشوي. أخيرا أضف الخضروات الورقية على السطح، اغلق الوعاء وضعه في الثلاجة. ستبقى السلطة طازجة طوال الليل بما أن الخضروات مفصولة عن التتبيلة. عندما تكون مستعدا لتناول الغداء، قم فقط برج الوعاء لتوزيع التتبيلة ثم اسكبها في طبق. يستخدم جسمك طعام العشاء كوقود أثناء النوم. ستستيقظ بطاقة وحماس أكبر عندما تقوم شحن جسمك بالأطعمة الصحيحة في الليلة السابقة. تناول البروتينات خالية الدهون مثل الدجاج المشوي، السمك أو الفول. أضف الخضروات والكربوهيدرات المعقدة مثل الأرز البني أو الكينوا. يستخدم جسمك الكثير من الطاقة لهضم الطعام. تناول وجبة دسمة قرب وقت النوم يصعب من عملية النوم. تناول الطعام قبل النوم بساعتين أو ثلاث ساعات. هذا يعطي جسمك وقتا لإنهاء الهضم قبل أن تنام. تجنب الأطعمة السكرية أو الدسمة لأنها تؤدي إلى رفع معدل سكر الدم فجأة أو حرقة المعدة. كلا الأمران يصعب من النوم. التابلت، والتليفون الذكي، والحاسوب، والتلفاز كلها أشياء تحفز العقل. أنت في مزاج تفكير بدلا من مزاج استرخاء. العقل المحفز يصعب النوم. عندما يتشتت نومك، سيصعب عليك البقاء أن تصبح محفزا في الصباح. اغلق كل الأجهزة الالكترونية قبل النوم بساعة على الأقل. الإضاءة الاصطناعية التي تأتي من الأجهزة الالكترونية تصيب الساعة البيولوجية بالاضطراب. كذلك تكبح هرمون النوم الميلاتونين، الذي يجعلك تبقى مستيقظا لفترة أطول. النوم المشوش يعني أنك تشعر بالكسل والانزعاج في الصباح. الكافيين يبقيك منتبها لعدة ساعات. ستحتاج إلى وقت أطول للنوم وستعاني من النوم المتقطع عندما تستهلك الكافيين ليلا. ستستيقظ شاعرا بالترنح بدلا من النشاط. تجنب المشروبات التي تحتوي على كافيين كالقهوة، الشاي، أو الصودا لمدة أربع ساعات على الأقل قبل موعد النوم. اشرب مشروبات لا تحتوي على كافيين كبديل مثل الشاي اخالي من الكافيين أو الحليب الدافئ. لهذا تأثير مهدئ. سيكون النوم والبقاء نائما أسهل عليك. شرب كأس أخير قبل النوم لا يبعث على الاسترخاء كما تظن. الكحول هو مسبب للاكتئاب لذا يجعلك تشعر بالنعاس أولا. عندما يختفي مفعول الكحول، له تأثير محفز. ستستيقظ وتشعر بصعوبة النوم مجددا. الكحول يسبب اضطرابا في دورات نومك أيضا، لذا لن تحصل على نوع النوم الذي تحتاجه للشعور بالراحة. قلل الكحول إلى كأس أو اثنين يوميا. اشرب اخر مشروب قبل النوم بساعتين على الأقل. روتين النوم ليس فقط للأطفال. درب عقلك وجسمك على النوم والبقاء نائما. الراحة جيدا أساسية لبدء صباحك شاعرا بالطاقة والتركيز. اقرأ كتابا أو مجلة قديمة. ستتعب عقلك وتنام بسهولة بشكل أسهل عندما تقرأ. تجنب القراءة من جهاز إلكتروني لأن ضوء الجهاز يمكن أن يبقيك مستيقظا. بالإضافة إلى ذلك، ستشعر بالرغبة في التحقق من رسائلك أو تطبيقاتك. أرخ عضلاتك. أخذ حمام دافئ أو القيام بتمديد العضلات اللطيف هي بعض الطرق التي يمكن أن تساعدك على تخفيف الضغط من جسمك. عضلاتك مشدودة بسبب يومك المشغول. الحمام أو تمديد عضلاتك يساعدك على الراحة والاستغراق في النوم. اهدف إلى سبع إلى تسع ساعات من النوم كل ليلة. هذه الكمية ستسمح لك أن تمر بكل دورات النوم. هناك أربع مراحل من النوم تتكرر حوالي كل  دقيقة. إذا كنت تنام أقل من سبع ساعات، لا يمكنك المرور خلال كل المراحل. اعلم أن النوم مهم لصحتك العامة. الحرمان من النوم يؤدي إلى فقدان الذاكرة، وقلة التركيز والإعياء. النوم جيدا بشكل منتظم يحفز نظامك المناعي ويساعدك على التحكم في وزنك. الراحة ليلا تحسن طاقتك، تحفيزك وصحتك العامة."
      ],
      "text/plain": [
       "<IPython.core.display.Markdown object>"
      ]
     },
     "metadata": {},
     "output_type": "display_data"
    },
    {
     "name": "stdout",
     "output_type": "stream",
     "text": [
      "\n",
      "[Full length: 4,110 characters]\n",
      "\n",
      "\n",
      "Reference Summary:\n",
      "=================\n"
     ]
    },
    {
     "data": {
      "text/markdown": [
       "حضر فطورك وغذائك الليلة السابقة. تناول عشاءا صحيا. اغلق الأجهزة الكهربائية قبل النوم. تجنب الكافيين قبل النوم. تجنب الكحول قبل النوم. رتب روتينا للنوم."
      ],
      "text/plain": [
       "<IPython.core.display.Markdown object>"
      ]
     },
     "metadata": {},
     "output_type": "display_data"
    },
    {
     "name": "stdout",
     "output_type": "stream",
     "text": [
      "\n",
      "[Full length: 151 characters]\n",
      "\n",
      "\n",
      "TF-IDF Generated Summary:\n",
      "========================\n"
     ]
    },
    {
     "data": {
      "text/markdown": [
       "عندما يكون كل ما تحتاجه هو أن تأخذ الوجبة وتذهب، أنت تقلل من فرص أن تتجاهل الفطور لأنك في عجلة من أمرك وستتجنب شراء الأطعمة السريعة الغير صحية للغذاء. تناول فطور يحتوي على نسبة عالية من الألياف يوازن مستوى سكر الدم لديك، مما يساعدك على الشعور بالطاقة والمزيد من التركيز. أخذ حمام دافئ أو القيام بتمديد العضلات اللطيف هي بعض الطرق التي يمكن أن تساعدك على تخفيف الضغط من جسمك."
      ],
      "text/plain": [
       "<IPython.core.display.Markdown object>"
      ]
     },
     "metadata": {},
     "output_type": "display_data"
    },
    {
     "name": "stdout",
     "output_type": "stream",
     "text": [
      "\n",
      "[Full length: 374 characters]\n",
      "\n",
      "--------------------------------------------------\n",
      "\n",
      "--- Sample 2 ---\n",
      "\n",
      "Original Text:\n",
      "=============\n"
     ]
    },
    {
     "data": {
      "text/markdown": [
       "تتخطى العديد من الماسحات وتصدر صريرا بسبب أن الزجاج الأمامي غير رطب بشكل كاف، لذلك تحقق من مستوى سائل الماسحة واملأه عند الحاجة؛ بهذه الطريقة ستكون البخاخات مستعدة للعمل إذا حدث الصرير. ماسحات الزجاج الأمامي مصممة لاتباع حركة ذراع الماسحة، لذلك إذا كانت الشفرات متصلبة ولا تتحرك خلف الذراع ذهابا وإيابا، لف الذراع بيدك لترخية صلابتها. لن تتمكن الشفرات المثبتة بإحكام شديد من التحرك ذهابا وإيابا لتتبع ذراع الماسحة بسلاسة مما يسبب احتكاكها وإحداث الصرير. ينبغي ألا تبدو شفرات الماسحة وكأنها تحفر خلال الزجاج الأمامي أو تظل عمودية أثناء المسح عليه. تسبب شفرات الماسحة الخشنة صوت حكة وصرير وقد تكون بعض شفرات الماسحة الجديدة خشنة منذ البداية، بينما قد تصبح أخرى خشنة نتيجة التعرض للعناصر المختلفة. ينبغي تغيير الشفرات التي قد مر عليها عاما كما يمكن تليين الشفرات الجديدة بواسطة ما يلي: منتج تنظيف السيارات (أرمور أول). ضع كمية وفيرة على منشفة ورقية واستخدم حركات دائرية مع تمرير المنتج على مطاط شفرة الماسحة لتنعيمها. الكحول المحمر. بلل منشفة ورقية بالكحول المحمر ولمع مطاط الشفرة برفق. منتج wd-. استخدم ذلك المنتج بحرص إذ قد يسبب الكثير منه تجفيف المطاط. رش القليل من المنتج على منشفة ورقية ومررها برفق على مطاط الشفرة ثم جففه. افحص لترى إذا كانت الشفرات أو أجزاء الماسحة الموجودة أدناها مرتخية جدا أو مربوطة جدا؛ قد يسبب الاحتكاك القليل أو الكثير جدا بين الزجاج والماسحة إصدار صوت الاحتكاك والصرير. يمكن ربط البراغي بإحكام في العموم باستخدام مفتاح البراغي عن طريق لفه باتجاه عقارب الساعة وترخيتها عن طريق لفه باتجاه معاكس لحركة عقارب الساعة. قد تحتاج إلى اختبار مستوى الربط لتجد ما يعمل أفضل؛ من الأمثل أن تكون الشفرات مثبتة في موضعها جيدا لكن ينبغي أن تزال مرتخية بشكل كاف لتتمكن من المسح ذهابا وإيابا على زجاج السيارة. قد تسبب بعض الدهانات الواقية للسطح، مثل الطلاء الواقي من المطر أو بعض أنواع الشمع الاحتكاك والصرير. أزل المنتج وقلل من صوت الماسحة المزعج عن طريق استخدام ملمع السيارة العادي. قد يسبب الطلاء المتروك بواسطة بعض منتجات سطح السيارات زيادة الاحتكاك بين شفرات الماسحة والزجاج الأمامي للسيارة محدثا الأصوات المزعجة، مثل الصرير."
      ],
      "text/plain": [
       "<IPython.core.display.Markdown object>"
      ]
     },
     "metadata": {},
     "output_type": "display_data"
    },
    {
     "name": "stdout",
     "output_type": "stream",
     "text": [
      "\n",
      "[Full length: 1,940 characters]\n",
      "\n",
      "\n",
      "Reference Summary:\n",
      "=================\n"
     ]
    },
    {
     "data": {
      "text/markdown": [
       "أعد ملء سائل ماسحة الزجاج الأمامي. اضبط موضع شفرات الماسحات حسب الحاجة. لين ماسحات الزجاج الأمامي. اضبط إحكام البراغي. أزل الأغلفة المسببة لزيادة الاحتكاك."
      ],
      "text/plain": [
       "<IPython.core.display.Markdown object>"
      ]
     },
     "metadata": {},
     "output_type": "display_data"
    },
    {
     "name": "stdout",
     "output_type": "stream",
     "text": [
      "\n",
      "[Full length: 155 characters]\n",
      "\n",
      "\n",
      "TF-IDF Generated Summary:\n",
      "========================\n"
     ]
    },
    {
     "data": {
      "text/markdown": [
       "تتخطى العديد من الماسحات وتصدر صريرا بسبب أن الزجاج الأمامي غير رطب بشكل كاف، لذلك تحقق من مستوى سائل الماسحة واملأه عند الحاجة؛ بهذه الطريقة ستكون البخاخات مستعدة للعمل إذا حدث الصرير. ينبغي تغيير الشفرات التي قد مر عليها عاما كما يمكن تليين الشفرات الجديدة بواسطة ما يلي: منتج تنظيف السيارات (أرمور أول). قد تحتاج إلى اختبار مستوى الربط لتجد ما يعمل أفضل؛ من الأمثل أن تكون الشفرات مثبتة في موضعها جيدا لكن ينبغي أن تزال مرتخية بشكل كاف لتتمكن من المسح ذهابا وإيابا على زجاج السيارة."
      ],
      "text/plain": [
       "<IPython.core.display.Markdown object>"
      ]
     },
     "metadata": {},
     "output_type": "display_data"
    },
    {
     "name": "stdout",
     "output_type": "stream",
     "text": [
      "\n",
      "[Full length: 485 characters]\n",
      "\n",
      "--------------------------------------------------\n",
      "\n",
      "--- Sample 3 ---\n",
      "\n",
      "Original Text:\n",
      "=============\n"
     ]
    },
    {
     "data": {
      "text/markdown": [
       "تحتاج بالضرورة إلى نسخة مسجلة من أغنياتك، حتى ولو بشكل تجريبي، لتقدر على لفت انتباه شركات الإنتاج والتوزيع، كما أن المعجبين سيحبون سماع أغنيتك بنسخة الأستديو بدلا من التسجيل متوسط المستوى من الحفلات أو التسجيلات العادية، لذا انشر لهم نسخة من تسجيلاتك في الأستديو لأغنياتك المشهورة، وكذلك القليل من الأغنيات الجديدة التي لم يسبق لهم سماعها من قبل. تختلف تكلفة الساعة في أستديوهات التسجيل من أستديو لآخر ومن مدينة لأخرى. اسأل عن الأسعار في مدينتك، مع ملاحظة أنه توجد تكلفة من أجل عملية التسجيل الأساسية، وتكلفة إضافية مكلفة أكثر من أجل عمليات المكساج والتحسين (ماسترينغ). قد تكون التكلفة المالية باهظة ولا تقدر على تحملها، لذا من الأفضل أن تجعل تسجيلاتك التجريبية مقتصرة على واحدة أو اثنين من أفضل أغانيك، جاعلا كل تركيزك منصبا على تسجيل الأغنيتين بكفاءة وبأعلى جودة ممكنة، وفي أقل وقت ممكن (من أجل تقليل النفقات التي تدفعها للأستديو نظير كل ساعة تأجير). لكل مهندس أو منتج صوتي أسلوبه المختلف في تنظيم جلسات التسجيل، لكن يفضل أن تحرص بدورك على إتمام مهمتك (تسجيل الأغنية) في الأستديو بفاعلية وسرعة قدر الإمكان. طالما أنك تعلم طبيعة الأغنية عن ظهر قلب، وتعرف ما ترغب في تقديمه بها من كلمات وألحان وتوزيع، فعلى الأغلب لن تحتاج للتجريب أو التسجيل أكثر من مرة من أجل الوصول لأفضل نتيجة. أجر عملية دراسة مسبقة للتعرف على طريقة تسجيل الأغنيات والمعدات المتاحة للاستخدام في الأستديوهات قبل الحجز. على سبيل المثال، يجب أن تتفق مع فرقتك الموسيقية حول ما إذا كان الأفضل لهم هو التسجيل سويا في نفس الوقت أم التسجيل لكل منهم بشكل منفرد، وكذلك مختلف خيارات التسجيل التي ترغب في أن يلتزم مهندس الصوت بتطبيقها. لا تقم أبدا بالتسجيل بواسطة معدات غير مألوفة بالنسبة لك. من المغري للغاية الخضوع لرغبة حجز معدات وآلات موسيقية فاخرة وغالية الثمن، طمعا في استخدامها ولو لمرة واحدة وظنا أنها كافية بحد ذاتها لتسجيل أغنية خيالية، لكن التعامل مع معدات مجهولة سوف يستهلك وقتك في الأستديو دون الحصول على أي نتائج مجدية. لن تستفيد كثيرا من أن تدرج في أغانيك مؤثرات صوتية رائعة، لها دور مؤثر وأساسي في شكل الأغنية، لكنك لن تقدر على إعادة إنتاجها بنفسك في تسجيلات الأغنية وأثناء أداء الأغنية بشكل حي في الحفلات. لا تضيع تكلفة الأستديو على تسجيل أغنية لفرقة موسيقية أخرى أو أغنية ذات طابع مغاير مقارنة بأغلب أغانيك، بل احرص على تسجيل أفضل أغانيك والتي تعبر بوضوح عن نوعية ما تقدمه من كلمات وموسيقى وأداء غنائي. هذه النسخة التجريبية بمثابة ملف السيرة الذاتية الخاص بك كمغني أو فرقة موسيقية، لذا فكر بعناية من أجل اختيار الأغنية التي تمثلك وتعبر عن موسيقاك. ما هي الأغنية الأفضل من أغانيك الأصلية؟ ما هي الأغنية التي يحبها الجمهور أكثر؟ لن يكون وقت تسجيل أسطوانتك التجريبية الأولى مناسبا للاستغراق المتهمل في العمل على أغنية جديدة لم تعرف شكلا نهائيا مميزا لتأديتها بعد أو لمحاولة الارتجال على نغمة موسيقية جديدة، بل استغل الوقت في تسجيل الأغنيات المميزة التي تضمن أنها ستخرج بصورة جيدة وتنال إعجاب من يستمع إليها. يمكنك تسجيل أغنيات بجودة احترافية بنفسك ورفعها على الإنترنت في نفس اليوم، بشرط امتلاكك لجهاز كمبيوتر مناسب والقليل من الميكروفونات الجيدة رخيصة السعر. مع تطور التكنولوجيا المستخدمة وتوفر المعدات، أصبحت العديد من الفرق الموسيقية تلجأ إلى التسجيل الذاتي وعمل أستديوهات منزلية بسيطة من أجل تجنب التكلفة الباهظة للأستديوهات، لذا لا تتردد حيال استغلال أي فرصة ممكنة لتوفير النفقات، على أن توجه ميزانية الفرقة الموسيقية إلى الإنفاق على الجولات الغنائية أو شراء المزيد من المعدات الأفضل جودة. في حالة كنت تملك جهاز ماك حديث، فعلى الأغلب سيتوفر على برمجية التسجيل الصوتي \"جراج باند\" (garage band) ، أو يمكنك شراء البرنامج من متجر آبل للتطبيقات بسعر زهيد. يتوفر على أجهزة آبل كذلك إمكانية استخدام برنامج \"لوجيك برو إكس\" (logic pro x)، والذي يتيح لك المزيد من الخواص الاحترافية للاستخدام، ولكن ثمنه أغلى قليلا. تطبيق \"أوداسيتي\" (audacity) برمجية مجانية مفتوحة المصدر تعمل على أي جهاز كمبيوتر بنظام تشغيل ويندوز أو ماك أو جينو/ لينكس. ابحث عن مختلف خيارات التسجيل الممكنة المجانية أو الأقل سعرا المتوفرة لك في مشهد الصناعة الموسيقية المحلية، وتواصل مع أصدقائك وزملائك العاملين في مجال الفن من أجل تنسيق أي آلية ممكنة تضمن لكم تقليل النفقات والحصول على جودة تسجيل أفضل. تواصل مع غيرك من الفرق الموسيقية والمغنيين للتعرف على العروض الأفضل في سوق التسجيل الموسيقي. كثيرا ما يرحب الفنانون بتشارك هذا النوع من الموارد والمعلومات طالما أن عملية المصلحة المشتركة متحققة وكنت بدورك لا تتأخر عن تقديم المساعدة في حال كنت قادرا عليها. العصر الحالي هو العصر الذهبي للعاملين في المجالات الفنية، تحديدا فيما يتعلق بسهولة الوصول إلى الجمهور، وبتكلفة مالية أقل بكثير مقارنة بالماضي، فكل ما تحتاج إليه من أجل توسيع دائرة متابعيك هو رفع أغنياتك على يوتيوب أو ساوندكلاود، ومن ثم مشاركتها مع الجمهور عبر منصات التواصل الاجتماعي. لن تستغرق عملية إنشاء حساب في هذه الخدمات سوى دقائق معدودة، وبمجرد التواجد عليها أنت على بعد لحظات من الوصول لعدد لا نهائي من الجمهور في كل بقاع العالم. يمكنك كذلك التقدم بطلب إلى موقع آيتونز (itunes) لاستضافة أغنياتك، ولكن الأغنيات سوف تخضع للتقييم قبل إتخاذ قرار نهائي بشأنها. يلجأ البعض للاعتماد على وسيط \"موزع موسيقي\" (aggregator) وهي خدمة تساعدك على النشر على موقع آيتونز مقابل رسوم مالية. لا يتعامل موقع \"سبوتيفاي\" (spotify) مباشرة مع الفنانين أو الفرق الموسيقية، لذا اطلب من شركة إنتاجك أو الموزع الموسيقي أو الوسيط أن يتواصل معهم نيابة عنك طلبا لاستضافة أغانيك. لا تنشغل في وقت مبكر عن اللازم بمسألة تحقيق الأرباح من وراء عملك الفني، بل اجعل كل تركيزك منصبا على رفع جودة الأغاني وزيادة شهرتك واكتساب جماهيرية أوسع وأوسع. حديثا، تغير المشهد الموسيقي في العالم أجمع (الحكم على النجاح في عالم الفن) من الارتكاز حول مبيعات الألبوم الواحد، إلى الاهتمام في المقام الأول بمدى الشهرة الإلكترونية على موقع الإنترنت، سواء من خلال المتابعين على منصات فيسبوك وتويتر، أو عدد مشاهدات والاستماع إلى أغنيتك على يوتيوب وساوندكلاود وآيتونز. لذا كلما كان حضورك الإلكتروني طاغيا أكثر، كلما بادرت شركات التوزيع والإنتاج الموسيقي بالركض وراءك من أجل الحصول على توقيعك وإنتاج أعمالك."
      ],
      "text/plain": [
       "<IPython.core.display.Markdown object>"
      ]
     },
     "metadata": {},
     "output_type": "display_data"
    },
    {
     "name": "stdout",
     "output_type": "stream",
     "text": [
      "\n",
      "[Full length: 5,548 characters]\n",
      "\n",
      "\n",
      "Reference Summary:\n",
      "=================\n"
     ]
    },
    {
     "data": {
      "text/markdown": [
       "ابحث عن استديو تسجيلات مناسب واسأل عن ثمن الحجز. خطط لكيفية استغلال وقتك في الأستديو بأفضل طريقة ممكنة. استفد من تسجيل أفضل أغنياتك الأصلية. جرب التسجيل الصوتي بنفسك. انشر أغانيك عبر منصات التواصل الاجتماعي الإلكترونية."
      ],
      "text/plain": [
       "<IPython.core.display.Markdown object>"
      ]
     },
     "metadata": {},
     "output_type": "display_data"
    },
    {
     "name": "stdout",
     "output_type": "stream",
     "text": [
      "\n",
      "[Full length: 219 characters]\n",
      "\n",
      "\n",
      "TF-IDF Generated Summary:\n",
      "========================\n"
     ]
    },
    {
     "data": {
      "text/markdown": [
       "قد تكون التكلفة المالية باهظة ولا تقدر على تحملها، لذا من الأفضل أن تجعل تسجيلاتك التجريبية مقتصرة على واحدة أو اثنين من أفضل أغانيك، جاعلا كل تركيزك منصبا على تسجيل الأغنيتين بكفاءة وبأعلى جودة ممكنة، وفي أقل وقت ممكن (من أجل تقليل النفقات التي تدفعها للأستديو نظير كل ساعة تأجير). مع تطور التكنولوجيا المستخدمة وتوفر المعدات، أصبحت العديد من الفرق الموسيقية تلجأ إلى التسجيل الذاتي وعمل أستديوهات منزلية بسيطة من أجل تجنب التكلفة الباهظة للأستديوهات، لذا لا تتردد حيال استغلال أي فرصة ممكنة لتوفير النفقات، على أن توجه ميزانية الفرقة الموسيقية إلى الإنفاق على الجولات الغنائية أو شراء المزيد من المعدات الأفضل جودة. ابحث عن مختلف خيارات التسجيل الممكنة المجانية أو الأقل سعرا المتوفرة لك في مشهد الصناعة الموسيقية المحلية، وتواصل مع أصدقائك وزملائك العاملين في مجال الفن من أجل تنسيق أي آلية ممكنة تضمن لكم تقليل النفقات والحصول على جودة تسجيل أفضل."
      ],
      "text/plain": [
       "<IPython.core.display.Markdown object>"
      ]
     },
     "metadata": {},
     "output_type": "display_data"
    },
    {
     "name": "stdout",
     "output_type": "stream",
     "text": [
      "\n",
      "[Full length: 851 characters]\n",
      "\n",
      "--------------------------------------------------\n"
     ]
    }
   ],
   "source": [
    "print(\"Sample Traditional Summarization Results:\")\n",
    "print(\"=\" * 50)\n",
    "\n",
    "for i in [0, 1, 2]:\n",
    "    print(f\"\\n--- Sample {i + 1} ---\")\n",
    "    print_text_sample(X_sum_test[i], \"Original Text\")\n",
    "    print_text_sample(y_sum_test[i], \"Reference Summary\")\n",
    "    print_text_sample(tfidf_summaries[i], \"TF-IDF Generated Summary\")\n",
    "    print(\"-\" * 50)"
   ]
  }
 ],
 "metadata": {
  "accelerator": "GPU",
  "kernelspec": {
   "display_name": "Python 3",
   "name": "python3"
  },
  "language_info": {
   "codemirror_mode": {
    "name": "ipython",
    "version": 3
   },
   "file_extension": ".py",
   "mimetype": "text/x-python",
   "name": "python",
   "nbconvert_exporter": "python",
   "pygments_lexer": "ipython3",
   "version": "3.10.2"
  }
 },
 "nbformat": 4,
 "nbformat_minor": 5
}
